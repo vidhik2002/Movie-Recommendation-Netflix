{
 "cells": [
  {
   "cell_type": "code",
   "execution_count": 4,
   "id": "fc22629c",
   "metadata": {},
   "outputs": [],
   "source": [
    "import numpy as np\n",
    "import pandas as pd\n",
    "import matplotlib.pyplot as plt\n",
    "import seaborn as sns\n",
    "import plotly.graph_objects as go\n",
    "import plotly.express as px\n",
    "sns.set()"
   ]
  },
  {
   "cell_type": "code",
   "execution_count": 5,
   "id": "ea38f262",
   "metadata": {},
   "outputs": [
    {
     "data": {
      "text/html": [
       "<div>\n",
       "<style scoped>\n",
       "    .dataframe tbody tr th:only-of-type {\n",
       "        vertical-align: middle;\n",
       "    }\n",
       "\n",
       "    .dataframe tbody tr th {\n",
       "        vertical-align: top;\n",
       "    }\n",
       "\n",
       "    .dataframe thead th {\n",
       "        text-align: right;\n",
       "    }\n",
       "</style>\n",
       "<table border=\"1\" class=\"dataframe\">\n",
       "  <thead>\n",
       "    <tr style=\"text-align: right;\">\n",
       "      <th></th>\n",
       "      <th>show_id</th>\n",
       "      <th>type</th>\n",
       "      <th>title</th>\n",
       "      <th>director</th>\n",
       "      <th>cast</th>\n",
       "      <th>country</th>\n",
       "      <th>date_added</th>\n",
       "      <th>release_year</th>\n",
       "      <th>rating</th>\n",
       "      <th>duration</th>\n",
       "      <th>listed_in</th>\n",
       "      <th>description</th>\n",
       "    </tr>\n",
       "  </thead>\n",
       "  <tbody>\n",
       "    <tr>\n",
       "      <th>0</th>\n",
       "      <td>s1</td>\n",
       "      <td>TV Show</td>\n",
       "      <td>3%</td>\n",
       "      <td>NaN</td>\n",
       "      <td>João Miguel, Bianca Comparato, Michel Gomes, R...</td>\n",
       "      <td>Brazil</td>\n",
       "      <td>August 14, 2020</td>\n",
       "      <td>2020</td>\n",
       "      <td>TV-MA</td>\n",
       "      <td>4 Seasons</td>\n",
       "      <td>International TV Shows, TV Dramas, TV Sci-Fi &amp;...</td>\n",
       "      <td>In a future where the elite inhabit an island ...</td>\n",
       "    </tr>\n",
       "    <tr>\n",
       "      <th>1</th>\n",
       "      <td>s2</td>\n",
       "      <td>Movie</td>\n",
       "      <td>7:19</td>\n",
       "      <td>Jorge Michel Grau</td>\n",
       "      <td>Demián Bichir, Héctor Bonilla, Oscar Serrano, ...</td>\n",
       "      <td>Mexico</td>\n",
       "      <td>December 23, 2016</td>\n",
       "      <td>2016</td>\n",
       "      <td>TV-MA</td>\n",
       "      <td>93 min</td>\n",
       "      <td>Dramas, International Movies</td>\n",
       "      <td>After a devastating earthquake hits Mexico Cit...</td>\n",
       "    </tr>\n",
       "    <tr>\n",
       "      <th>2</th>\n",
       "      <td>s3</td>\n",
       "      <td>Movie</td>\n",
       "      <td>23:59</td>\n",
       "      <td>Gilbert Chan</td>\n",
       "      <td>Tedd Chan, Stella Chung, Henley Hii, Lawrence ...</td>\n",
       "      <td>Singapore</td>\n",
       "      <td>December 20, 2018</td>\n",
       "      <td>2011</td>\n",
       "      <td>R</td>\n",
       "      <td>78 min</td>\n",
       "      <td>Horror Movies, International Movies</td>\n",
       "      <td>When an army recruit is found dead, his fellow...</td>\n",
       "    </tr>\n",
       "    <tr>\n",
       "      <th>3</th>\n",
       "      <td>s4</td>\n",
       "      <td>Movie</td>\n",
       "      <td>9</td>\n",
       "      <td>Shane Acker</td>\n",
       "      <td>Elijah Wood, John C. Reilly, Jennifer Connelly...</td>\n",
       "      <td>United States</td>\n",
       "      <td>November 16, 2017</td>\n",
       "      <td>2009</td>\n",
       "      <td>PG-13</td>\n",
       "      <td>80 min</td>\n",
       "      <td>Action &amp; Adventure, Independent Movies, Sci-Fi...</td>\n",
       "      <td>In a postapocalyptic world, rag-doll robots hi...</td>\n",
       "    </tr>\n",
       "    <tr>\n",
       "      <th>4</th>\n",
       "      <td>s5</td>\n",
       "      <td>Movie</td>\n",
       "      <td>21</td>\n",
       "      <td>Robert Luketic</td>\n",
       "      <td>Jim Sturgess, Kevin Spacey, Kate Bosworth, Aar...</td>\n",
       "      <td>United States</td>\n",
       "      <td>January 1, 2020</td>\n",
       "      <td>2008</td>\n",
       "      <td>PG-13</td>\n",
       "      <td>123 min</td>\n",
       "      <td>Dramas</td>\n",
       "      <td>A brilliant group of students become card-coun...</td>\n",
       "    </tr>\n",
       "  </tbody>\n",
       "</table>\n",
       "</div>"
      ],
      "text/plain": [
       "  show_id     type  title           director  \\\n",
       "0      s1  TV Show     3%                NaN   \n",
       "1      s2    Movie   7:19  Jorge Michel Grau   \n",
       "2      s3    Movie  23:59       Gilbert Chan   \n",
       "3      s4    Movie      9        Shane Acker   \n",
       "4      s5    Movie     21     Robert Luketic   \n",
       "\n",
       "                                                cast        country  \\\n",
       "0  João Miguel, Bianca Comparato, Michel Gomes, R...         Brazil   \n",
       "1  Demián Bichir, Héctor Bonilla, Oscar Serrano, ...         Mexico   \n",
       "2  Tedd Chan, Stella Chung, Henley Hii, Lawrence ...      Singapore   \n",
       "3  Elijah Wood, John C. Reilly, Jennifer Connelly...  United States   \n",
       "4  Jim Sturgess, Kevin Spacey, Kate Bosworth, Aar...  United States   \n",
       "\n",
       "          date_added  release_year rating   duration  \\\n",
       "0    August 14, 2020          2020  TV-MA  4 Seasons   \n",
       "1  December 23, 2016          2016  TV-MA     93 min   \n",
       "2  December 20, 2018          2011      R     78 min   \n",
       "3  November 16, 2017          2009  PG-13     80 min   \n",
       "4    January 1, 2020          2008  PG-13    123 min   \n",
       "\n",
       "                                           listed_in  \\\n",
       "0  International TV Shows, TV Dramas, TV Sci-Fi &...   \n",
       "1                       Dramas, International Movies   \n",
       "2                Horror Movies, International Movies   \n",
       "3  Action & Adventure, Independent Movies, Sci-Fi...   \n",
       "4                                             Dramas   \n",
       "\n",
       "                                         description  \n",
       "0  In a future where the elite inhabit an island ...  \n",
       "1  After a devastating earthquake hits Mexico Cit...  \n",
       "2  When an army recruit is found dead, his fellow...  \n",
       "3  In a postapocalyptic world, rag-doll robots hi...  \n",
       "4  A brilliant group of students become card-coun...  "
      ]
     },
     "execution_count": 5,
     "metadata": {},
     "output_type": "execute_result"
    }
   ],
   "source": [
    "netflix_overall=pd.read_csv(\"netflix_titles.csv\")\n",
    "netflix_overall.head()"
   ]
  },
  {
   "cell_type": "code",
   "execution_count": 96,
   "id": "73936c02",
   "metadata": {
    "scrolled": true
   },
   "outputs": [
    {
     "data": {
      "text/plain": [
       "show_id         7787\n",
       "type            7787\n",
       "title           7787\n",
       "director        5398\n",
       "cast            7069\n",
       "country         7280\n",
       "date_added      7777\n",
       "release_year    7787\n",
       "rating          7780\n",
       "duration        7787\n",
       "listed_in       7787\n",
       "description     7787\n",
       "dtype: int64"
      ]
     },
     "execution_count": 96,
     "metadata": {},
     "output_type": "execute_result"
    }
   ],
   "source": [
    "netflix_overall.count()"
   ]
  },
  {
   "attachments": {
    "image.png": {
     "image/png": "[encoded data removed]"
    }
   },
   "cell_type": "markdown",
   "id": "c175045e",
   "metadata": {},
   "source": [
    "![image.png](attachment:image.png)\n"
   ]
  },
  {
   "cell_type": "code",
   "execution_count": 98,
   "id": "419fd3e7",
   "metadata": {},
   "outputs": [],
   "source": [
    "netflix_shows=netflix_overall[netflix_overall['type']=='TV Show']\n",
    "netflix_movies=netflix_overall[netflix_overall['type']=='Movie']"
   ]
  },
  {
   "cell_type": "markdown",
   "id": "b1c029f0",
   "metadata": {},
   "source": [
    "Data Pre-processing"
   ]
  },
  {
   "cell_type": "code",
   "execution_count": 99,
   "id": "87529acd",
   "metadata": {},
   "outputs": [
    {
     "name": "stderr",
     "output_type": "stream",
     "text": [
      "/home/vidhi/.local/lib/python3.8/site-packages/pandas/util/_decorators.py:311: SettingWithCopyWarning: \n",
      "A value is trying to be set on a copy of a slice from a DataFrame\n",
      "\n",
      "See the caveats in the documentation: https://pandas.pydata.org/pandas-docs/stable/user_guide/indexing.html#returning-a-view-versus-a-copy\n",
      "  return func(*args, **kwargs)\n"
     ]
    }
   ],
   "source": [
    "netflix_shows.isnull().sum()\n",
    "netflix_shows.dropna(inplace=True)"
   ]
  },
  {
   "cell_type": "code",
   "execution_count": 100,
   "id": "9f4d3bf5",
   "metadata": {},
   "outputs": [],
   "source": [
    "netflix_movies.isnull().sum()\n",
    "netflix_movies.dropna(inplace=True)"
   ]
  },
  {
   "cell_type": "markdown",
   "id": "5bd4a32f",
   "metadata": {},
   "source": [
    "Analysis of total Movies v/s Total TV Shows"
   ]
  },
  {
   "cell_type": "code",
   "execution_count": 101,
   "id": "213139fe",
   "metadata": {
    "scrolled": true
   },
   "outputs": [
    {
     "data": {
      "image/png": "[encoded data removed]",
      "text/plain": [
       "<Figure size 640x480 with 1 Axes>"
      ]
     },
     "metadata": {},
     "output_type": "display_data"
    }
   ],
   "source": [
    "sns.set(style=\"darkgrid\")\n",
    "ax = sns.countplot(x=\"type\", data=netflix_overall, color=\"black\")"
   ]
  },
  {
   "cell_type": "code",
   "execution_count": 102,
   "id": "efcec368",
   "metadata": {
    "scrolled": true
   },
   "outputs": [
    {
     "data": {
      "text/html": [
       "<div>\n",
       "<style scoped>\n",
       "    .dataframe tbody tr th:only-of-type {\n",
       "        vertical-align: middle;\n",
       "    }\n",
       "\n",
       "    .dataframe tbody tr th {\n",
       "        vertical-align: top;\n",
       "    }\n",
       "\n",
       "    .dataframe thead th {\n",
       "        text-align: right;\n",
       "    }\n",
       "</style>\n",
       "<table border=\"1\" class=\"dataframe\">\n",
       "  <thead>\n",
       "    <tr style=\"text-align: right;\">\n",
       "      <th></th>\n",
       "      <th>show_id</th>\n",
       "      <th>type</th>\n",
       "      <th>title</th>\n",
       "      <th>director</th>\n",
       "      <th>cast</th>\n",
       "      <th>country</th>\n",
       "      <th>date_added</th>\n",
       "      <th>release_year</th>\n",
       "      <th>rating</th>\n",
       "      <th>duration</th>\n",
       "      <th>listed_in</th>\n",
       "      <th>description</th>\n",
       "    </tr>\n",
       "  </thead>\n",
       "  <tbody>\n",
       "    <tr>\n",
       "      <th>1</th>\n",
       "      <td>s2</td>\n",
       "      <td>Movie</td>\n",
       "      <td>7:19</td>\n",
       "      <td>Jorge Michel Grau</td>\n",
       "      <td>Demián Bichir, Héctor Bonilla, Oscar Serrano, ...</td>\n",
       "      <td>Mexico</td>\n",
       "      <td>December 23, 2016</td>\n",
       "      <td>2016</td>\n",
       "      <td>TV-MA</td>\n",
       "      <td>93 min</td>\n",
       "      <td>Dramas, International Movies</td>\n",
       "      <td>After a devastating earthquake hits Mexico Cit...</td>\n",
       "    </tr>\n",
       "    <tr>\n",
       "      <th>2</th>\n",
       "      <td>s3</td>\n",
       "      <td>Movie</td>\n",
       "      <td>23:59</td>\n",
       "      <td>Gilbert Chan</td>\n",
       "      <td>Tedd Chan, Stella Chung, Henley Hii, Lawrence ...</td>\n",
       "      <td>Singapore</td>\n",
       "      <td>December 20, 2018</td>\n",
       "      <td>2011</td>\n",
       "      <td>R</td>\n",
       "      <td>78 min</td>\n",
       "      <td>Horror Movies, International Movies</td>\n",
       "      <td>When an army recruit is found dead, his fellow...</td>\n",
       "    </tr>\n",
       "    <tr>\n",
       "      <th>3</th>\n",
       "      <td>s4</td>\n",
       "      <td>Movie</td>\n",
       "      <td>9</td>\n",
       "      <td>Shane Acker</td>\n",
       "      <td>Elijah Wood, John C. Reilly, Jennifer Connelly...</td>\n",
       "      <td>United States</td>\n",
       "      <td>November 16, 2017</td>\n",
       "      <td>2009</td>\n",
       "      <td>PG-13</td>\n",
       "      <td>80 min</td>\n",
       "      <td>Action &amp; Adventure, Independent Movies, Sci-Fi...</td>\n",
       "      <td>In a postapocalyptic world, rag-doll robots hi...</td>\n",
       "    </tr>\n",
       "    <tr>\n",
       "      <th>4</th>\n",
       "      <td>s5</td>\n",
       "      <td>Movie</td>\n",
       "      <td>21</td>\n",
       "      <td>Robert Luketic</td>\n",
       "      <td>Jim Sturgess, Kevin Spacey, Kate Bosworth, Aar...</td>\n",
       "      <td>United States</td>\n",
       "      <td>January 1, 2020</td>\n",
       "      <td>2008</td>\n",
       "      <td>PG-13</td>\n",
       "      <td>123 min</td>\n",
       "      <td>Dramas</td>\n",
       "      <td>A brilliant group of students become card-coun...</td>\n",
       "    </tr>\n",
       "    <tr>\n",
       "      <th>6</th>\n",
       "      <td>s7</td>\n",
       "      <td>Movie</td>\n",
       "      <td>122</td>\n",
       "      <td>Yasir Al Yasiri</td>\n",
       "      <td>Amina Khalil, Ahmed Dawood, Tarek Lotfy, Ahmed...</td>\n",
       "      <td>Egypt</td>\n",
       "      <td>June 1, 2020</td>\n",
       "      <td>2019</td>\n",
       "      <td>TV-MA</td>\n",
       "      <td>95 min</td>\n",
       "      <td>Horror Movies, International Movies</td>\n",
       "      <td>After an awful accident, a couple admitted to ...</td>\n",
       "    </tr>\n",
       "  </tbody>\n",
       "</table>\n",
       "</div>"
      ],
      "text/plain": [
       "  show_id   type  title           director  \\\n",
       "1      s2  Movie   7:19  Jorge Michel Grau   \n",
       "2      s3  Movie  23:59       Gilbert Chan   \n",
       "3      s4  Movie      9        Shane Acker   \n",
       "4      s5  Movie     21     Robert Luketic   \n",
       "6      s7  Movie    122    Yasir Al Yasiri   \n",
       "\n",
       "                                                cast        country  \\\n",
       "1  Demián Bichir, Héctor Bonilla, Oscar Serrano, ...         Mexico   \n",
       "2  Tedd Chan, Stella Chung, Henley Hii, Lawrence ...      Singapore   \n",
       "3  Elijah Wood, John C. Reilly, Jennifer Connelly...  United States   \n",
       "4  Jim Sturgess, Kevin Spacey, Kate Bosworth, Aar...  United States   \n",
       "6  Amina Khalil, Ahmed Dawood, Tarek Lotfy, Ahmed...          Egypt   \n",
       "\n",
       "          date_added  release_year rating duration  \\\n",
       "1  December 23, 2016          2016  TV-MA   93 min   \n",
       "2  December 20, 2018          2011      R   78 min   \n",
       "3  November 16, 2017          2009  PG-13   80 min   \n",
       "4    January 1, 2020          2008  PG-13  123 min   \n",
       "6       June 1, 2020          2019  TV-MA   95 min   \n",
       "\n",
       "                                           listed_in  \\\n",
       "1                       Dramas, International Movies   \n",
       "2                Horror Movies, International Movies   \n",
       "3  Action & Adventure, Independent Movies, Sci-Fi...   \n",
       "4                                             Dramas   \n",
       "6                Horror Movies, International Movies   \n",
       "\n",
       "                                         description  \n",
       "1  After a devastating earthquake hits Mexico Cit...  \n",
       "2  When an army recruit is found dead, his fellow...  \n",
       "3  In a postapocalyptic world, rag-doll robots hi...  \n",
       "4  A brilliant group of students become card-coun...  \n",
       "6  After an awful accident, a couple admitted to ...  "
      ]
     },
     "execution_count": 102,
     "metadata": {},
     "output_type": "execute_result"
    }
   ],
   "source": [
    "netflix_movies.head()"
   ]
  },
  {
   "cell_type": "markdown",
   "id": "68e44c2a",
   "metadata": {},
   "source": [
    "Most movie released in a year"
   ]
  },
  {
   "cell_type": "code",
   "execution_count": 103,
   "id": "edb5953a",
   "metadata": {
    "scrolled": true
   },
   "outputs": [
    {
     "data": {
      "text/plain": [
       "<AxesSubplot:ylabel='Density'>"
      ]
     },
     "execution_count": 103,
     "metadata": {},
     "output_type": "execute_result"
    },
    {
     "data": {
      "image/png": "[encoded data removed]",
      "text/plain": [
       "<Figure size 640x480 with 1 Axes>"
      ]
     },
     "metadata": {},
     "output_type": "display_data"
    }
   ],
   "source": [
    "sns.set(style=\"darkgrid\")\n",
    "sns.kdeplot(data=netflix_movies)"
   ]
  },
  {
   "cell_type": "markdown",
   "id": "26131115",
   "metadata": {},
   "source": [
    "Most movies were released in the year 2017"
   ]
  },
  {
   "cell_type": "code",
   "execution_count": 104,
   "id": "14d7c02a",
   "metadata": {
    "scrolled": false
   },
   "outputs": [
    {
     "data": {
      "image/png": "[encoded data removed]",
      "text/plain": [
       "<Figure size 1200x1000 with 1 Axes>"
      ]
     },
     "metadata": {},
     "output_type": "display_data"
    }
   ],
   "source": [
    "plt.figure(figsize=(12,10))\n",
    "sns.set(style=\"darkgrid\")\n",
    "ax = sns.countplot(y=\"release_year\", data=netflix_movies, palette=\"Set2\", order=netflix_movies['release_year'].value_counts().index[0:15])"
   ]
  },
  {
   "cell_type": "markdown",
   "id": "e95f3e12",
   "metadata": {},
   "source": [
    "Most movies were of the duration 93 minutes"
   ]
  },
  {
   "cell_type": "code",
   "execution_count": 106,
   "id": "f8b9d1f5",
   "metadata": {
    "scrolled": true
   },
   "outputs": [
    {
     "data": {
      "image/png": "[encoded data removed]",
      "text/plain": [
       "<Figure size 1200x1000 with 1 Axes>"
      ]
     },
     "metadata": {},
     "output_type": "display_data"
    }
   ],
   "source": [
    "plt.figure(figsize=(12,10))\n",
    "sns.set(style=\"darkgrid\")\n",
    "ax = sns.countplot(x=\"duration\", data=netflix_movies, palette=\"Set2\", order=netflix_movies['duration'].value_counts().index[0:15])"
   ]
  },
  {
   "cell_type": "code",
   "execution_count": 112,
   "id": "54e8ca15",
   "metadata": {},
   "outputs": [
    {
     "name": "stdout",
     "output_type": "stream",
     "text": [
      "Counter({'InternationalMovies': 2178, 'Dramas': 2038, 'Comedies': 1405, 'Action&Adventure': 696, 'IndependentMovies': 666, 'RomanticMovies': 511, 'Thrillers': 477, 'Children&FamilyMovies': 450, 'Documentaries': 370, 'HorrorMovies': 302, 'Stand-UpComedy': 283, 'Music&Musicals': 263, 'Sci-Fi&Fantasy': 211, 'SportsMovies': 147, 'ClassicMovies': 95, 'LGBTQMovies': 73, 'CultMovies': 57, 'AnimeFeatures': 55, 'Faith&Spirituality': 51, 'Movies': 22})\n"
     ]
    }
   ],
   "source": [
    "from collections import Counter\n",
    "\n",
    "genres=list(netflix_movies['listed_in'])\n",
    "gen=[]\n",
    "\n",
    "for i in genres:\n",
    "    i=list(i.split(','))\n",
    "    for j in i:\n",
    "        gen.append(j.replace(' ',\"\"))\n",
    "g=Counter(gen)\n",
    "print (g)"
   ]
  },
  {
   "cell_type": "markdown",
   "id": "a461810d",
   "metadata": {},
   "source": [
    "Number of movies per genre"
   ]
  },
  {
   "cell_type": "code",
   "execution_count": 109,
   "id": "de42527b",
   "metadata": {
    "scrolled": true
   },
   "outputs": [
    {
     "name": "stderr",
     "output_type": "stream",
     "text": [
      "/tmp/ipykernel_2166/2181829902.py:11: UserWarning: FixedFormatter should only be used together with FixedLocator\n",
      "  ax.set_xticklabels(x, rotation = 90)\n"
     ]
    },
    {
     "data": {
      "image/png": "[encoded data removed]",
      "text/plain": [
       "<Figure size 640x480 with 1 Axes>"
      ]
     },
     "metadata": {},
     "output_type": "display_data"
    },
    {
     "data": {
      "text/plain": [
       "<Figure size 1000x1000 with 0 Axes>"
      ]
     },
     "metadata": {},
     "output_type": "display_data"
    }
   ],
   "source": [
    "g={k: v for k, v in sorted(g.items(), key=lambda item: item[1], reverse= True)}\n",
    "\n",
    "\n",
    "fig, ax = plt.subplots()\n",
    "\n",
    "fig = plt.figure(figsize = (10, 10))\n",
    "x=list(g.keys())\n",
    "y=list(g.values())\n",
    "ax.vlines(x, ymin=0, ymax=y, color='green')\n",
    "ax.plot(x,y, \"o\", color='maroon')\n",
    "ax.set_xticklabels(x, rotation = 90)\n",
    "ax.set_ylabel(\"Count of movies\")\n",
    "# set a title\n",
    "ax.set_title(\"Genres\");"
   ]
  },
  {
   "cell_type": "markdown",
   "id": "941c0f8a",
   "metadata": {},
   "source": [
    "Most prefered duration"
   ]
  },
  {
   "cell_type": "code",
   "execution_count": 129,
   "id": "26579817",
   "metadata": {
    "scrolled": true
   },
   "outputs": [
    {
     "data": {
      "application/vnd.plotly.v1+json": {
       "config": {
        "plotlyServerURL": "https://plot.ly"
       },
       "data": [
        {
         "marker": {
          "color": "red"
         },
         "type": "bar",
         "x": [
          "1 Season",
          "2 Seasons",
          "3 Seasons",
          "90 min",
          "93 min",
          "94 min",
          "91 min",
          "95 min",
          "92 min",
          "97 min",
          "96 min",
          "98 min",
          "103 min",
          "99 min",
          "88 min",
          "102 min",
          "100 min",
          "106 min",
          "101 min",
          "86 min",
          "105 min",
          "104 min",
          "89 min",
          "87 min",
          "4 Seasons",
          "110 min",
          "107 min",
          "108 min",
          "116 min",
          "112 min",
          "85 min",
          "109 min",
          "83 min",
          "111 min",
          "84 min",
          "81 min",
          "5 Seasons",
          "117 min",
          "119 min",
          "113 min",
          "118 min",
          "82 min",
          "115 min",
          "120 min",
          "124 min",
          "114 min",
          "121 min",
          "127 min",
          "78 min",
          "126 min",
          "80 min",
          "128 min",
          "122 min",
          "130 min",
          "137 min",
          "135 min",
          "133 min",
          "123 min",
          "79 min",
          "75 min",
          "132 min",
          "125 min",
          "72 min",
          "129 min",
          "6 Seasons",
          "74 min",
          "63 min",
          "66 min",
          "131 min",
          "77 min",
          "61 min",
          "73 min",
          "69 min",
          "60 min",
          "71 min",
          "76 min",
          "53 min",
          "59 min",
          "62 min",
          "54 min",
          "46 min",
          "70 min",
          "140 min",
          "65 min",
          "24 min",
          "134 min",
          "58 min",
          "68 min",
          "44 min",
          "7 Seasons",
          "52 min",
          "67 min",
          "8 Seasons",
          "148 min",
          "136 min",
          "143 min",
          "141 min",
          "139 min",
          "138 min",
          "150 min",
          "64 min",
          "22 min",
          "55 min",
          "151 min",
          "57 min",
          "146 min",
          "162 min",
          "149 min",
          "40 min",
          "154 min",
          "145 min",
          "23 min",
          "56 min",
          "163 min",
          "153 min",
          "158 min",
          "142 min",
          "45 min",
          "50 min",
          "147 min",
          "51 min",
          "29 min",
          "25 min",
          "28 min",
          "47 min",
          "156 min",
          "155 min",
          "161 min",
          "165 min",
          "49 min",
          "42 min",
          "9 Seasons",
          "144 min",
          "48 min",
          "171 min",
          "166 min",
          "168 min",
          "32 min",
          "26 min",
          "30 min",
          "157 min",
          "160 min",
          "159 min",
          "10 Seasons",
          "176 min",
          "33 min",
          "173 min",
          "152 min",
          "185 min",
          "170 min",
          "164 min",
          "177 min",
          "172 min",
          "38 min",
          "27 min",
          "35 min",
          "17 min",
          "14 min",
          "41 min",
          "11 Seasons",
          "192 min",
          "15 Seasons",
          "179 min",
          "19 min",
          "209 min",
          "195 min",
          "187 min",
          "190 min",
          "181 min",
          "31 min",
          "15 min",
          "169 min",
          "12 Seasons",
          "180 min",
          "20 min",
          "21 min",
          "11 min",
          "174 min",
          "13 Seasons",
          "12 min",
          "37 min",
          "34 min",
          "5 min",
          "16 min",
          "237 min",
          "3 min",
          "10 min",
          "36 min",
          "18 min",
          "201 min",
          "228 min",
          "194 min",
          "230 min",
          "178 min",
          "253 min",
          "203 min",
          "205 min",
          "189 min",
          "208 min",
          "312 min",
          "186 min",
          "200 min",
          "204 min",
          "43 min",
          "167 min",
          "16 Seasons",
          "193 min",
          "13 min",
          "214 min",
          "8 min",
          "9 min",
          "182 min",
          "224 min",
          "233 min",
          "196 min",
          "191 min"
         ],
         "y": [
          1608,
          382,
          184,
          136,
          131,
          125,
          125,
          119,
          118,
          117,
          115,
          106,
          101,
          101,
          101,
          98,
          97,
          97,
          96,
          93,
          91,
          89,
          88,
          87,
          87,
          86,
          85,
          74,
          65,
          65,
          63,
          61,
          61,
          61,
          60,
          58,
          58,
          56,
          54,
          54,
          51,
          48,
          47,
          47,
          46,
          45,
          44,
          40,
          40,
          40,
          39,
          38,
          38,
          38,
          37,
          37,
          36,
          35,
          34,
          33,
          33,
          32,
          32,
          30,
          30,
          29,
          29,
          29,
          28,
          28,
          28,
          28,
          27,
          26,
          26,
          24,
          24,
          24,
          23,
          23,
          23,
          22,
          22,
          22,
          22,
          21,
          21,
          20,
          19,
          19,
          19,
          19,
          18,
          18,
          18,
          18,
          18,
          17,
          17,
          17,
          16,
          15,
          15,
          14,
          14,
          13,
          13,
          13,
          13,
          12,
          12,
          12,
          12,
          11,
          11,
          11,
          11,
          10,
          10,
          10,
          10,
          10,
          10,
          10,
          10,
          9,
          9,
          9,
          8,
          8,
          8,
          8,
          8,
          7,
          7,
          7,
          7,
          7,
          6,
          6,
          6,
          6,
          6,
          6,
          5,
          5,
          5,
          5,
          5,
          5,
          4,
          4,
          4,
          4,
          3,
          3,
          3,
          3,
          3,
          3,
          2,
          2,
          2,
          2,
          2,
          2,
          2,
          2,
          2,
          2,
          2,
          2,
          2,
          2,
          2,
          2,
          2,
          2,
          2,
          2,
          2,
          2,
          1,
          1,
          1,
          1,
          1,
          1,
          1,
          1,
          1,
          1,
          1,
          1,
          1,
          1,
          1,
          1,
          1,
          1,
          1,
          1,
          1,
          1,
          1,
          1,
          1,
          1,
          1,
          1,
          1,
          1,
          1,
          1,
          1,
          1
         ]
        }
       ],
       "layout": {
        "template": {
         "data": {
          "bar": [
           {
            "error_x": {
             "color": "#2a3f5f"
            },
            "error_y": {
             "color": "#2a3f5f"
            },
            "marker": {
             "line": {
              "color": "#E5ECF6",
              "width": 0.5
             },
             "pattern": {
              "fillmode": "overlay",
              "size": 10,
              "solidity": 0.2
             }
            },
            "type": "bar"
           }
          ],
          "barpolar": [
           {
            "marker": {
             "line": {
              "color": "#E5ECF6",
              "width": 0.5
             },
             "pattern": {
              "fillmode": "overlay",
              "size": 10,
              "solidity": 0.2
             }
            },
            "type": "barpolar"
           }
          ],
          "carpet": [
           {
            "aaxis": {
             "endlinecolor": "#2a3f5f",
             "gridcolor": "white",
             "linecolor": "white",
             "minorgridcolor": "white",
             "startlinecolor": "#2a3f5f"
            },
            "baxis": {
             "endlinecolor": "#2a3f5f",
             "gridcolor": "white",
             "linecolor": "white",
             "minorgridcolor": "white",
             "startlinecolor": "#2a3f5f"
            },
            "type": "carpet"
           }
          ],
          "choropleth": [
           {
            "colorbar": {
             "outlinewidth": 0,
             "ticks": ""
            },
            "type": "choropleth"
           }
          ],
          "contour": [
           {
            "colorbar": {
             "outlinewidth": 0,
             "ticks": ""
            },
            "colorscale": [
             [
              0,
              "#0d0887"
             ],
             [
              0.1111111111111111,
              "#46039f"
             ],
             [
              0.2222222222222222,
              "#7201a8"
             ],
             [
              0.3333333333333333,
              "#9c179e"
             ],
             [
              0.4444444444444444,
              "#bd3786"
             ],
             [
              0.5555555555555556,
              "#d8576b"
             ],
             [
              0.6666666666666666,
              "#ed7953"
             ],
             [
              0.7777777777777778,
              "#fb9f3a"
             ],
             [
              0.8888888888888888,
              "#fdca26"
             ],
             [
              1,
              "#f0f921"
             ]
            ],
            "type": "contour"
           }
          ],
          "contourcarpet": [
           {
            "colorbar": {
             "outlinewidth": 0,
             "ticks": ""
            },
            "type": "contourcarpet"
           }
          ],
          "heatmap": [
           {
            "colorbar": {
             "outlinewidth": 0,
             "ticks": ""
            },
            "colorscale": [
             [
              0,
              "#0d0887"
             ],
             [
              0.1111111111111111,
              "#46039f"
             ],
             [
              0.2222222222222222,
              "#7201a8"
             ],
             [
              0.3333333333333333,
              "#9c179e"
             ],
             [
              0.4444444444444444,
              "#bd3786"
             ],
             [
              0.5555555555555556,
              "#d8576b"
             ],
             [
              0.6666666666666666,
              "#ed7953"
             ],
             [
              0.7777777777777778,
              "#fb9f3a"
             ],
             [
              0.8888888888888888,
              "#fdca26"
             ],
             [
              1,
              "#f0f921"
             ]
            ],
            "type": "heatmap"
           }
          ],
          "heatmapgl": [
           {
            "colorbar": {
             "outlinewidth": 0,
             "ticks": ""
            },
            "colorscale": [
             [
              0,
              "#0d0887"
             ],
             [
              0.1111111111111111,
              "#46039f"
             ],
             [
              0.2222222222222222,
              "#7201a8"
             ],
             [
              0.3333333333333333,
              "#9c179e"
             ],
             [
              0.4444444444444444,
              "#bd3786"
             ],
             [
              0.5555555555555556,
              "#d8576b"
             ],
             [
              0.6666666666666666,
              "#ed7953"
             ],
             [
              0.7777777777777778,
              "#fb9f3a"
             ],
             [
              0.8888888888888888,
              "#fdca26"
             ],
             [
              1,
              "#f0f921"
             ]
            ],
            "type": "heatmapgl"
           }
          ],
          "histogram": [
           {
            "marker": {
             "pattern": {
              "fillmode": "overlay",
              "size": 10,
              "solidity": 0.2
             }
            },
            "type": "histogram"
           }
          ],
          "histogram2d": [
           {
            "colorbar": {
             "outlinewidth": 0,
             "ticks": ""
            },
            "colorscale": [
             [
              0,
              "#0d0887"
             ],
             [
              0.1111111111111111,
              "#46039f"
             ],
             [
              0.2222222222222222,
              "#7201a8"
             ],
             [
              0.3333333333333333,
              "#9c179e"
             ],
             [
              0.4444444444444444,
              "#bd3786"
             ],
             [
              0.5555555555555556,
              "#d8576b"
             ],
             [
              0.6666666666666666,
              "#ed7953"
             ],
             [
              0.7777777777777778,
              "#fb9f3a"
             ],
             [
              0.8888888888888888,
              "#fdca26"
             ],
             [
              1,
              "#f0f921"
             ]
            ],
            "type": "histogram2d"
           }
          ],
          "histogram2dcontour": [
           {
            "colorbar": {
             "outlinewidth": 0,
             "ticks": ""
            },
            "colorscale": [
             [
              0,
              "#0d0887"
             ],
             [
              0.1111111111111111,
              "#46039f"
             ],
             [
              0.2222222222222222,
              "#7201a8"
             ],
             [
              0.3333333333333333,
              "#9c179e"
             ],
             [
              0.4444444444444444,
              "#bd3786"
             ],
             [
              0.5555555555555556,
              "#d8576b"
             ],
             [
              0.6666666666666666,
              "#ed7953"
             ],
             [
              0.7777777777777778,
              "#fb9f3a"
             ],
             [
              0.8888888888888888,
              "#fdca26"
             ],
             [
              1,
              "#f0f921"
             ]
            ],
            "type": "histogram2dcontour"
           }
          ],
          "mesh3d": [
           {
            "colorbar": {
             "outlinewidth": 0,
             "ticks": ""
            },
            "type": "mesh3d"
           }
          ],
          "parcoords": [
           {
            "line": {
             "colorbar": {
              "outlinewidth": 0,
              "ticks": ""
             }
            },
            "type": "parcoords"
           }
          ],
          "pie": [
           {
            "automargin": true,
            "type": "pie"
           }
          ],
          "scatter": [
           {
            "fillpattern": {
             "fillmode": "overlay",
             "size": 10,
             "solidity": 0.2
            },
            "type": "scatter"
           }
          ],
          "scatter3d": [
           {
            "line": {
             "colorbar": {
              "outlinewidth": 0,
              "ticks": ""
             }
            },
            "marker": {
             "colorbar": {
              "outlinewidth": 0,
              "ticks": ""
             }
            },
            "type": "scatter3d"
           }
          ],
          "scattercarpet": [
           {
            "marker": {
             "colorbar": {
              "outlinewidth": 0,
              "ticks": ""
             }
            },
            "type": "scattercarpet"
           }
          ],
          "scattergeo": [
           {
            "marker": {
             "colorbar": {
              "outlinewidth": 0,
              "ticks": ""
             }
            },
            "type": "scattergeo"
           }
          ],
          "scattergl": [
           {
            "marker": {
             "colorbar": {
              "outlinewidth": 0,
              "ticks": ""
             }
            },
            "type": "scattergl"
           }
          ],
          "scattermapbox": [
           {
            "marker": {
             "colorbar": {
              "outlinewidth": 0,
              "ticks": ""
             }
            },
            "type": "scattermapbox"
           }
          ],
          "scatterpolar": [
           {
            "marker": {
             "colorbar": {
              "outlinewidth": 0,
              "ticks": ""
             }
            },
            "type": "scatterpolar"
           }
          ],
          "scatterpolargl": [
           {
            "marker": {
             "colorbar": {
              "outlinewidth": 0,
              "ticks": ""
             }
            },
            "type": "scatterpolargl"
           }
          ],
          "scatterternary": [
           {
            "marker": {
             "colorbar": {
              "outlinewidth": 0,
              "ticks": ""
             }
            },
            "type": "scatterternary"
           }
          ],
          "surface": [
           {
            "colorbar": {
             "outlinewidth": 0,
             "ticks": ""
            },
            "colorscale": [
             [
              0,
              "#0d0887"
             ],
             [
              0.1111111111111111,
              "#46039f"
             ],
             [
              0.2222222222222222,
              "#7201a8"
             ],
             [
              0.3333333333333333,
              "#9c179e"
             ],
             [
              0.4444444444444444,
              "#bd3786"
             ],
             [
              0.5555555555555556,
              "#d8576b"
             ],
             [
              0.6666666666666666,
              "#ed7953"
             ],
             [
              0.7777777777777778,
              "#fb9f3a"
             ],
             [
              0.8888888888888888,
              "#fdca26"
             ],
             [
              1,
              "#f0f921"
             ]
            ],
            "type": "surface"
           }
          ],
          "table": [
           {
            "cells": {
             "fill": {
              "color": "#EBF0F8"
             },
             "line": {
              "color": "white"
             }
            },
            "header": {
             "fill": {
              "color": "#C8D4E3"
             },
             "line": {
              "color": "white"
             }
            },
            "type": "table"
           }
          ]
         },
         "layout": {
          "annotationdefaults": {
           "arrowcolor": "#2a3f5f",
           "arrowhead": 0,
           "arrowwidth": 1
          },
          "autotypenumbers": "strict",
          "coloraxis": {
           "colorbar": {
            "outlinewidth": 0,
            "ticks": ""
           }
          },
          "colorscale": {
           "diverging": [
            [
             0,
             "#8e0152"
            ],
            [
             0.1,
             "#c51b7d"
            ],
            [
             0.2,
             "#de77ae"
            ],
            [
             0.3,
             "#f1b6da"
            ],
            [
             0.4,
             "#fde0ef"
            ],
            [
             0.5,
             "#f7f7f7"
            ],
            [
             0.6,
             "#e6f5d0"
            ],
            [
             0.7,
             "#b8e186"
            ],
            [
             0.8,
             "#7fbc41"
            ],
            [
             0.9,
             "#4d9221"
            ],
            [
             1,
             "#276419"
            ]
           ],
           "sequential": [
            [
             0,
             "#0d0887"
            ],
            [
             0.1111111111111111,
             "#46039f"
            ],
            [
             0.2222222222222222,
             "#7201a8"
            ],
            [
             0.3333333333333333,
             "#9c179e"
            ],
            [
             0.4444444444444444,
             "#bd3786"
            ],
            [
             0.5555555555555556,
             "#d8576b"
            ],
            [
             0.6666666666666666,
             "#ed7953"
            ],
            [
             0.7777777777777778,
             "#fb9f3a"
            ],
            [
             0.8888888888888888,
             "#fdca26"
            ],
            [
             1,
             "#f0f921"
            ]
           ],
           "sequentialminus": [
            [
             0,
             "#0d0887"
            ],
            [
             0.1111111111111111,
             "#46039f"
            ],
            [
             0.2222222222222222,
             "#7201a8"
            ],
            [
             0.3333333333333333,
             "#9c179e"
            ],
            [
             0.4444444444444444,
             "#bd3786"
            ],
            [
             0.5555555555555556,
             "#d8576b"
            ],
            [
             0.6666666666666666,
             "#ed7953"
            ],
            [
             0.7777777777777778,
             "#fb9f3a"
            ],
            [
             0.8888888888888888,
             "#fdca26"
            ],
            [
             1,
             "#f0f921"
            ]
           ]
          },
          "colorway": [
           "#636efa",
           "#EF553B",
           "#00cc96",
           "#ab63fa",
           "#FFA15A",
           "#19d3f3",
           "#FF6692",
           "#B6E880",
           "#FF97FF",
           "#FECB52"
          ],
          "font": {
           "color": "#2a3f5f"
          },
          "geo": {
           "bgcolor": "white",
           "lakecolor": "white",
           "landcolor": "#E5ECF6",
           "showlakes": true,
           "showland": true,
           "subunitcolor": "white"
          },
          "hoverlabel": {
           "align": "left"
          },
          "hovermode": "closest",
          "mapbox": {
           "style": "light"
          },
          "paper_bgcolor": "white",
          "plot_bgcolor": "#E5ECF6",
          "polar": {
           "angularaxis": {
            "gridcolor": "white",
            "linecolor": "white",
            "ticks": ""
           },
           "bgcolor": "#E5ECF6",
           "radialaxis": {
            "gridcolor": "white",
            "linecolor": "white",
            "ticks": ""
           }
          },
          "scene": {
           "xaxis": {
            "backgroundcolor": "#E5ECF6",
            "gridcolor": "white",
            "gridwidth": 2,
            "linecolor": "white",
            "showbackground": true,
            "ticks": "",
            "zerolinecolor": "white"
           },
           "yaxis": {
            "backgroundcolor": "#E5ECF6",
            "gridcolor": "white",
            "gridwidth": 2,
            "linecolor": "white",
            "showbackground": true,
            "ticks": "",
            "zerolinecolor": "white"
           },
           "zaxis": {
            "backgroundcolor": "#E5ECF6",
            "gridcolor": "white",
            "gridwidth": 2,
            "linecolor": "white",
            "showbackground": true,
            "ticks": "",
            "zerolinecolor": "white"
           }
          },
          "shapedefaults": {
           "line": {
            "color": "#2a3f5f"
           }
          },
          "ternary": {
           "aaxis": {
            "gridcolor": "white",
            "linecolor": "white",
            "ticks": ""
           },
           "baxis": {
            "gridcolor": "white",
            "linecolor": "white",
            "ticks": ""
           },
           "bgcolor": "#E5ECF6",
           "caxis": {
            "gridcolor": "white",
            "linecolor": "white",
            "ticks": ""
           }
          },
          "title": {
           "x": 0.05
          },
          "xaxis": {
           "automargin": true,
           "gridcolor": "white",
           "linecolor": "white",
           "ticks": "",
           "title": {
            "standoff": 15
           },
           "zerolinecolor": "white",
           "zerolinewidth": 2
          },
          "yaxis": {
           "automargin": true,
           "gridcolor": "white",
           "linecolor": "white",
           "ticks": "",
           "title": {
            "standoff": 15
           },
           "zerolinecolor": "white",
           "zerolinewidth": 2
          }
         }
        }
       }
      },
      "text/html": [
       "<div>                            <div id=\"c20e54bd-4d9c-4520-94d1-e3286c050692\" class=\"plotly-graph-div\" style=\"height:525px; width:100%;\"></div>            <script type=\"text/javascript\">                require([\"plotly\"], function(Plotly) {                    window.PLOTLYENV=window.PLOTLYENV || {};                                    if (document.getElementById(\"c20e54bd-4d9c-4520-94d1-e3286c050692\")) {                    Plotly.newPlot(                        \"c20e54bd-4d9c-4520-94d1-e3286c050692\",                        [{\"marker\":{\"color\":\"red\"},\"x\":[\"1 Season\",\"2 Seasons\",\"3 Seasons\",\"90 min\",\"93 min\",\"94 min\",\"91 min\",\"95 min\",\"92 min\",\"97 min\",\"96 min\",\"98 min\",\"103 min\",\"99 min\",\"88 min\",\"102 min\",\"100 min\",\"106 min\",\"101 min\",\"86 min\",\"105 min\",\"104 min\",\"89 min\",\"87 min\",\"4 Seasons\",\"110 min\",\"107 min\",\"108 min\",\"116 min\",\"112 min\",\"85 min\",\"109 min\",\"83 min\",\"111 min\",\"84 min\",\"81 min\",\"5 Seasons\",\"117 min\",\"119 min\",\"113 min\",\"118 min\",\"82 min\",\"115 min\",\"120 min\",\"124 min\",\"114 min\",\"121 min\",\"127 min\",\"78 min\",\"126 min\",\"80 min\",\"128 min\",\"122 min\",\"130 min\",\"137 min\",\"135 min\",\"133 min\",\"123 min\",\"79 min\",\"75 min\",\"132 min\",\"125 min\",\"72 min\",\"129 min\",\"6 Seasons\",\"74 min\",\"63 min\",\"66 min\",\"131 min\",\"77 min\",\"61 min\",\"73 min\",\"69 min\",\"60 min\",\"71 min\",\"76 min\",\"53 min\",\"59 min\",\"62 min\",\"54 min\",\"46 min\",\"70 min\",\"140 min\",\"65 min\",\"24 min\",\"134 min\",\"58 min\",\"68 min\",\"44 min\",\"7 Seasons\",\"52 min\",\"67 min\",\"8 Seasons\",\"148 min\",\"136 min\",\"143 min\",\"141 min\",\"139 min\",\"138 min\",\"150 min\",\"64 min\",\"22 min\",\"55 min\",\"151 min\",\"57 min\",\"146 min\",\"162 min\",\"149 min\",\"40 min\",\"154 min\",\"145 min\",\"23 min\",\"56 min\",\"163 min\",\"153 min\",\"158 min\",\"142 min\",\"45 min\",\"50 min\",\"147 min\",\"51 min\",\"29 min\",\"25 min\",\"28 min\",\"47 min\",\"156 min\",\"155 min\",\"161 min\",\"165 min\",\"49 min\",\"42 min\",\"9 Seasons\",\"144 min\",\"48 min\",\"171 min\",\"166 min\",\"168 min\",\"32 min\",\"26 min\",\"30 min\",\"157 min\",\"160 min\",\"159 min\",\"10 Seasons\",\"176 min\",\"33 min\",\"173 min\",\"152 min\",\"185 min\",\"170 min\",\"164 min\",\"177 min\",\"172 min\",\"38 min\",\"27 min\",\"35 min\",\"17 min\",\"14 min\",\"41 min\",\"11 Seasons\",\"192 min\",\"15 Seasons\",\"179 min\",\"19 min\",\"209 min\",\"195 min\",\"187 min\",\"190 min\",\"181 min\",\"31 min\",\"15 min\",\"169 min\",\"12 Seasons\",\"180 min\",\"20 min\",\"21 min\",\"11 min\",\"174 min\",\"13 Seasons\",\"12 min\",\"37 min\",\"34 min\",\"5 min\",\"16 min\",\"237 min\",\"3 min\",\"10 min\",\"36 min\",\"18 min\",\"201 min\",\"228 min\",\"194 min\",\"230 min\",\"178 min\",\"253 min\",\"203 min\",\"205 min\",\"189 min\",\"208 min\",\"312 min\",\"186 min\",\"200 min\",\"204 min\",\"43 min\",\"167 min\",\"16 Seasons\",\"193 min\",\"13 min\",\"214 min\",\"8 min\",\"9 min\",\"182 min\",\"224 min\",\"233 min\",\"196 min\",\"191 min\"],\"y\":[1608,382,184,136,131,125,125,119,118,117,115,106,101,101,101,98,97,97,96,93,91,89,88,87,87,86,85,74,65,65,63,61,61,61,60,58,58,56,54,54,51,48,47,47,46,45,44,40,40,40,39,38,38,38,37,37,36,35,34,33,33,32,32,30,30,29,29,29,28,28,28,28,27,26,26,24,24,24,23,23,23,22,22,22,22,21,21,20,19,19,19,19,18,18,18,18,18,17,17,17,16,15,15,14,14,13,13,13,13,12,12,12,12,11,11,11,11,10,10,10,10,10,10,10,10,9,9,9,8,8,8,8,8,7,7,7,7,7,6,6,6,6,6,6,5,5,5,5,5,5,4,4,4,4,3,3,3,3,3,3,2,2,2,2,2,2,2,2,2,2,2,2,2,2,2,2,2,2,2,2,2,2,1,1,1,1,1,1,1,1,1,1,1,1,1,1,1,1,1,1,1,1,1,1,1,1,1,1,1,1,1,1,1,1,1,1],\"type\":\"bar\"}],                        {\"template\":{\"data\":{\"histogram2dcontour\":[{\"type\":\"histogram2dcontour\",\"colorbar\":{\"outlinewidth\":0,\"ticks\":\"\"},\"colorscale\":[[0.0,\"#0d0887\"],[0.1111111111111111,\"#46039f\"],[0.2222222222222222,\"#7201a8\"],[0.3333333333333333,\"#9c179e\"],[0.4444444444444444,\"#bd3786\"],[0.5555555555555556,\"#d8576b\"],[0.6666666666666666,\"#ed7953\"],[0.7777777777777778,\"#fb9f3a\"],[0.8888888888888888,\"#fdca26\"],[1.0,\"#f0f921\"]]}],\"choropleth\":[{\"type\":\"choropleth\",\"colorbar\":{\"outlinewidth\":0,\"ticks\":\"\"}}],\"histogram2d\":[{\"type\":\"histogram2d\",\"colorbar\":{\"outlinewidth\":0,\"ticks\":\"\"},\"colorscale\":[[0.0,\"#0d0887\"],[0.1111111111111111,\"#46039f\"],[0.2222222222222222,\"#7201a8\"],[0.3333333333333333,\"#9c179e\"],[0.4444444444444444,\"#bd3786\"],[0.5555555555555556,\"#d8576b\"],[0.6666666666666666,\"#ed7953\"],[0.7777777777777778,\"#fb9f3a\"],[0.8888888888888888,\"#fdca26\"],[1.0,\"#f0f921\"]]}],\"heatmap\":[{\"type\":\"heatmap\",\"colorbar\":{\"outlinewidth\":0,\"ticks\":\"\"},\"colorscale\":[[0.0,\"#0d0887\"],[0.1111111111111111,\"#46039f\"],[0.2222222222222222,\"#7201a8\"],[0.3333333333333333,\"#9c179e\"],[0.4444444444444444,\"#bd3786\"],[0.5555555555555556,\"#d8576b\"],[0.6666666666666666,\"#ed7953\"],[0.7777777777777778,\"#fb9f3a\"],[0.8888888888888888,\"#fdca26\"],[1.0,\"#f0f921\"]]}],\"heatmapgl\":[{\"type\":\"heatmapgl\",\"colorbar\":{\"outlinewidth\":0,\"ticks\":\"\"},\"colorscale\":[[0.0,\"#0d0887\"],[0.1111111111111111,\"#46039f\"],[0.2222222222222222,\"#7201a8\"],[0.3333333333333333,\"#9c179e\"],[0.4444444444444444,\"#bd3786\"],[0.5555555555555556,\"#d8576b\"],[0.6666666666666666,\"#ed7953\"],[0.7777777777777778,\"#fb9f3a\"],[0.8888888888888888,\"#fdca26\"],[1.0,\"#f0f921\"]]}],\"contourcarpet\":[{\"type\":\"contourcarpet\",\"colorbar\":{\"outlinewidth\":0,\"ticks\":\"\"}}],\"contour\":[{\"type\":\"contour\",\"colorbar\":{\"outlinewidth\":0,\"ticks\":\"\"},\"colorscale\":[[0.0,\"#0d0887\"],[0.1111111111111111,\"#46039f\"],[0.2222222222222222,\"#7201a8\"],[0.3333333333333333,\"#9c179e\"],[0.4444444444444444,\"#bd3786\"],[0.5555555555555556,\"#d8576b\"],[0.6666666666666666,\"#ed7953\"],[0.7777777777777778,\"#fb9f3a\"],[0.8888888888888888,\"#fdca26\"],[1.0,\"#f0f921\"]]}],\"surface\":[{\"type\":\"surface\",\"colorbar\":{\"outlinewidth\":0,\"ticks\":\"\"},\"colorscale\":[[0.0,\"#0d0887\"],[0.1111111111111111,\"#46039f\"],[0.2222222222222222,\"#7201a8\"],[0.3333333333333333,\"#9c179e\"],[0.4444444444444444,\"#bd3786\"],[0.5555555555555556,\"#d8576b\"],[0.6666666666666666,\"#ed7953\"],[0.7777777777777778,\"#fb9f3a\"],[0.8888888888888888,\"#fdca26\"],[1.0,\"#f0f921\"]]}],\"mesh3d\":[{\"type\":\"mesh3d\",\"colorbar\":{\"outlinewidth\":0,\"ticks\":\"\"}}],\"scatter\":[{\"fillpattern\":{\"fillmode\":\"overlay\",\"size\":10,\"solidity\":0.2},\"type\":\"scatter\"}],\"parcoords\":[{\"type\":\"parcoords\",\"line\":{\"colorbar\":{\"outlinewidth\":0,\"ticks\":\"\"}}}],\"scatterpolargl\":[{\"type\":\"scatterpolargl\",\"marker\":{\"colorbar\":{\"outlinewidth\":0,\"ticks\":\"\"}}}],\"bar\":[{\"error_x\":{\"color\":\"#2a3f5f\"},\"error_y\":{\"color\":\"#2a3f5f\"},\"marker\":{\"line\":{\"color\":\"#E5ECF6\",\"width\":0.5},\"pattern\":{\"fillmode\":\"overlay\",\"size\":10,\"solidity\":0.2}},\"type\":\"bar\"}],\"scattergeo\":[{\"type\":\"scattergeo\",\"marker\":{\"colorbar\":{\"outlinewidth\":0,\"ticks\":\"\"}}}],\"scatterpolar\":[{\"type\":\"scatterpolar\",\"marker\":{\"colorbar\":{\"outlinewidth\":0,\"ticks\":\"\"}}}],\"histogram\":[{\"marker\":{\"pattern\":{\"fillmode\":\"overlay\",\"size\":10,\"solidity\":0.2}},\"type\":\"histogram\"}],\"scattergl\":[{\"type\":\"scattergl\",\"marker\":{\"colorbar\":{\"outlinewidth\":0,\"ticks\":\"\"}}}],\"scatter3d\":[{\"type\":\"scatter3d\",\"line\":{\"colorbar\":{\"outlinewidth\":0,\"ticks\":\"\"}},\"marker\":{\"colorbar\":{\"outlinewidth\":0,\"ticks\":\"\"}}}],\"scattermapbox\":[{\"type\":\"scattermapbox\",\"marker\":{\"colorbar\":{\"outlinewidth\":0,\"ticks\":\"\"}}}],\"scatterternary\":[{\"type\":\"scatterternary\",\"marker\":{\"colorbar\":{\"outlinewidth\":0,\"ticks\":\"\"}}}],\"scattercarpet\":[{\"type\":\"scattercarpet\",\"marker\":{\"colorbar\":{\"outlinewidth\":0,\"ticks\":\"\"}}}],\"carpet\":[{\"aaxis\":{\"endlinecolor\":\"#2a3f5f\",\"gridcolor\":\"white\",\"linecolor\":\"white\",\"minorgridcolor\":\"white\",\"startlinecolor\":\"#2a3f5f\"},\"baxis\":{\"endlinecolor\":\"#2a3f5f\",\"gridcolor\":\"white\",\"linecolor\":\"white\",\"minorgridcolor\":\"white\",\"startlinecolor\":\"#2a3f5f\"},\"type\":\"carpet\"}],\"table\":[{\"cells\":{\"fill\":{\"color\":\"#EBF0F8\"},\"line\":{\"color\":\"white\"}},\"header\":{\"fill\":{\"color\":\"#C8D4E3\"},\"line\":{\"color\":\"white\"}},\"type\":\"table\"}],\"barpolar\":[{\"marker\":{\"line\":{\"color\":\"#E5ECF6\",\"width\":0.5},\"pattern\":{\"fillmode\":\"overlay\",\"size\":10,\"solidity\":0.2}},\"type\":\"barpolar\"}],\"pie\":[{\"automargin\":true,\"type\":\"pie\"}]},\"layout\":{\"autotypenumbers\":\"strict\",\"colorway\":[\"#636efa\",\"#EF553B\",\"#00cc96\",\"#ab63fa\",\"#FFA15A\",\"#19d3f3\",\"#FF6692\",\"#B6E880\",\"#FF97FF\",\"#FECB52\"],\"font\":{\"color\":\"#2a3f5f\"},\"hovermode\":\"closest\",\"hoverlabel\":{\"align\":\"left\"},\"paper_bgcolor\":\"white\",\"plot_bgcolor\":\"#E5ECF6\",\"polar\":{\"bgcolor\":\"#E5ECF6\",\"angularaxis\":{\"gridcolor\":\"white\",\"linecolor\":\"white\",\"ticks\":\"\"},\"radialaxis\":{\"gridcolor\":\"white\",\"linecolor\":\"white\",\"ticks\":\"\"}},\"ternary\":{\"bgcolor\":\"#E5ECF6\",\"aaxis\":{\"gridcolor\":\"white\",\"linecolor\":\"white\",\"ticks\":\"\"},\"baxis\":{\"gridcolor\":\"white\",\"linecolor\":\"white\",\"ticks\":\"\"},\"caxis\":{\"gridcolor\":\"white\",\"linecolor\":\"white\",\"ticks\":\"\"}},\"coloraxis\":{\"colorbar\":{\"outlinewidth\":0,\"ticks\":\"\"}},\"colorscale\":{\"sequential\":[[0.0,\"#0d0887\"],[0.1111111111111111,\"#46039f\"],[0.2222222222222222,\"#7201a8\"],[0.3333333333333333,\"#9c179e\"],[0.4444444444444444,\"#bd3786\"],[0.5555555555555556,\"#d8576b\"],[0.6666666666666666,\"#ed7953\"],[0.7777777777777778,\"#fb9f3a\"],[0.8888888888888888,\"#fdca26\"],[1.0,\"#f0f921\"]],\"sequentialminus\":[[0.0,\"#0d0887\"],[0.1111111111111111,\"#46039f\"],[0.2222222222222222,\"#7201a8\"],[0.3333333333333333,\"#9c179e\"],[0.4444444444444444,\"#bd3786\"],[0.5555555555555556,\"#d8576b\"],[0.6666666666666666,\"#ed7953\"],[0.7777777777777778,\"#fb9f3a\"],[0.8888888888888888,\"#fdca26\"],[1.0,\"#f0f921\"]],\"diverging\":[[0,\"#8e0152\"],[0.1,\"#c51b7d\"],[0.2,\"#de77ae\"],[0.3,\"#f1b6da\"],[0.4,\"#fde0ef\"],[0.5,\"#f7f7f7\"],[0.6,\"#e6f5d0\"],[0.7,\"#b8e186\"],[0.8,\"#7fbc41\"],[0.9,\"#4d9221\"],[1,\"#276419\"]]},\"xaxis\":{\"gridcolor\":\"white\",\"linecolor\":\"white\",\"ticks\":\"\",\"title\":{\"standoff\":15},\"zerolinecolor\":\"white\",\"automargin\":true,\"zerolinewidth\":2},\"yaxis\":{\"gridcolor\":\"white\",\"linecolor\":\"white\",\"ticks\":\"\",\"title\":{\"standoff\":15},\"zerolinecolor\":\"white\",\"automargin\":true,\"zerolinewidth\":2},\"scene\":{\"xaxis\":{\"backgroundcolor\":\"#E5ECF6\",\"gridcolor\":\"white\",\"linecolor\":\"white\",\"showbackground\":true,\"ticks\":\"\",\"zerolinecolor\":\"white\",\"gridwidth\":2},\"yaxis\":{\"backgroundcolor\":\"#E5ECF6\",\"gridcolor\":\"white\",\"linecolor\":\"white\",\"showbackground\":true,\"ticks\":\"\",\"zerolinecolor\":\"white\",\"gridwidth\":2},\"zaxis\":{\"backgroundcolor\":\"#E5ECF6\",\"gridcolor\":\"white\",\"linecolor\":\"white\",\"showbackground\":true,\"ticks\":\"\",\"zerolinecolor\":\"white\",\"gridwidth\":2}},\"shapedefaults\":{\"line\":{\"color\":\"#2a3f5f\"}},\"annotationdefaults\":{\"arrowcolor\":\"#2a3f5f\",\"arrowhead\":0,\"arrowwidth\":1},\"geo\":{\"bgcolor\":\"white\",\"landcolor\":\"#E5ECF6\",\"subunitcolor\":\"white\",\"showland\":true,\"showlakes\":true,\"lakecolor\":\"white\"},\"title\":{\"x\":0.05},\"mapbox\":{\"style\":\"light\"}}}},                        {\"responsive\": true}                    ).then(function(){\n",
       "                            \n",
       "var gd = document.getElementById('c20e54bd-4d9c-4520-94d1-e3286c050692');\n",
       "var x = new MutationObserver(function (mutations, observer) {{\n",
       "        var display = window.getComputedStyle(gd).display;\n",
       "        if (!display || display === 'none') {{\n",
       "            console.log([gd, 'removed!']);\n",
       "            Plotly.purge(gd);\n",
       "            observer.disconnect();\n",
       "        }}\n",
       "}});\n",
       "\n",
       "// Listen for the removal of the full notebook cells\n",
       "var notebookContainer = gd.closest('#notebook-container');\n",
       "if (notebookContainer) {{\n",
       "    x.observe(notebookContainer, {childList: true});\n",
       "}}\n",
       "\n",
       "// Listen for the clearing of the current output cell\n",
       "var outputEl = gd.closest('.output');\n",
       "if (outputEl) {{\n",
       "    x.observe(outputEl, {childList: true});\n",
       "}}\n",
       "\n",
       "                        })                };                });            </script>        </div>"
      ]
     },
     "metadata": {},
     "output_type": "display_data"
    }
   ],
   "source": [
    "topdirs=pd.value_counts(netflix_overall['duration'])\n",
    "fig = go.Figure([go.Bar(x=topdirs.index, y=topdirs.values , marker_color='red')])\n",
    "fig.show()"
   ]
  },
  {
   "cell_type": "markdown",
   "id": "00044be0",
   "metadata": {},
   "source": [
    "Content in India"
   ]
  },
  {
   "cell_type": "code",
   "execution_count": 148,
   "id": "24bfc9d8",
   "metadata": {},
   "outputs": [
    {
     "data": {
      "application/vnd.plotly.v1+json": {
       "config": {
        "plotlyServerURL": "https://plot.ly"
       },
       "data": [
        {
         "branchvalues": "total",
         "customdata": [
          [
           "A. L. Vijay",
           "Abhinetri"
          ],
          [
           "A. L. Vijay",
           "Watchman"
          ],
          [
           "A. Raajdheep",
           "Asura Guru"
          ],
          [
           "A. Salaam",
           "Salaakhen"
          ],
          [
           "A.R. Murugadoss",
           "Spyder"
          ],
          [
           "Aadish Keluskar",
           "Jaoon Kahan Bata Ae Dil"
          ],
          [
           "Aamir Bashir",
           "Harud"
          ],
          [
           "Aamir Khan",
           "Taare Zameen Par"
          ],
          [
           "Aanand Rai",
           "Tanu Weds Manu"
          ],
          [
           "Aanand Rai",
           "Zero"
          ],
          [
           "Aatmaram Dharne",
           "Chal Dhar Pakad"
          ],
          [
           "Abbas Alibhai Burmawalla, Mastan Alibhai Burmawalla",
           "Kis Kisko Pyaar Karoon"
          ],
          [
           "Abbas Alibhai Burmawalla, Mastan Alibhai Burmawalla",
           "Race 2"
          ],
          [
           "Abbas Alibhai Burmawalla, Mastan Alibhai Burmawalla",
           "Aitraaz"
          ],
          [
           "Abbas Alibhai Burmawalla, Mastan Alibhai Burmawalla",
           "Players"
          ],
          [
           "Abbas Mustan",
           "Soldier"
          ],
          [
           "Abbas Tyrewala",
           "Jaane Tu... Ya Jaane Na"
          ],
          [
           "Abhay Chopra",
           "Ittefaq"
          ],
          [
           "Abhijeet Deshpande",
           "Ani... Dr. Kashinath Ghanekar"
          ],
          [
           "Abhijit Kokate, Srivinay Salian",
           "Rakkhosh"
          ],
          [
           "Abhijit Panse",
           "Thackeray (Hindi)"
          ],
          [
           "Abhinay Deo",
           "Delhi Belly"
          ],
          [
           "Abhinay Deo",
           "Force 2"
          ],
          [
           "Abhinay Deo",
           "Game"
          ],
          [
           "Abhishek Chaubey",
           "Ishqiya"
          ],
          [
           "Abhishek Chaubey",
           "(?)"
          ],
          [
           "Abhishek Kapoor",
           "Kai Po Che!"
          ],
          [
           "Abhishek Kapoor",
           "Fitoor"
          ],
          [
           "Abhishek Kapoor",
           "Rock On!!"
          ],
          [
           "Abhishek Saxena",
           "Phullu"
          ],
          [
           "Abhishek Sharma",
           "The Shaukeens"
          ],
          [
           "Abhishek Sharma",
           "Parmanu: The Story of Pokhran"
          ],
          [
           "Abhishek Sharma",
           "The Zoya Factor"
          ],
          [
           "Abhishek Varman",
           "2 States"
          ],
          [
           "Aditya Kripalani",
           "Tottaa Pataaka Item Maal"
          ],
          [
           "Aditya Kripalani",
           "Tikli and Laxmi Bomb"
          ],
          [
           "Aditya Sarpotdar",
           "Mauli"
          ],
          [
           "Aditya Sarpotdar",
           "Satrangi Re"
          ],
          [
           "Aditya Vikram Sengupta",
           "Jonaki"
          ],
          [
           "Advait Chandan",
           "Secret Superstar"
          ],
          [
           "Agnidev Chatterjee",
           "Dark Chocolate (Bengali Version)"
          ],
          [
           "Ahishor Solomon",
           "John Day"
          ],
          [
           "Aijaz Khan",
           "Hamid"
          ],
          [
           "Ajay Bahl",
           "B.A. Pass"
          ],
          [
           "Ajay Bhuyan, Kunal Kohli",
           "Phir Se"
          ],
          [
           "Ajay Phansekar",
           "Encounter: The Killing"
          ],
          [
           "Ajithkumar",
           "Eeda"
          ],
          [
           "Akashdeep",
           "Santa Banta Pvt Ltd"
          ],
          [
           "Akhil Paul, Anas Khan",
           "Forensic"
          ],
          [
           "Akshay Akkineni",
           "Pizza"
          ],
          [
           "Alankrita Shrivastava",
           "Dolly Kitty Aur Woh Chamakte Sitare"
          ],
          [
           "Alo Sarkar",
           "Bandie"
          ],
          [
           "Amaan Khan",
           "Mahabharat"
          ],
          [
           "Amal Neerad",
           "CIA: Comrade in America"
          ],
          [
           "Amar Gupte",
           "Hridaynath"
          ],
          [
           "Amar Kaushik",
           "Stree"
          ],
          [
           "Amardeep Singh Gill",
           "Jora 10 Numbaria"
          ],
          [
           "Amarpreet G S Chabbra",
           "Happy Go Lucky"
          ],
          [
           "Amit Barot",
           "Shubh Aarambh"
          ],
          [
           "Amit Rai",
           "Road to Sangam"
          ],
          [
           "Amit Roy",
           "Running Shaadi"
          ],
          [
           "Amit Saxena",
           "Nasha"
          ],
          [
           "Amitabha Singh",
           "Shortcut Safari"
          ],
          [
           "Amitava Bhattacharya",
           "Red Oleanders Raktokarobi"
          ],
          [
           "Amitoj Mann",
           "Motor Mitraan Di"
          ],
          [
           "Amitoj Mann",
           "Gaddar: the Traitor"
          ],
          [
           "Amitoj Mann",
           "Haani"
          ],
          [
           "Amol Palekar",
           "Paheli"
          ],
          [
           "Amshan Kumar",
           "Manusangada"
          ],
          [
           "Anand Ravichandran",
           "SETHUM AAYIRAM PON"
          ],
          [
           "Anand Tiwari",
           "Love Per Square Foot"
          ],
          [
           "Ananda Krishnan",
           "Metro"
          ],
          [
           "Anant Balani",
           "Mumbai Matinee"
          ],
          [
           "Ananth Narayan Mahadevan",
           "Gour Hari Dastaan: The Freedom File"
          ],
          [
           "Anees Bazmee",
           "Thank You"
          ],
          [
           "Anees Bazmee",
           "Ready"
          ],
          [
           "Anees Bazmee",
           "Welcome"
          ],
          [
           "Anees Bazmee",
           "Mubarakan"
          ],
          [
           "Anees Bazmee",
           "Deewangee"
          ],
          [
           "Anees Bazmee",
           "No Entry"
          ],
          [
           "Angshuman Ghosh",
           "Kenny Sebastian: The Most Interesting Person in the Room"
          ],
          [
           "Anik Datta",
           "Meghnadbodh Rohoshyo"
          ],
          [
           "Anil Sharma",
           "Singh Saab the Great"
          ],
          [
           "Anil Thomas",
           "Minnaminugu the FireFly"
          ],
          [
           "Anil V. Kumar",
           "Kucch To Hai"
          ],
          [
           "Aniruddha Roy Chowdhury",
           "Pink"
          ],
          [
           "Anita Udeep",
           "90 ML"
          ],
          [
           "Anoop Sathyan",
           "Varane Avashyamund"
          ],
          [
           "Anthony D'Souza",
           "Azhar"
          ],
          [
           "Anthony D'Souza",
           "Boss"
          ],
          [
           "Anu Menon",
           "Waiting"
          ],
          [
           "Anubhav Sinha",
           "Article 15"
          ],
          [
           "Anurag Basu",
           "Life in a ... Metro"
          ],
          [
           "Anurag Basu",
           "Barfi!"
          ],
          [
           "Anurag Basu",
           "Ludo"
          ],
          [
           "Anurag Basu",
           "Jagga Jasoos"
          ],
          [
           "Anurag Kashyap",
           "Choked: Paisa Bolta Hai"
          ],
          [
           "Anurag Kashyap",
           "Ugly"
          ],
          [
           "Anurag Kashyap",
           "Raman Raghav 2.0"
          ],
          [
           "Anurag Kashyap",
           "Dev.D"
          ],
          [
           "Anurag Kashyap",
           "Black Friday"
          ],
          [
           "Anurag Kashyap, Dibakar Banerjee, Karan Johar, Zoya Akhtar",
           "Bombay Talkies"
          ],
          [
           "Anurag Kashyap, Dibakar Banerjee, Karan Johar, Zoya Akhtar",
           "Ghost Stories"
          ],
          [
           "Anuranjan Premji",
           "Chicken Kokkachi"
          ],
          [
           "Anusha Rizvi, Mahmood Farooqui",
           "Peepli Live"
          ],
          [
           "Anvita Dutt",
           "Bulbbul"
          ],
          [
           "Apoorva Lakhia",
           "Shootout at Lokhandwala"
          ],
          [
           "Apoorva Lakhia",
           "Mission Istaanbul: Darr Ke Aagey Jeet Hai"
          ],
          [
           "Apurva Dhar Badgaiyann",
           "Chaman Bahaar"
          ],
          [
           "Arati Kadav",
           "Cargo"
          ],
          [
           "Arjun Gourisaria, Moinak Biswas",
           "Sthaniya Sambaad"
          ],
          [
           "Arjun Jandyala",
           "Guna 369"
          ],
          [
           "Arnab Chaudhuri",
           "Arjun: The Warrior Prince"
          ],
          [
           "Arun Chidambaram",
           "Kanavu Variyam"
          ],
          [
           "Arun Vaidyanathan",
           "Nibunan"
          ],
          [
           "Aruna Raje",
           "Firebrand"
          ],
          [
           "Ashish R. Mohan",
           "Welcome 2 Karachi"
          ],
          [
           "Ashok Nanda",
           "Rivaaz"
          ],
          [
           "Ashok Nanda",
           "One Day: Justice Delivered"
          ],
          [
           "Ashu Trikha",
           "Veerey Ki Wedding"
          ],
          [
           "Ashutosh Gowariker",
           "Mohenjo Daro"
          ],
          [
           "Ashutosh Gowariker",
           "Panipat - The Great Betrayal"
          ],
          [
           "Ashutosh Gowariker",
           "Swades"
          ],
          [
           "Ashutosh Gowariker",
           "What's Your Raashee?"
          ],
          [
           "Ashutosh Gowariker",
           "Jodhaa Akbar"
          ],
          [
           "Ashutosh Gowariker",
           "Lagaan"
          ],
          [
           "Ashwiny Iyer Tiwari",
           "Bareilly Ki Barfi"
          ],
          [
           "Atanu Ghosh",
           "​Mayurakshi"
          ],
          [
           "Atanu Ghosh",
           "Abby Sen"
          ],
          [
           "Atanu Mukherjee",
           "Rukh"
          ],
          [
           "Atharv Baluja",
           "Judge Singh LLB"
          ],
          [
           "Athiyan Athirai",
           "The Last Bomb of the Second World War"
          ],
          [
           "Atlee Kumar",
           "Mersal"
          ],
          [
           "Atul Sabharwal",
           "Class of '83"
          ],
          [
           "Avadhoot Gupte",
           "Zenda"
          ],
          [
           "Avadhoot Gupte",
           "Morya"
          ],
          [
           "Avinash Arun",
           "Killa"
          ],
          [
           "Avinash Das",
           "Anarkali of Aarah"
          ],
          [
           "Avinash Walzade",
           "Fukrey Boyzzz: Space Mein Fukrapanti"
          ],
          [
           "Ayaan Mukherji",
           "Wake Up Sid"
          ],
          [
           "Ayush Raina",
           "Horror Story"
          ],
          [
           "Aziz Mirza",
           "Kismat Konnection"
          ],
          [
           "Aziz Mirza",
           "Phir Bhi Dil Hai Hindustani"
          ],
          [
           "Aziz Mirza",
           "Chalte Chalte"
          ],
          [
           "B. Subhash",
           "Disco Dancer"
          ],
          [
           "B. Unnikrishnan",
           "Grandmaster"
          ],
          [
           "B. V. Nandini Reddy",
           "Oh! Baby"
          ],
          [
           "B.N. Shajeer Sha",
           "Lechmi"
          ],
          [
           "Baljit Singh Deo",
           "Manje Bistre"
          ],
          [
           "Balu Mahendra",
           "Sadma"
          ],
          [
           "Basava Shankar Eeday",
           "Evvarikee Cheppoddu"
          ],
          [
           "Basu Chatterjee",
           "Rajnigandha"
          ],
          [
           "Basu Chatterjee",
           "Swami"
          ],
          [
           "Bauddhayan Mukherji",
           "The Violin Player"
          ],
          [
           "Bejoy Nambiar",
           "Shaitan"
          ],
          [
           "Bejoy Nambiar",
           "Wazir"
          ],
          [
           "Bhagyaraj",
           "Papa the Great"
          ],
          [
           "Bharat Jain",
           "6-5=2"
          ],
          [
           "Bhavin Wadia",
           "Project Marathwada"
          ],
          [
           "Bhushan Patel",
           "Ragini MMS 2"
          ],
          [
           "Binu Ulahhannan",
           "Melle"
          ],
          [
           "Biswajeet Bora",
           "Aisa Yeh Jahaan"
          ],
          [
           "Buddhadev Dasgupta",
           "Tope: The Bait"
          ],
          [
           "Buta Singh",
           "Kacche Dhaagey"
          ],
          [
           "Chakri Toleti",
           "Kolaiyuthir Kaalam"
          ],
          [
           "Chandan Arora",
           "Main, Meri Patni Aur Woh"
          ],
          [
           "Chandra Prakash Dwivedi",
           "Zed Plus"
          ],
          [
           "Chandrakant Kanse",
           "Daagdi Chaawl"
          ],
          [
           "Chandrakant Kulkarni",
           "Aajcha Divas Majha"
          ],
          [
           "Chandrakant Kulkarni",
           "Kay Dyache Bola"
          ],
          [
           "Chandrakant Kulkarni",
           "Tukaram"
          ],
          [
           "Chandran Narikode",
           "Paathi"
          ],
          [
           "Danish Aslam",
           "Break Ke Baad"
          ],
          [
           "Dar Gai",
           "Teen Aur Aadha"
          ],
          [
           "Datta Mohan Bhandare",
           "Krutant"
          ],
          [
           "David Dhawan",
           "(?)"
          ],
          [
           "David Dhawan",
           "Chal Mere Bhai"
          ],
          [
           "David Dhawan",
           "Judwaa"
          ],
          [
           "David Dhawan",
           "Maine Pyaar Kyun Kiya"
          ],
          [
           "David Dhawan",
           "Judwaa 2"
          ],
          [
           "David Dhawan",
           "Kyo Kii... Main Jhuth Nahin Bolta"
          ],
          [
           "David Dhawan",
           "Haseena Maan Jaayegi"
          ],
          [
           "David Dhawan",
           "Mujhse Shaadi Karogi"
          ],
          [
           "Debaloy Dey",
           "Macchli Jal Ki Rani Hai"
          ],
          [
           "Debamitra Biswal",
           "Motichoor Chaknachoor"
          ],
          [
           "Deep Joshi",
           "Bathinda Express"
          ],
          [
           "Deepti Naval",
           "Do Paise Ki Dhoop Chaar Aane Ki Baarish"
          ],
          [
           "Desingh Periyasamy",
           "Kannum Kannum Kollaiyadithaal"
          ],
          [
           "Devaki Singh, Luke Kenny",
           "Rise of the Zombie"
          ],
          [
           "Devashish Makhija",
           "Ajji"
          ],
          [
           "Devika Bhagat",
           "One by Two"
          ],
          [
           "Dhanush",
           "Power Paandi"
          ],
          [
           "Dharmendra Suresh Desai",
           "Rustom"
          ],
          [
           "Dharmesh Darshan",
           "Bewafaa"
          ],
          [
           "Dharmesh Darshan",
           "Raja Hindustani"
          ],
          [
           "Dheeraj Berry",
           "Th Eena Meena Deeka Chase Comedy Show"
          ],
          [
           "Dhilip Kumar",
           "Kalki"
          ],
          [
           "Dibakar Banerjee",
           "Shanghai"
          ],
          [
           "Dibakar Banerjee",
           "LSD: Love, Sex Aur Dhokha"
          ],
          [
           "Dibakar Banerjee",
           "Oye Lucky! Lucky Oye!"
          ],
          [
           "Dibakar Banerjee",
           "Khosla Ka Ghosla"
          ],
          [
           "Dileep Narayanan",
           "Paulettante Veedu"
          ],
          [
           "Dylan Mohan Gray",
           "Fire in the Blood"
          ],
          [
           "Eeshwar Nivas",
           "Dum"
          ],
          [
           "Emcy Joseph",
           "Mischief"
          ],
          [
           "Farah Khan",
           "Tees Maar Khan"
          ],
          [
           "Farah Khan",
           "Om Shanti Om"
          ],
          [
           "Farah Khan",
           "Main Hoon Na"
          ],
          [
           "Farah Khan",
           "Happy New Year"
          ],
          [
           "Faraz Haider",
           "War Chhod Na Yaar"
          ],
          [
           "Farhan Akhtar",
           "Don"
          ],
          [
           "Farhan Akhtar",
           "(?)"
          ],
          [
           "Fazila Allana",
           "Aditi Mittal: Things They Wouldn't Let Me Say"
          ],
          [
           "Feroz",
           "Pandigai"
          ],
          [
           "Fuwad Khan",
           "Dharam Sankat Mein"
          ],
          [
           "Gafoor Y. Elliyaas",
           "Pareeth Pandaari"
          ],
          [
           "Gagan Puri",
           "Door Ke Darshan"
          ],
          [
           "Gajendra Ahire",
           "Sarivar Sari"
          ],
          [
           "Gajendra Ahire",
           "Pimpal"
          ],
          [
           "Gajendra Ahire, Viju Mane, Girish Mohite, Ravi Jadhav",
           "Bioscope"
          ],
          [
           "Ganesh Kadam",
           "Vitti Dandu"
          ],
          [
           "Gangadhar Salimath",
           "Ayana"
          ],
          [
           "Gaurav Narayanan",
           "Sigaram Thodu"
          ],
          [
           "Gauravv K Chawla",
           "Baazaar"
          ],
          [
           "Gauri Shinde",
           "Dear Zindagi"
          ],
          [
           "Geetu Mohandas",
           "Liar's Dice"
          ],
          [
           "Girish Joshi",
           "Ranbhool"
          ],
          [
           "Girish Malik",
           "Jal"
          ],
          [
           "Girish Malik",
           "Torbaaz"
          ],
          [
           "Gulzar",
           "Koshish"
          ],
          [
           "Gurmmeet Singh",
           "What the Fish"
          ],
          [
           "Gurudev Bhalla",
           "Shararat"
          ],
          [
           "Habib Faisal",
           "Do Dooni Chaar"
          ],
          [
           "Halitha Shameem",
           "Sillu Karuppatti"
          ],
          [
           "Hardik Mehta",
           "Har Kisse Ke Hisse: Kaamyaab"
          ],
          [
           "Hari Nath",
           "Neevevaro"
          ],
          [
           "Hari Viswanath",
           "Radiopetti"
          ],
          [
           "Harjit Singh",
           "Eh Janam Tumhare Lekhe"
          ],
          [
           "Harry Baweja",
           "Chaar Sahibzaade"
          ],
          [
           "Harshavardhan Kulkarni",
           "Hunterrr"
          ],
          [
           "Hemant Gaba, Pratim D. Gupta, Sudhish Kamath, Nalan Kumarasamy, Anu Menon, Sandeep Mohan, Qaushiq Mukherjee, Rajshree Ojha, Raja Sen, Abhinav Shiv Tiwari, Suparn Verma",
           "X: Past Is Present"
          ],
          [
           "Honey Trehan",
           "Raat Akeli Hai"
          ],
          [
           "Hrishikesh Mukherjee",
           "Khubsoorat"
          ],
          [
           "Hrishikesh Mukherjee",
           "Bawarchi"
          ],
          [
           "Hrishikesh Mukherjee",
           "Chupke Chupke"
          ],
          [
           "Hrishikesh Mukherjee",
           "Gol Maal"
          ],
          [
           "Imtiaz Ali",
           "Highway"
          ],
          [
           "Imtiaz Ali",
           "Tamasha"
          ],
          [
           "Imtiaz Ali",
           "Socha Na Tha"
          ],
          [
           "Imtiaz Ali",
           "Love Aaj Kal"
          ],
          [
           "Imtiaz Ali",
           "Jab Harry Met Sejal"
          ],
          [
           "Imtiaz Ali",
           "Jab We Met"
          ],
          [
           "Indra Kumar",
           "Super Nani"
          ],
          [
           "Indra Kumar",
           "Dhamaal"
          ],
          [
           "Indra Kumar",
           "Dil"
          ],
          [
           "Indra Kumar",
           "Mann"
          ],
          [
           "Indra Kumar",
           "Grand Masti"
          ],
          [
           "Indrajit Nattoji",
           "Aagey Se Right"
          ],
          [
           "Indrasis Acharya",
           "Bilu Rakkhosh"
          ],
          [
           "Ishaan Trivedi",
           "A Scandall"
          ],
          [
           "Ivan Ayr",
           "Soni"
          ],
          [
           "Jagdeep Sidhu",
           "Qismat"
          ],
          [
           "Jaivi Dhanda",
           "Needhi Singh"
          ],
          [
           "Jasbir Bijendra Bhati",
           "Bhouri"
          ],
          [
           "Jasmine D'Souza",
           "One Night Stand"
          ],
          [
           "Jatla Siddartha",
           "Love and Shukla"
          ],
          [
           "Jayan Vannery",
           "Ma Chu Ka"
          ],
          [
           "Jayaprakash Radhakrishnan",
           "Lens"
          ],
          [
           "Jayaraj Rajasekharan Nair",
           "Ottaal"
          ],
          [
           "Jeethu Joseph",
           "The Body"
          ],
          [
           "Jeethu Joseph",
           "Thambi"
          ],
          [
           "Jeeva",
           "Run"
          ],
          [
           "Jijo Pancode",
           "Kaaliyan"
          ],
          [
           "Jitender Pawar",
           "Trip to Bhangarh: Asia's Most Haunted Place"
          ],
          [
           "Jitendra Tiwari, Pranav Singh",
           "Shorgul"
          ],
          [
           "Johnson Esthappan",
           "Daffedar"
          ],
          [
           "Jonathan Augustin",
           "The Lift Boy"
          ],
          [
           "K. Gopinathan",
           "Samarppanam"
          ],
          [
           "K. Ramanlal",
           "Elaan"
          ],
          [
           "K. Subhash",
           "Insan"
          ],
          [
           "K.C. Bokadia",
           "Deewana Main Deewana"
          ],
          [
           "KVR Mahendra",
           "Dorasaani"
          ],
          [
           "Kabir Khan",
           "Phantom"
          ],
          [
           "Kabir Sadanand",
           "Gollu Aur Pappu"
          ],
          [
           "Kabir Sadanand",
           "Tum Milo Toh Sahi"
          ],
          [
           "Kaizad Gustad",
           "Boom"
          ],
          [
           "Kamal Sahani",
           "Sat Sri Akal"
          ],
          [
           "Kanika Batra",
           "Project Papa"
          ],
          [
           "Karan Anshuman",
           "Bangistan"
          ],
          [
           "Karan Johar",
           "Kuch Kuch Hota Hai"
          ],
          [
           "Karan Johar",
           "Kabhi Alvida Naa Kehna"
          ],
          [
           "Karan Johar",
           "Kabhi Khushi Kabhie Gham"
          ],
          [
           "Karan Shivajirao Chavan, Vikram Tanajirao Patil",
           "Imago"
          ],
          [
           "Karthik Subbaraj",
           "Petta"
          ],
          [
           "Kedar Shinde",
           "Irada Pakka"
          ],
          [
           "Kedar Shinde",
           "Yanda Kartavya Aahe"
          ],
          [
           "Keerthi",
           "The Plan"
          ],
          [
           "Ken Ghosh",
           "Fida"
          ],
          [
           "Ken Ghosh",
           "Chance Pe Dance"
          ],
          [
           "Ken Ghosh",
           "Ishq Vishk"
          ],
          [
           "Ketan Mehta",
           "Colours of Passion"
          ],
          [
           "Ketan Mehta",
           "Oh Darling Yeh Hai India"
          ],
          [
           "Khalid Mohamed",
           "Fiza"
          ],
          [
           "Kiran Narayanan",
           "Oru Vishsheshapetta Biryani Kissa"
          ],
          [
           "Kiran Rao",
           "Dhobi Ghat (Mumbai Diaries)"
          ],
          [
           "Kireet Khurana, Padmakumar Narasimhamurthy",
           "Saeed Mirza: The Leftist Sufi"
          ],
          [
           "Kranthi Madhav",
           "World Famous Lover"
          ],
          [
           "Kranti Kanade",
           "CRD"
          ],
          [
           "Kranti Redkar",
           "Kaakan"
          ],
          [
           "Krish",
           "Gabbar Is Back"
          ],
          [
           "Krishna Vamshi",
           "Shakti: The Power"
          ],
          [
           "Ksshitij Chaudhary",
           "Jatts in Golmaal"
          ],
          [
           "Ksshitij Chaudhary",
           "Yaara O Dildaara"
          ],
          [
           "Kumaran",
           "Jada"
          ],
          [
           "Kunal Deshmukh",
           "Raja Natwarlal"
          ],
          [
           "Kunal Kohli",
           "Next Enti?"
          ],
          [
           "Kundan Shah",
           "P Se PM Tak"
          ],
          [
           "Kundan Shah",
           "Kya Kehna"
          ],
          [
           "Kundan Shah",
           "Kabhi Haan Kabhi Naa"
          ],
          [
           "Kundan Shah",
           "Dil Hai Tumhaara"
          ],
          [
           "Kushal Srivastava",
           "Vodka Diaries"
          ],
          [
           "Laxman Utekar",
           "Luka Chuppi"
          ],
          [
           "Leena Yadav",
           "Rajma Chawal"
          ],
          [
           "Leena Yadav",
           "Teen Patti"
          ],
          [
           "Leena Yadav",
           "Shabd"
          ],
          [
           "Lekh Tandon",
           "Amrapali"
          ],
          [
           "Lekh Tandon",
           "Prince"
          ],
          [
           "Lekh Tandon",
           "Professor"
          ],
          [
           "Lenin Bharathi",
           "Merku Thodarchi Malai"
          ],
          [
           "Lijo Jose Pellissery",
           "Angamaly Diaries"
          ],
          [
           "Luv Ranjan",
           "Pyaar Ka Punchnama 2"
          ],
          [
           "Luv Ranjan",
           "Pyaar Ka Punchnama"
          ],
          [
           "Madhumita",
           "KD (A) Karuppudurai"
          ],
          [
           "Madhur Bhandarkar",
           "Calendar Girls"
          ],
          [
           "Madhur Bhandarkar",
           "Traffic Signal"
          ],
          [
           "Madhur Bhandarkar",
           "Jail"
          ],
          [
           "Madhur Bhandarkar",
           "Heroine"
          ],
          [
           "Madhur Bhandarkar",
           "Fashion"
          ],
          [
           "Maha Venkatesh",
           "Care of Kancharapalem"
          ],
          [
           "Mahesh Bhatt",
           "Chaahat"
          ],
          [
           "Mahesh Bhatt",
           "Gumrah"
          ],
          [
           "Mahesh Bhatt",
           "Duplicate"
          ],
          [
           "Mahesh Manjrekar",
           "Bhai: Vyakti Ki Valli - Uttarardh"
          ],
          [
           "Mahesh Manjrekar",
           "Bhai: Vyakti Ki Valli - Poorvardha"
          ],
          [
           "Mahesh Manjrekar",
           "Pitaah"
          ],
          [
           "Mahesh Manjrekar",
           "Lalbaug Parel: Zali Mumbai Sonyachi"
          ],
          [
           "Mahesh Manjrekar",
           "Natsamrat - Asa Nat Hone Nahi"
          ],
          [
           "Makarand Mane",
           "Ringan"
          ],
          [
           "Makarand Mane",
           "Kaagar"
          ],
          [
           "Manav Shah",
           "Laatu"
          ],
          [
           "Manbhavan Singh",
           "Gelo"
          ],
          [
           "Mandeep Kumar",
           "Tere Naal Love Ho Gaya"
          ],
          [
           "Mangesh Hadawale",
           "Malaal"
          ],
          [
           "Mangesh Kanthale",
           "Sur Sapata"
          ],
          [
           "Mani Ratnam",
           "Guru"
          ],
          [
           "Mani Ratnam",
           "Yuva"
          ],
          [
           "Mani Ratnam",
           "Dil Se"
          ],
          [
           "Manika Sharma",
           "The Wishing Tree"
          ],
          [
           "Manish Gupta",
           "Rahasya"
          ],
          [
           "Manish Jha",
           "The Legend of Michael Mishra"
          ],
          [
           "Manish Jha",
           "Anwar"
          ],
          [
           "Manish Saini",
           "Dhh"
          ],
          [
           "Manish Tiwary",
           "Issaq"
          ],
          [
           "Manjeet Maan",
           "Dil Vil Pyaar Vyaar"
          ],
          [
           "Manjeet Singh",
           "Mumbai Cha Raja"
          ],
          [
           "Manmohan Desai",
           "Amar Akbar Anthony"
          ],
          [
           "Manoj Beedha",
           "Vanjagar Ulagam"
          ],
          [
           "Mansore",
           "Nathicharami"
          ],
          [
           "Manu Ashokan",
           "Uyare"
          ],
          [
           "Mastan Alibhai Burmawalla, Abbas Alibhai Burmawalla",
           "Race"
          ],
          [
           "Megha Ramaswamy",
           "What Are the Odds?"
          ],
          [
           "Midhun Manuel Thomas",
           "Aadu 2"
          ],
          [
           "Mikhil Musale",
           "Made in China"
          ],
          [
           "Mikhil Musale",
           "Wrong Side Raju"
          ],
          [
           "Milan Luthria",
           "Hattrick"
          ],
          [
           "Milan Luthria",
           "Once Upon a Time in Mumbaai"
          ],
          [
           "Milan Luthria",
           "Baadshaho"
          ],
          [
           "Milan Luthria",
           "Once Upon a Time in Mumbai Dobaara!"
          ],
          [
           "Milind Dhaimade",
           "Tu Hai Mera Sunday"
          ],
          [
           "Milind Rau",
           "The House Next Door"
          ],
          [
           "Mohammed Hussain",
           "Khoon Khoon"
          ],
          [
           "Mohit Suri",
           "Half Girlfriend"
          ],
          [
           "Mohit Suri",
           "Malang"
          ],
          [
           "Mozez Singh",
           "Zubaan"
          ],
          [
           "Mrighdeep Singh Lamba",
           "Fukrey"
          ],
          [
           "Mukesh Vohra",
           "Thug Life"
          ],
          [
           "Mukul Anand",
           "Trimurti"
          ],
          [
           "Mukul Anand",
           "Agneepath"
          ],
          [
           "Munish Bhardwaj",
           "Moh Maya Money"
          ],
          [
           "Musthafa",
           "Kappela"
          ],
          [
           "Mysskin",
           "Psycho"
          ],
          [
           "Mysskin",
           "Mugamoodi"
          ],
          [
           "N. Chandra",
           "Y.M.I.: Yeh Mera India"
          ],
          [
           "N. Linguswamy",
           "Anjaan"
          ],
          [
           "N. Linguswamy",
           "Vettai"
          ],
          [
           "Nagesh Kukunoor",
           "Bollywood Calling"
          ],
          [
           "Nagesh Kukunoor",
           "Dhanak"
          ],
          [
           "Nagesh Kukunoor",
           "Aashayein"
          ],
          [
           "Nagesh Kukunoor",
           "Iqbal"
          ],
          [
           "Nagraj Manjule",
           "Fandry"
          ],
          [
           "Nagraj Manjule",
           "Sairat"
          ],
          [
           "Naman Nitin Mukesh",
           "Bypass Road"
          ],
          [
           "Nandita Das",
           "Manto"
          ],
          [
           "Narendra Nath",
           "Miss India"
          ],
          [
           "Naresh Saigal",
           "Ujala"
          ],
          [
           "Navaniat Singh",
           "Jindua"
          ],
          [
           "Navdeep Singh",
           "Manorama Six Feet Under"
          ],
          [
           "Navinder Pal Singh",
           "Mundeyan Ton Bachke Rahin"
          ],
          [
           "Navjot Gulati",
           "Jai Mummy Di"
          ],
          [
           "Navneet Behal",
           "Tamanchey"
          ],
          [
           "Neeraj Pandey",
           "A Wednesday"
          ],
          [
           "Neeraj Pandey",
           "Special 26"
          ],
          [
           "Neeraj Pandey",
           "Aiyaary"
          ],
          [
           "Neeraj Udhwani",
           "Maska"
          ],
          [
           "Neeraj Vora",
           "Phir Hera Pheri"
          ],
          [
           "Neville Shah",
           "Yours Sincerely, Kanan Gill"
          ],
          [
           "Nicholas Kharkongor",
           "Axone"
          ],
          [
           "Nicholas Kharkongor",
           "Mantra"
          ],
          [
           "Nidhi Sharma",
           "Pooja Kiven Aa"
          ],
          [
           "Nikhil Advani",
           "Katti Batti"
          ],
          [
           "Nikhil Advani",
           "Patiala House"
          ],
          [
           "Nikhil Nagesh Bhat",
           "Brij Mohan Amar Rahe"
          ],
          [
           "Nikkhil Advani",
           "Kal Ho Naa Ho"
          ],
          [
           "Nila Madhab Panda",
           "Halkaa"
          ],
          [
           "Nila Madhab Panda",
           "I Am Kalam"
          ],
          [
           "Nila Madhab Panda",
           "Jalpari: The Desert Mermaid"
          ],
          [
           "Nishanth Ravindaran, Jathin Sanker Raj",
           "Odu Raja Odu"
          ],
          [
           "Nisheeta Keni",
           "Bogda"
          ],
          [
           "Nishikant Kamat",
           "Rocky Handsome"
          ],
          [
           "Nishikant Kamat",
           "Madaari"
          ],
          [
           "Nishikant Kamat",
           "Mumbai Meri Jaan"
          ],
          [
           "Nishikant Kamat",
           "Drishyam"
          ],
          [
           "Nishil Sheth",
           "Bhasmasur"
          ],
          [
           "Nitesh Tiwari",
           "Dangal"
          ],
          [
           "Nizar Shafi",
           "7 (Seven)"
          ],
          [
           "Noushad",
           "Cappuccino"
          ],
          [
           "Omung Kumar",
           "Mary Kom"
          ],
          [
           "Onir",
           "​​Kuch Bheege Alfaaz"
          ],
          [
           "Onir",
           "My Brother ... Nikhil"
          ],
          [
           "P.K. Baaburaaj",
           "Gemini"
          ],
          [
           "P.T. Kunju Muhammad",
           "Viswasapoorvam Mansoor"
          ],
          [
           "Pa. Ranjith",
           "Kabali (Hindi Version)"
          ],
          [
           "Padmakumar Narasimhamurthy",
           "A Billion Colour Story"
          ],
          [
           "Pankaj Batra",
           "High End Yaariyan"
          ],
          [
           "Pankaj Batra",
           "Naughty Jatts"
          ],
          [
           "Param Gill",
           "Waarrior Savitri"
          ],
          [
           "Parambrata Chatterjee",
           "Shonar Pahar"
          ],
          [
           "Parambrata Chatterjee",
           "Lorai: Play to Live"
          ],
          [
           "Paresh Mokashi",
           "Harishchandrachi Factory"
          ],
          [
           "Paritosh Painter",
           "Paying Guests"
          ],
          [
           "Partha Chakraborty",
           "Samantaral"
          ],
          [
           "Parthiban",
           "Oththa Seruppu Size 7"
          ],
          [
           "Partho Ghosh",
           "Ghulam-E-Musthafa"
          ],
          [
           "Partho Mitra",
           "Koi Aap Sa"
          ],
          [
           "Parveen Kumar",
           "Darra"
          ],
          [
           "Patrick Graham",
           "GHOUL"
          ],
          [
           "Pawan K Shrivastava",
           "Life of An Outcast"
          ],
          [
           "Pawan Kripalani",
           "Ragini MMS"
          ],
          [
           "Pawan Kumar",
           "U Turn"
          ],
          [
           "Phanindra Narsetti",
           "Manu"
          ],
          [
           "Pooja Bhatt",
           "Kajraare"
          ],
          [
           "Prabhu Deva",
           "Rowdy Rathore"
          ],
          [
           "Prabhuraj",
           "Lupt"
          ],
          [
           "Pradeep Verma",
           "Urvi"
          ],
          [
           "Pradip Kurbah",
           "Onaatah"
          ],
          [
           "Prakash Balwant Saini",
           "Chal Bhaag"
          ],
          [
           "Prakash Jha",
           "Satyagraha"
          ],
          [
           "Prakash Jha",
           "Gangaajal"
          ],
          [
           "Prakash Jha",
           "Apaharan"
          ],
          [
           "Prakash Jha",
           "Raajneeti"
          ],
          [
           "Prakash Jha",
           "Aarakshan"
          ],
          [
           "Prakash Kunte",
           "Cycle"
          ],
          [
           "Prakash Mehra",
           "Hera Pheri"
          ],
          [
           "Prakash Mehra",
           "Namak Halaal"
          ],
          [
           "Prakash Mehra",
           "Muqaddar ka Faisla"
          ],
          [
           "Pramod Pawar",
           "Truckbhar Swapna"
          ],
          [
           "Prasanth Varma",
           "Awe"
          ],
          [
           "Prashant Nair",
           "Umrika"
          ],
          [
           "Prasobh Vijayan",
           "Lilli"
          ],
          [
           "Pratim D. Gupta",
           "Saheb Bibi Golaam"
          ],
          [
           "Praveen Nischol",
           "English Babu Desi Mem"
          ],
          [
           "Prawal Raman",
           "Darna Mana Hai"
          ],
          [
           "Prem Soni",
           "Main aurr Mrs. Khanna"
          ],
          [
           "Priyadarshan",
           "Sometimes"
          ],
          [
           "Priyadarshan",
           "Billu"
          ],
          [
           "Priyadarshan",
           "Bhool Bhulaiyaa"
          ],
          [
           "Priyadarshan",
           "Bhagam Bhag"
          ],
          [
           "Priyadarshan, Kookie V. Gulati",
           "Chup Chup Ke"
          ],
          [
           "Pulkit",
           "Maroon"
          ],
          [
           "Puneet Khanna",
           "Ginny Weds Sunny"
          ],
          [
           "Puneet Sira",
           "Kisaan"
          ],
          [
           "Punit Malhotra",
           "I Hate Luv Storys"
          ],
          [
           "Punit Malhotra",
           "Gori Tere Pyaar Mein"
          ],
          [
           "Puri Jagannadh",
           "Bbuddah Hoga Terra Baap"
          ],
          [
           "Qaushiq Mukherjee",
           "Garbage"
          ],
          [
           "Qaushiq Mukherjee",
           "The Land of Cards"
          ],
          [
           "R. Balki",
           "Pad Man"
          ],
          [
           "R. Kannan",
           "Settai"
          ],
          [
           "Raaghav Dar",
           "My Friend Pinto"
          ],
          [
           "Radhika Rao, Vinay Sapru",
           "Lucky: No Time for Love"
          ],
          [
           "Rahat Kazmi",
           "Mantostaan"
          ],
          [
           "Rahul Dholakia",
           "Raees"
          ],
          [
           "Rahul Ravindran",
           "Manmadhudu 2"
          ],
          [
           "Rai Yuvraj Bains",
           "Kaake Da Viyah"
          ],
          [
           "Raj B. Shetty",
           "Story of an Egg"
          ],
          [
           "Raj Babu",
           "Sei"
          ],
          [
           "Raj Kanwar",
           "Humko Deewana Kar Gaye"
          ],
          [
           "Raj Kapoor",
           "Bobby"
          ],
          [
           "Raj Kapoor",
           "Ram Teri Ganga Maili"
          ],
          [
           "Raj Kapoor",
           "Sangam"
          ],
          [
           "Raj Kaushal",
           "Anthony Kaun Hai?"
          ],
          [
           "Raj Khosla",
           "Friendship"
          ],
          [
           "Raj Kumar Gupta",
           "Ghanchakkar"
          ],
          [
           "Raj Kumar Gupta",
           "No One Killed Jessica"
          ],
          [
           "Raj Kumar Gupta",
           "Aamir"
          ],
          [
           "Raj N. Sippy",
           "Satte Pe Satta"
          ],
          [
           "Raj Nidimoru, Krishna D.K.",
           "Shor In the City"
          ],
          [
           "Raj R",
           "Mallesham"
          ],
          [
           "Raja Chanda",
           "Black"
          ],
          [
           "Raja Menon",
           "Barah Aana"
          ],
          [
           "Rajan Madhav",
           "Muran"
          ],
          [
           "Rajat Kapoor",
           "Ankhon Dekhi"
          ],
          [
           "Rajat Kapoor",
           "Fatso"
          ],
          [
           "Rajeev Chaudhari",
           "Beiimaan Love"
          ],
          [
           "Rajeev Patil",
           "Sanai Choughade"
          ],
          [
           "Rajesh Ganguly",
           "The Royal Bengal Tiger"
          ],
          [
           "Rajesh Mapuskar",
           "Ferrari Ki Sawaari"
          ],
          [
           "Rajesh Touchriver",
           "Naa Bangaaru Talli"
          ],
          [
           "Rajiv Chilaka",
           "Chhota Bheem and the Curse of Damyaan"
          ],
          [
           "Rajiv Chilaka, Binayak Das",
           "Chhota Bheem Kungfu Dhamaka"
          ],
          [
           "Rajiv Mehra",
           "Ram Jaane"
          ],
          [
           "Rajiv Mehra",
           "Aakhri Adaalat"
          ],
          [
           "Rajiv Mehra",
           "Ek Jaan Hain Hum"
          ],
          [
           "Rajiv Mehra",
           "Pyar Ke Do Pal"
          ],
          [
           "Rajiv Mehra",
           "Chamatkar"
          ],
          [
           "Rajiv Menon",
           "Sarvam Thaala Mayam (Telugu Version)"
          ],
          [
           "Rajkumar Hirani",
           "PK"
          ],
          [
           "Rajkumar Hirani",
           "Sanju"
          ],
          [
           "Rajkumar Hirani",
           "3 Idiots"
          ],
          [
           "Rajkumar Santoshi",
           "Ajab Prem Ki Ghazab Kahani"
          ],
          [
           "Rajkumar Santoshi",
           "The Legend of Bhagat Singh"
          ],
          [
           "Rajkumar Santoshi",
           "Andaz Apna Apna"
          ],
          [
           "Rajkumar Santoshi",
           "Ghayal"
          ],
          [
           "Rajkumar Santoshi",
           "Pukar"
          ],
          [
           "Rajkumar Santoshi",
           "Barsaat"
          ],
          [
           "Rakesh Mehta",
           "Life Ki Toh Lag Gayi"
          ],
          [
           "Rakesh Ranjan Kumar",
           "Paharganj"
          ],
          [
           "Rakeysh Omprakash Mehra",
           "Mere Pyare Prime Minister"
          ],
          [
           "Rakeysh Omprakash Mehra",
           "Delhi 6"
          ],
          [
           "Rakeysh Omprakash Mehra",
           "Mirzya"
          ],
          [
           "Rakeysh Omprakash Mehra",
           "Rang De Basanti"
          ],
          [
           "Rakshith Thirthahalli",
           "Hombanna"
          ],
          [
           "Ram",
           "Taramani"
          ],
          [
           "Ram Gopal Varma",
           "Bhoot"
          ],
          [
           "Ram Gopal Varma",
           "Contract"
          ],
          [
           "Ram Gopal Varma",
           "Veerappan"
          ],
          [
           "Ram Gopal Varma",
           "Company"
          ],
          [
           "Ram Gopal Varma",
           "Shiva"
          ],
          [
           "Ram Gopal Varma",
           "Agyaat"
          ],
          [
           "Raman Kumar",
           "Saath Saath"
          ],
          [
           "Ramesh Sippy",
           "Shimla Mirchi"
          ],
          [
           "Ramesh Talwar",
           "Duniya"
          ],
          [
           "Rana Ranbir",
           "Asees"
          ],
          [
           "Ranjit Jeyakodi",
           "Puriyatha Puthir"
          ],
          [
           "Ranjit Tiwari",
           "Lucknow Central"
          ],
          [
           "Ravi Babu",
           "Aaviri"
          ],
          [
           "Ravi Udyawar",
           "Mom"
          ],
          [
           "Ravikanth Perepu",
           "Krishna and His Leela"
          ],
          [
           "Ravishankar Venkateswaran",
           "A truthful Mother"
          ],
          [
           "Reema Kagti",
           "Honeymoon Travels Pvt. Ltd."
          ],
          [
           "Reema Kagti",
           "Talaash"
          ],
          [
           "Remo D'Souza",
           "ABCD: Any Body Can Dance"
          ],
          [
           "Remo D'Souza",
           "A Flying Jatt"
          ],
          [
           "Remo D'Souza",
           "ABCD 2"
          ],
          [
           "Remy Kohli",
           "Kuldip Patwal: I Didn't Do It!"
          ],
          [
           "Renzil D'Silva",
           "Ungli"
          ],
          [
           "Renzil D'Silva",
           "Kurbaan"
          ],
          [
           "Ribhu Dasgupta",
           "TE3N"
          ],
          [
           "Ribhu Dasgupta",
           "Michael"
          ],
          [
           "Rikhil Bahadur",
           "Time Out"
          ],
          [
           "Rima Das",
           "Bulbul Can Sing"
          ],
          [
           "Robbie Grewal",
           "Romeo Akbar Walter"
          ],
          [
           "Rohan Sippy",
           "BluffMaster!"
          ],
          [
           "Rohit Jugraj",
           "Jatt James Bond"
          ],
          [
           "Rohit Jugraj",
           "Khido Khundi"
          ],
          [
           "Rohit Mittal",
           "Autohead"
          ],
          [
           "Rohit Shetty",
           "(?)"
          ],
          [
           "Rohit Shetty",
           "Singham"
          ],
          [
           "Rohit Shetty",
           "Golmaal: Fun Unlimited"
          ],
          [
           "Rohit Shetty",
           "Dilwale"
          ],
          [
           "Ruchi Narain",
           "Guilty"
          ],
          [
           "S.S. Rajamouli",
           "Baahubali: The Beginning (Hindi Version)"
          ],
          [
           "S.S. Rajamouli",
           "Baahubali 2: The Conclusion (Hindi Version)"
          ],
          [
           "Saandeep Patel",
           "Love Ni Bhavai"
          ],
          [
           "Sabal Singh Shekawat",
           "Fireflies"
          ],
          [
           "Sabir Khan",
           "Baaghi"
          ],
          [
           "Sabu Varghese",
           "Mythily Veendum Varunnu"
          ],
          [
           "Sachin",
           "Ideachi Kalpana"
          ],
          [
           "Sachin",
           "Maza Pati Karodpati"
          ],
          [
           "Sachin Kamlakar Khot",
           "Ugly Aur Pagli"
          ],
          [
           "Sachin Kundalkar",
           "Aiyyaa"
          ],
          [
           "Sachin Yardi",
           "Chopsticks"
          ],
          [
           "Sachin Yardi",
           "C Kkompany"
          ],
          [
           "Safdar Rahman",
           "Chippa"
          ],
          [
           "Sagar Sarhadi",
           "Bazaar"
          ],
          [
           "Saheed Arafath",
           "Theeram"
          ],
          [
           "Sai Paranjape",
           "Katha"
          ],
          [
           "Saji Surendran",
           "Husbands in Goa"
          ],
          [
           "Sajid Khan",
           "Himmatwala"
          ],
          [
           "Saket Behl",
           "What the Jatt!!"
          ],
          [
           "Saket Chaudhary",
           "Pyaar Ke Side Effects"
          ],
          [
           "Samar Khan",
           "Shaurya: It Takes Courage to Make Right... Right"
          ],
          [
           "Samar Shaikh",
           "Bobby Jasoos"
          ],
          [
           "Sameer Patil",
           "Poshter Girl"
          ],
          [
           "Sameer Sharma",
           "Luv Shuv Tey Chicken Khurana"
          ],
          [
           "Sameer Vidwans",
           "Time Please"
          ],
          [
           "Sameer Vidwans",
           "Mala Kahich Problem Nahi"
          ],
          [
           "Samir Karnik",
           "Kyun! Ho Gaya Na"
          ],
          [
           "Samir Soni",
           "My Birthday Song"
          ],
          [
           "Samit Kakkad",
           "Ascharyachakit!"
          ],
          [
           "Sandeep Chatterjee",
           "Adrishya"
          ],
          [
           "Sandeep Reddy Vanga",
           "Kabir Singh"
          ],
          [
           "Sangeeth Sivan",
           "Yamla Pagla Deewana 2"
          ],
          [
           "Sangeeth Sivan",
           "Kyaa Kool Hai Hum"
          ],
          [
           "Sanjay Dayma",
           "Ramji Londonwaley"
          ],
          [
           "Sanjay Gupta",
           "Kaabil"
          ],
          [
           "Sanjay Jadhav",
           "Luckee"
          ],
          [
           "Sanjay Jadhav",
           "Fakta Ladh Mhana"
          ],
          [
           "Sanjay Leela Bhansali",
           "Guzaarish"
          ],
          [
           "Sanjay Soorkar",
           "Sakhi"
          ],
          [
           "Sanjeev Gupta",
           "INDIA"
          ],
          [
           "Sanjib Dey",
           "III Smoking Barrels"
          ],
          [
           "Sanjiv Jaiswal",
           "Pranaam"
          ],
          [
           "Santosh Manjrekar",
           "Mi Shivajiraje Bhosale Boltoy"
          ],
          [
           "Santosh Sivan",
           "Asoka"
          ],
          [
           "Santosh Sivan",
           "Tahaan"
          ],
          [
           "Santram Varma",
           "Krishna Cottage"
          ],
          [
           "Santwana Bardoloi",
           "​Maj Rati ​​Keteki"
          ],
          [
           "Saravana Rajan",
           "R.K.Nagar"
          ],
          [
           "Saravana Rajendran",
           "Mehandi Circus"
          ],
          [
           "Sarjun",
           "Echcharikkai"
          ],
          [
           "Sartaj Singh Pannu",
           "Tiger"
          ],
          [
           "Sarthak Dasgupta",
           "Music Teacher"
          ],
          [
           "Sathyan Anthikad",
           "Njan Prakashan"
          ],
          [
           "Satish Kaushik",
           "Karzzzz"
          ],
          [
           "Satish Kaushik",
           "Hamara Dil Aapke Paas Hai"
          ],
          [
           "Satish Manwar",
           "The Damned Rain"
          ],
          [
           "Satish Rajwade",
           "Mumbai Delhi Mumbai"
          ],
          [
           "Satish Rajwade",
           "Premachi Goshta"
          ],
          [
           "Satish Rajwade",
           "Aapla Manus"
          ],
          [
           "Satyajit Bhatkal",
           "Zokkomon"
          ],
          [
           "Satyajit Bhatkal",
           "Madness in the Desert"
          ],
          [
           "Saurabh Kabra",
           "EMI: Liya Hai To Chukana Padega"
          ],
          [
           "Saurabh Sinha",
           "Saavat"
          ],
          [
           "Saurav Palodhi",
           "Colkatay Columbus"
          ],
          [
           "Sekhar Kammula",
           "Anaamika"
          ],
          [
           "Selvamani Selvaraj",
           "Nila"
          ],
          [
           "Shaad Ali",
           "Soorma"
          ],
          [
           "Shadab Khan",
           "B.A. Pass 2"
          ],
          [
           "Shakti Samanta",
           "The Great Gambler"
          ],
          [
           "Shakun Batra",
           "Ek Main Aur Ekk Tu"
          ],
          [
           "Shakun Batra",
           "Kapoor & Sons"
          ],
          [
           "Shammi Kapoor",
           "Manoranjan"
          ],
          [
           "Shamzu Zayba",
           "Maniyarayile Ashokan"
          ],
          [
           "Shanavas K. Bavakutty",
           "Thottappan"
          ],
          [
           "Shanawaz Nellikunnil",
           "Candyflip"
          ],
          [
           "Shanker Raman",
           "Gurgaon"
          ],
          [
           "Sharan Sharma",
           "Gunjan Saxena: The Kargil Girl"
          ],
          [
           "Shashank Khaitan",
           "Humpty Sharma Ki Dulhania"
          ],
          [
           "Shashanka Ghosh",
           "Khoobsurat"
          ],
          [
           "Shashanka Ghosh, Samit Basu",
           "House Arrest"
          ],
          [
           "Shashilal K. Nair",
           "One 2 Ka 4"
          ],
          [
           "Shawn Arranha",
           "Hide & Seek"
          ],
          [
           "Shekhar Kapur",
           "Masoom"
          ],
          [
           "Shelly Chopra Dhar",
           "Ek Ladki Ko Dekha Toh Aisa Laga"
          ],
          [
           "Shirish Kunder",
           "Mrs. Serial Killer"
          ],
          [
           "Shirish Kunder",
           "Jaan-E-Mann: Let's Fall in Love... Again"
          ],
          [
           "Shirish Kunder",
           "Joker"
          ],
          [
           "Shivam Nair",
           "Ahista Ahista"
          ],
          [
           "Shivam Nair",
           "Naam Shabana"
          ],
          [
           "Shivendra Singh Dungarpur",
           "Celluloid Man"
          ],
          [
           "Shlok Sharma",
           "Haraamkhor"
          ],
          [
           "Shlok Sharma",
           "Zoo"
          ],
          [
           "Shoojit Sircar",
           "Madras Café"
          ],
          [
           "Shravan Kumar",
           "706"
          ],
          [
           "Shree Narayan Singh",
           "Toilet: Ek Prem Katha"
          ],
          [
           "Shreyas Talpade",
           "Poster Boys"
          ],
          [
           "Shrihari Sathe",
           "1000 Rupee Note"
          ],
          [
           "Shubham Singh",
           "Penalty"
          ],
          [
           "Shyam Benegal",
           "Welcome to Sajjanpur"
          ],
          [
           "Shyam Benegal",
           "Trikal (Past, Present, Future)"
          ],
          [
           "Shyam Benegal",
           "Well Done Abba"
          ],
          [
           "Shyam Benegal",
           "Mandi"
          ],
          [
           "Siddique",
           "Bodyguard"
          ],
          [
           "Simranjit Singh Hundal",
           "25 Kille"
          ],
          [
           "Smeep Kang",
           "Bhaji In Problem"
          ],
          [
           "Smeep Kang",
           "Lock"
          ],
          [
           "Sneha Taurani",
           "Bhangra Paa Le"
          ],
          [
           "Sohail Khan",
           "Hello Brother"
          ],
          [
           "Sohail Tatari",
           "Ankur Arora Murder Case"
          ],
          [
           "Soham Shah",
           "Kaal"
          ],
          [
           "Sooni Taraporevala",
           "Yeh Ballet"
          ],
          [
           "Sooraj R. Barjatya",
           "Prem Ratan Dhan Payo"
          ],
          [
           "Sooraj R. Barjatya",
           "Vivah"
          ],
          [
           "Sooraj R. Barjatya",
           "(?)"
          ],
          [
           "Sooraj R. Barjatya",
           "Maine Pyar Kiya"
          ],
          [
           "Sooraj R. Barjatya",
           "Hum Aapke Hain Koun"
          ],
          [
           "Soukarya Ghosal",
           "Rainbow Jelly"
          ],
          [
           "Soumendra Padhi",
           "Jamtara - Sabka Number Ayega"
          ],
          [
           "Soumendra Padhi",
           "Budhia Singh: Born to Run"
          ],
          [
           "Soumitra Ranade",
           "Albert Pinto Ko Gussa Kyun Aata Hai?"
          ],
          [
           "Sridhar Rangayan",
           "Evening Shadows"
          ],
          [
           "Sridhar Rangayan",
           "Breaking Free"
          ],
          [
           "Sriram Raghavan",
           "Ek Hasina Thi"
          ],
          [
           "Sriram Raghavan",
           "Andhadhun"
          ],
          [
           "Subhash Ghai",
           "Khalnayak"
          ],
          [
           "Subhash Ghai",
           "Yaadein"
          ],
          [
           "Subhash Ghai",
           "Taal"
          ],
          [
           "Subhash Ghai",
           "Pardes"
          ],
          [
           "Sudesh Manjrekar",
           "Shahanpan Dega Deva"
          ],
          [
           "Sudesh Manjrekar, Atul Kale",
           "Matichya Chuli"
          ],
          [
           "Sudha Kongara, Vignesh Shivan, Gautham Vasudev Menon, Vetri Maaran",
           "Paava Kadhaigal"
          ],
          [
           "Sudhanshu Saria",
           "Loev"
          ],
          [
           "Sudhir Mishra",
           "Chameli"
          ],
          [
           "Sudhir Mishra",
           "Serious Men"
          ],
          [
           "Sudhir Mishra",
           "Inkaar"
          ],
          [
           "Sudip Bandyopadhyay",
           "Hope Aur Hum"
          ],
          [
           "Sudipto Roy",
           "Kia and Cosmos"
          ],
          [
           "Suhas Kadav",
           "Motu Patlu: King of Kings"
          ],
          [
           "Sujeeth",
           "Saaho"
          ],
          [
           "Sujoy Ghosh",
           "Badla"
          ],
          [
           "Sujoy Ghosh",
           "Kahaani"
          ],
          [
           "Sujoy Ghosh",
           "Jhankaar Beats"
          ],
          [
           "Sukhbir Singh",
           "Teshan"
          ],
          [
           "Suman Mukhopadhyay",
           "Incomplete"
          ],
          [
           "Sumit Das",
           "Super Bheem Bana Vajraveer"
          ],
          [
           "Sumitra Bhave, Sunil Sukthankar",
           "Ek Cup Chya"
          ],
          [
           "Sumitra Bhave, Sunil Sukthankar",
           "Devrai"
          ],
          [
           "Sumitra Bhave, Sunil Sukthankar",
           "Badha"
          ],
          [
           "Sundar C.",
           "Theeya Velai Seyyanum Kumaru"
          ],
          [
           "Sundar C.",
           "Kalakalappu"
          ],
          [
           "Sunil Thakur",
           "Marriage Palace"
          ],
          [
           "Suparn Verma",
           "Ek Khiladi Ek Haseena"
          ],
          [
           "Supavitra Babul",
           "Bittoo Boss"
          ],
          [
           "Surya S.J., Sunil Kumar Agrawal",
           "Khushi"
          ],
          [
           "Suseenthiran",
           "Genius"
          ],
          [
           "Sushil Majumdar",
           "Lal Patthar"
          ],
          [
           "Swapna Waghmare Joshi",
           "Savita Damodar Paranjpe"
          ],
          [
           "Swapnaneel Jayakar",
           "15-Aug"
          ],
          [
           "Syed Ahmad Afzal",
           "Laal Rang"
          ],
          [
           "Tanuj Bhramar",
           "Dear Dad"
          ],
          [
           "Tanuja Chandra",
           "Qarib Qarib Singlle"
          ],
          [
           "Tanuja Chandra",
           "Sur: The Melody of Life"
          ],
          [
           "Tanveer Khan",
           "Deadline: Sirf 24 Ghante"
          ],
          [
           "Tariq Khan",
           "The Dark Side of Life: Mumbai City"
          ],
          [
           "Tarun Mansukhani",
           "Drive"
          ],
          [
           "Tathagata Banerjee",
           "Mandobasar Galpo"
          ],
          [
           "Tejas Prabha Vijay Deoskar",
           "Bucket List"
          ],
          [
           "Terrie Samundra",
           "Kaali Khuhi"
          ],
          [
           "Tharun Bhascker",
           "Ee Nagaraniki Emaindi"
          ],
          [
           "Thiagarajan Kumararaja",
           "Super Deluxe"
          ],
          [
           "Thiru",
           "Mr. Chandramouli"
          ],
          [
           "Thiru",
           "Naan Sigappu Manithan"
          ],
          [
           "Tigmanshu Dhulia",
           "Paan Singh Tomar"
          ],
          [
           "Tigmanshu Dhulia",
           "Saheb Biwi Aur Gangster Returns"
          ],
          [
           "Tilak Shetty",
           "Krish Trish and Baltiboy: Face Your Fears"
          ],
          [
           "Tinnu Anand",
           "Kaalia"
          ],
          [
           "Trivikram Srinivas",
           "Ala Vaikunthapurramuloo"
          ],
          [
           "Udai Singh Pawar",
           "Upstarts"
          ],
          [
           "Umesh Ghadge",
           "Kyaa Kool Hain Hum 3"
          ],
          [
           "Umesh Mehra",
           "Yaar Gaddar"
          ],
          [
           "Umesh Mehra",
           "Aashik Awara"
          ],
          [
           "Umesh Mehra",
           "Qila"
          ],
          [
           "Umesh Mehra",
           "Jaal"
          ],
          [
           "Umesh Mehra",
           "Mujrim"
          ],
          [
           "Umesh Shukla",
           "Dhoondte Reh Jaoge"
          ],
          [
           "Umesh Shukla",
           "Oh My God"
          ],
          [
           "Uttung Shelar",
           "Aata Pita"
          ],
          [
           "V C Abhilash",
           "Aalorukkam"
          ],
          [
           "V Vignarajan",
           "Andhakaaram"
          ],
          [
           "V. K. Prakash",
           "Ishqedarriyaan"
          ],
          [
           "Vandana Kataria",
           "Noblemen"
          ],
          [
           "Varun Narvekar",
           "Muramba"
          ],
          [
           "Vasan Bala",
           "The Man Who Feels No Pain"
          ],
          [
           "Venkatesh Maha",
           "Uma Maheswara Ugra Roopasya"
          ],
          [
           "Venky Kudumula",
           "Bheeshma"
          ],
          [
           "Venugopan",
           "Sarvopari Palakkaran"
          ],
          [
           "Vetrimaaran",
           "Interrogation"
          ],
          [
           "Vibhu Virender Puri",
           "Hawaizaada"
          ],
          [
           "Vijay",
           "Thaandavam"
          ],
          [
           "Vijay Jayapal",
           "Revelations"
          ],
          [
           "Vijay Kumar",
           "Uriyadi 2"
          ],
          [
           "Vijay Kumar Arora",
           "Baby Dolls"
          ],
          [
           "Vijay Lalwani",
           "Karthik Calling Karthik"
          ],
          [
           "Vijay Maurya",
           "PhotoCopy"
          ],
          [
           "Vijay Milton",
           "​Goli Soda 2"
          ],
          [
           "Vijay Yelakanti",
           "W/O Ram"
          ],
          [
           "Vikas Bahl",
           "Queen"
          ],
          [
           "Vikas Bahl",
           "Magnificent"
          ],
          [
           "Vikas Bahl, Nitesh Tiwari",
           "Chillar Party"
          ],
          [
           "Vikram Bhatt",
           "1920"
          ],
          [
           "Vikram Pradhan",
           "Sat Shri Akaal England"
          ],
          [
           "Vikramaditya Motwane",
           "AK vs AK"
          ],
          [
           "Vikramaditya Motwane",
           "Udaan"
          ],
          [
           "Vikramaditya Motwane",
           "Bhavesh Joshi Superhero"
          ],
          [
           "Vineeth Anil",
           "Kaviyude Osyath"
          ],
          [
           "Vinil Mathew",
           "Hasee Toh Phasee"
          ],
          [
           "Vinod Kapri",
           "Pihu"
          ],
          [
           "Vipin Parashar",
           "Saadey CM Saab"
          ],
          [
           "Vipul Amrutlal Shah",
           "Action Replayy"
          ],
          [
           "Vipul Amrutlal Shah",
           "Namastey London"
          ],
          [
           "Vir Das",
           "Vir Das: Outside In - The Lockdown Special"
          ],
          [
           "Vir Das, Ajay Bhuyan",
           "Vir Das: For India"
          ],
          [
           "Vishal Bhardwaj",
           "Kaminey"
          ],
          [
           "Vishal Bhardwaj",
           "7 Khoon Maaf"
          ],
          [
           "Vishal Bhardwaj",
           "Rangoon"
          ],
          [
           "Vishal Bhardwaj",
           "Haider"
          ],
          [
           "Vishal Bhardwaj",
           "The Blue Umbrella"
          ],
          [
           "Vishal Mahadkar",
           "Blood Money"
          ],
          [
           "Vishal Mishra",
           "Coffee with D"
          ],
          [
           "Vishnu Govindhan",
           "History of Joy"
          ],
          [
           "Vivek Wagh",
           "Siddhant"
          ],
          [
           "Zakariya",
           "Sudani from Nigeria"
          ],
          [
           "Zoya Akhtar",
           "Zindagi Na Milegi Dobara"
          ],
          [
           "Zoya Akhtar",
           "Luck by Chance"
          ],
          [
           "Zoya Akhtar",
           "Dil Dhadakne Do"
          ],
          [
           "Zoya Akhtar, Karan Johar, Anurag Kashyap, Dibakar Banerjee",
           "Lust Stories"
          ],
          [
           "(?)",
           "(?)"
          ],
          [
           "(?)",
           "(?)"
          ],
          [
           "(?)",
           "(?)"
          ],
          [
           "(?)",
           "(?)"
          ],
          [
           "(?)",
           "(?)"
          ],
          [
           "(?)",
           "(?)"
          ],
          [
           "(?)",
           "(?)"
          ],
          [
           "(?)",
           "(?)"
          ],
          [
           "(?)",
           "(?)"
          ],
          [
           "(?)",
           "(?)"
          ],
          [
           "(?)",
           "(?)"
          ],
          [
           "(?)",
           "(?)"
          ],
          [
           "(?)",
           "(?)"
          ],
          [
           "(?)",
           "(?)"
          ],
          [
           "(?)",
           "(?)"
          ],
          [
           "(?)",
           "(?)"
          ],
          [
           "(?)",
           "(?)"
          ],
          [
           "(?)",
           "(?)"
          ],
          [
           "(?)",
           "(?)"
          ],
          [
           "(?)",
           "(?)"
          ],
          [
           "(?)",
           "(?)"
          ],
          [
           "(?)",
           "(?)"
          ],
          [
           "(?)",
           "(?)"
          ],
          [
           "(?)",
           "(?)"
          ],
          [
           "(?)",
           "(?)"
          ],
          [
           "(?)",
           "(?)"
          ],
          [
           "(?)",
           "(?)"
          ],
          [
           "(?)",
           "(?)"
          ],
          [
           "(?)",
           "(?)"
          ],
          [
           "(?)",
           "(?)"
          ],
          [
           "(?)",
           "(?)"
          ],
          [
           "(?)",
           "(?)"
          ],
          [
           "(?)",
           "(?)"
          ],
          [
           "(?)",
           "(?)"
          ],
          [
           "(?)",
           "(?)"
          ],
          [
           "(?)",
           "(?)"
          ],
          [
           "(?)",
           "(?)"
          ],
          [
           "(?)",
           "(?)"
          ],
          [
           "(?)",
           "(?)"
          ],
          [
           "(?)",
           "(?)"
          ],
          [
           "(?)",
           "(?)"
          ],
          [
           "(?)",
           "(?)"
          ],
          [
           "(?)",
           "(?)"
          ],
          [
           "(?)",
           "(?)"
          ],
          [
           "(?)",
           "(?)"
          ],
          [
           "(?)",
           "(?)"
          ],
          [
           "(?)",
           "(?)"
          ],
          [
           "(?)",
           "(?)"
          ],
          [
           "(?)",
           "(?)"
          ],
          [
           "(?)",
           "(?)"
          ],
          [
           "(?)",
           "(?)"
          ],
          [
           "(?)",
           "(?)"
          ],
          [
           "(?)",
           "(?)"
          ],
          [
           "(?)",
           "(?)"
          ],
          [
           "(?)",
           "(?)"
          ],
          [
           "(?)",
           "(?)"
          ],
          [
           "(?)",
           "(?)"
          ],
          [
           "(?)",
           "(?)"
          ],
          [
           "(?)",
           "(?)"
          ],
          [
           "(?)",
           "(?)"
          ],
          [
           "(?)",
           "(?)"
          ],
          [
           "(?)",
           "(?)"
          ],
          [
           "(?)",
           "(?)"
          ],
          [
           "(?)",
           "(?)"
          ],
          [
           "(?)",
           "(?)"
          ],
          [
           "(?)",
           "(?)"
          ],
          [
           "(?)",
           "(?)"
          ],
          [
           "(?)",
           "(?)"
          ],
          [
           "(?)",
           "(?)"
          ],
          [
           "(?)",
           "(?)"
          ],
          [
           "(?)",
           "(?)"
          ],
          [
           "(?)",
           "(?)"
          ],
          [
           "(?)",
           "(?)"
          ],
          [
           "(?)",
           "(?)"
          ],
          [
           "(?)",
           "(?)"
          ],
          [
           "(?)",
           "(?)"
          ],
          [
           "(?)",
           "(?)"
          ],
          [
           "Raj Kapoor",
           "Ram Teri Ganga Maili"
          ],
          [
           "Farah Khan",
           "Happy New Year"
          ],
          [
           "(?)",
           "(?)"
          ],
          [
           "(?)",
           "(?)"
          ],
          [
           "(?)",
           "(?)"
          ],
          [
           "Sooraj R. Barjatya",
           "Hum Aapke Hain Koun"
          ],
          [
           "Ashutosh Gowariker",
           "What's Your Raashee?"
          ],
          [
           "Karan Johar",
           "Kabhi Khushi Kabhie Gham"
          ],
          [
           "Ashutosh Gowariker",
           "Jodhaa Akbar"
          ],
          [
           "Ashutosh Gowariker",
           "Lagaan"
          ],
          [
           "Raj Kapoor",
           "Sangam"
          ],
          [
           "Dhilip Kumar",
           "Kalki"
          ],
          [
           "Vir Das",
           "Vir Das: Outside In - The Lockdown Special"
          ],
          [
           "Kireet Khurana, Padmakumar Narasimhamurthy",
           "Saeed Mirza: The Leftist Sufi"
          ],
          [
           "(?)",
           "(?)"
          ],
          [
           "Tilak Shetty",
           "Krish Trish and Baltiboy: Face Your Fears"
          ],
          [
           "Angshuman Ghosh",
           "Kenny Sebastian: The Most Interesting Person in the Room"
          ],
          [
           "(?)",
           "(?)"
          ],
          [
           "Nishil Sheth",
           "Bhasmasur"
          ],
          [
           "(?)",
           "(?)"
          ],
          [
           "Vir Das, Ajay Bhuyan",
           "Vir Das: For India"
          ],
          [
           "Manjeet Singh",
           "Mumbai Cha Raja"
          ],
          [
           "Kaizad Gustad",
           "Boom"
          ],
          [
           "Pawan K Shrivastava",
           "Life of An Outcast"
          ],
          [
           "Sridhar Rangayan",
           "Breaking Free"
          ],
          [
           "(?)",
           "(?)"
          ],
          [
           "(?)",
           "(?)"
          ],
          [
           "Ribhu Dasgupta",
           "Michael"
          ],
          [
           "(?)",
           "(?)"
          ],
          [
           "(?)",
           "(?)"
          ],
          [
           "(?)",
           "(?)"
          ],
          [
           "(?)",
           "(?)"
          ],
          [
           "(?)",
           "(?)"
          ],
          [
           "(?)",
           "(?)"
          ],
          [
           "(?)",
           "(?)"
          ],
          [
           "(?)",
           "(?)"
          ],
          [
           "(?)",
           "(?)"
          ],
          [
           "(?)",
           "(?)"
          ],
          [
           "(?)",
           "(?)"
          ],
          [
           "(?)",
           "(?)"
          ],
          [
           "(?)",
           "(?)"
          ]
         ],
         "domain": {
          "x": [
           0,
           1
          ],
          "y": [
           0,
           1
          ]
         },
         "hovertemplate": "labels=%{label}<br>count=%{value}<br>parent=%{parent}<br>id=%{id}<br>director=%{customdata[0]}<br>title=%{customdata[1]}<extra></extra>",
         "ids": [
          "131 min/A. L. Vijay",
          "93 min/A. L. Vijay",
          "117 min/A. Raajdheep",
          "134 min/A. Salaam",
          "140 min/A.R. Murugadoss",
          "107 min/Aadish Keluskar",
          "100 min/Aamir Bashir",
          "162 min/Aamir Khan",
          "114 min/Aanand Rai",
          "159 min/Aanand Rai",
          "129 min/Aatmaram Dharne",
          "132 min/Abbas Alibhai Burmawalla, Mastan Alibhai Burmawalla",
          "139 min/Abbas Alibhai Burmawalla, Mastan Alibhai Burmawalla",
          "153 min/Abbas Alibhai Burmawalla, Mastan Alibhai Burmawalla",
          "162 min/Abbas Alibhai Burmawalla, Mastan Alibhai Burmawalla",
          "155 min/Abbas Mustan",
          "147 min/Abbas Tyrewala",
          "105 min/Abhay Chopra",
          "157 min/Abhijeet Deshpande",
          "116 min/Abhijit Kokate, Srivinay Salian",
          "135 min/Abhijit Panse",
          "101 min/Abhinay Deo",
          "123 min/Abhinay Deo",
          "135 min/Abhinay Deo",
          "115 min/Abhishek Chaubey",
          "146 min/Abhishek Chaubey",
          "120 min/Abhishek Kapoor",
          "124 min/Abhishek Kapoor",
          "139 min/Abhishek Kapoor",
          "96 min/Abhishek Saxena",
          "123 min/Abhishek Sharma",
          "124 min/Abhishek Sharma",
          "135 min/Abhishek Sharma",
          "143 min/Abhishek Varman",
          "107 min/Aditya Kripalani",
          "151 min/Aditya Kripalani",
          "136 min/Aditya Sarpotdar",
          "150 min/Aditya Sarpotdar",
          "96 min/Aditya Vikram Sengupta",
          "150 min/Advait Chandan",
          "91 min/Agnidev Chatterjee",
          "125 min/Ahishor Solomon",
          "108 min/Aijaz Khan",
          "99 min/Ajay Bahl",
          "118 min/Ajay Bhuyan, Kunal Kohli",
          "151 min/Ajay Phansekar",
          "153 min/Ajithkumar",
          "111 min/Akashdeep",
          "132 min/Akhil Paul, Anas Khan",
          "102 min/Akshay Akkineni",
          "120 min/Alankrita Shrivastava",
          "141 min/Alo Sarkar",
          "119 min/Amaan Khan",
          "130 min/Amal Neerad",
          "103 min/Amar Gupte",
          "127 min/Amar Kaushik",
          "135 min/Amardeep Singh Gill",
          "129 min/Amarpreet G S Chabbra",
          "127 min/Amit Barot",
          "136 min/Amit Rai",
          "115 min/Amit Roy",
          "115 min/Amit Saxena",
          "101 min/Amitabha Singh",
          "112 min/Amitava Bhattacharya",
          "117 min/Amitoj Mann",
          "126 min/Amitoj Mann",
          "137 min/Amitoj Mann",
          "134 min/Amol Palekar",
          "93 min/Amshan Kumar",
          "103 min/Anand Ravichandran",
          "133 min/Anand Tiwari",
          "116 min/Ananda Krishnan",
          "116 min/Anant Balani",
          "109 min/Ananth Narayan Mahadevan",
          "131 min/Anees Bazmee",
          "144 min/Anees Bazmee",
          "149 min/Anees Bazmee",
          "153 min/Anees Bazmee",
          "156 min/Anees Bazmee",
          "161 min/Anees Bazmee",
          "68 min/Angshuman Ghosh",
          "150 min/Anik Datta",
          "143 min/Anil Sharma",
          "128 min/Anil Thomas",
          "136 min/Anil V. Kumar",
          "130 min/Aniruddha Roy Chowdhury",
          "123 min/Anita Udeep",
          "144 min/Anoop Sathyan",
          "129 min/Anthony D'Souza",
          "139 min/Anthony D'Souza",
          "94 min/Anu Menon",
          "125 min/Anubhav Sinha",
          "126 min/Anurag Basu",
          "144 min/Anurag Basu",
          "150 min/Anurag Basu",
          "155 min/Anurag Basu",
          "114 min/Anurag Kashyap",
          "125 min/Anurag Kashyap",
          "133 min/Anurag Kashyap",
          "137 min/Anurag Kashyap",
          "162 min/Anurag Kashyap",
          "123 min/Anurag Kashyap, Dibakar Banerjee, Karan Johar, Zoya Akhtar",
          "145 min/Anurag Kashyap, Dibakar Banerjee, Karan Johar, Zoya Akhtar",
          "113 min/Anuranjan Premji",
          "109 min/Anusha Rizvi, Mahmood Farooqui",
          "94 min/Anvita Dutt",
          "116 min/Apoorva Lakhia",
          "119 min/Apoorva Lakhia",
          "112 min/Apurva Dhar Badgaiyann",
          "113 min/Arati Kadav",
          "106 min/Arjun Gourisaria, Moinak Biswas",
          "143 min/Arjun Jandyala",
          "91 min/Arnab Chaudhuri",
          "104 min/Arun Chidambaram",
          "124 min/Arun Vaidyanathan",
          "117 min/Aruna Raje",
          "124 min/Ashish R. Mohan",
          "107 min/Ashok Nanda",
          "120 min/Ashok Nanda",
          "130 min/Ashu Trikha",
          "168 min/Ashutosh Gowariker",
          "171 min/Ashutosh Gowariker",
          "185 min/Ashutosh Gowariker",
          "203 min/Ashutosh Gowariker",
          "214 min/Ashutosh Gowariker",
          "224 min/Ashutosh Gowariker",
          "110 min/Ashwiny Iyer Tiwari",
          "100 min/Atanu Ghosh",
          "127 min/Atanu Ghosh",
          "103 min/Atanu Mukherjee",
          "137 min/Atharv Baluja",
          "133 min/Athiyan Athirai",
          "162 min/Atlee Kumar",
          "98 min/Atul Sabharwal",
          "120 min/Avadhoot Gupte",
          "121 min/Avadhoot Gupte",
          "107 min/Avinash Arun",
          "111 min/Avinash Das",
          "75 min/Avinash Walzade",
          "132 min/Ayaan Mukherji",
          "85 min/Ayush Raina",
          "145 min/Aziz Mirza",
          "159 min/Aziz Mirza",
          "166 min/Aziz Mirza",
          "134 min/B. Subhash",
          "133 min/B. Unnikrishnan",
          "157 min/B. V. Nandini Reddy",
          "147 min/B.N. Shajeer Sha",
          "136 min/Baljit Singh Deo",
          "137 min/Balu Mahendra",
          "134 min/Basava Shankar Eeday",
          "104 min/Basu Chatterjee",
          "123 min/Basu Chatterjee",
          "72 min/Bauddhayan Mukherji",
          "126 min/Bejoy Nambiar",
          "98 min/Bejoy Nambiar",
          "137 min/Bhagyaraj",
          "103 min/Bharat Jain",
          "103 min/Bhavin Wadia",
          "113 min/Bhushan Patel",
          "110 min/Binu Ulahhannan",
          "127 min/Biswajeet Bora",
          "87 min/Buddhadev Dasgupta",
          "120 min/Buta Singh",
          "107 min/Chakri Toleti",
          "129 min/Chandan Arora",
          "131 min/Chandra Prakash Dwivedi",
          "118 min/Chandrakant Kanse",
          "126 min/Chandrakant Kulkarni",
          "133 min/Chandrakant Kulkarni",
          "162 min/Chandrakant Kulkarni",
          "89 min/Chandran Narikode",
          "108 min/Danish Aslam",
          "119 min/Dar Gai",
          "114 min/Datta Mohan Bhandare",
          "121 min/David Dhawan",
          "132 min/David Dhawan",
          "133 min/David Dhawan",
          "137 min/David Dhawan",
          "145 min/David Dhawan",
          "150 min/David Dhawan",
          "151 min/David Dhawan",
          "158 min/David Dhawan",
          "118 min/Debaloy Dey",
          "132 min/Debamitra Biswal",
          "118 min/Deep Joshi",
          "121 min/Deepti Naval",
          "160 min/Desingh Periyasamy",
          "83 min/Devaki Singh, Luke Kenny",
          "105 min/Devashish Makhija",
          "135 min/Devika Bhagat",
          "124 min/Dhanush",
          "141 min/Dharmendra Suresh Desai",
          "149 min/Dharmesh Darshan",
          "177 min/Dharmesh Darshan",
          "1 Season/Dheeraj Berry",
          "41 min/Dhilip Kumar",
          "109 min/Dibakar Banerjee",
          "112 min/Dibakar Banerjee",
          "118 min/Dibakar Banerjee",
          "124 min/Dibakar Banerjee",
          "104 min/Dileep Narayanan",
          "83 min/Dylan Mohan Gray",
          "162 min/Eeshwar Nivas",
          "120 min/Emcy Joseph",
          "125 min/Farah Khan",
          "169 min/Farah Khan",
          "171 min/Farah Khan",
          "179 min/Farah Khan",
          "109 min/Faraz Haider",
          "169 min/Farhan Akhtar",
          "185 min/Farhan Akhtar",
          "63 min/Fazila Allana",
          "125 min/Feroz",
          "127 min/Fuwad Khan",
          "109 min/Gafoor Y. Elliyaas",
          "114 min/Gagan Puri",
          "126 min/Gajendra Ahire",
          "92 min/Gajendra Ahire",
          "131 min/Gajendra Ahire, Viju Mane, Girish Mohite, Ravi Jadhav",
          "116 min/Ganesh Kadam",
          "112 min/Gangadhar Salimath",
          "141 min/Gaurav Narayanan",
          "136 min/Gauravv K Chawla",
          "149 min/Gauri Shinde",
          "104 min/Geetu Mohandas",
          "115 min/Girish Joshi",
          "132 min/Girish Malik",
          "133 min/Girish Malik",
          "115 min/Gulzar",
          "96 min/Gurmmeet Singh",
          "148 min/Gurudev Bhalla",
          "106 min/Habib Faisal",
          "133 min/Halitha Shameem",
          "105 min/Hardik Mehta",
          "132 min/Hari Nath",
          "83 min/Hari Viswanath",
          "124 min/Harjit Singh",
          "126 min/Harry Baweja",
          "140 min/Harshavardhan Kulkarni",
          "105 min/Hemant Gaba, Pratim D. Gupta, Sudhish Kamath, Nalan Kumarasamy, Anu Menon, Sandeep Mohan, Qaushiq Mukherjee, Rajshree Ojha, Raja Sen, Abhinav Shiv Tiwari, Suparn Verma",
          "150 min/Honey Trehan",
          "120 min/Hrishikesh Mukherjee",
          "125 min/Hrishikesh Mukherjee",
          "127 min/Hrishikesh Mukherjee",
          "137 min/Hrishikesh Mukherjee",
          "127 min/Imtiaz Ali",
          "133 min/Imtiaz Ali",
          "137 min/Imtiaz Ali",
          "140 min/Imtiaz Ali",
          "142 min/Imtiaz Ali",
          "143 min/Imtiaz Ali",
          "127 min/Indra Kumar",
          "128 min/Indra Kumar",
          "165 min/Indra Kumar",
          "173 min/Indra Kumar",
          "93 min/Indra Kumar",
          "117 min/Indrajit Nattoji",
          "127 min/Indrasis Acharya",
          "108 min/Ishaan Trivedi",
          "97 min/Ivan Ayr",
          "137 min/Jagdeep Sidhu",
          "103 min/Jaivi Dhanda",
          "123 min/Jasbir Bijendra Bhati",
          "93 min/Jasmine D'Souza",
          "110 min/Jatla Siddartha",
          "117 min/Jayan Vannery",
          "109 min/Jayaprakash Radhakrishnan",
          "88 min/Jayaraj Rajasekharan Nair",
          "101 min/Jeethu Joseph",
          "148 min/Jeethu Joseph",
          "134 min/Jeeva",
          "105 min/Jijo Pancode",
          "113 min/Jitender Pawar",
          "122 min/Jitendra Tiwari, Pranav Singh",
          "151 min/Johnson Esthappan",
          "107 min/Jonathan Augustin",
          "116 min/K. Gopinathan",
          "143 min/K. Ramanlal",
          "141 min/K. Subhash",
          "107 min/K.C. Bokadia",
          "134 min/KVR Mahendra",
          "129 min/Kabir Khan",
          "112 min/Kabir Sadanand",
          "128 min/Kabir Sadanand",
          "79 min/Kaizad Gustad",
          "141 min/Kamal Sahani",
          "92 min/Kanika Batra",
          "134 min/Karan Anshuman",
          "185 min/Karan Johar",
          "192 min/Karan Johar",
          "209 min/Karan Johar",
          "97 min/Karan Shivajirao Chavan, Vikram Tanajirao Patil",
          "170 min/Karthik Subbaraj",
          "137 min/Kedar Shinde",
          "151 min/Kedar Shinde",
          "124 min/Keerthi",
          "117 min/Ken Ghosh",
          "121 min/Ken Ghosh",
          "129 min/Ken Ghosh",
          "114 min/Ketan Mehta",
          "154 min/Ketan Mehta",
          "163 min/Khalid Mohamed",
          "122 min/Kiran Narayanan",
          "102 min/Kiran Rao",
          "61 min/Kireet Khurana, Padmakumar Narasimhamurthy",
          "147 min/Kranthi Madhav",
          "110 min/Kranti Kanade",
          "132 min/Kranti Redkar",
          "128 min/Krish",
          "168 min/Krishna Vamshi",
          "128 min/Ksshitij Chaudhary",
          "132 min/Ksshitij Chaudhary",
          "124 min/Kumaran",
          "131 min/Kunal Deshmukh",
          "117 min/Kunal Kohli",
          "117 min/Kundan Shah",
          "149 min/Kundan Shah",
          "151 min/Kundan Shah",
          "176 min/Kundan Shah",
          "113 min/Kushal Srivastava",
          "125 min/Laxman Utekar",
          "119 min/Leena Yadav",
          "137 min/Leena Yadav",
          "146 min/Leena Yadav",
          "116 min/Lekh Tandon",
          "152 min/Lekh Tandon",
          "163 min/Lekh Tandon",
          "115 min/Lenin Bharathi",
          "128 min/Lijo Jose Pellissery",
          "136 min/Luv Ranjan",
          "149 min/Luv Ranjan",
          "116 min/Madhumita",
          "126 min/Madhur Bhandarkar",
          "130 min/Madhur Bhandarkar",
          "132 min/Madhur Bhandarkar",
          "143 min/Madhur Bhandarkar",
          "158 min/Madhur Bhandarkar",
          "142 min/Maha Venkatesh",
          "148 min/Mahesh Bhatt",
          "149 min/Mahesh Bhatt",
          "165 min/Mahesh Bhatt",
          "112 min/Mahesh Manjrekar",
          "116 min/Mahesh Manjrekar",
          "127 min/Mahesh Manjrekar",
          "145 min/Mahesh Manjrekar",
          "165 min/Mahesh Manjrekar",
          "103 min/Makarand Mane",
          "130 min/Makarand Mane",
          "116 min/Manav Shah",
          "118 min/Manbhavan Singh",
          "127 min/Mandeep Kumar",
          "133 min/Mangesh Hadawale",
          "140 min/Mangesh Kanthale",
          "155 min/Mani Ratnam",
          "160 min/Mani Ratnam",
          "166 min/Mani Ratnam",
          "117 min/Manika Sharma",
          "117 min/Manish Gupta",
          "118 min/Manish Jha",
          "134 min/Manish Jha",
          "127 min/Manish Saini",
          "140 min/Manish Tiwary",
          "145 min/Manjeet Maan",
          "77 min/Manjeet Singh",
          "172 min/Manmohan Desai",
          "145 min/Manoj Beedha",
          "114 min/Mansore",
          "119 min/Manu Ashokan",
          "155 min/Mastan Alibhai Burmawalla, Abbas Alibhai Burmawalla",
          "92 min/Megha Ramaswamy",
          "150 min/Midhun Manuel Thomas",
          "128 min/Mikhil Musale",
          "140 min/Mikhil Musale",
          "109 min/Milan Luthria",
          "133 min/Milan Luthria",
          "135 min/Milan Luthria",
          "142 min/Milan Luthria",
          "125 min/Milind Dhaimade",
          "135 min/Milind Rau",
          "132 min/Mohammed Hussain",
          "129 min/Mohit Suri",
          "131 min/Mohit Suri",
          "111 min/Mozez Singh",
          "135 min/Mrighdeep Singh Lamba",
          "133 min/Mukesh Vohra",
          "173 min/Mukul Anand",
          "174 min/Mukul Anand",
          "109 min/Munish Bhardwaj",
          "112 min/Musthafa",
          "143 min/Mysskin",
          "150 min/Mysskin",
          "137 min/N. Chandra",
          "146 min/N. Linguswamy",
          "156 min/N. Linguswamy",
          "102 min/Nagesh Kukunoor",
          "114 min/Nagesh Kukunoor",
          "115 min/Nagesh Kukunoor",
          "127 min/Nagesh Kukunoor",
          "102 min/Nagraj Manjule",
          "173 min/Nagraj Manjule",
          "135 min/Naman Nitin Mukesh",
          "114 min/Nandita Das",
          "136 min/Narendra Nath",
          "143 min/Naresh Saigal",
          "135 min/Navaniat Singh",
          "129 min/Navdeep Singh",
          "139 min/Navinder Pal Singh",
          "101 min/Navjot Gulati",
          "111 min/Navneet Behal",
          "103 min/Neeraj Pandey",
          "137 min/Neeraj Pandey",
          "158 min/Neeraj Pandey",
          "112 min/Neeraj Udhwani",
          "150 min/Neeraj Vora",
          "72 min/Neville Shah",
          "101 min/Nicholas Kharkongor",
          "89 min/Nicholas Kharkongor",
          "122 min/Nidhi Sharma",
          "132 min/Nikhil Advani",
          "140 min/Nikhil Advani",
          "100 min/Nikhil Nagesh Bhat",
          "187 min/Nikkhil Advani",
          "111 min/Nila Madhab Panda",
          "87 min/Nila Madhab Panda",
          "94 min/Nila Madhab Panda",
          "121 min/Nishanth Ravindaran, Jathin Sanker Raj",
          "161 min/Nisheeta Keni",
          "119 min/Nishikant Kamat",
          "134 min/Nishikant Kamat",
          "135 min/Nishikant Kamat",
          "162 min/Nishikant Kamat",
          "74 min/Nishil Sheth",
          "161 min/Nitesh Tiwari",
          "1 Season/Nizar Shafi",
          "126 min/Noushad",
          "120 min/Omung Kumar",
          "110 min/Onir",
          "116 min/Onir",
          "130 min/P.K. Baaburaaj",
          "125 min/P.T. Kunju Muhammad",
          "148 min/Pa. Ranjith",
          "104 min/Padmakumar Narasimhamurthy",
          "120 min/Pankaj Batra",
          "121 min/Pankaj Batra",
          "120 min/Param Gill",
          "131 min/Parambrata Chatterjee",
          "155 min/Parambrata Chatterjee",
          "99 min/Paresh Mokashi",
          "114 min/Paritosh Painter",
          "110 min/Partha Chakraborty",
          "103 min/Parthiban",
          "161 min/Partho Ghosh",
          "135 min/Partho Mitra",
          "121 min/Parveen Kumar",
          "1 Season/Patrick Graham",
          "80 min/Pawan K Shrivastava",
          "93 min/Pawan Kripalani",
          "121 min/Pawan Kumar",
          "177 min/Phanindra Narsetti",
          "113 min/Pooja Bhatt",
          "137 min/Prabhu Deva",
          "110 min/Prabhuraj",
          "121 min/Pradeep Verma",
          "107 min/Pradip Kurbah",
          "110 min/Prakash Balwant Saini",
          "146 min/Prakash Jha",
          "148 min/Prakash Jha",
          "161 min/Prakash Jha",
          "162 min/Prakash Jha",
          "164 min/Prakash Jha",
          "96 min/Prakash Kunte",
          "156 min/Prakash Mehra",
          "171 min/Prakash Mehra",
          "172 min/Prakash Mehra",
          "128 min/Pramod Pawar",
          "111 min/Prasanth Varma",
          "96 min/Prashant Nair",
          "85 min/Prasobh Vijayan",
          "118 min/Pratim D. Gupta",
          "163 min/Praveen Nischol",
          "116 min/Prawal Raman",
          "109 min/Prem Soni",
          "101 min/Priyadarshan",
          "132 min/Priyadarshan",
          "148 min/Priyadarshan",
          "151 min/Priyadarshan",
          "158 min/Priyadarshan, Kookie V. Gulati",
          "94 min/Pulkit",
          "126 min/Puneet Khanna",
          "101 min/Puneet Sira",
          "128 min/Punit Malhotra",
          "144 min/Punit Malhotra",
          "116 min/Puri Jagannadh",
          "109 min/Qaushiq Mukherjee",
          "113 min/Qaushiq Mukherjee",
          "130 min/R. Balki",
          "123 min/R. Kannan",
          "100 min/Raaghav Dar",
          "131 min/Radhika Rao, Vinay Sapru",
          "75 min/Rahat Kazmi",
          "143 min/Rahul Dholakia",
          "152 min/Rahul Ravindran",
          "133 min/Rai Yuvraj Bains",
          "132 min/Raj B. Shetty",
          "126 min/Raj Babu",
          "149 min/Raj Kanwar",
          "168 min/Raj Kapoor",
          "178 min/Raj Kapoor",
          "228 min/Raj Kapoor",
          "122 min/Raj Kaushal",
          "161 min/Raj Khosla",
          "129 min/Raj Kumar Gupta",
          "131 min/Raj Kumar Gupta",
          "95 min/Raj Kumar Gupta",
          "153 min/Raj N. Sippy",
          "106 min/Raj Nidimoru, Krishna D.K.",
          "131 min/Raj R",
          "137 min/Raja Chanda",
          "95 min/Raja Menon",
          "134 min/Rajan Madhav",
          "104 min/Rajat Kapoor",
          "97 min/Rajat Kapoor",
          "115 min/Rajeev Chaudhari",
          "122 min/Rajeev Patil",
          "103 min/Rajesh Ganguly",
          "133 min/Rajesh Mapuskar",
          "122 min/Rajesh Touchriver",
          "87 min/Rajiv Chilaka",
          "112 min/Rajiv Chilaka, Binayak Das",
          "142 min/Rajiv Mehra",
          "148 min/Rajiv Mehra",
          "151 min/Rajiv Mehra",
          "153 min/Rajiv Mehra",
          "164 min/Rajiv Mehra",
          "131 min/Rajiv Menon",
          "146 min/Rajkumar Hirani",
          "159 min/Rajkumar Hirani",
          "164 min/Rajkumar Hirani",
          "150 min/Rajkumar Santoshi",
          "156 min/Rajkumar Santoshi",
          "160 min/Rajkumar Santoshi",
          "163 min/Rajkumar Santoshi",
          "165 min/Rajkumar Santoshi",
          "166 min/Rajkumar Santoshi",
          "109 min/Rakesh Mehta",
          "107 min/Rakesh Ranjan Kumar",
          "103 min/Rakeysh Omprakash Mehra",
          "128 min/Rakeysh Omprakash Mehra",
          "129 min/Rakeysh Omprakash Mehra",
          "159 min/Rakeysh Omprakash Mehra",
          "126 min/Rakshith Thirthahalli",
          "148 min/Ram",
          "114 min/Ram Gopal Varma",
          "116 min/Ram Gopal Varma",
          "117 min/Ram Gopal Varma",
          "137 min/Ram Gopal Varma",
          "168 min/Ram Gopal Varma",
          "97 min/Ram Gopal Varma",
          "118 min/Raman Kumar",
          "121 min/Ramesh Sippy",
          "170 min/Ramesh Talwar",
          "123 min/Rana Ranbir",
          "120 min/Ranjit Jeyakodi",
          "144 min/Ranjit Tiwari",
          "110 min/Ravi Babu",
          "139 min/Ravi Udyawar",
          "126 min/Ravikanth Perepu",
          "85 min/Ravishankar Venkateswaran",
          "119 min/Reema Kagti",
          "140 min/Reema Kagti",
          "136 min/Remo D'Souza",
          "142 min/Remo D'Souza",
          "146 min/Remo D'Souza",
          "126 min/Remy Kohli",
          "114 min/Renzil D'Silva",
          "147 min/Renzil D'Silva",
          "128 min/Ribhu Dasgupta",
          "86 min/Ribhu Dasgupta",
          "98 min/Rikhil Bahadur",
          "95 min/Rima Das",
          "141 min/Robbie Grewal",
          "129 min/Rohan Sippy",
          "142 min/Rohit Jugraj",
          "151 min/Rohit Jugraj",
          "97 min/Rohit Mittal",
          "135 min/Rohit Shetty",
          "142 min/Rohit Shetty",
          "148 min/Rohit Shetty",
          "154 min/Rohit Shetty",
          "120 min/Ruchi Narain",
          "159 min/S.S. Rajamouli",
          "165 min/S.S. Rajamouli",
          "163 min/Saandeep Patel",
          "99 min/Sabal Singh Shekawat",
          "127 min/Sabir Khan",
          "88 min/Sabu Varghese",
          "124 min/Sachin",
          "132 min/Sachin",
          "115 min/Sachin Kamlakar Khot",
          "151 min/Sachin Kundalkar",
          "101 min/Sachin Yardi",
          "127 min/Sachin Yardi",
          "92 min/Safdar Rahman",
          "121 min/Sagar Sarhadi",
          "104 min/Saheed Arafath",
          "140 min/Sai Paranjape",
          "150 min/Saji Surendran",
          "140 min/Sajid Khan",
          "140 min/Saket Behl",
          "120 min/Saket Chaudhary",
          "135 min/Samar Khan",
          "116 min/Samar Shaikh",
          "138 min/Sameer Patil",
          "129 min/Sameer Sharma",
          "125 min/Sameer Vidwans",
          "132 min/Sameer Vidwans",
          "165 min/Samir Karnik",
          "92 min/Samir Soni",
          "90 min/Samit Kakkad",
          "99 min/Sandeep Chatterjee",
          "171 min/Sandeep Reddy Vanga",
          "147 min/Sangeeth Sivan",
          "165 min/Sangeeth Sivan",
          "154 min/Sanjay Dayma",
          "139 min/Sanjay Gupta",
          "113 min/Sanjay Jadhav",
          "150 min/Sanjay Jadhav",
          "121 min/Sanjay Leela Bhansali",
          "152 min/Sanjay Soorkar",
          "95 min/Sanjeev Gupta",
          "128 min/Sanjib Dey",
          "117 min/Sanjiv Jaiswal",
          "148 min/Santosh Manjrekar",
          "168 min/Santosh Sivan",
          "95 min/Santosh Sivan",
          "124 min/Santram Varma",
          "117 min/Santwana Bardoloi",
          "132 min/Saravana Rajan",
          "126 min/Saravana Rajendran",
          "127 min/Sarjun",
          "130 min/Sartaj Singh Pannu",
          "102 min/Sarthak Dasgupta",
          "125 min/Sathyan Anthikad",
          "137 min/Satish Kaushik",
          "158 min/Satish Kaushik",
          "99 min/Satish Manwar",
          "107 min/Satish Rajwade",
          "127 min/Satish Rajwade",
          "133 min/Satish Rajwade",
          "104 min/Satyajit Bhatkal",
          "141 min/Satyajit Bhatkal",
          "128 min/Saurabh Kabra",
          "118 min/Saurabh Sinha",
          "118 min/Saurav Palodhi",
          "130 min/Sekhar Kammula",
          "94 min/Selvamani Selvaraj",
          "131 min/Shaad Ali",
          "126 min/Shadab Khan",
          "161 min/Shakti Samanta",
          "106 min/Shakun Batra",
          "138 min/Shakun Batra",
          "162 min/Shammi Kapoor",
          "110 min/Shamzu Zayba",
          "139 min/Shanavas K. Bavakutty",
          "104 min/Shanawaz Nellikunnil",
          "106 min/Shanker Raman",
          "113 min/Sharan Sharma",
          "131 min/Shashank Khaitan",
          "121 min/Shashanka Ghosh",
          "105 min/Shashanka Ghosh, Samit Basu",
          "160 min/Shashilal K. Nair",
          "96 min/Shawn Arranha",
          "138 min/Shekhar Kapur",
          "120 min/Shelly Chopra Dhar",
          "107 min/Shirish Kunder",
          "163 min/Shirish Kunder",
          "98 min/Shirish Kunder",
          "122 min/Shivam Nair",
          "141 min/Shivam Nair",
          "156 min/Shivendra Singh Dungarpur",
          "93 min/Shlok Sharma",
          "94 min/Shlok Sharma",
          "128 min/Shoojit Sircar",
          "118 min/Shravan Kumar",
          "145 min/Shree Narayan Singh",
          "128 min/Shreyas Talpade",
          "89 min/Shrihari Sathe",
          "125 min/Shubham Singh",
          "131 min/Shyam Benegal",
          "134 min/Shyam Benegal",
          "135 min/Shyam Benegal",
          "155 min/Shyam Benegal",
          "130 min/Siddique",
          "140 min/Simranjit Singh Hundal",
          "117 min/Smeep Kang",
          "90 min/Smeep Kang",
          "130 min/Sneha Taurani",
          "126 min/Sohail Khan",
          "127 min/Sohail Tatari",
          "126 min/Soham Shah",
          "117 min/Sooni Taraporevala",
          "164 min/Sooraj R. Barjatya",
          "166 min/Sooraj R. Barjatya",
          "176 min/Sooraj R. Barjatya",
          "192 min/Sooraj R. Barjatya",
          "193 min/Sooraj R. Barjatya",
          "119 min/Soukarya Ghosal",
          "1 Season/Soumendra Padhi",
          "95 min/Soumendra Padhi",
          "85 min/Soumitra Ranade",
          "102 min/Sridhar Rangayan",
          "81 min/Sridhar Rangayan",
          "134 min/Sriram Raghavan",
          "137 min/Sriram Raghavan",
          "170 min/Subhash Ghai",
          "171 min/Subhash Ghai",
          "177 min/Subhash Ghai",
          "187 min/Subhash Ghai",
          "115 min/Sudesh Manjrekar",
          "132 min/Sudesh Manjrekar, Atul Kale",
          "1 Season/Sudha Kongara, Vignesh Shivan, Gautham Vasudev Menon, Vetri Maaran",
          "89 min/Sudhanshu Saria",
          "102 min/Sudhir Mishra",
          "115 min/Sudhir Mishra",
          "125 min/Sudhir Mishra",
          "95 min/Sudip Bandyopadhyay",
          "124 min/Sudipto Roy",
          "109 min/Suhas Kadav",
          "172 min/Sujeeth",
          "117 min/Sujoy Ghosh",
          "122 min/Sujoy Ghosh",
          "131 min/Sujoy Ghosh",
          "133 min/Sukhbir Singh",
          "119 min/Suman Mukhopadhyay",
          "63 min/Sumit Das",
          "120 min/Sumitra Bhave, Sunil Sukthankar",
          "123 min/Sumitra Bhave, Sunil Sukthankar",
          "91 min/Sumitra Bhave, Sunil Sukthankar",
          "132 min/Sundar C.",
          "154 min/Sundar C.",
          "135 min/Sunil Thakur",
          "141 min/Suparn Verma",
          "117 min/Supavitra Babul",
          "157 min/Surya S.J., Sunil Kumar Agrawal",
          "96 min/Suseenthiran",
          "153 min/Sushil Majumdar",
          "119 min/Swapna Waghmare Joshi",
          "124 min/Swapnaneel Jayakar",
          "143 min/Syed Ahmad Afzal",
          "83 min/Tanuj Bhramar",
          "120 min/Tanuja Chandra",
          "137 min/Tanuja Chandra",
          "97 min/Tanveer Khan",
          "121 min/Tariq Khan",
          "119 min/Tarun Mansukhani",
          "103 min/Tathagata Banerjee",
          "129 min/Tejas Prabha Vijay Deoskar",
          "91 min/Terrie Samundra",
          "133 min/Tharun Bhascker",
          "176 min/Thiagarajan Kumararaja",
          "131 min/Thiru",
          "147 min/Thiru",
          "129 min/Tigmanshu Dhulia",
          "139 min/Tigmanshu Dhulia",
          "65 min/Tilak Shetty",
          "173 min/Tinnu Anand",
          "162 min/Trivikram Srinivas",
          "112 min/Udai Singh Pawar",
          "124 min/Umesh Ghadge",
          "148 min/Umesh Mehra",
          "154 min/Umesh Mehra",
          "161 min/Umesh Mehra",
          "162 min/Umesh Mehra",
          "163 min/Umesh Mehra",
          "124 min/Umesh Shukla",
          "129 min/Umesh Shukla",
          "133 min/Uttung Shelar",
          "122 min/V C Abhilash",
          "171 min/V Vignarajan",
          "130 min/V. K. Prakash",
          "109 min/Vandana Kataria",
          "128 min/Varun Narvekar",
          "137 min/Vasan Bala",
          "137 min/Venkatesh Maha",
          "138 min/Venky Kudumula",
          "133 min/Venugopan",
          "116 min/Vetrimaaran",
          "129 min/Vibhu Virender Puri",
          "156 min/Vijay",
          "118 min/Vijay Jayapal",
          "116 min/Vijay Kumar",
          "127 min/Vijay Kumar Arora",
          "135 min/Vijay Lalwani",
          "138 min/Vijay Maurya",
          "128 min/Vijay Milton",
          "115 min/Vijay Yelakanti",
          "138 min/Vikas Bahl",
          "143 min/Vikas Bahl",
          "127 min/Vikas Bahl, Nitesh Tiwari",
          "143 min/Vikram Bhatt",
          "127 min/Vikram Pradhan",
          "109 min/Vikramaditya Motwane",
          "137 min/Vikramaditya Motwane",
          "150 min/Vikramaditya Motwane",
          "116 min/Vineeth Anil",
          "135 min/Vinil Mathew",
          "90 min/Vinod Kapri",
          "131 min/Vipin Parashar",
          "129 min/Vipul Amrutlal Shah",
          "130 min/Vipul Amrutlal Shah",
          "50 min/Vir Das",
          "76 min/Vir Das, Ajay Bhuyan",
          "128 min/Vishal Bhardwaj",
          "148 min/Vishal Bhardwaj",
          "153 min/Vishal Bhardwaj",
          "154 min/Vishal Bhardwaj",
          "90 min/Vishal Bhardwaj",
          "110 min/Vishal Mahadkar",
          "120 min/Vishal Mishra",
          "118 min/Vishnu Govindhan",
          "105 min/Vivek Wagh",
          "115 min/Zakariya",
          "154 min/Zoya Akhtar",
          "156 min/Zoya Akhtar",
          "174 min/Zoya Akhtar",
          "121 min/Zoya Akhtar, Karan Johar, Anurag Kashyap, Dibakar Banerjee",
          "1 Season",
          "100 min",
          "101 min",
          "102 min",
          "103 min",
          "104 min",
          "105 min",
          "106 min",
          "107 min",
          "108 min",
          "109 min",
          "110 min",
          "111 min",
          "112 min",
          "113 min",
          "114 min",
          "115 min",
          "116 min",
          "117 min",
          "118 min",
          "119 min",
          "120 min",
          "121 min",
          "122 min",
          "123 min",
          "124 min",
          "125 min",
          "126 min",
          "127 min",
          "128 min",
          "129 min",
          "130 min",
          "131 min",
          "132 min",
          "133 min",
          "134 min",
          "135 min",
          "136 min",
          "137 min",
          "138 min",
          "139 min",
          "140 min",
          "141 min",
          "142 min",
          "143 min",
          "144 min",
          "145 min",
          "146 min",
          "147 min",
          "148 min",
          "149 min",
          "150 min",
          "151 min",
          "152 min",
          "153 min",
          "154 min",
          "155 min",
          "156 min",
          "157 min",
          "158 min",
          "159 min",
          "160 min",
          "161 min",
          "162 min",
          "163 min",
          "164 min",
          "165 min",
          "166 min",
          "168 min",
          "169 min",
          "170 min",
          "171 min",
          "172 min",
          "173 min",
          "174 min",
          "176 min",
          "177 min",
          "178 min",
          "179 min",
          "185 min",
          "187 min",
          "192 min",
          "193 min",
          "203 min",
          "209 min",
          "214 min",
          "224 min",
          "228 min",
          "41 min",
          "50 min",
          "61 min",
          "63 min",
          "65 min",
          "68 min",
          "72 min",
          "74 min",
          "75 min",
          "76 min",
          "77 min",
          "79 min",
          "80 min",
          "81 min",
          "83 min",
          "85 min",
          "86 min",
          "87 min",
          "88 min",
          "89 min",
          "90 min",
          "91 min",
          "92 min",
          "93 min",
          "94 min",
          "95 min",
          "96 min",
          "97 min",
          "98 min",
          "99 min"
         ],
         "labels": [
          "A. L. Vijay",
          "A. L. Vijay",
          "A. Raajdheep",
          "A. Salaam",
          "A.R. Murugadoss",
          "Aadish Keluskar",
          "Aamir Bashir",
          "Aamir Khan",
          "Aanand Rai",
          "Aanand Rai",
          "Aatmaram Dharne",
          "Abbas Alibhai Burmawalla, Mastan Alibhai Burmawalla",
          "Abbas Alibhai Burmawalla, Mastan Alibhai Burmawalla",
          "Abbas Alibhai Burmawalla, Mastan Alibhai Burmawalla",
          "Abbas Alibhai Burmawalla, Mastan Alibhai Burmawalla",
          "Abbas Mustan",
          "Abbas Tyrewala",
          "Abhay Chopra",
          "Abhijeet Deshpande",
          "Abhijit Kokate, Srivinay Salian",
          "Abhijit Panse",
          "Abhinay Deo",
          "Abhinay Deo",
          "Abhinay Deo",
          "Abhishek Chaubey",
          "Abhishek Chaubey",
          "Abhishek Kapoor",
          "Abhishek Kapoor",
          "Abhishek Kapoor",
          "Abhishek Saxena",
          "Abhishek Sharma",
          "Abhishek Sharma",
          "Abhishek Sharma",
          "Abhishek Varman",
          "Aditya Kripalani",
          "Aditya Kripalani",
          "Aditya Sarpotdar",
          "Aditya Sarpotdar",
          "Aditya Vikram Sengupta",
          "Advait Chandan",
          "Agnidev Chatterjee",
          "Ahishor Solomon",
          "Aijaz Khan",
          "Ajay Bahl",
          "Ajay Bhuyan, Kunal Kohli",
          "Ajay Phansekar",
          "Ajithkumar",
          "Akashdeep",
          "Akhil Paul, Anas Khan",
          "Akshay Akkineni",
          "Alankrita Shrivastava",
          "Alo Sarkar",
          "Amaan Khan",
          "Amal Neerad",
          "Amar Gupte",
          "Amar Kaushik",
          "Amardeep Singh Gill",
          "Amarpreet G S Chabbra",
          "Amit Barot",
          "Amit Rai",
          "Amit Roy",
          "Amit Saxena",
          "Amitabha Singh",
          "Amitava Bhattacharya",
          "Amitoj Mann",
          "Amitoj Mann",
          "Amitoj Mann",
          "Amol Palekar",
          "Amshan Kumar",
          "Anand Ravichandran",
          "Anand Tiwari",
          "Ananda Krishnan",
          "Anant Balani",
          "Ananth Narayan Mahadevan",
          "Anees Bazmee",
          "Anees Bazmee",
          "Anees Bazmee",
          "Anees Bazmee",
          "Anees Bazmee",
          "Anees Bazmee",
          "Angshuman Ghosh",
          "Anik Datta",
          "Anil Sharma",
          "Anil Thomas",
          "Anil V. Kumar",
          "Aniruddha Roy Chowdhury",
          "Anita Udeep",
          "Anoop Sathyan",
          "Anthony D'Souza",
          "Anthony D'Souza",
          "Anu Menon",
          "Anubhav Sinha",
          "Anurag Basu",
          "Anurag Basu",
          "Anurag Basu",
          "Anurag Basu",
          "Anurag Kashyap",
          "Anurag Kashyap",
          "Anurag Kashyap",
          "Anurag Kashyap",
          "Anurag Kashyap",
          "Anurag Kashyap, Dibakar Banerjee, Karan Johar, Zoya Akhtar",
          "Anurag Kashyap, Dibakar Banerjee, Karan Johar, Zoya Akhtar",
          "Anuranjan Premji",
          "Anusha Rizvi, Mahmood Farooqui",
          "Anvita Dutt",
          "Apoorva Lakhia",
          "Apoorva Lakhia",
          "Apurva Dhar Badgaiyann",
          "Arati Kadav",
          "Arjun Gourisaria, Moinak Biswas",
          "Arjun Jandyala",
          "Arnab Chaudhuri",
          "Arun Chidambaram",
          "Arun Vaidyanathan",
          "Aruna Raje",
          "Ashish R. Mohan",
          "Ashok Nanda",
          "Ashok Nanda",
          "Ashu Trikha",
          "Ashutosh Gowariker",
          "Ashutosh Gowariker",
          "Ashutosh Gowariker",
          "Ashutosh Gowariker",
          "Ashutosh Gowariker",
          "Ashutosh Gowariker",
          "Ashwiny Iyer Tiwari",
          "Atanu Ghosh",
          "Atanu Ghosh",
          "Atanu Mukherjee",
          "Atharv Baluja",
          "Athiyan Athirai",
          "Atlee Kumar",
          "Atul Sabharwal",
          "Avadhoot Gupte",
          "Avadhoot Gupte",
          "Avinash Arun",
          "Avinash Das",
          "Avinash Walzade",
          "Ayaan Mukherji",
          "Ayush Raina",
          "Aziz Mirza",
          "Aziz Mirza",
          "Aziz Mirza",
          "B. Subhash",
          "B. Unnikrishnan",
          "B. V. Nandini Reddy",
          "B.N. Shajeer Sha",
          "Baljit Singh Deo",
          "Balu Mahendra",
          "Basava Shankar Eeday",
          "Basu Chatterjee",
          "Basu Chatterjee",
          "Bauddhayan Mukherji",
          "Bejoy Nambiar",
          "Bejoy Nambiar",
          "Bhagyaraj",
          "Bharat Jain",
          "Bhavin Wadia",
          "Bhushan Patel",
          "Binu Ulahhannan",
          "Biswajeet Bora",
          "Buddhadev Dasgupta",
          "Buta Singh",
          "Chakri Toleti",
          "Chandan Arora",
          "Chandra Prakash Dwivedi",
          "Chandrakant Kanse",
          "Chandrakant Kulkarni",
          "Chandrakant Kulkarni",
          "Chandrakant Kulkarni",
          "Chandran Narikode",
          "Danish Aslam",
          "Dar Gai",
          "Datta Mohan Bhandare",
          "David Dhawan",
          "David Dhawan",
          "David Dhawan",
          "David Dhawan",
          "David Dhawan",
          "David Dhawan",
          "David Dhawan",
          "David Dhawan",
          "Debaloy Dey",
          "Debamitra Biswal",
          "Deep Joshi",
          "Deepti Naval",
          "Desingh Periyasamy",
          "Devaki Singh, Luke Kenny",
          "Devashish Makhija",
          "Devika Bhagat",
          "Dhanush",
          "Dharmendra Suresh Desai",
          "Dharmesh Darshan",
          "Dharmesh Darshan",
          "Dheeraj Berry",
          "Dhilip Kumar",
          "Dibakar Banerjee",
          "Dibakar Banerjee",
          "Dibakar Banerjee",
          "Dibakar Banerjee",
          "Dileep Narayanan",
          "Dylan Mohan Gray",
          "Eeshwar Nivas",
          "Emcy Joseph",
          "Farah Khan",
          "Farah Khan",
          "Farah Khan",
          "Farah Khan",
          "Faraz Haider",
          "Farhan Akhtar",
          "Farhan Akhtar",
          "Fazila Allana",
          "Feroz",
          "Fuwad Khan",
          "Gafoor Y. Elliyaas",
          "Gagan Puri",
          "Gajendra Ahire",
          "Gajendra Ahire",
          "Gajendra Ahire, Viju Mane, Girish Mohite, Ravi Jadhav",
          "Ganesh Kadam",
          "Gangadhar Salimath",
          "Gaurav Narayanan",
          "Gauravv K Chawla",
          "Gauri Shinde",
          "Geetu Mohandas",
          "Girish Joshi",
          "Girish Malik",
          "Girish Malik",
          "Gulzar",
          "Gurmmeet Singh",
          "Gurudev Bhalla",
          "Habib Faisal",
          "Halitha Shameem",
          "Hardik Mehta",
          "Hari Nath",
          "Hari Viswanath",
          "Harjit Singh",
          "Harry Baweja",
          "Harshavardhan Kulkarni",
          "Hemant Gaba, Pratim D. Gupta, Sudhish Kamath, Nalan Kumarasamy, Anu Menon, Sandeep Mohan, Qaushiq Mukherjee, Rajshree Ojha, Raja Sen, Abhinav Shiv Tiwari, Suparn Verma",
          "Honey Trehan",
          "Hrishikesh Mukherjee",
          "Hrishikesh Mukherjee",
          "Hrishikesh Mukherjee",
          "Hrishikesh Mukherjee",
          "Imtiaz Ali",
          "Imtiaz Ali",
          "Imtiaz Ali",
          "Imtiaz Ali",
          "Imtiaz Ali",
          "Imtiaz Ali",
          "Indra Kumar",
          "Indra Kumar",
          "Indra Kumar",
          "Indra Kumar",
          "Indra Kumar",
          "Indrajit Nattoji",
          "Indrasis Acharya",
          "Ishaan Trivedi",
          "Ivan Ayr",
          "Jagdeep Sidhu",
          "Jaivi Dhanda",
          "Jasbir Bijendra Bhati",
          "Jasmine D'Souza",
          "Jatla Siddartha",
          "Jayan Vannery",
          "Jayaprakash Radhakrishnan",
          "Jayaraj Rajasekharan Nair",
          "Jeethu Joseph",
          "Jeethu Joseph",
          "Jeeva",
          "Jijo Pancode",
          "Jitender Pawar",
          "Jitendra Tiwari, Pranav Singh",
          "Johnson Esthappan",
          "Jonathan Augustin",
          "K. Gopinathan",
          "K. Ramanlal",
          "K. Subhash",
          "K.C. Bokadia",
          "KVR Mahendra",
          "Kabir Khan",
          "Kabir Sadanand",
          "Kabir Sadanand",
          "Kaizad Gustad",
          "Kamal Sahani",
          "Kanika Batra",
          "Karan Anshuman",
          "Karan Johar",
          "Karan Johar",
          "Karan Johar",
          "Karan Shivajirao Chavan, Vikram Tanajirao Patil",
          "Karthik Subbaraj",
          "Kedar Shinde",
          "Kedar Shinde",
          "Keerthi",
          "Ken Ghosh",
          "Ken Ghosh",
          "Ken Ghosh",
          "Ketan Mehta",
          "Ketan Mehta",
          "Khalid Mohamed",
          "Kiran Narayanan",
          "Kiran Rao",
          "Kireet Khurana, Padmakumar Narasimhamurthy",
          "Kranthi Madhav",
          "Kranti Kanade",
          "Kranti Redkar",
          "Krish",
          "Krishna Vamshi",
          "Ksshitij Chaudhary",
          "Ksshitij Chaudhary",
          "Kumaran",
          "Kunal Deshmukh",
          "Kunal Kohli",
          "Kundan Shah",
          "Kundan Shah",
          "Kundan Shah",
          "Kundan Shah",
          "Kushal Srivastava",
          "Laxman Utekar",
          "Leena Yadav",
          "Leena Yadav",
          "Leena Yadav",
          "Lekh Tandon",
          "Lekh Tandon",
          "Lekh Tandon",
          "Lenin Bharathi",
          "Lijo Jose Pellissery",
          "Luv Ranjan",
          "Luv Ranjan",
          "Madhumita",
          "Madhur Bhandarkar",
          "Madhur Bhandarkar",
          "Madhur Bhandarkar",
          "Madhur Bhandarkar",
          "Madhur Bhandarkar",
          "Maha Venkatesh",
          "Mahesh Bhatt",
          "Mahesh Bhatt",
          "Mahesh Bhatt",
          "Mahesh Manjrekar",
          "Mahesh Manjrekar",
          "Mahesh Manjrekar",
          "Mahesh Manjrekar",
          "Mahesh Manjrekar",
          "Makarand Mane",
          "Makarand Mane",
          "Manav Shah",
          "Manbhavan Singh",
          "Mandeep Kumar",
          "Mangesh Hadawale",
          "Mangesh Kanthale",
          "Mani Ratnam",
          "Mani Ratnam",
          "Mani Ratnam",
          "Manika Sharma",
          "Manish Gupta",
          "Manish Jha",
          "Manish Jha",
          "Manish Saini",
          "Manish Tiwary",
          "Manjeet Maan",
          "Manjeet Singh",
          "Manmohan Desai",
          "Manoj Beedha",
          "Mansore",
          "Manu Ashokan",
          "Mastan Alibhai Burmawalla, Abbas Alibhai Burmawalla",
          "Megha Ramaswamy",
          "Midhun Manuel Thomas",
          "Mikhil Musale",
          "Mikhil Musale",
          "Milan Luthria",
          "Milan Luthria",
          "Milan Luthria",
          "Milan Luthria",
          "Milind Dhaimade",
          "Milind Rau",
          "Mohammed Hussain",
          "Mohit Suri",
          "Mohit Suri",
          "Mozez Singh",
          "Mrighdeep Singh Lamba",
          "Mukesh Vohra",
          "Mukul Anand",
          "Mukul Anand",
          "Munish Bhardwaj",
          "Musthafa",
          "Mysskin",
          "Mysskin",
          "N. Chandra",
          "N. Linguswamy",
          "N. Linguswamy",
          "Nagesh Kukunoor",
          "Nagesh Kukunoor",
          "Nagesh Kukunoor",
          "Nagesh Kukunoor",
          "Nagraj Manjule",
          "Nagraj Manjule",
          "Naman Nitin Mukesh",
          "Nandita Das",
          "Narendra Nath",
          "Naresh Saigal",
          "Navaniat Singh",
          "Navdeep Singh",
          "Navinder Pal Singh",
          "Navjot Gulati",
          "Navneet Behal",
          "Neeraj Pandey",
          "Neeraj Pandey",
          "Neeraj Pandey",
          "Neeraj Udhwani",
          "Neeraj Vora",
          "Neville Shah",
          "Nicholas Kharkongor",
          "Nicholas Kharkongor",
          "Nidhi Sharma",
          "Nikhil Advani",
          "Nikhil Advani",
          "Nikhil Nagesh Bhat",
          "Nikkhil Advani",
          "Nila Madhab Panda",
          "Nila Madhab Panda",
          "Nila Madhab Panda",
          "Nishanth Ravindaran, Jathin Sanker Raj",
          "Nisheeta Keni",
          "Nishikant Kamat",
          "Nishikant Kamat",
          "Nishikant Kamat",
          "Nishikant Kamat",
          "Nishil Sheth",
          "Nitesh Tiwari",
          "Nizar Shafi",
          "Noushad",
          "Omung Kumar",
          "Onir",
          "Onir",
          "P.K. Baaburaaj",
          "P.T. Kunju Muhammad",
          "Pa. Ranjith",
          "Padmakumar Narasimhamurthy",
          "Pankaj Batra",
          "Pankaj Batra",
          "Param Gill",
          "Parambrata Chatterjee",
          "Parambrata Chatterjee",
          "Paresh Mokashi",
          "Paritosh Painter",
          "Partha Chakraborty",
          "Parthiban",
          "Partho Ghosh",
          "Partho Mitra",
          "Parveen Kumar",
          "Patrick Graham",
          "Pawan K Shrivastava",
          "Pawan Kripalani",
          "Pawan Kumar",
          "Phanindra Narsetti",
          "Pooja Bhatt",
          "Prabhu Deva",
          "Prabhuraj",
          "Pradeep Verma",
          "Pradip Kurbah",
          "Prakash Balwant Saini",
          "Prakash Jha",
          "Prakash Jha",
          "Prakash Jha",
          "Prakash Jha",
          "Prakash Jha",
          "Prakash Kunte",
          "Prakash Mehra",
          "Prakash Mehra",
          "Prakash Mehra",
          "Pramod Pawar",
          "Prasanth Varma",
          "Prashant Nair",
          "Prasobh Vijayan",
          "Pratim D. Gupta",
          "Praveen Nischol",
          "Prawal Raman",
          "Prem Soni",
          "Priyadarshan",
          "Priyadarshan",
          "Priyadarshan",
          "Priyadarshan",
          "Priyadarshan, Kookie V. Gulati",
          "Pulkit",
          "Puneet Khanna",
          "Puneet Sira",
          "Punit Malhotra",
          "Punit Malhotra",
          "Puri Jagannadh",
          "Qaushiq Mukherjee",
          "Qaushiq Mukherjee",
          "R. Balki",
          "R. Kannan",
          "Raaghav Dar",
          "Radhika Rao, Vinay Sapru",
          "Rahat Kazmi",
          "Rahul Dholakia",
          "Rahul Ravindran",
          "Rai Yuvraj Bains",
          "Raj B. Shetty",
          "Raj Babu",
          "Raj Kanwar",
          "Raj Kapoor",
          "Raj Kapoor",
          "Raj Kapoor",
          "Raj Kaushal",
          "Raj Khosla",
          "Raj Kumar Gupta",
          "Raj Kumar Gupta",
          "Raj Kumar Gupta",
          "Raj N. Sippy",
          "Raj Nidimoru, Krishna D.K.",
          "Raj R",
          "Raja Chanda",
          "Raja Menon",
          "Rajan Madhav",
          "Rajat Kapoor",
          "Rajat Kapoor",
          "Rajeev Chaudhari",
          "Rajeev Patil",
          "Rajesh Ganguly",
          "Rajesh Mapuskar",
          "Rajesh Touchriver",
          "Rajiv Chilaka",
          "Rajiv Chilaka, Binayak Das",
          "Rajiv Mehra",
          "Rajiv Mehra",
          "Rajiv Mehra",
          "Rajiv Mehra",
          "Rajiv Mehra",
          "Rajiv Menon",
          "Rajkumar Hirani",
          "Rajkumar Hirani",
          "Rajkumar Hirani",
          "Rajkumar Santoshi",
          "Rajkumar Santoshi",
          "Rajkumar Santoshi",
          "Rajkumar Santoshi",
          "Rajkumar Santoshi",
          "Rajkumar Santoshi",
          "Rakesh Mehta",
          "Rakesh Ranjan Kumar",
          "Rakeysh Omprakash Mehra",
          "Rakeysh Omprakash Mehra",
          "Rakeysh Omprakash Mehra",
          "Rakeysh Omprakash Mehra",
          "Rakshith Thirthahalli",
          "Ram",
          "Ram Gopal Varma",
          "Ram Gopal Varma",
          "Ram Gopal Varma",
          "Ram Gopal Varma",
          "Ram Gopal Varma",
          "Ram Gopal Varma",
          "Raman Kumar",
          "Ramesh Sippy",
          "Ramesh Talwar",
          "Rana Ranbir",
          "Ranjit Jeyakodi",
          "Ranjit Tiwari",
          "Ravi Babu",
          "Ravi Udyawar",
          "Ravikanth Perepu",
          "Ravishankar Venkateswaran",
          "Reema Kagti",
          "Reema Kagti",
          "Remo D'Souza",
          "Remo D'Souza",
          "Remo D'Souza",
          "Remy Kohli",
          "Renzil D'Silva",
          "Renzil D'Silva",
          "Ribhu Dasgupta",
          "Ribhu Dasgupta",
          "Rikhil Bahadur",
          "Rima Das",
          "Robbie Grewal",
          "Rohan Sippy",
          "Rohit Jugraj",
          "Rohit Jugraj",
          "Rohit Mittal",
          "Rohit Shetty",
          "Rohit Shetty",
          "Rohit Shetty",
          "Rohit Shetty",
          "Ruchi Narain",
          "S.S. Rajamouli",
          "S.S. Rajamouli",
          "Saandeep Patel",
          "Sabal Singh Shekawat",
          "Sabir Khan",
          "Sabu Varghese",
          "Sachin",
          "Sachin",
          "Sachin Kamlakar Khot",
          "Sachin Kundalkar",
          "Sachin Yardi",
          "Sachin Yardi",
          "Safdar Rahman",
          "Sagar Sarhadi",
          "Saheed Arafath",
          "Sai Paranjape",
          "Saji Surendran",
          "Sajid Khan",
          "Saket Behl",
          "Saket Chaudhary",
          "Samar Khan",
          "Samar Shaikh",
          "Sameer Patil",
          "Sameer Sharma",
          "Sameer Vidwans",
          "Sameer Vidwans",
          "Samir Karnik",
          "Samir Soni",
          "Samit Kakkad",
          "Sandeep Chatterjee",
          "Sandeep Reddy Vanga",
          "Sangeeth Sivan",
          "Sangeeth Sivan",
          "Sanjay Dayma",
          "Sanjay Gupta",
          "Sanjay Jadhav",
          "Sanjay Jadhav",
          "Sanjay Leela Bhansali",
          "Sanjay Soorkar",
          "Sanjeev Gupta",
          "Sanjib Dey",
          "Sanjiv Jaiswal",
          "Santosh Manjrekar",
          "Santosh Sivan",
          "Santosh Sivan",
          "Santram Varma",
          "Santwana Bardoloi",
          "Saravana Rajan",
          "Saravana Rajendran",
          "Sarjun",
          "Sartaj Singh Pannu",
          "Sarthak Dasgupta",
          "Sathyan Anthikad",
          "Satish Kaushik",
          "Satish Kaushik",
          "Satish Manwar",
          "Satish Rajwade",
          "Satish Rajwade",
          "Satish Rajwade",
          "Satyajit Bhatkal",
          "Satyajit Bhatkal",
          "Saurabh Kabra",
          "Saurabh Sinha",
          "Saurav Palodhi",
          "Sekhar Kammula",
          "Selvamani Selvaraj",
          "Shaad Ali",
          "Shadab Khan",
          "Shakti Samanta",
          "Shakun Batra",
          "Shakun Batra",
          "Shammi Kapoor",
          "Shamzu Zayba",
          "Shanavas K. Bavakutty",
          "Shanawaz Nellikunnil",
          "Shanker Raman",
          "Sharan Sharma",
          "Shashank Khaitan",
          "Shashanka Ghosh",
          "Shashanka Ghosh, Samit Basu",
          "Shashilal K. Nair",
          "Shawn Arranha",
          "Shekhar Kapur",
          "Shelly Chopra Dhar",
          "Shirish Kunder",
          "Shirish Kunder",
          "Shirish Kunder",
          "Shivam Nair",
          "Shivam Nair",
          "Shivendra Singh Dungarpur",
          "Shlok Sharma",
          "Shlok Sharma",
          "Shoojit Sircar",
          "Shravan Kumar",
          "Shree Narayan Singh",
          "Shreyas Talpade",
          "Shrihari Sathe",
          "Shubham Singh",
          "Shyam Benegal",
          "Shyam Benegal",
          "Shyam Benegal",
          "Shyam Benegal",
          "Siddique",
          "Simranjit Singh Hundal",
          "Smeep Kang",
          "Smeep Kang",
          "Sneha Taurani",
          "Sohail Khan",
          "Sohail Tatari",
          "Soham Shah",
          "Sooni Taraporevala",
          "Sooraj R. Barjatya",
          "Sooraj R. Barjatya",
          "Sooraj R. Barjatya",
          "Sooraj R. Barjatya",
          "Sooraj R. Barjatya",
          "Soukarya Ghosal",
          "Soumendra Padhi",
          "Soumendra Padhi",
          "Soumitra Ranade",
          "Sridhar Rangayan",
          "Sridhar Rangayan",
          "Sriram Raghavan",
          "Sriram Raghavan",
          "Subhash Ghai",
          "Subhash Ghai",
          "Subhash Ghai",
          "Subhash Ghai",
          "Sudesh Manjrekar",
          "Sudesh Manjrekar, Atul Kale",
          "Sudha Kongara, Vignesh Shivan, Gautham Vasudev Menon, Vetri Maaran",
          "Sudhanshu Saria",
          "Sudhir Mishra",
          "Sudhir Mishra",
          "Sudhir Mishra",
          "Sudip Bandyopadhyay",
          "Sudipto Roy",
          "Suhas Kadav",
          "Sujeeth",
          "Sujoy Ghosh",
          "Sujoy Ghosh",
          "Sujoy Ghosh",
          "Sukhbir Singh",
          "Suman Mukhopadhyay",
          "Sumit Das",
          "Sumitra Bhave, Sunil Sukthankar",
          "Sumitra Bhave, Sunil Sukthankar",
          "Sumitra Bhave, Sunil Sukthankar",
          "Sundar C.",
          "Sundar C.",
          "Sunil Thakur",
          "Suparn Verma",
          "Supavitra Babul",
          "Surya S.J., Sunil Kumar Agrawal",
          "Suseenthiran",
          "Sushil Majumdar",
          "Swapna Waghmare Joshi",
          "Swapnaneel Jayakar",
          "Syed Ahmad Afzal",
          "Tanuj Bhramar",
          "Tanuja Chandra",
          "Tanuja Chandra",
          "Tanveer Khan",
          "Tariq Khan",
          "Tarun Mansukhani",
          "Tathagata Banerjee",
          "Tejas Prabha Vijay Deoskar",
          "Terrie Samundra",
          "Tharun Bhascker",
          "Thiagarajan Kumararaja",
          "Thiru",
          "Thiru",
          "Tigmanshu Dhulia",
          "Tigmanshu Dhulia",
          "Tilak Shetty",
          "Tinnu Anand",
          "Trivikram Srinivas",
          "Udai Singh Pawar",
          "Umesh Ghadge",
          "Umesh Mehra",
          "Umesh Mehra",
          "Umesh Mehra",
          "Umesh Mehra",
          "Umesh Mehra",
          "Umesh Shukla",
          "Umesh Shukla",
          "Uttung Shelar",
          "V C Abhilash",
          "V Vignarajan",
          "V. K. Prakash",
          "Vandana Kataria",
          "Varun Narvekar",
          "Vasan Bala",
          "Venkatesh Maha",
          "Venky Kudumula",
          "Venugopan",
          "Vetrimaaran",
          "Vibhu Virender Puri",
          "Vijay",
          "Vijay Jayapal",
          "Vijay Kumar",
          "Vijay Kumar Arora",
          "Vijay Lalwani",
          "Vijay Maurya",
          "Vijay Milton",
          "Vijay Yelakanti",
          "Vikas Bahl",
          "Vikas Bahl",
          "Vikas Bahl, Nitesh Tiwari",
          "Vikram Bhatt",
          "Vikram Pradhan",
          "Vikramaditya Motwane",
          "Vikramaditya Motwane",
          "Vikramaditya Motwane",
          "Vineeth Anil",
          "Vinil Mathew",
          "Vinod Kapri",
          "Vipin Parashar",
          "Vipul Amrutlal Shah",
          "Vipul Amrutlal Shah",
          "Vir Das",
          "Vir Das, Ajay Bhuyan",
          "Vishal Bhardwaj",
          "Vishal Bhardwaj",
          "Vishal Bhardwaj",
          "Vishal Bhardwaj",
          "Vishal Bhardwaj",
          "Vishal Mahadkar",
          "Vishal Mishra",
          "Vishnu Govindhan",
          "Vivek Wagh",
          "Zakariya",
          "Zoya Akhtar",
          "Zoya Akhtar",
          "Zoya Akhtar",
          "Zoya Akhtar, Karan Johar, Anurag Kashyap, Dibakar Banerjee",
          "1 Season",
          "100 min",
          "101 min",
          "102 min",
          "103 min",
          "104 min",
          "105 min",
          "106 min",
          "107 min",
          "108 min",
          "109 min",
          "110 min",
          "111 min",
          "112 min",
          "113 min",
          "114 min",
          "115 min",
          "116 min",
          "117 min",
          "118 min",
          "119 min",
          "120 min",
          "121 min",
          "122 min",
          "123 min",
          "124 min",
          "125 min",
          "126 min",
          "127 min",
          "128 min",
          "129 min",
          "130 min",
          "131 min",
          "132 min",
          "133 min",
          "134 min",
          "135 min",
          "136 min",
          "137 min",
          "138 min",
          "139 min",
          "140 min",
          "141 min",
          "142 min",
          "143 min",
          "144 min",
          "145 min",
          "146 min",
          "147 min",
          "148 min",
          "149 min",
          "150 min",
          "151 min",
          "152 min",
          "153 min",
          "154 min",
          "155 min",
          "156 min",
          "157 min",
          "158 min",
          "159 min",
          "160 min",
          "161 min",
          "162 min",
          "163 min",
          "164 min",
          "165 min",
          "166 min",
          "168 min",
          "169 min",
          "170 min",
          "171 min",
          "172 min",
          "173 min",
          "174 min",
          "176 min",
          "177 min",
          "178 min",
          "179 min",
          "185 min",
          "187 min",
          "192 min",
          "193 min",
          "203 min",
          "209 min",
          "214 min",
          "224 min",
          "228 min",
          "41 min",
          "50 min",
          "61 min",
          "63 min",
          "65 min",
          "68 min",
          "72 min",
          "74 min",
          "75 min",
          "76 min",
          "77 min",
          "79 min",
          "80 min",
          "81 min",
          "83 min",
          "85 min",
          "86 min",
          "87 min",
          "88 min",
          "89 min",
          "90 min",
          "91 min",
          "92 min",
          "93 min",
          "94 min",
          "95 min",
          "96 min",
          "97 min",
          "98 min",
          "99 min"
         ],
         "name": "",
         "parents": [
          "131 min",
          "93 min",
          "117 min",
          "134 min",
          "140 min",
          "107 min",
          "100 min",
          "162 min",
          "114 min",
          "159 min",
          "129 min",
          "132 min",
          "139 min",
          "153 min",
          "162 min",
          "155 min",
          "147 min",
          "105 min",
          "157 min",
          "116 min",
          "135 min",
          "101 min",
          "123 min",
          "135 min",
          "115 min",
          "146 min",
          "120 min",
          "124 min",
          "139 min",
          "96 min",
          "123 min",
          "124 min",
          "135 min",
          "143 min",
          "107 min",
          "151 min",
          "136 min",
          "150 min",
          "96 min",
          "150 min",
          "91 min",
          "125 min",
          "108 min",
          "99 min",
          "118 min",
          "151 min",
          "153 min",
          "111 min",
          "132 min",
          "102 min",
          "120 min",
          "141 min",
          "119 min",
          "130 min",
          "103 min",
          "127 min",
          "135 min",
          "129 min",
          "127 min",
          "136 min",
          "115 min",
          "115 min",
          "101 min",
          "112 min",
          "117 min",
          "126 min",
          "137 min",
          "134 min",
          "93 min",
          "103 min",
          "133 min",
          "116 min",
          "116 min",
          "109 min",
          "131 min",
          "144 min",
          "149 min",
          "153 min",
          "156 min",
          "161 min",
          "68 min",
          "150 min",
          "143 min",
          "128 min",
          "136 min",
          "130 min",
          "123 min",
          "144 min",
          "129 min",
          "139 min",
          "94 min",
          "125 min",
          "126 min",
          "144 min",
          "150 min",
          "155 min",
          "114 min",
          "125 min",
          "133 min",
          "137 min",
          "162 min",
          "123 min",
          "145 min",
          "113 min",
          "109 min",
          "94 min",
          "116 min",
          "119 min",
          "112 min",
          "113 min",
          "106 min",
          "143 min",
          "91 min",
          "104 min",
          "124 min",
          "117 min",
          "124 min",
          "107 min",
          "120 min",
          "130 min",
          "168 min",
          "171 min",
          "185 min",
          "203 min",
          "214 min",
          "224 min",
          "110 min",
          "100 min",
          "127 min",
          "103 min",
          "137 min",
          "133 min",
          "162 min",
          "98 min",
          "120 min",
          "121 min",
          "107 min",
          "111 min",
          "75 min",
          "132 min",
          "85 min",
          "145 min",
          "159 min",
          "166 min",
          "134 min",
          "133 min",
          "157 min",
          "147 min",
          "136 min",
          "137 min",
          "134 min",
          "104 min",
          "123 min",
          "72 min",
          "126 min",
          "98 min",
          "137 min",
          "103 min",
          "103 min",
          "113 min",
          "110 min",
          "127 min",
          "87 min",
          "120 min",
          "107 min",
          "129 min",
          "131 min",
          "118 min",
          "126 min",
          "133 min",
          "162 min",
          "89 min",
          "108 min",
          "119 min",
          "114 min",
          "121 min",
          "132 min",
          "133 min",
          "137 min",
          "145 min",
          "150 min",
          "151 min",
          "158 min",
          "118 min",
          "132 min",
          "118 min",
          "121 min",
          "160 min",
          "83 min",
          "105 min",
          "135 min",
          "124 min",
          "141 min",
          "149 min",
          "177 min",
          "1 Season",
          "41 min",
          "109 min",
          "112 min",
          "118 min",
          "124 min",
          "104 min",
          "83 min",
          "162 min",
          "120 min",
          "125 min",
          "169 min",
          "171 min",
          "179 min",
          "109 min",
          "169 min",
          "185 min",
          "63 min",
          "125 min",
          "127 min",
          "109 min",
          "114 min",
          "126 min",
          "92 min",
          "131 min",
          "116 min",
          "112 min",
          "141 min",
          "136 min",
          "149 min",
          "104 min",
          "115 min",
          "132 min",
          "133 min",
          "115 min",
          "96 min",
          "148 min",
          "106 min",
          "133 min",
          "105 min",
          "132 min",
          "83 min",
          "124 min",
          "126 min",
          "140 min",
          "105 min",
          "150 min",
          "120 min",
          "125 min",
          "127 min",
          "137 min",
          "127 min",
          "133 min",
          "137 min",
          "140 min",
          "142 min",
          "143 min",
          "127 min",
          "128 min",
          "165 min",
          "173 min",
          "93 min",
          "117 min",
          "127 min",
          "108 min",
          "97 min",
          "137 min",
          "103 min",
          "123 min",
          "93 min",
          "110 min",
          "117 min",
          "109 min",
          "88 min",
          "101 min",
          "148 min",
          "134 min",
          "105 min",
          "113 min",
          "122 min",
          "151 min",
          "107 min",
          "116 min",
          "143 min",
          "141 min",
          "107 min",
          "134 min",
          "129 min",
          "112 min",
          "128 min",
          "79 min",
          "141 min",
          "92 min",
          "134 min",
          "185 min",
          "192 min",
          "209 min",
          "97 min",
          "170 min",
          "137 min",
          "151 min",
          "124 min",
          "117 min",
          "121 min",
          "129 min",
          "114 min",
          "154 min",
          "163 min",
          "122 min",
          "102 min",
          "61 min",
          "147 min",
          "110 min",
          "132 min",
          "128 min",
          "168 min",
          "128 min",
          "132 min",
          "124 min",
          "131 min",
          "117 min",
          "117 min",
          "149 min",
          "151 min",
          "176 min",
          "113 min",
          "125 min",
          "119 min",
          "137 min",
          "146 min",
          "116 min",
          "152 min",
          "163 min",
          "115 min",
          "128 min",
          "136 min",
          "149 min",
          "116 min",
          "126 min",
          "130 min",
          "132 min",
          "143 min",
          "158 min",
          "142 min",
          "148 min",
          "149 min",
          "165 min",
          "112 min",
          "116 min",
          "127 min",
          "145 min",
          "165 min",
          "103 min",
          "130 min",
          "116 min",
          "118 min",
          "127 min",
          "133 min",
          "140 min",
          "155 min",
          "160 min",
          "166 min",
          "117 min",
          "117 min",
          "118 min",
          "134 min",
          "127 min",
          "140 min",
          "145 min",
          "77 min",
          "172 min",
          "145 min",
          "114 min",
          "119 min",
          "155 min",
          "92 min",
          "150 min",
          "128 min",
          "140 min",
          "109 min",
          "133 min",
          "135 min",
          "142 min",
          "125 min",
          "135 min",
          "132 min",
          "129 min",
          "131 min",
          "111 min",
          "135 min",
          "133 min",
          "173 min",
          "174 min",
          "109 min",
          "112 min",
          "143 min",
          "150 min",
          "137 min",
          "146 min",
          "156 min",
          "102 min",
          "114 min",
          "115 min",
          "127 min",
          "102 min",
          "173 min",
          "135 min",
          "114 min",
          "136 min",
          "143 min",
          "135 min",
          "129 min",
          "139 min",
          "101 min",
          "111 min",
          "103 min",
          "137 min",
          "158 min",
          "112 min",
          "150 min",
          "72 min",
          "101 min",
          "89 min",
          "122 min",
          "132 min",
          "140 min",
          "100 min",
          "187 min",
          "111 min",
          "87 min",
          "94 min",
          "121 min",
          "161 min",
          "119 min",
          "134 min",
          "135 min",
          "162 min",
          "74 min",
          "161 min",
          "1 Season",
          "126 min",
          "120 min",
          "110 min",
          "116 min",
          "130 min",
          "125 min",
          "148 min",
          "104 min",
          "120 min",
          "121 min",
          "120 min",
          "131 min",
          "155 min",
          "99 min",
          "114 min",
          "110 min",
          "103 min",
          "161 min",
          "135 min",
          "121 min",
          "1 Season",
          "80 min",
          "93 min",
          "121 min",
          "177 min",
          "113 min",
          "137 min",
          "110 min",
          "121 min",
          "107 min",
          "110 min",
          "146 min",
          "148 min",
          "161 min",
          "162 min",
          "164 min",
          "96 min",
          "156 min",
          "171 min",
          "172 min",
          "128 min",
          "111 min",
          "96 min",
          "85 min",
          "118 min",
          "163 min",
          "116 min",
          "109 min",
          "101 min",
          "132 min",
          "148 min",
          "151 min",
          "158 min",
          "94 min",
          "126 min",
          "101 min",
          "128 min",
          "144 min",
          "116 min",
          "109 min",
          "113 min",
          "130 min",
          "123 min",
          "100 min",
          "131 min",
          "75 min",
          "143 min",
          "152 min",
          "133 min",
          "132 min",
          "126 min",
          "149 min",
          "168 min",
          "178 min",
          "228 min",
          "122 min",
          "161 min",
          "129 min",
          "131 min",
          "95 min",
          "153 min",
          "106 min",
          "131 min",
          "137 min",
          "95 min",
          "134 min",
          "104 min",
          "97 min",
          "115 min",
          "122 min",
          "103 min",
          "133 min",
          "122 min",
          "87 min",
          "112 min",
          "142 min",
          "148 min",
          "151 min",
          "153 min",
          "164 min",
          "131 min",
          "146 min",
          "159 min",
          "164 min",
          "150 min",
          "156 min",
          "160 min",
          "163 min",
          "165 min",
          "166 min",
          "109 min",
          "107 min",
          "103 min",
          "128 min",
          "129 min",
          "159 min",
          "126 min",
          "148 min",
          "114 min",
          "116 min",
          "117 min",
          "137 min",
          "168 min",
          "97 min",
          "118 min",
          "121 min",
          "170 min",
          "123 min",
          "120 min",
          "144 min",
          "110 min",
          "139 min",
          "126 min",
          "85 min",
          "119 min",
          "140 min",
          "136 min",
          "142 min",
          "146 min",
          "126 min",
          "114 min",
          "147 min",
          "128 min",
          "86 min",
          "98 min",
          "95 min",
          "141 min",
          "129 min",
          "142 min",
          "151 min",
          "97 min",
          "135 min",
          "142 min",
          "148 min",
          "154 min",
          "120 min",
          "159 min",
          "165 min",
          "163 min",
          "99 min",
          "127 min",
          "88 min",
          "124 min",
          "132 min",
          "115 min",
          "151 min",
          "101 min",
          "127 min",
          "92 min",
          "121 min",
          "104 min",
          "140 min",
          "150 min",
          "140 min",
          "140 min",
          "120 min",
          "135 min",
          "116 min",
          "138 min",
          "129 min",
          "125 min",
          "132 min",
          "165 min",
          "92 min",
          "90 min",
          "99 min",
          "171 min",
          "147 min",
          "165 min",
          "154 min",
          "139 min",
          "113 min",
          "150 min",
          "121 min",
          "152 min",
          "95 min",
          "128 min",
          "117 min",
          "148 min",
          "168 min",
          "95 min",
          "124 min",
          "117 min",
          "132 min",
          "126 min",
          "127 min",
          "130 min",
          "102 min",
          "125 min",
          "137 min",
          "158 min",
          "99 min",
          "107 min",
          "127 min",
          "133 min",
          "104 min",
          "141 min",
          "128 min",
          "118 min",
          "118 min",
          "130 min",
          "94 min",
          "131 min",
          "126 min",
          "161 min",
          "106 min",
          "138 min",
          "162 min",
          "110 min",
          "139 min",
          "104 min",
          "106 min",
          "113 min",
          "131 min",
          "121 min",
          "105 min",
          "160 min",
          "96 min",
          "138 min",
          "120 min",
          "107 min",
          "163 min",
          "98 min",
          "122 min",
          "141 min",
          "156 min",
          "93 min",
          "94 min",
          "128 min",
          "118 min",
          "145 min",
          "128 min",
          "89 min",
          "125 min",
          "131 min",
          "134 min",
          "135 min",
          "155 min",
          "130 min",
          "140 min",
          "117 min",
          "90 min",
          "130 min",
          "126 min",
          "127 min",
          "126 min",
          "117 min",
          "164 min",
          "166 min",
          "176 min",
          "192 min",
          "193 min",
          "119 min",
          "1 Season",
          "95 min",
          "85 min",
          "102 min",
          "81 min",
          "134 min",
          "137 min",
          "170 min",
          "171 min",
          "177 min",
          "187 min",
          "115 min",
          "132 min",
          "1 Season",
          "89 min",
          "102 min",
          "115 min",
          "125 min",
          "95 min",
          "124 min",
          "109 min",
          "172 min",
          "117 min",
          "122 min",
          "131 min",
          "133 min",
          "119 min",
          "63 min",
          "120 min",
          "123 min",
          "91 min",
          "132 min",
          "154 min",
          "135 min",
          "141 min",
          "117 min",
          "157 min",
          "96 min",
          "153 min",
          "119 min",
          "124 min",
          "143 min",
          "83 min",
          "120 min",
          "137 min",
          "97 min",
          "121 min",
          "119 min",
          "103 min",
          "129 min",
          "91 min",
          "133 min",
          "176 min",
          "131 min",
          "147 min",
          "129 min",
          "139 min",
          "65 min",
          "173 min",
          "162 min",
          "112 min",
          "124 min",
          "148 min",
          "154 min",
          "161 min",
          "162 min",
          "163 min",
          "124 min",
          "129 min",
          "133 min",
          "122 min",
          "171 min",
          "130 min",
          "109 min",
          "128 min",
          "137 min",
          "137 min",
          "138 min",
          "133 min",
          "116 min",
          "129 min",
          "156 min",
          "118 min",
          "116 min",
          "127 min",
          "135 min",
          "138 min",
          "128 min",
          "115 min",
          "138 min",
          "143 min",
          "127 min",
          "143 min",
          "127 min",
          "109 min",
          "137 min",
          "150 min",
          "116 min",
          "135 min",
          "90 min",
          "131 min",
          "129 min",
          "130 min",
          "50 min",
          "76 min",
          "128 min",
          "148 min",
          "153 min",
          "154 min",
          "90 min",
          "110 min",
          "120 min",
          "118 min",
          "105 min",
          "115 min",
          "154 min",
          "156 min",
          "174 min",
          "121 min",
          "",
          "",
          "",
          "",
          "",
          "",
          "",
          "",
          "",
          "",
          "",
          "",
          "",
          "",
          "",
          "",
          "",
          "",
          "",
          "",
          "",
          "",
          "",
          "",
          "",
          "",
          "",
          "",
          "",
          "",
          "",
          "",
          "",
          "",
          "",
          "",
          "",
          "",
          "",
          "",
          "",
          "",
          "",
          "",
          "",
          "",
          "",
          "",
          "",
          "",
          "",
          "",
          "",
          "",
          "",
          "",
          "",
          "",
          "",
          "",
          "",
          "",
          "",
          "",
          "",
          "",
          "",
          "",
          "",
          "",
          "",
          "",
          "",
          "",
          "",
          "",
          "",
          "",
          "",
          "",
          "",
          "",
          "",
          "",
          "",
          "",
          "",
          "",
          "",
          "",
          "",
          "",
          "",
          "",
          "",
          "",
          "",
          "",
          "",
          "",
          "",
          "",
          "",
          "",
          "",
          "",
          "",
          "",
          "",
          "",
          "",
          "",
          "",
          "",
          "",
          "",
          "",
          ""
         ],
         "type": "treemap",
         "values": [
          1,
          1,
          1,
          1,
          1,
          1,
          1,
          1,
          1,
          1,
          1,
          1,
          1,
          1,
          1,
          1,
          1,
          1,
          1,
          1,
          1,
          1,
          1,
          1,
          1,
          2,
          1,
          1,
          1,
          1,
          1,
          1,
          1,
          1,
          1,
          1,
          1,
          1,
          1,
          1,
          1,
          1,
          1,
          1,
          1,
          1,
          1,
          1,
          1,
          1,
          1,
          1,
          1,
          1,
          1,
          1,
          1,
          1,
          1,
          1,
          1,
          1,
          1,
          1,
          1,
          1,
          1,
          1,
          1,
          1,
          1,
          1,
          1,
          1,
          1,
          1,
          1,
          1,
          1,
          1,
          1,
          1,
          1,
          1,
          1,
          1,
          1,
          1,
          1,
          1,
          1,
          1,
          1,
          1,
          1,
          1,
          1,
          1,
          1,
          1,
          1,
          1,
          1,
          1,
          1,
          1,
          1,
          1,
          1,
          1,
          1,
          1,
          1,
          1,
          1,
          1,
          1,
          1,
          1,
          1,
          1,
          1,
          1,
          1,
          1,
          1,
          1,
          1,
          1,
          1,
          1,
          1,
          1,
          1,
          1,
          1,
          1,
          1,
          1,
          1,
          1,
          1,
          1,
          1,
          1,
          1,
          1,
          1,
          1,
          1,
          1,
          1,
          1,
          1,
          1,
          1,
          1,
          1,
          1,
          1,
          1,
          1,
          1,
          1,
          1,
          1,
          1,
          1,
          1,
          1,
          1,
          1,
          1,
          1,
          1,
          2,
          1,
          1,
          1,
          1,
          1,
          1,
          1,
          1,
          1,
          1,
          1,
          1,
          1,
          1,
          1,
          1,
          1,
          1,
          1,
          1,
          1,
          1,
          1,
          1,
          1,
          1,
          1,
          1,
          1,
          1,
          1,
          1,
          1,
          1,
          1,
          2,
          1,
          1,
          1,
          1,
          1,
          1,
          1,
          1,
          1,
          1,
          1,
          1,
          1,
          1,
          1,
          1,
          1,
          1,
          1,
          1,
          1,
          1,
          1,
          1,
          1,
          1,
          1,
          1,
          1,
          1,
          1,
          1,
          1,
          1,
          1,
          1,
          1,
          1,
          1,
          1,
          1,
          1,
          1,
          1,
          1,
          1,
          1,
          1,
          1,
          1,
          1,
          1,
          1,
          1,
          1,
          1,
          1,
          1,
          1,
          1,
          1,
          1,
          1,
          1,
          1,
          1,
          1,
          1,
          1,
          1,
          1,
          1,
          1,
          1,
          1,
          1,
          1,
          1,
          1,
          1,
          1,
          1,
          1,
          1,
          1,
          1,
          1,
          1,
          1,
          1,
          1,
          1,
          1,
          1,
          1,
          1,
          1,
          1,
          1,
          1,
          1,
          1,
          1,
          1,
          1,
          1,
          1,
          1,
          1,
          1,
          1,
          1,
          1,
          1,
          1,
          1,
          1,
          1,
          1,
          1,
          1,
          1,
          1,
          1,
          1,
          1,
          1,
          1,
          1,
          1,
          1,
          1,
          1,
          1,
          1,
          1,
          1,
          1,
          1,
          1,
          1,
          1,
          1,
          1,
          1,
          1,
          1,
          1,
          1,
          1,
          1,
          1,
          1,
          1,
          1,
          1,
          1,
          1,
          1,
          1,
          1,
          1,
          1,
          1,
          1,
          1,
          1,
          1,
          1,
          1,
          1,
          1,
          1,
          1,
          1,
          1,
          1,
          1,
          1,
          1,
          1,
          1,
          1,
          1,
          1,
          1,
          1,
          1,
          1,
          1,
          1,
          1,
          1,
          1,
          1,
          1,
          1,
          1,
          1,
          1,
          1,
          1,
          1,
          1,
          1,
          1,
          1,
          1,
          1,
          1,
          1,
          1,
          1,
          1,
          1,
          1,
          1,
          1,
          1,
          1,
          1,
          1,
          1,
          1,
          1,
          1,
          1,
          1,
          1,
          1,
          1,
          1,
          1,
          1,
          1,
          1,
          1,
          1,
          1,
          1,
          1,
          1,
          1,
          1,
          1,
          1,
          1,
          1,
          1,
          1,
          1,
          1,
          1,
          1,
          1,
          1,
          1,
          1,
          1,
          1,
          1,
          1,
          1,
          1,
          1,
          1,
          1,
          1,
          1,
          1,
          1,
          1,
          1,
          1,
          1,
          1,
          1,
          1,
          1,
          1,
          1,
          1,
          1,
          1,
          1,
          1,
          1,
          1,
          1,
          1,
          1,
          1,
          1,
          1,
          1,
          1,
          1,
          1,
          1,
          1,
          1,
          1,
          1,
          1,
          1,
          1,
          1,
          1,
          1,
          1,
          1,
          1,
          1,
          1,
          1,
          1,
          1,
          1,
          1,
          1,
          1,
          1,
          1,
          1,
          1,
          1,
          1,
          1,
          1,
          1,
          1,
          1,
          1,
          1,
          1,
          1,
          1,
          1,
          1,
          1,
          1,
          1,
          1,
          1,
          1,
          1,
          1,
          1,
          1,
          1,
          1,
          1,
          1,
          1,
          1,
          1,
          1,
          1,
          1,
          1,
          1,
          1,
          1,
          1,
          1,
          1,
          1,
          1,
          1,
          1,
          1,
          1,
          1,
          1,
          2,
          1,
          1,
          1,
          1,
          1,
          1,
          1,
          1,
          1,
          1,
          1,
          1,
          1,
          1,
          1,
          1,
          1,
          1,
          1,
          1,
          1,
          1,
          1,
          1,
          1,
          1,
          1,
          1,
          1,
          1,
          1,
          1,
          1,
          1,
          1,
          1,
          1,
          1,
          1,
          1,
          1,
          1,
          1,
          1,
          1,
          1,
          1,
          1,
          1,
          1,
          1,
          1,
          1,
          1,
          1,
          1,
          1,
          1,
          1,
          1,
          1,
          1,
          1,
          1,
          1,
          1,
          1,
          1,
          1,
          1,
          1,
          1,
          1,
          1,
          1,
          1,
          1,
          1,
          1,
          1,
          1,
          1,
          1,
          1,
          1,
          1,
          1,
          1,
          1,
          1,
          1,
          1,
          1,
          1,
          1,
          1,
          1,
          1,
          1,
          1,
          1,
          1,
          1,
          1,
          1,
          1,
          1,
          1,
          1,
          1,
          1,
          1,
          1,
          1,
          1,
          1,
          1,
          2,
          1,
          1,
          1,
          1,
          1,
          1,
          1,
          1,
          1,
          1,
          1,
          1,
          1,
          1,
          1,
          1,
          1,
          1,
          1,
          1,
          1,
          1,
          1,
          1,
          1,
          1,
          1,
          1,
          1,
          1,
          1,
          1,
          1,
          1,
          1,
          1,
          1,
          1,
          1,
          1,
          1,
          1,
          1,
          1,
          1,
          1,
          1,
          1,
          1,
          1,
          1,
          1,
          1,
          1,
          1,
          1,
          1,
          1,
          1,
          1,
          1,
          1,
          1,
          1,
          1,
          1,
          1,
          1,
          1,
          1,
          1,
          1,
          1,
          1,
          1,
          1,
          1,
          1,
          1,
          1,
          1,
          1,
          1,
          1,
          1,
          1,
          1,
          1,
          1,
          1,
          1,
          1,
          1,
          1,
          1,
          1,
          1,
          1,
          1,
          1,
          1,
          1,
          1,
          1,
          1,
          1,
          1,
          1,
          1,
          1,
          1,
          1,
          1,
          1,
          1,
          1,
          1,
          1,
          1,
          1,
          1,
          1,
          5,
          4,
          8,
          7,
          12,
          9,
          7,
          5,
          11,
          3,
          14,
          11,
          6,
          10,
          9,
          11,
          13,
          18,
          17,
          14,
          11,
          17,
          16,
          9,
          9,
          15,
          13,
          17,
          21,
          18,
          17,
          13,
          17,
          19,
          19,
          12,
          19,
          8,
          22,
          6,
          8,
          12,
          9,
          7,
          12,
          5,
          7,
          7,
          6,
          12,
          7,
          13,
          10,
          3,
          7,
          7,
          6,
          7,
          3,
          5,
          5,
          4,
          8,
          11,
          7,
          4,
          7,
          4,
          5,
          2,
          3,
          6,
          3,
          4,
          2,
          4,
          3,
          1,
          1,
          4,
          2,
          2,
          1,
          1,
          1,
          1,
          1,
          1,
          1,
          1,
          1,
          2,
          1,
          1,
          2,
          1,
          2,
          1,
          1,
          1,
          1,
          1,
          4,
          4,
          1,
          3,
          2,
          4,
          4,
          4,
          5,
          6,
          6,
          7,
          7,
          6,
          4,
          5
         ]
        }
       ],
       "layout": {
        "legend": {
         "tracegroupgap": 0
        },
        "margin": {
         "t": 60
        },
        "template": {
         "data": {
          "bar": [
           {
            "error_x": {
             "color": "#2a3f5f"
            },
            "error_y": {
             "color": "#2a3f5f"
            },
            "marker": {
             "line": {
              "color": "#E5ECF6",
              "width": 0.5
             },
             "pattern": {
              "fillmode": "overlay",
              "size": 10,
              "solidity": 0.2
             }
            },
            "type": "bar"
           }
          ],
          "barpolar": [
           {
            "marker": {
             "line": {
              "color": "#E5ECF6",
              "width": 0.5
             },
             "pattern": {
              "fillmode": "overlay",
              "size": 10,
              "solidity": 0.2
             }
            },
            "type": "barpolar"
           }
          ],
          "carpet": [
           {
            "aaxis": {
             "endlinecolor": "#2a3f5f",
             "gridcolor": "white",
             "linecolor": "white",
             "minorgridcolor": "white",
             "startlinecolor": "#2a3f5f"
            },
            "baxis": {
             "endlinecolor": "#2a3f5f",
             "gridcolor": "white",
             "linecolor": "white",
             "minorgridcolor": "white",
             "startlinecolor": "#2a3f5f"
            },
            "type": "carpet"
           }
          ],
          "choropleth": [
           {
            "colorbar": {
             "outlinewidth": 0,
             "ticks": ""
            },
            "type": "choropleth"
           }
          ],
          "contour": [
           {
            "colorbar": {
             "outlinewidth": 0,
             "ticks": ""
            },
            "colorscale": [
             [
              0,
              "#0d0887"
             ],
             [
              0.1111111111111111,
              "#46039f"
             ],
             [
              0.2222222222222222,
              "#7201a8"
             ],
             [
              0.3333333333333333,
              "#9c179e"
             ],
             [
              0.4444444444444444,
              "#bd3786"
             ],
             [
              0.5555555555555556,
              "#d8576b"
             ],
             [
              0.6666666666666666,
              "#ed7953"
             ],
             [
              0.7777777777777778,
              "#fb9f3a"
             ],
             [
              0.8888888888888888,
              "#fdca26"
             ],
             [
              1,
              "#f0f921"
             ]
            ],
            "type": "contour"
           }
          ],
          "contourcarpet": [
           {
            "colorbar": {
             "outlinewidth": 0,
             "ticks": ""
            },
            "type": "contourcarpet"
           }
          ],
          "heatmap": [
           {
            "colorbar": {
             "outlinewidth": 0,
             "ticks": ""
            },
            "colorscale": [
             [
              0,
              "#0d0887"
             ],
             [
              0.1111111111111111,
              "#46039f"
             ],
             [
              0.2222222222222222,
              "#7201a8"
             ],
             [
              0.3333333333333333,
              "#9c179e"
             ],
             [
              0.4444444444444444,
              "#bd3786"
             ],
             [
              0.5555555555555556,
              "#d8576b"
             ],
             [
              0.6666666666666666,
              "#ed7953"
             ],
             [
              0.7777777777777778,
              "#fb9f3a"
             ],
             [
              0.8888888888888888,
              "#fdca26"
             ],
             [
              1,
              "#f0f921"
             ]
            ],
            "type": "heatmap"
           }
          ],
          "heatmapgl": [
           {
            "colorbar": {
             "outlinewidth": 0,
             "ticks": ""
            },
            "colorscale": [
             [
              0,
              "#0d0887"
             ],
             [
              0.1111111111111111,
              "#46039f"
             ],
             [
              0.2222222222222222,
              "#7201a8"
             ],
             [
              0.3333333333333333,
              "#9c179e"
             ],
             [
              0.4444444444444444,
              "#bd3786"
             ],
             [
              0.5555555555555556,
              "#d8576b"
             ],
             [
              0.6666666666666666,
              "#ed7953"
             ],
             [
              0.7777777777777778,
              "#fb9f3a"
             ],
             [
              0.8888888888888888,
              "#fdca26"
             ],
             [
              1,
              "#f0f921"
             ]
            ],
            "type": "heatmapgl"
           }
          ],
          "histogram": [
           {
            "marker": {
             "pattern": {
              "fillmode": "overlay",
              "size": 10,
              "solidity": 0.2
             }
            },
            "type": "histogram"
           }
          ],
          "histogram2d": [
           {
            "colorbar": {
             "outlinewidth": 0,
             "ticks": ""
            },
            "colorscale": [
             [
              0,
              "#0d0887"
             ],
             [
              0.1111111111111111,
              "#46039f"
             ],
             [
              0.2222222222222222,
              "#7201a8"
             ],
             [
              0.3333333333333333,
              "#9c179e"
             ],
             [
              0.4444444444444444,
              "#bd3786"
             ],
             [
              0.5555555555555556,
              "#d8576b"
             ],
             [
              0.6666666666666666,
              "#ed7953"
             ],
             [
              0.7777777777777778,
              "#fb9f3a"
             ],
             [
              0.8888888888888888,
              "#fdca26"
             ],
             [
              1,
              "#f0f921"
             ]
            ],
            "type": "histogram2d"
           }
          ],
          "histogram2dcontour": [
           {
            "colorbar": {
             "outlinewidth": 0,
             "ticks": ""
            },
            "colorscale": [
             [
              0,
              "#0d0887"
             ],
             [
              0.1111111111111111,
              "#46039f"
             ],
             [
              0.2222222222222222,
              "#7201a8"
             ],
             [
              0.3333333333333333,
              "#9c179e"
             ],
             [
              0.4444444444444444,
              "#bd3786"
             ],
             [
              0.5555555555555556,
              "#d8576b"
             ],
             [
              0.6666666666666666,
              "#ed7953"
             ],
             [
              0.7777777777777778,
              "#fb9f3a"
             ],
             [
              0.8888888888888888,
              "#fdca26"
             ],
             [
              1,
              "#f0f921"
             ]
            ],
            "type": "histogram2dcontour"
           }
          ],
          "mesh3d": [
           {
            "colorbar": {
             "outlinewidth": 0,
             "ticks": ""
            },
            "type": "mesh3d"
           }
          ],
          "parcoords": [
           {
            "line": {
             "colorbar": {
              "outlinewidth": 0,
              "ticks": ""
             }
            },
            "type": "parcoords"
           }
          ],
          "pie": [
           {
            "automargin": true,
            "type": "pie"
           }
          ],
          "scatter": [
           {
            "fillpattern": {
             "fillmode": "overlay",
             "size": 10,
             "solidity": 0.2
            },
            "type": "scatter"
           }
          ],
          "scatter3d": [
           {
            "line": {
             "colorbar": {
              "outlinewidth": 0,
              "ticks": ""
             }
            },
            "marker": {
             "colorbar": {
              "outlinewidth": 0,
              "ticks": ""
             }
            },
            "type": "scatter3d"
           }
          ],
          "scattercarpet": [
           {
            "marker": {
             "colorbar": {
              "outlinewidth": 0,
              "ticks": ""
             }
            },
            "type": "scattercarpet"
           }
          ],
          "scattergeo": [
           {
            "marker": {
             "colorbar": {
              "outlinewidth": 0,
              "ticks": ""
             }
            },
            "type": "scattergeo"
           }
          ],
          "scattergl": [
           {
            "marker": {
             "colorbar": {
              "outlinewidth": 0,
              "ticks": ""
             }
            },
            "type": "scattergl"
           }
          ],
          "scattermapbox": [
           {
            "marker": {
             "colorbar": {
              "outlinewidth": 0,
              "ticks": ""
             }
            },
            "type": "scattermapbox"
           }
          ],
          "scatterpolar": [
           {
            "marker": {
             "colorbar": {
              "outlinewidth": 0,
              "ticks": ""
             }
            },
            "type": "scatterpolar"
           }
          ],
          "scatterpolargl": [
           {
            "marker": {
             "colorbar": {
              "outlinewidth": 0,
              "ticks": ""
             }
            },
            "type": "scatterpolargl"
           }
          ],
          "scatterternary": [
           {
            "marker": {
             "colorbar": {
              "outlinewidth": 0,
              "ticks": ""
             }
            },
            "type": "scatterternary"
           }
          ],
          "surface": [
           {
            "colorbar": {
             "outlinewidth": 0,
             "ticks": ""
            },
            "colorscale": [
             [
              0,
              "#0d0887"
             ],
             [
              0.1111111111111111,
              "#46039f"
             ],
             [
              0.2222222222222222,
              "#7201a8"
             ],
             [
              0.3333333333333333,
              "#9c179e"
             ],
             [
              0.4444444444444444,
              "#bd3786"
             ],
             [
              0.5555555555555556,
              "#d8576b"
             ],
             [
              0.6666666666666666,
              "#ed7953"
             ],
             [
              0.7777777777777778,
              "#fb9f3a"
             ],
             [
              0.8888888888888888,
              "#fdca26"
             ],
             [
              1,
              "#f0f921"
             ]
            ],
            "type": "surface"
           }
          ],
          "table": [
           {
            "cells": {
             "fill": {
              "color": "#EBF0F8"
             },
             "line": {
              "color": "white"
             }
            },
            "header": {
             "fill": {
              "color": "#C8D4E3"
             },
             "line": {
              "color": "white"
             }
            },
            "type": "table"
           }
          ]
         },
         "layout": {
          "annotationdefaults": {
           "arrowcolor": "#2a3f5f",
           "arrowhead": 0,
           "arrowwidth": 1
          },
          "autotypenumbers": "strict",
          "coloraxis": {
           "colorbar": {
            "outlinewidth": 0,
            "ticks": ""
           }
          },
          "colorscale": {
           "diverging": [
            [
             0,
             "#8e0152"
            ],
            [
             0.1,
             "#c51b7d"
            ],
            [
             0.2,
             "#de77ae"
            ],
            [
             0.3,
             "#f1b6da"
            ],
            [
             0.4,
             "#fde0ef"
            ],
            [
             0.5,
             "#f7f7f7"
            ],
            [
             0.6,
             "#e6f5d0"
            ],
            [
             0.7,
             "#b8e186"
            ],
            [
             0.8,
             "#7fbc41"
            ],
            [
             0.9,
             "#4d9221"
            ],
            [
             1,
             "#276419"
            ]
           ],
           "sequential": [
            [
             0,
             "#0d0887"
            ],
            [
             0.1111111111111111,
             "#46039f"
            ],
            [
             0.2222222222222222,
             "#7201a8"
            ],
            [
             0.3333333333333333,
             "#9c179e"
            ],
            [
             0.4444444444444444,
             "#bd3786"
            ],
            [
             0.5555555555555556,
             "#d8576b"
            ],
            [
             0.6666666666666666,
             "#ed7953"
            ],
            [
             0.7777777777777778,
             "#fb9f3a"
            ],
            [
             0.8888888888888888,
             "#fdca26"
            ],
            [
             1,
             "#f0f921"
            ]
           ],
           "sequentialminus": [
            [
             0,
             "#0d0887"
            ],
            [
             0.1111111111111111,
             "#46039f"
            ],
            [
             0.2222222222222222,
             "#7201a8"
            ],
            [
             0.3333333333333333,
             "#9c179e"
            ],
            [
             0.4444444444444444,
             "#bd3786"
            ],
            [
             0.5555555555555556,
             "#d8576b"
            ],
            [
             0.6666666666666666,
             "#ed7953"
            ],
            [
             0.7777777777777778,
             "#fb9f3a"
            ],
            [
             0.8888888888888888,
             "#fdca26"
            ],
            [
             1,
             "#f0f921"
            ]
           ]
          },
          "colorway": [
           "#636efa",
           "#EF553B",
           "#00cc96",
           "#ab63fa",
           "#FFA15A",
           "#19d3f3",
           "#FF6692",
           "#B6E880",
           "#FF97FF",
           "#FECB52"
          ],
          "font": {
           "color": "#2a3f5f"
          },
          "geo": {
           "bgcolor": "white",
           "lakecolor": "white",
           "landcolor": "#E5ECF6",
           "showlakes": true,
           "showland": true,
           "subunitcolor": "white"
          },
          "hoverlabel": {
           "align": "left"
          },
          "hovermode": "closest",
          "mapbox": {
           "style": "light"
          },
          "paper_bgcolor": "white",
          "plot_bgcolor": "#E5ECF6",
          "polar": {
           "angularaxis": {
            "gridcolor": "white",
            "linecolor": "white",
            "ticks": ""
           },
           "bgcolor": "#E5ECF6",
           "radialaxis": {
            "gridcolor": "white",
            "linecolor": "white",
            "ticks": ""
           }
          },
          "scene": {
           "xaxis": {
            "backgroundcolor": "#E5ECF6",
            "gridcolor": "white",
            "gridwidth": 2,
            "linecolor": "white",
            "showbackground": true,
            "ticks": "",
            "zerolinecolor": "white"
           },
           "yaxis": {
            "backgroundcolor": "#E5ECF6",
            "gridcolor": "white",
            "gridwidth": 2,
            "linecolor": "white",
            "showbackground": true,
            "ticks": "",
            "zerolinecolor": "white"
           },
           "zaxis": {
            "backgroundcolor": "#E5ECF6",
            "gridcolor": "white",
            "gridwidth": 2,
            "linecolor": "white",
            "showbackground": true,
            "ticks": "",
            "zerolinecolor": "white"
           }
          },
          "shapedefaults": {
           "line": {
            "color": "#2a3f5f"
           }
          },
          "ternary": {
           "aaxis": {
            "gridcolor": "white",
            "linecolor": "white",
            "ticks": ""
           },
           "baxis": {
            "gridcolor": "white",
            "linecolor": "white",
            "ticks": ""
           },
           "bgcolor": "#E5ECF6",
           "caxis": {
            "gridcolor": "white",
            "linecolor": "white",
            "ticks": ""
           }
          },
          "title": {
           "x": 0.05
          },
          "xaxis": {
           "automargin": true,
           "gridcolor": "white",
           "linecolor": "white",
           "ticks": "",
           "title": {
            "standoff": 15
           },
           "zerolinecolor": "white",
           "zerolinewidth": 2
          },
          "yaxis": {
           "automargin": true,
           "gridcolor": "white",
           "linecolor": "white",
           "ticks": "",
           "title": {
            "standoff": 15
           },
           "zerolinecolor": "white",
           "zerolinewidth": 2
          }
         }
        }
       }
      },
      "text/html": [
       "<div>                            <div id=\"cac2de3a-da10-40e9-935c-bbe71378b008\" class=\"plotly-graph-div\" style=\"height:525px; width:100%;\"></div>            <script type=\"text/javascript\">                require([\"plotly\"], function(Plotly) {                    window.PLOTLYENV=window.PLOTLYENV || {};                                    if (document.getElementById(\"cac2de3a-da10-40e9-935c-bbe71378b008\")) {                    Plotly.newPlot(                        \"cac2de3a-da10-40e9-935c-bbe71378b008\",                        [{\"branchvalues\":\"total\",\"customdata\":[[\"A. L. Vijay\",\"Abhinetri\"],[\"A. L. Vijay\",\"Watchman\"],[\"A. Raajdheep\",\"Asura Guru\"],[\"A. Salaam\",\"Salaakhen\"],[\"A.R. Murugadoss\",\"Spyder\"],[\"Aadish Keluskar\",\"Jaoon Kahan Bata Ae Dil\"],[\"Aamir Bashir\",\"Harud\"],[\"Aamir Khan\",\"Taare Zameen Par\"],[\"Aanand Rai\",\"Tanu Weds Manu\"],[\"Aanand Rai\",\"Zero\"],[\"Aatmaram Dharne\",\"Chal Dhar Pakad\"],[\"Abbas Alibhai Burmawalla, Mastan Alibhai Burmawalla\",\"Kis Kisko Pyaar Karoon\"],[\"Abbas Alibhai Burmawalla, Mastan Alibhai Burmawalla\",\"Race 2\"],[\"Abbas Alibhai Burmawalla, Mastan Alibhai Burmawalla\",\"Aitraaz\"],[\"Abbas Alibhai Burmawalla, Mastan Alibhai Burmawalla\",\"Players\"],[\"Abbas Mustan\",\"Soldier\"],[\"Abbas Tyrewala\",\"Jaane Tu... Ya Jaane Na\"],[\"Abhay Chopra\",\"Ittefaq\"],[\"Abhijeet Deshpande\",\"Ani... Dr. Kashinath Ghanekar\"],[\"Abhijit Kokate, Srivinay Salian\",\"Rakkhosh\"],[\"Abhijit Panse\",\"Thackeray (Hindi)\"],[\"Abhinay Deo\",\"Delhi Belly\"],[\"Abhinay Deo\",\"Force 2\"],[\"Abhinay Deo\",\"Game\"],[\"Abhishek Chaubey\",\"Ishqiya\"],[\"Abhishek Chaubey\",\"(?)\"],[\"Abhishek Kapoor\",\"Kai Po Che!\"],[\"Abhishek Kapoor\",\"Fitoor\"],[\"Abhishek Kapoor\",\"Rock On!!\"],[\"Abhishek Saxena\",\"Phullu\"],[\"Abhishek Sharma\",\"The Shaukeens\"],[\"Abhishek Sharma\",\"Parmanu: The Story of Pokhran\"],[\"Abhishek Sharma\",\"The Zoya Factor\"],[\"Abhishek Varman\",\"2 States\"],[\"Aditya Kripalani\",\"Tottaa Pataaka Item Maal\"],[\"Aditya Kripalani\",\"Tikli and Laxmi Bomb\"],[\"Aditya Sarpotdar\",\"Mauli\"],[\"Aditya Sarpotdar\",\"Satrangi Re\"],[\"Aditya Vikram Sengupta\",\"Jonaki\"],[\"Advait Chandan\",\"Secret Superstar\"],[\"Agnidev Chatterjee\",\"Dark Chocolate (Bengali Version)\"],[\"Ahishor Solomon\",\"John Day\"],[\"Aijaz Khan\",\"Hamid\"],[\"Ajay Bahl\",\"B.A. Pass\"],[\"Ajay Bhuyan, Kunal Kohli\",\"Phir Se\"],[\"Ajay Phansekar\",\"Encounter: The Killing\"],[\"Ajithkumar\",\"Eeda\"],[\"Akashdeep\",\"Santa Banta Pvt Ltd\"],[\"Akhil Paul, Anas Khan\",\"Forensic\"],[\"Akshay Akkineni\",\"Pizza\"],[\"Alankrita Shrivastava\",\"Dolly Kitty Aur Woh Chamakte Sitare\"],[\"Alo Sarkar\",\"Bandie\"],[\"Amaan Khan\",\"Mahabharat\"],[\"Amal Neerad\",\"CIA: Comrade in America\"],[\"Amar Gupte\",\"Hridaynath\"],[\"Amar Kaushik\",\"Stree\"],[\"Amardeep Singh Gill\",\"Jora 10 Numbaria\"],[\"Amarpreet G S Chabbra\",\"Happy Go Lucky\"],[\"Amit Barot\",\"Shubh Aarambh\"],[\"Amit Rai\",\"Road to Sangam\"],[\"Amit Roy\",\"Running Shaadi\"],[\"Amit Saxena\",\"Nasha\"],[\"Amitabha Singh\",\"Shortcut Safari\"],[\"Amitava Bhattacharya\",\"Red Oleanders Raktokarobi\"],[\"Amitoj Mann\",\"Motor Mitraan Di\"],[\"Amitoj Mann\",\"Gaddar: the Traitor\"],[\"Amitoj Mann\",\"Haani\"],[\"Amol Palekar\",\"Paheli\"],[\"Amshan Kumar\",\"Manusangada\"],[\"Anand Ravichandran\",\"SETHUM AAYIRAM PON\"],[\"Anand Tiwari\",\"Love Per Square Foot\"],[\"Ananda Krishnan\",\"Metro\"],[\"Anant Balani\",\"Mumbai Matinee\"],[\"Ananth Narayan Mahadevan\",\"Gour Hari Dastaan: The Freedom File\"],[\"Anees Bazmee\",\"Thank You\"],[\"Anees Bazmee\",\"Ready\"],[\"Anees Bazmee\",\"Welcome\"],[\"Anees Bazmee\",\"Mubarakan\"],[\"Anees Bazmee\",\"Deewangee\"],[\"Anees Bazmee\",\"No Entry\"],[\"Angshuman Ghosh\",\"Kenny Sebastian: The Most Interesting Person in the Room\"],[\"Anik Datta\",\"Meghnadbodh Rohoshyo\"],[\"Anil Sharma\",\"Singh Saab the Great\"],[\"Anil Thomas\",\"Minnaminugu the FireFly\"],[\"Anil V. Kumar\",\"Kucch To Hai\"],[\"Aniruddha Roy Chowdhury\",\"Pink\"],[\"Anita Udeep\",\"90 ML\"],[\"Anoop Sathyan\",\"Varane Avashyamund\"],[\"Anthony D'Souza\",\"Azhar\"],[\"Anthony D'Souza\",\"Boss\"],[\"Anu Menon\",\"Waiting\"],[\"Anubhav Sinha\",\"Article 15\"],[\"Anurag Basu\",\"Life in a ... Metro\"],[\"Anurag Basu\",\"Barfi!\"],[\"Anurag Basu\",\"Ludo\"],[\"Anurag Basu\",\"Jagga Jasoos\"],[\"Anurag Kashyap\",\"Choked: Paisa Bolta Hai\"],[\"Anurag Kashyap\",\"Ugly\"],[\"Anurag Kashyap\",\"Raman Raghav 2.0\"],[\"Anurag Kashyap\",\"Dev.D\"],[\"Anurag Kashyap\",\"Black Friday\"],[\"Anurag Kashyap, Dibakar Banerjee, Karan Johar, Zoya Akhtar\",\"Bombay Talkies\"],[\"Anurag Kashyap, Dibakar Banerjee, Karan Johar, Zoya Akhtar\",\"Ghost Stories\"],[\"Anuranjan Premji\",\"Chicken Kokkachi\"],[\"Anusha Rizvi, Mahmood Farooqui\",\"Peepli Live\"],[\"Anvita Dutt\",\"Bulbbul\"],[\"Apoorva Lakhia\",\"Shootout at Lokhandwala\"],[\"Apoorva Lakhia\",\"Mission Istaanbul: Darr Ke Aagey Jeet Hai\"],[\"Apurva Dhar Badgaiyann\",\"Chaman Bahaar\"],[\"Arati Kadav\",\"Cargo\"],[\"Arjun Gourisaria, Moinak Biswas\",\"Sthaniya Sambaad\"],[\"Arjun Jandyala\",\"Guna 369\"],[\"Arnab Chaudhuri\",\"Arjun: The Warrior Prince\"],[\"Arun Chidambaram\",\"Kanavu Variyam\"],[\"Arun Vaidyanathan\",\"Nibunan\"],[\"Aruna Raje\",\"Firebrand\"],[\"Ashish R. Mohan\",\"Welcome 2 Karachi\"],[\"Ashok Nanda\",\"Rivaaz\"],[\"Ashok Nanda\",\"One Day: Justice Delivered\"],[\"Ashu Trikha\",\"Veerey Ki Wedding\"],[\"Ashutosh Gowariker\",\"Mohenjo Daro\"],[\"Ashutosh Gowariker\",\"Panipat - The Great Betrayal\"],[\"Ashutosh Gowariker\",\"Swades\"],[\"Ashutosh Gowariker\",\"What's Your Raashee?\"],[\"Ashutosh Gowariker\",\"Jodhaa Akbar\"],[\"Ashutosh Gowariker\",\"Lagaan\"],[\"Ashwiny Iyer Tiwari\",\"Bareilly Ki Barfi\"],[\"Atanu Ghosh\",\"\\u200bMayurakshi\"],[\"Atanu Ghosh\",\"Abby Sen\"],[\"Atanu Mukherjee\",\"Rukh\"],[\"Atharv Baluja\",\"Judge Singh LLB\"],[\"Athiyan Athirai\",\"The Last Bomb of the Second World War\"],[\"Atlee Kumar\",\"Mersal\"],[\"Atul Sabharwal\",\"Class of '83\"],[\"Avadhoot Gupte\",\"Zenda\"],[\"Avadhoot Gupte\",\"Morya\"],[\"Avinash Arun\",\"Killa\"],[\"Avinash Das\",\"Anarkali of Aarah\"],[\"Avinash Walzade\",\"Fukrey Boyzzz: Space Mein Fukrapanti\"],[\"Ayaan Mukherji\",\"Wake Up Sid\"],[\"Ayush Raina\",\"Horror Story\"],[\"Aziz Mirza\",\"Kismat Konnection\"],[\"Aziz Mirza\",\"Phir Bhi Dil Hai Hindustani\"],[\"Aziz Mirza\",\"Chalte Chalte\"],[\"B. Subhash\",\"Disco Dancer\"],[\"B. Unnikrishnan\",\"Grandmaster\"],[\"B. V. Nandini Reddy\",\"Oh! Baby\"],[\"B.N. Shajeer Sha\",\"Lechmi\"],[\"Baljit Singh Deo\",\"Manje Bistre\"],[\"Balu Mahendra\",\"Sadma\"],[\"Basava Shankar Eeday\",\"Evvarikee Cheppoddu\"],[\"Basu Chatterjee\",\"Rajnigandha\"],[\"Basu Chatterjee\",\"Swami\"],[\"Bauddhayan Mukherji\",\"The Violin Player\"],[\"Bejoy Nambiar\",\"Shaitan\"],[\"Bejoy Nambiar\",\"Wazir\"],[\"Bhagyaraj\",\"Papa the Great\"],[\"Bharat Jain\",\"6-5=2\"],[\"Bhavin Wadia\",\"Project Marathwada\"],[\"Bhushan Patel\",\"Ragini MMS 2\"],[\"Binu Ulahhannan\",\"Melle\"],[\"Biswajeet Bora\",\"Aisa Yeh Jahaan\"],[\"Buddhadev Dasgupta\",\"Tope: The Bait\"],[\"Buta Singh\",\"Kacche Dhaagey\"],[\"Chakri Toleti\",\"Kolaiyuthir Kaalam\"],[\"Chandan Arora\",\"Main, Meri Patni Aur Woh\"],[\"Chandra Prakash Dwivedi\",\"Zed Plus\"],[\"Chandrakant Kanse\",\"Daagdi Chaawl\"],[\"Chandrakant Kulkarni\",\"Aajcha Divas Majha\"],[\"Chandrakant Kulkarni\",\"Kay Dyache Bola\"],[\"Chandrakant Kulkarni\",\"Tukaram\"],[\"Chandran Narikode\",\"Paathi\"],[\"Danish Aslam\",\"Break Ke Baad\"],[\"Dar Gai\",\"Teen Aur Aadha\"],[\"Datta Mohan Bhandare\",\"Krutant\"],[\"David Dhawan\",\"(?)\"],[\"David Dhawan\",\"Chal Mere Bhai\"],[\"David Dhawan\",\"Judwaa\"],[\"David Dhawan\",\"Maine Pyaar Kyun Kiya\"],[\"David Dhawan\",\"Judwaa 2\"],[\"David Dhawan\",\"Kyo Kii... Main Jhuth Nahin Bolta\"],[\"David Dhawan\",\"Haseena Maan Jaayegi\"],[\"David Dhawan\",\"Mujhse Shaadi Karogi\"],[\"Debaloy Dey\",\"Macchli Jal Ki Rani Hai\"],[\"Debamitra Biswal\",\"Motichoor Chaknachoor\"],[\"Deep Joshi\",\"Bathinda Express\"],[\"Deepti Naval\",\"Do Paise Ki Dhoop Chaar Aane Ki Baarish\"],[\"Desingh Periyasamy\",\"Kannum Kannum Kollaiyadithaal\"],[\"Devaki Singh, Luke Kenny\",\"Rise of the Zombie\"],[\"Devashish Makhija\",\"Ajji\"],[\"Devika Bhagat\",\"One by Two\"],[\"Dhanush\",\"Power Paandi\"],[\"Dharmendra Suresh Desai\",\"Rustom\"],[\"Dharmesh Darshan\",\"Bewafaa\"],[\"Dharmesh Darshan\",\"Raja Hindustani\"],[\"Dheeraj Berry\",\"Th Eena Meena Deeka Chase Comedy Show\"],[\"Dhilip Kumar\",\"Kalki\"],[\"Dibakar Banerjee\",\"Shanghai\"],[\"Dibakar Banerjee\",\"LSD: Love, Sex Aur Dhokha\"],[\"Dibakar Banerjee\",\"Oye Lucky! Lucky Oye!\"],[\"Dibakar Banerjee\",\"Khosla Ka Ghosla\"],[\"Dileep Narayanan\",\"Paulettante Veedu\"],[\"Dylan Mohan Gray\",\"Fire in the Blood\"],[\"Eeshwar Nivas\",\"Dum\"],[\"Emcy Joseph\",\"Mischief\"],[\"Farah Khan\",\"Tees Maar Khan\"],[\"Farah Khan\",\"Om Shanti Om\"],[\"Farah Khan\",\"Main Hoon Na\"],[\"Farah Khan\",\"Happy New Year\"],[\"Faraz Haider\",\"War Chhod Na Yaar\"],[\"Farhan Akhtar\",\"Don\"],[\"Farhan Akhtar\",\"(?)\"],[\"Fazila Allana\",\"Aditi Mittal: Things They Wouldn't Let Me Say\"],[\"Feroz\",\"Pandigai\"],[\"Fuwad Khan\",\"Dharam Sankat Mein\"],[\"Gafoor Y. Elliyaas\",\"Pareeth Pandaari\"],[\"Gagan Puri\",\"Door Ke Darshan\"],[\"Gajendra Ahire\",\"Sarivar Sari\"],[\"Gajendra Ahire\",\"Pimpal\"],[\"Gajendra Ahire, Viju Mane, Girish Mohite, Ravi Jadhav\",\"Bioscope\"],[\"Ganesh Kadam\",\"Vitti Dandu\"],[\"Gangadhar Salimath\",\"Ayana\"],[\"Gaurav Narayanan\",\"Sigaram Thodu\"],[\"Gauravv K Chawla\",\"Baazaar\"],[\"Gauri Shinde\",\"Dear Zindagi\"],[\"Geetu Mohandas\",\"Liar's Dice\"],[\"Girish Joshi\",\"Ranbhool\"],[\"Girish Malik\",\"Jal\"],[\"Girish Malik\",\"Torbaaz\"],[\"Gulzar\",\"Koshish\"],[\"Gurmmeet Singh\",\"What the Fish\"],[\"Gurudev Bhalla\",\"Shararat\"],[\"Habib Faisal\",\"Do Dooni Chaar\"],[\"Halitha Shameem\",\"Sillu Karuppatti\"],[\"Hardik Mehta\",\"Har Kisse Ke Hisse: Kaamyaab\"],[\"Hari Nath\",\"Neevevaro\"],[\"Hari Viswanath\",\"Radiopetti\"],[\"Harjit Singh\",\"Eh Janam Tumhare Lekhe\"],[\"Harry Baweja\",\"Chaar\\u00a0Sahibzaade\"],[\"Harshavardhan Kulkarni\",\"Hunterrr\"],[\"Hemant Gaba, Pratim D. Gupta, Sudhish Kamath, Nalan Kumarasamy, Anu Menon, Sandeep Mohan, Qaushiq Mukherjee, Rajshree Ojha, Raja Sen, Abhinav Shiv Tiwari, Suparn Verma\",\"X: Past Is Present\"],[\"Honey Trehan\",\"Raat Akeli Hai\"],[\"Hrishikesh Mukherjee\",\"Khubsoorat\"],[\"Hrishikesh Mukherjee\",\"Bawarchi\"],[\"Hrishikesh Mukherjee\",\"Chupke Chupke\"],[\"Hrishikesh Mukherjee\",\"Gol Maal\"],[\"Imtiaz Ali\",\"Highway\"],[\"Imtiaz Ali\",\"Tamasha\"],[\"Imtiaz Ali\",\"Socha Na Tha\"],[\"Imtiaz Ali\",\"Love Aaj Kal\"],[\"Imtiaz Ali\",\"Jab Harry Met Sejal\"],[\"Imtiaz Ali\",\"Jab We Met\"],[\"Indra Kumar\",\"Super Nani\"],[\"Indra Kumar\",\"Dhamaal\"],[\"Indra Kumar\",\"Dil\"],[\"Indra Kumar\",\"Mann\"],[\"Indra Kumar\",\"Grand Masti\"],[\"Indrajit Nattoji\",\"Aagey Se Right\"],[\"Indrasis Acharya\",\"Bilu Rakkhosh\"],[\"Ishaan Trivedi\",\"A Scandall\"],[\"Ivan Ayr\",\"Soni\"],[\"Jagdeep Sidhu\",\"Qismat\"],[\"Jaivi Dhanda\",\"Needhi Singh\"],[\"Jasbir Bijendra Bhati\",\"Bhouri\"],[\"Jasmine D'Souza\",\"One Night Stand\"],[\"Jatla Siddartha\",\"Love and Shukla\"],[\"Jayan Vannery\",\"Ma Chu Ka\"],[\"Jayaprakash Radhakrishnan\",\"Lens\"],[\"Jayaraj Rajasekharan Nair\",\"Ottaal\"],[\"Jeethu Joseph\",\"The Body\"],[\"Jeethu Joseph\",\"Thambi\"],[\"Jeeva\",\"Run\"],[\"Jijo Pancode\",\"Kaaliyan\"],[\"Jitender Pawar\",\"Trip to Bhangarh: Asia's Most Haunted Place\"],[\"Jitendra Tiwari, Pranav Singh\",\"Shorgul\"],[\"Johnson Esthappan\",\"Daffedar\"],[\"Jonathan Augustin\",\"The Lift Boy\"],[\"K. Gopinathan\",\"Samarppanam\"],[\"K. Ramanlal\",\"Elaan\"],[\"K. Subhash\",\"Insan\"],[\"K.C. Bokadia\",\"Deewana Main Deewana\"],[\"KVR Mahendra\",\"Dorasaani\"],[\"Kabir Khan\",\"Phantom\"],[\"Kabir Sadanand\",\"Gollu Aur Pappu\"],[\"Kabir Sadanand\",\"Tum Milo Toh Sahi\"],[\"Kaizad Gustad\",\"Boom\"],[\"Kamal Sahani\",\"Sat Sri Akal\"],[\"Kanika Batra\",\"Project Papa\"],[\"Karan Anshuman\",\"Bangistan\"],[\"Karan Johar\",\"Kuch Kuch Hota Hai\"],[\"Karan Johar\",\"Kabhi Alvida Naa Kehna\"],[\"Karan Johar\",\"Kabhi Khushi Kabhie Gham\"],[\"Karan Shivajirao Chavan, Vikram Tanajirao Patil\",\"Imago\"],[\"Karthik Subbaraj\",\"Petta\"],[\"Kedar Shinde\",\"Irada Pakka\"],[\"Kedar Shinde\",\"Yanda Kartavya Aahe\"],[\"Keerthi\",\"The Plan\"],[\"Ken Ghosh\",\"Fida\"],[\"Ken Ghosh\",\"Chance Pe Dance\"],[\"Ken Ghosh\",\"Ishq Vishk\"],[\"Ketan Mehta\",\"Colours of Passion\"],[\"Ketan Mehta\",\"Oh Darling Yeh Hai India\"],[\"Khalid Mohamed\",\"Fiza\"],[\"Kiran Narayanan\",\"Oru Vishsheshapetta Biryani Kissa\"],[\"Kiran Rao\",\"Dhobi Ghat (Mumbai Diaries)\"],[\"Kireet Khurana, Padmakumar Narasimhamurthy\",\"Saeed Mirza: The Leftist Sufi\"],[\"Kranthi Madhav\",\"World Famous Lover\"],[\"Kranti Kanade\",\"CRD\"],[\"Kranti Redkar\",\"Kaakan\"],[\"Krish\",\"Gabbar Is Back\"],[\"Krishna Vamshi\",\"Shakti: The Power\"],[\"Ksshitij Chaudhary\",\"Jatts in Golmaal\"],[\"Ksshitij Chaudhary\",\"Yaara O Dildaara\"],[\"Kumaran\",\"Jada\"],[\"Kunal Deshmukh\",\"Raja Natwarlal\"],[\"Kunal Kohli\",\"Next Enti?\"],[\"Kundan Shah\",\"P Se PM Tak\"],[\"Kundan Shah\",\"Kya Kehna\"],[\"Kundan Shah\",\"Kabhi Haan Kabhi Naa\"],[\"Kundan Shah\",\"Dil Hai Tumhaara\"],[\"Kushal Srivastava\",\"Vodka Diaries\"],[\"Laxman Utekar\",\"Luka Chuppi\"],[\"Leena Yadav\",\"Rajma Chawal\"],[\"Leena Yadav\",\"Teen Patti\"],[\"Leena Yadav\",\"Shabd\"],[\"Lekh Tandon\",\"Amrapali\"],[\"Lekh Tandon\",\"Prince\"],[\"Lekh Tandon\",\"Professor\"],[\"Lenin Bharathi\",\"Merku Thodarchi Malai\"],[\"Lijo Jose Pellissery\",\"Angamaly Diaries\"],[\"Luv Ranjan\",\"Pyaar Ka Punchnama 2\"],[\"Luv Ranjan\",\"Pyaar Ka Punchnama\"],[\"Madhumita\",\"KD (A) Karuppudurai\"],[\"Madhur Bhandarkar\",\"Calendar Girls\"],[\"Madhur Bhandarkar\",\"Traffic Signal\"],[\"Madhur Bhandarkar\",\"Jail\"],[\"Madhur Bhandarkar\",\"Heroine\"],[\"Madhur Bhandarkar\",\"Fashion\"],[\"Maha Venkatesh\",\"Care of Kancharapalem\"],[\"Mahesh Bhatt\",\"Chaahat\"],[\"Mahesh Bhatt\",\"Gumrah\"],[\"Mahesh Bhatt\",\"Duplicate\"],[\"Mahesh Manjrekar\",\"Bhai: Vyakti Ki Valli - Uttarardh\"],[\"Mahesh Manjrekar\",\"Bhai: Vyakti Ki Valli - Poorvardha\"],[\"Mahesh Manjrekar\",\"Pitaah\"],[\"Mahesh Manjrekar\",\"Lalbaug Parel: Zali Mumbai Sonyachi\"],[\"Mahesh Manjrekar\",\"Natsamrat - Asa Nat Hone Nahi\"],[\"Makarand Mane\",\"Ringan\"],[\"Makarand Mane\",\"Kaagar\"],[\"Manav Shah\",\"Laatu\"],[\"Manbhavan Singh\",\"Gelo\"],[\"Mandeep Kumar\",\"Tere Naal Love Ho Gaya\"],[\"Mangesh Hadawale\",\"Malaal\"],[\"Mangesh Kanthale\",\"Sur Sapata\"],[\"Mani Ratnam\",\"Guru\"],[\"Mani Ratnam\",\"Yuva\"],[\"Mani Ratnam\",\"Dil Se\"],[\"Manika Sharma\",\"The Wishing Tree\"],[\"Manish Gupta\",\"Rahasya\"],[\"Manish Jha\",\"The Legend of Michael Mishra\"],[\"Manish Jha\",\"Anwar\"],[\"Manish Saini\",\"Dhh\"],[\"Manish Tiwary\",\"Issaq\"],[\"Manjeet Maan\",\"Dil Vil Pyaar Vyaar\"],[\"Manjeet Singh\",\"Mumbai Cha Raja\"],[\"Manmohan Desai\",\"Amar Akbar Anthony\"],[\"Manoj Beedha\",\"Vanjagar Ulagam\"],[\"Mansore\",\"Nathicharami\"],[\"Manu Ashokan\",\"Uyare\"],[\"Mastan Alibhai Burmawalla, Abbas Alibhai Burmawalla\",\"Race\"],[\"Megha Ramaswamy\",\"What Are the Odds?\"],[\"Midhun Manuel Thomas\",\"Aadu 2\"],[\"Mikhil Musale\",\"Made in China\"],[\"Mikhil Musale\",\"Wrong Side Raju\"],[\"Milan Luthria\",\"Hattrick\"],[\"Milan Luthria\",\"Once Upon a Time in Mumbaai\"],[\"Milan Luthria\",\"Baadshaho\"],[\"Milan Luthria\",\"Once Upon a Time in Mumbai Dobaara!\"],[\"Milind Dhaimade\",\"Tu Hai Mera Sunday\"],[\"Milind Rau\",\"The House Next Door\"],[\"Mohammed Hussain\",\"Khoon Khoon\"],[\"Mohit Suri\",\"Half Girlfriend\"],[\"Mohit Suri\",\"Malang\"],[\"Mozez Singh\",\"Zubaan\"],[\"Mrighdeep Singh Lamba\",\"Fukrey\"],[\"Mukesh Vohra\",\"Thug Life\"],[\"Mukul Anand\",\"Trimurti\"],[\"Mukul Anand\",\"Agneepath\"],[\"Munish Bhardwaj\",\"Moh Maya Money\"],[\"Musthafa\",\"Kappela\"],[\"Mysskin\",\"Psycho\"],[\"Mysskin\",\"Mugamoodi\"],[\"N. Chandra\",\"Y.M.I.: Yeh Mera India\"],[\"N. Linguswamy\",\"Anjaan\"],[\"N. Linguswamy\",\"Vettai\"],[\"Nagesh Kukunoor\",\"Bollywood Calling\"],[\"Nagesh Kukunoor\",\"Dhanak\"],[\"Nagesh Kukunoor\",\"Aashayein\"],[\"Nagesh Kukunoor\",\"Iqbal\"],[\"Nagraj Manjule\",\"Fandry\"],[\"Nagraj Manjule\",\"Sairat\"],[\"Naman Nitin Mukesh\",\"Bypass Road\"],[\"Nandita Das\",\"Manto\"],[\"Narendra Nath\",\"Miss India\"],[\"Naresh Saigal\",\"Ujala\"],[\"Navaniat Singh\",\"Jindua\"],[\"Navdeep Singh\",\"Manorama Six Feet Under\"],[\"Navinder Pal Singh\",\"Mundeyan Ton Bachke Rahin\"],[\"Navjot Gulati\",\"Jai Mummy Di\"],[\"Navneet Behal\",\"Tamanchey\"],[\"Neeraj Pandey\",\"A Wednesday\"],[\"Neeraj Pandey\",\"Special 26\"],[\"Neeraj Pandey\",\"Aiyaary\"],[\"Neeraj Udhwani\",\"Maska\"],[\"Neeraj Vora\",\"Phir Hera Pheri\"],[\"Neville Shah\",\"Yours Sincerely, Kanan Gill\"],[\"Nicholas Kharkongor\",\"Axone\"],[\"Nicholas Kharkongor\",\"Mantra\"],[\"Nidhi Sharma\",\"Pooja Kiven Aa\"],[\"Nikhil Advani\",\"Katti Batti\"],[\"Nikhil Advani\",\"Patiala House\"],[\"Nikhil Nagesh Bhat\",\"Brij Mohan Amar Rahe\"],[\"Nikkhil Advani\",\"Kal Ho Naa Ho\"],[\"Nila Madhab Panda\",\"Halkaa\"],[\"Nila Madhab Panda\",\"I Am Kalam\"],[\"Nila Madhab Panda\",\"Jalpari: The Desert Mermaid\"],[\"Nishanth Ravindaran, Jathin Sanker Raj\",\"Odu Raja Odu\"],[\"Nisheeta Keni\",\"Bogda\"],[\"Nishikant Kamat\",\"Rocky Handsome\"],[\"Nishikant Kamat\",\"Madaari\"],[\"Nishikant Kamat\",\"Mumbai Meri Jaan\"],[\"Nishikant Kamat\",\"Drishyam\"],[\"Nishil Sheth\",\"Bhasmasur\"],[\"Nitesh Tiwari\",\"Dangal\"],[\"Nizar Shafi\",\"7 (Seven)\"],[\"Noushad\",\"Cappuccino\"],[\"Omung Kumar\",\"Mary Kom\"],[\"Onir\",\"\\u200b\\u200bKuch Bheege Alfaaz\"],[\"Onir\",\"My Brother ... Nikhil\"],[\"P.K. Baaburaaj\",\"Gemini\"],[\"P.T. Kunju Muhammad\",\"Viswasapoorvam Mansoor\"],[\"Pa. Ranjith\",\"Kabali (Hindi Version)\"],[\"Padmakumar Narasimhamurthy\",\"A Billion Colour Story\"],[\"Pankaj Batra\",\"High End Yaariyan\"],[\"Pankaj Batra\",\"Naughty Jatts\"],[\"Param Gill\",\"Waarrior Savitri\"],[\"Parambrata Chatterjee\",\"Shonar Pahar\"],[\"Parambrata Chatterjee\",\"Lorai: Play to Live\"],[\"Paresh Mokashi\",\"Harishchandrachi Factory\"],[\"Paritosh Painter\",\"Paying Guests\"],[\"Partha Chakraborty\",\"Samantaral\"],[\"Parthiban\",\"Oththa Seruppu Size 7\"],[\"Partho Ghosh\",\"Ghulam-E-Musthafa\"],[\"Partho Mitra\",\"Koi Aap Sa\"],[\"Parveen Kumar\",\"Darra\"],[\"Patrick Graham\",\"GHOUL\"],[\"Pawan K Shrivastava\",\"Life of An Outcast\"],[\"Pawan Kripalani\",\"Ragini MMS\"],[\"Pawan Kumar\",\"U Turn\"],[\"Phanindra Narsetti\",\"Manu\"],[\"Pooja Bhatt\",\"Kajraare\"],[\"Prabhu Deva\",\"Rowdy Rathore\"],[\"Prabhuraj\",\"Lupt\"],[\"Pradeep Verma\",\"Urvi\"],[\"Pradip Kurbah\",\"Onaatah\"],[\"Prakash Balwant Saini\",\"Chal Bhaag\"],[\"Prakash Jha\",\"Satyagraha\"],[\"Prakash Jha\",\"Gangaajal\"],[\"Prakash Jha\",\"Apaharan\"],[\"Prakash Jha\",\"Raajneeti\"],[\"Prakash Jha\",\"Aarakshan\"],[\"Prakash Kunte\",\"Cycle\"],[\"Prakash Mehra\",\"Hera Pheri\"],[\"Prakash Mehra\",\"Namak Halaal\"],[\"Prakash Mehra\",\"Muqaddar ka Faisla\"],[\"Pramod Pawar\",\"Truckbhar Swapna\"],[\"Prasanth Varma\",\"Awe\"],[\"Prashant Nair\",\"Umrika\"],[\"Prasobh Vijayan\",\"Lilli\"],[\"Pratim D. Gupta\",\"Saheb Bibi Golaam\"],[\"Praveen Nischol\",\"English Babu Desi Mem\"],[\"Prawal Raman\",\"Darna Mana Hai\"],[\"Prem Soni\",\"Main aurr Mrs. Khanna\"],[\"Priyadarshan\",\"Sometimes\"],[\"Priyadarshan\",\"Billu\"],[\"Priyadarshan\",\"Bhool Bhulaiyaa\"],[\"Priyadarshan\",\"Bhagam Bhag\"],[\"Priyadarshan, Kookie V. Gulati\",\"Chup Chup Ke\"],[\"Pulkit\",\"Maroon\"],[\"Puneet Khanna\",\"Ginny Weds Sunny\"],[\"Puneet Sira\",\"Kisaan\"],[\"Punit Malhotra\",\"I Hate Luv Storys\"],[\"Punit Malhotra\",\"Gori Tere Pyaar Mein\"],[\"Puri Jagannadh\",\"Bbuddah Hoga Terra Baap\"],[\"Qaushiq Mukherjee\",\"Garbage\"],[\"Qaushiq Mukherjee\",\"The Land of Cards\"],[\"R. Balki\",\"Pad Man\"],[\"R. Kannan\",\"Settai\"],[\"Raaghav Dar\",\"My Friend Pinto\"],[\"Radhika Rao, Vinay Sapru\",\"Lucky: No Time for Love\"],[\"Rahat Kazmi\",\"Mantostaan\"],[\"Rahul Dholakia\",\"Raees\"],[\"Rahul Ravindran\",\"Manmadhudu 2\"],[\"Rai Yuvraj Bains\",\"Kaake Da Viyah\"],[\"Raj B. Shetty\",\"Story of an Egg\"],[\"Raj Babu\",\"Sei\"],[\"Raj Kanwar\",\"Humko Deewana Kar Gaye\"],[\"Raj Kapoor\",\"Bobby\"],[\"Raj Kapoor\",\"Ram Teri Ganga Maili\"],[\"Raj Kapoor\",\"Sangam\"],[\"Raj Kaushal\",\"Anthony Kaun Hai?\"],[\"Raj Khosla\",\"Friendship\"],[\"Raj Kumar Gupta\",\"Ghanchakkar\"],[\"Raj Kumar Gupta\",\"No One Killed Jessica\"],[\"Raj Kumar Gupta\",\"Aamir\"],[\"Raj N. Sippy\",\"Satte Pe Satta\"],[\"Raj Nidimoru, Krishna D.K.\",\"Shor In the City\"],[\"Raj R\",\"Mallesham\"],[\"Raja Chanda\",\"Black\"],[\"Raja Menon\",\"Barah Aana\"],[\"Rajan Madhav\",\"Muran\"],[\"Rajat Kapoor\",\"Ankhon Dekhi\"],[\"Rajat Kapoor\",\"Fatso\"],[\"Rajeev Chaudhari\",\"Beiimaan Love\"],[\"Rajeev Patil\",\"Sanai Choughade\"],[\"Rajesh Ganguly\",\"The Royal Bengal Tiger\"],[\"Rajesh Mapuskar\",\"Ferrari Ki Sawaari\"],[\"Rajesh Touchriver\",\"Naa Bangaaru Talli\"],[\"Rajiv Chilaka\",\"Chhota Bheem and the Curse of Damyaan\"],[\"Rajiv Chilaka, Binayak Das\",\"Chhota Bheem Kungfu Dhamaka\"],[\"Rajiv Mehra\",\"Ram Jaane\"],[\"Rajiv Mehra\",\"Aakhri Adaalat\"],[\"Rajiv Mehra\",\"Ek Jaan Hain Hum\"],[\"Rajiv Mehra\",\"Pyar Ke Do Pal\"],[\"Rajiv Mehra\",\"Chamatkar\"],[\"Rajiv Menon\",\"Sarvam Thaala Mayam (Telugu Version)\"],[\"Rajkumar Hirani\",\"PK\"],[\"Rajkumar Hirani\",\"Sanju\"],[\"Rajkumar Hirani\",\"3 Idiots\"],[\"Rajkumar Santoshi\",\"Ajab Prem Ki Ghazab Kahani\"],[\"Rajkumar Santoshi\",\"The Legend of Bhagat Singh\"],[\"Rajkumar Santoshi\",\"Andaz Apna Apna\"],[\"Rajkumar Santoshi\",\"Ghayal\"],[\"Rajkumar Santoshi\",\"Pukar\"],[\"Rajkumar Santoshi\",\"Barsaat\"],[\"Rakesh Mehta\",\"Life Ki Toh Lag Gayi\"],[\"Rakesh Ranjan Kumar\",\"Paharganj\"],[\"Rakeysh Omprakash Mehra\",\"Mere Pyare Prime Minister\"],[\"Rakeysh Omprakash Mehra\",\"Delhi 6\"],[\"Rakeysh Omprakash Mehra\",\"Mirzya\"],[\"Rakeysh Omprakash Mehra\",\"Rang De Basanti\"],[\"Rakshith Thirthahalli\",\"Hombanna\"],[\"Ram\",\"Taramani\"],[\"Ram Gopal Varma\",\"Bhoot\"],[\"Ram Gopal Varma\",\"Contract\"],[\"Ram Gopal Varma\",\"Veerappan\"],[\"Ram Gopal Varma\",\"Company\"],[\"Ram Gopal Varma\",\"Shiva\"],[\"Ram Gopal Varma\",\"Agyaat\"],[\"Raman Kumar\",\"Saath Saath\"],[\"Ramesh Sippy\",\"Shimla Mirchi\"],[\"Ramesh Talwar\",\"Duniya\"],[\"Rana Ranbir\",\"Asees\"],[\"Ranjit Jeyakodi\",\"Puriyatha Puthir\"],[\"Ranjit Tiwari\",\"Lucknow Central\"],[\"Ravi Babu\",\"Aaviri\"],[\"Ravi Udyawar\",\"Mom\"],[\"Ravikanth Perepu\",\"Krishna and His Leela\"],[\"Ravishankar Venkateswaran\",\"A truthful Mother\"],[\"Reema Kagti\",\"Honeymoon Travels Pvt. Ltd.\"],[\"Reema Kagti\",\"Talaash\"],[\"Remo D'Souza\",\"ABCD: Any Body Can Dance\"],[\"Remo D'Souza\",\"A Flying Jatt\"],[\"Remo D'Souza\",\"ABCD 2\"],[\"Remy Kohli\",\"Kuldip Patwal: I Didn't Do It!\"],[\"Renzil D'Silva\",\"Ungli\"],[\"Renzil D'Silva\",\"Kurbaan\"],[\"Ribhu Dasgupta\",\"TE3N\"],[\"Ribhu Dasgupta\",\"Michael\"],[\"Rikhil Bahadur\",\"Time Out\"],[\"Rima Das\",\"Bulbul Can Sing\"],[\"Robbie Grewal\",\"Romeo Akbar Walter\"],[\"Rohan Sippy\",\"BluffMaster!\"],[\"Rohit Jugraj\",\"Jatt James Bond\"],[\"Rohit Jugraj\",\"Khido Khundi\"],[\"Rohit Mittal\",\"Autohead\"],[\"Rohit Shetty\",\"(?)\"],[\"Rohit Shetty\",\"Singham\"],[\"Rohit Shetty\",\"Golmaal: Fun Unlimited\"],[\"Rohit Shetty\",\"Dilwale\"],[\"Ruchi Narain\",\"Guilty\"],[\"S.S. Rajamouli\",\"Baahubali: The Beginning (Hindi Version)\"],[\"S.S. Rajamouli\",\"Baahubali 2: The Conclusion (Hindi Version)\"],[\"Saandeep Patel\",\"Love Ni Bhavai\"],[\"Sabal Singh Shekawat\",\"Fireflies\"],[\"Sabir Khan\",\"Baaghi\"],[\"Sabu Varghese\",\"Mythily Veendum Varunnu\"],[\"Sachin\",\"Ideachi Kalpana\"],[\"Sachin\",\"Maza Pati Karodpati\"],[\"Sachin Kamlakar Khot\",\"Ugly Aur Pagli\"],[\"Sachin Kundalkar\",\"Aiyyaa\"],[\"Sachin Yardi\",\"Chopsticks\"],[\"Sachin Yardi\",\"C Kkompany\"],[\"Safdar Rahman\",\"Chippa\"],[\"Sagar Sarhadi\",\"Bazaar\"],[\"Saheed Arafath\",\"Theeram\"],[\"Sai Paranjape\",\"Katha\"],[\"Saji Surendran\",\"Husbands in Goa\"],[\"Sajid Khan\",\"Himmatwala\"],[\"Saket Behl\",\"What the Jatt!!\"],[\"Saket Chaudhary\",\"Pyaar Ke Side Effects\"],[\"Samar Khan\",\"Shaurya: It Takes Courage to Make Right... Right\"],[\"Samar Shaikh\",\"Bobby Jasoos\"],[\"Sameer Patil\",\"Poshter Girl\"],[\"Sameer Sharma\",\"Luv Shuv Tey Chicken Khurana\"],[\"Sameer Vidwans\",\"Time Please\"],[\"Sameer Vidwans\",\"Mala Kahich Problem Nahi\"],[\"Samir Karnik\",\"Kyun! Ho Gaya Na\"],[\"Samir Soni\",\"My Birthday Song\"],[\"Samit Kakkad\",\"Ascharyachakit!\"],[\"Sandeep Chatterjee\",\"Adrishya\"],[\"Sandeep Reddy Vanga\",\"Kabir Singh\"],[\"Sangeeth Sivan\",\"Yamla Pagla Deewana 2\"],[\"Sangeeth Sivan\",\"Kyaa Kool Hai Hum\"],[\"Sanjay Dayma\",\"Ramji Londonwaley\"],[\"Sanjay Gupta\",\"Kaabil\"],[\"Sanjay Jadhav\",\"Luckee\"],[\"Sanjay Jadhav\",\"Fakta Ladh Mhana\"],[\"Sanjay Leela Bhansali\",\"Guzaarish\"],[\"Sanjay Soorkar\",\"Sakhi\"],[\"Sanjeev Gupta\",\"INDIA\"],[\"Sanjib Dey\",\"III Smoking Barrels\"],[\"Sanjiv Jaiswal\",\"Pranaam\"],[\"Santosh Manjrekar\",\"Mi Shivajiraje Bhosale Boltoy\"],[\"Santosh Sivan\",\"Asoka\"],[\"Santosh Sivan\",\"Tahaan\"],[\"Santram Varma\",\"Krishna Cottage\"],[\"Santwana Bardoloi\",\"\\u200bMaj Rati \\u200b\\u200bKeteki\"],[\"Saravana Rajan\",\"R.K.Nagar\"],[\"Saravana Rajendran\",\"Mehandi Circus\"],[\"Sarjun\",\"Echcharikkai\"],[\"Sartaj Singh Pannu\",\"Tiger\"],[\"Sarthak Dasgupta\",\"Music Teacher\"],[\"Sathyan Anthikad\",\"Njan Prakashan\"],[\"Satish Kaushik\",\"Karzzzz\"],[\"Satish Kaushik\",\"Hamara Dil Aapke Paas Hai\"],[\"Satish Manwar\",\"The Damned Rain\"],[\"Satish Rajwade\",\"Mumbai Delhi Mumbai\"],[\"Satish Rajwade\",\"Premachi Goshta\"],[\"Satish Rajwade\",\"Aapla Manus\"],[\"Satyajit Bhatkal\",\"Zokkomon\"],[\"Satyajit Bhatkal\",\"Madness in the Desert\"],[\"Saurabh Kabra\",\"EMI: Liya Hai To Chukana Padega\"],[\"Saurabh Sinha\",\"Saavat\"],[\"Saurav Palodhi\",\"Colkatay Columbus\"],[\"Sekhar Kammula\",\"Anaamika\"],[\"Selvamani Selvaraj\",\"Nila\"],[\"Shaad Ali\",\"Soorma\"],[\"Shadab Khan\",\"B.A. Pass 2\"],[\"Shakti Samanta\",\"The Great Gambler\"],[\"Shakun Batra\",\"Ek Main Aur Ekk Tu\"],[\"Shakun Batra\",\"Kapoor & Sons\"],[\"Shammi Kapoor\",\"Manoranjan\"],[\"Shamzu Zayba\",\"Maniyarayile Ashokan\"],[\"Shanavas K. Bavakutty\",\"Thottappan\"],[\"Shanawaz Nellikunnil\",\"Candyflip\"],[\"Shanker Raman\",\"Gurgaon\"],[\"Sharan Sharma\",\"Gunjan Saxena: The Kargil Girl\"],[\"Shashank Khaitan\",\"Humpty Sharma Ki Dulhania\"],[\"Shashanka Ghosh\",\"Khoobsurat\"],[\"Shashanka Ghosh, Samit Basu\",\"House Arrest\"],[\"Shashilal K. Nair\",\"One 2 Ka 4\"],[\"Shawn Arranha\",\"Hide & Seek\"],[\"Shekhar Kapur\",\"Masoom\"],[\"Shelly Chopra Dhar\",\"Ek Ladki Ko Dekha Toh Aisa Laga\"],[\"Shirish Kunder\",\"Mrs. Serial Killer\"],[\"Shirish Kunder\",\"Jaan-E-Mann: Let's Fall in Love... Again\"],[\"Shirish Kunder\",\"Joker\"],[\"Shivam Nair\",\"Ahista Ahista\"],[\"Shivam Nair\",\"Naam Shabana\"],[\"Shivendra Singh Dungarpur\",\"Celluloid Man\"],[\"Shlok Sharma\",\"Haraamkhor\"],[\"Shlok Sharma\",\"Zoo\"],[\"Shoojit Sircar\",\"Madras Caf\\u00e9\"],[\"Shravan Kumar\",\"706\"],[\"Shree Narayan Singh\",\"Toilet: Ek Prem Katha\"],[\"Shreyas Talpade\",\"Poster Boys\"],[\"Shrihari Sathe\",\"1000 Rupee Note\"],[\"Shubham Singh\",\"Penalty\"],[\"Shyam Benegal\",\"Welcome to Sajjanpur\"],[\"Shyam Benegal\",\"Trikal (Past, Present, Future)\"],[\"Shyam Benegal\",\"Well Done Abba\"],[\"Shyam Benegal\",\"Mandi\"],[\"Siddique\",\"Bodyguard\"],[\"Simranjit Singh Hundal\",\"25 Kille\"],[\"Smeep Kang\",\"Bhaji In Problem\"],[\"Smeep Kang\",\"Lock\"],[\"Sneha Taurani\",\"Bhangra Paa Le\"],[\"Sohail Khan\",\"Hello Brother\"],[\"Sohail Tatari\",\"Ankur Arora Murder Case\"],[\"Soham Shah\",\"Kaal\"],[\"Sooni Taraporevala\",\"Yeh Ballet\"],[\"Sooraj R. Barjatya\",\"Prem Ratan Dhan Payo\"],[\"Sooraj R. Barjatya\",\"Vivah\"],[\"Sooraj R. Barjatya\",\"(?)\"],[\"Sooraj R. Barjatya\",\"Maine Pyar Kiya\"],[\"Sooraj R. Barjatya\",\"Hum Aapke Hain Koun\"],[\"Soukarya Ghosal\",\"Rainbow Jelly\"],[\"Soumendra Padhi\",\"Jamtara - Sabka Number Ayega\"],[\"Soumendra Padhi\",\"Budhia Singh: Born to Run\"],[\"Soumitra Ranade\",\"Albert Pinto Ko Gussa Kyun Aata Hai?\"],[\"Sridhar Rangayan\",\"Evening Shadows\"],[\"Sridhar Rangayan\",\"Breaking Free\"],[\"Sriram Raghavan\",\"Ek Hasina Thi\"],[\"Sriram Raghavan\",\"Andhadhun\"],[\"Subhash Ghai\",\"Khalnayak\"],[\"Subhash Ghai\",\"Yaadein\"],[\"Subhash Ghai\",\"Taal\"],[\"Subhash Ghai\",\"Pardes\"],[\"Sudesh Manjrekar\",\"Shahanpan Dega Deva\"],[\"Sudesh Manjrekar, Atul Kale\",\"Matichya Chuli\"],[\"Sudha Kongara, Vignesh Shivan, Gautham Vasudev Menon, Vetri Maaran\",\"Paava Kadhaigal\"],[\"Sudhanshu Saria\",\"Loev\"],[\"Sudhir Mishra\",\"Chameli\"],[\"Sudhir Mishra\",\"Serious Men\"],[\"Sudhir Mishra\",\"Inkaar\"],[\"Sudip Bandyopadhyay\",\"Hope Aur Hum\"],[\"Sudipto Roy\",\"Kia and Cosmos\"],[\"Suhas Kadav\",\"Motu Patlu: King of Kings\"],[\"Sujeeth\",\"Saaho\"],[\"Sujoy Ghosh\",\"Badla\"],[\"Sujoy Ghosh\",\"Kahaani\"],[\"Sujoy Ghosh\",\"Jhankaar Beats\"],[\"Sukhbir Singh\",\"Teshan\"],[\"Suman Mukhopadhyay\",\"Incomplete\"],[\"Sumit Das\",\"Super Bheem Bana Vajraveer\"],[\"Sumitra Bhave, Sunil Sukthankar\",\"Ek Cup Chya\"],[\"Sumitra Bhave, Sunil Sukthankar\",\"Devrai\"],[\"Sumitra Bhave, Sunil Sukthankar\",\"Badha\"],[\"Sundar C.\",\"Theeya Velai Seyyanum Kumaru\"],[\"Sundar C.\",\"Kalakalappu\"],[\"Sunil Thakur\",\"Marriage Palace\"],[\"Suparn Verma\",\"Ek Khiladi Ek Haseena\"],[\"Supavitra Babul\",\"Bittoo Boss\"],[\"Surya S.J., Sunil Kumar Agrawal\",\"Khushi\"],[\"Suseenthiran\",\"Genius\"],[\"Sushil Majumdar\",\"Lal Patthar\"],[\"Swapna Waghmare Joshi\",\"Savita Damodar Paranjpe\"],[\"Swapnaneel Jayakar\",\"15-Aug\"],[\"Syed Ahmad Afzal\",\"Laal Rang\"],[\"Tanuj Bhramar\",\"Dear Dad\"],[\"Tanuja Chandra\",\"Qarib Qarib Singlle\"],[\"Tanuja Chandra\",\"Sur: The Melody of Life\"],[\"Tanveer Khan\",\"Deadline: Sirf 24 Ghante\"],[\"Tariq Khan\",\"The Dark Side of Life: Mumbai City\"],[\"Tarun Mansukhani\",\"Drive\"],[\"Tathagata Banerjee\",\"Mandobasar Galpo\"],[\"Tejas Prabha Vijay Deoskar\",\"Bucket List\"],[\"Terrie Samundra\",\"Kaali Khuhi\"],[\"Tharun Bhascker\",\"Ee Nagaraniki Emaindi\"],[\"Thiagarajan Kumararaja\",\"Super Deluxe\"],[\"Thiru\",\"Mr. Chandramouli\"],[\"Thiru\",\"Naan Sigappu Manithan\"],[\"Tigmanshu Dhulia\",\"Paan Singh Tomar\"],[\"Tigmanshu Dhulia\",\"Saheb Biwi Aur Gangster Returns\"],[\"Tilak Shetty\",\"Krish Trish and Baltiboy: Face Your Fears\"],[\"Tinnu Anand\",\"Kaalia\"],[\"Trivikram Srinivas\",\"Ala Vaikunthapurramuloo\"],[\"Udai Singh Pawar\",\"Upstarts\"],[\"Umesh Ghadge\",\"Kyaa Kool Hain Hum 3\"],[\"Umesh Mehra\",\"Yaar Gaddar\"],[\"Umesh Mehra\",\"Aashik Awara\"],[\"Umesh Mehra\",\"Qila\"],[\"Umesh Mehra\",\"Jaal\"],[\"Umesh Mehra\",\"Mujrim\"],[\"Umesh Shukla\",\"Dhoondte Reh Jaoge\"],[\"Umesh Shukla\",\"Oh My God\"],[\"Uttung Shelar\",\"Aata Pita\"],[\"V C Abhilash\",\"Aalorukkam\"],[\"V Vignarajan\",\"Andhakaaram\"],[\"V. K. Prakash\",\"Ishqedarriyaan\"],[\"Vandana Kataria\",\"Noblemen\"],[\"Varun Narvekar\",\"Muramba\"],[\"Vasan Bala\",\"The Man Who Feels No Pain\"],[\"Venkatesh Maha\",\"Uma Maheswara Ugra Roopasya\"],[\"Venky Kudumula\",\"Bheeshma\"],[\"Venugopan\",\"Sarvopari Palakkaran\"],[\"Vetrimaaran\",\"Interrogation\"],[\"Vibhu Virender Puri\",\"Hawaizaada\"],[\"Vijay\",\"Thaandavam\"],[\"Vijay Jayapal\",\"Revelations\"],[\"Vijay Kumar\",\"Uriyadi 2\"],[\"Vijay Kumar Arora\",\"Baby Dolls\"],[\"Vijay Lalwani\",\"Karthik Calling Karthik\"],[\"Vijay Maurya\",\"PhotoCopy\"],[\"Vijay Milton\",\"\\u200bGoli Soda 2\"],[\"Vijay Yelakanti\",\"W/O Ram\"],[\"Vikas Bahl\",\"Queen\"],[\"Vikas Bahl\",\"Magnificent\"],[\"Vikas Bahl, Nitesh Tiwari\",\"Chillar Party\"],[\"Vikram Bhatt\",\"1920\"],[\"Vikram Pradhan\",\"Sat Shri Akaal England\"],[\"Vikramaditya Motwane\",\"AK vs AK\"],[\"Vikramaditya Motwane\",\"Udaan\"],[\"Vikramaditya Motwane\",\"Bhavesh Joshi Superhero\"],[\"Vineeth Anil\",\"Kaviyude Osyath\"],[\"Vinil Mathew\",\"Hasee Toh Phasee\"],[\"Vinod Kapri\",\"Pihu\"],[\"Vipin Parashar\",\"Saadey CM Saab\"],[\"Vipul Amrutlal Shah\",\"Action Replayy\"],[\"Vipul Amrutlal Shah\",\"Namastey London\"],[\"Vir Das\",\"Vir Das: Outside In - The Lockdown Special\"],[\"Vir Das, Ajay Bhuyan\",\"Vir Das: For India\"],[\"Vishal Bhardwaj\",\"Kaminey\"],[\"Vishal Bhardwaj\",\"7 Khoon Maaf\"],[\"Vishal Bhardwaj\",\"Rangoon\"],[\"Vishal Bhardwaj\",\"Haider\"],[\"Vishal Bhardwaj\",\"The Blue Umbrella\"],[\"Vishal Mahadkar\",\"Blood Money\"],[\"Vishal Mishra\",\"Coffee with D\"],[\"Vishnu Govindhan\",\"History of Joy\"],[\"Vivek Wagh\",\"Siddhant\"],[\"Zakariya\",\"Sudani from Nigeria\"],[\"Zoya Akhtar\",\"Zindagi Na Milegi Dobara\"],[\"Zoya Akhtar\",\"Luck by Chance\"],[\"Zoya Akhtar\",\"Dil Dhadakne Do\"],[\"Zoya Akhtar, Karan Johar, Anurag Kashyap, Dibakar Banerjee\",\"Lust Stories\"],[\"(?)\",\"(?)\"],[\"(?)\",\"(?)\"],[\"(?)\",\"(?)\"],[\"(?)\",\"(?)\"],[\"(?)\",\"(?)\"],[\"(?)\",\"(?)\"],[\"(?)\",\"(?)\"],[\"(?)\",\"(?)\"],[\"(?)\",\"(?)\"],[\"(?)\",\"(?)\"],[\"(?)\",\"(?)\"],[\"(?)\",\"(?)\"],[\"(?)\",\"(?)\"],[\"(?)\",\"(?)\"],[\"(?)\",\"(?)\"],[\"(?)\",\"(?)\"],[\"(?)\",\"(?)\"],[\"(?)\",\"(?)\"],[\"(?)\",\"(?)\"],[\"(?)\",\"(?)\"],[\"(?)\",\"(?)\"],[\"(?)\",\"(?)\"],[\"(?)\",\"(?)\"],[\"(?)\",\"(?)\"],[\"(?)\",\"(?)\"],[\"(?)\",\"(?)\"],[\"(?)\",\"(?)\"],[\"(?)\",\"(?)\"],[\"(?)\",\"(?)\"],[\"(?)\",\"(?)\"],[\"(?)\",\"(?)\"],[\"(?)\",\"(?)\"],[\"(?)\",\"(?)\"],[\"(?)\",\"(?)\"],[\"(?)\",\"(?)\"],[\"(?)\",\"(?)\"],[\"(?)\",\"(?)\"],[\"(?)\",\"(?)\"],[\"(?)\",\"(?)\"],[\"(?)\",\"(?)\"],[\"(?)\",\"(?)\"],[\"(?)\",\"(?)\"],[\"(?)\",\"(?)\"],[\"(?)\",\"(?)\"],[\"(?)\",\"(?)\"],[\"(?)\",\"(?)\"],[\"(?)\",\"(?)\"],[\"(?)\",\"(?)\"],[\"(?)\",\"(?)\"],[\"(?)\",\"(?)\"],[\"(?)\",\"(?)\"],[\"(?)\",\"(?)\"],[\"(?)\",\"(?)\"],[\"(?)\",\"(?)\"],[\"(?)\",\"(?)\"],[\"(?)\",\"(?)\"],[\"(?)\",\"(?)\"],[\"(?)\",\"(?)\"],[\"(?)\",\"(?)\"],[\"(?)\",\"(?)\"],[\"(?)\",\"(?)\"],[\"(?)\",\"(?)\"],[\"(?)\",\"(?)\"],[\"(?)\",\"(?)\"],[\"(?)\",\"(?)\"],[\"(?)\",\"(?)\"],[\"(?)\",\"(?)\"],[\"(?)\",\"(?)\"],[\"(?)\",\"(?)\"],[\"(?)\",\"(?)\"],[\"(?)\",\"(?)\"],[\"(?)\",\"(?)\"],[\"(?)\",\"(?)\"],[\"(?)\",\"(?)\"],[\"(?)\",\"(?)\"],[\"(?)\",\"(?)\"],[\"(?)\",\"(?)\"],[\"Raj Kapoor\",\"Ram Teri Ganga Maili\"],[\"Farah Khan\",\"Happy New Year\"],[\"(?)\",\"(?)\"],[\"(?)\",\"(?)\"],[\"(?)\",\"(?)\"],[\"Sooraj R. Barjatya\",\"Hum Aapke Hain Koun\"],[\"Ashutosh Gowariker\",\"What's Your Raashee?\"],[\"Karan Johar\",\"Kabhi Khushi Kabhie Gham\"],[\"Ashutosh Gowariker\",\"Jodhaa Akbar\"],[\"Ashutosh Gowariker\",\"Lagaan\"],[\"Raj Kapoor\",\"Sangam\"],[\"Dhilip Kumar\",\"Kalki\"],[\"Vir Das\",\"Vir Das: Outside In - The Lockdown Special\"],[\"Kireet Khurana, Padmakumar Narasimhamurthy\",\"Saeed Mirza: The Leftist Sufi\"],[\"(?)\",\"(?)\"],[\"Tilak Shetty\",\"Krish Trish and Baltiboy: Face Your Fears\"],[\"Angshuman Ghosh\",\"Kenny Sebastian: The Most Interesting Person in the Room\"],[\"(?)\",\"(?)\"],[\"Nishil Sheth\",\"Bhasmasur\"],[\"(?)\",\"(?)\"],[\"Vir Das, Ajay Bhuyan\",\"Vir Das: For India\"],[\"Manjeet Singh\",\"Mumbai Cha Raja\"],[\"Kaizad Gustad\",\"Boom\"],[\"Pawan K Shrivastava\",\"Life of An Outcast\"],[\"Sridhar Rangayan\",\"Breaking Free\"],[\"(?)\",\"(?)\"],[\"(?)\",\"(?)\"],[\"Ribhu Dasgupta\",\"Michael\"],[\"(?)\",\"(?)\"],[\"(?)\",\"(?)\"],[\"(?)\",\"(?)\"],[\"(?)\",\"(?)\"],[\"(?)\",\"(?)\"],[\"(?)\",\"(?)\"],[\"(?)\",\"(?)\"],[\"(?)\",\"(?)\"],[\"(?)\",\"(?)\"],[\"(?)\",\"(?)\"],[\"(?)\",\"(?)\"],[\"(?)\",\"(?)\"],[\"(?)\",\"(?)\"]],\"domain\":{\"x\":[0.0,1.0],\"y\":[0.0,1.0]},\"hovertemplate\":\"labels=%{label}<br>count=%{value}<br>parent=%{parent}<br>id=%{id}<br>director=%{customdata[0]}<br>title=%{customdata[1]}<extra></extra>\",\"ids\":[\"131 min/A. L. Vijay\",\"93 min/A. L. Vijay\",\"117 min/A. Raajdheep\",\"134 min/A. Salaam\",\"140 min/A.R. Murugadoss\",\"107 min/Aadish Keluskar\",\"100 min/Aamir Bashir\",\"162 min/Aamir Khan\",\"114 min/Aanand Rai\",\"159 min/Aanand Rai\",\"129 min/Aatmaram Dharne\",\"132 min/Abbas Alibhai Burmawalla, Mastan Alibhai Burmawalla\",\"139 min/Abbas Alibhai Burmawalla, Mastan Alibhai Burmawalla\",\"153 min/Abbas Alibhai Burmawalla, Mastan Alibhai Burmawalla\",\"162 min/Abbas Alibhai Burmawalla, Mastan Alibhai Burmawalla\",\"155 min/Abbas Mustan\",\"147 min/Abbas Tyrewala\",\"105 min/Abhay Chopra\",\"157 min/Abhijeet Deshpande\",\"116 min/Abhijit Kokate, Srivinay Salian\",\"135 min/Abhijit Panse\",\"101 min/Abhinay Deo\",\"123 min/Abhinay Deo\",\"135 min/Abhinay Deo\",\"115 min/Abhishek Chaubey\",\"146 min/Abhishek Chaubey\",\"120 min/Abhishek Kapoor\",\"124 min/Abhishek Kapoor\",\"139 min/Abhishek Kapoor\",\"96 min/Abhishek Saxena\",\"123 min/Abhishek Sharma\",\"124 min/Abhishek Sharma\",\"135 min/Abhishek Sharma\",\"143 min/Abhishek Varman\",\"107 min/Aditya Kripalani\",\"151 min/Aditya Kripalani\",\"136 min/Aditya Sarpotdar\",\"150 min/Aditya Sarpotdar\",\"96 min/Aditya Vikram Sengupta\",\"150 min/Advait Chandan\",\"91 min/Agnidev Chatterjee\",\"125 min/Ahishor Solomon\",\"108 min/Aijaz Khan\",\"99 min/Ajay Bahl\",\"118 min/Ajay Bhuyan, Kunal Kohli\",\"151 min/Ajay Phansekar\",\"153 min/Ajithkumar\",\"111 min/Akashdeep\",\"132 min/Akhil Paul, Anas Khan\",\"102 min/Akshay Akkineni\",\"120 min/Alankrita Shrivastava\",\"141 min/Alo Sarkar\",\"119 min/Amaan Khan\",\"130 min/Amal Neerad\",\"103 min/Amar Gupte\",\"127 min/Amar Kaushik\",\"135 min/Amardeep Singh Gill\",\"129 min/Amarpreet G S Chabbra\",\"127 min/Amit Barot\",\"136 min/Amit Rai\",\"115 min/Amit Roy\",\"115 min/Amit Saxena\",\"101 min/Amitabha Singh\",\"112 min/Amitava Bhattacharya\",\"117 min/Amitoj Mann\",\"126 min/Amitoj Mann\",\"137 min/Amitoj Mann\",\"134 min/Amol Palekar\",\"93 min/Amshan Kumar\",\"103 min/Anand Ravichandran\",\"133 min/Anand Tiwari\",\"116 min/Ananda Krishnan\",\"116 min/Anant Balani\",\"109 min/Ananth Narayan Mahadevan\",\"131 min/Anees Bazmee\",\"144 min/Anees Bazmee\",\"149 min/Anees Bazmee\",\"153 min/Anees Bazmee\",\"156 min/Anees Bazmee\",\"161 min/Anees Bazmee\",\"68 min/Angshuman Ghosh\",\"150 min/Anik Datta\",\"143 min/Anil Sharma\",\"128 min/Anil Thomas\",\"136 min/Anil V. Kumar\",\"130 min/Aniruddha Roy Chowdhury\",\"123 min/Anita Udeep\",\"144 min/Anoop Sathyan\",\"129 min/Anthony D'Souza\",\"139 min/Anthony D'Souza\",\"94 min/Anu Menon\",\"125 min/Anubhav Sinha\",\"126 min/Anurag Basu\",\"144 min/Anurag Basu\",\"150 min/Anurag Basu\",\"155 min/Anurag Basu\",\"114 min/Anurag Kashyap\",\"125 min/Anurag Kashyap\",\"133 min/Anurag Kashyap\",\"137 min/Anurag Kashyap\",\"162 min/Anurag Kashyap\",\"123 min/Anurag Kashyap, Dibakar Banerjee, Karan Johar, Zoya Akhtar\",\"145 min/Anurag Kashyap, Dibakar Banerjee, Karan Johar, Zoya Akhtar\",\"113 min/Anuranjan Premji\",\"109 min/Anusha Rizvi, Mahmood Farooqui\",\"94 min/Anvita Dutt\",\"116 min/Apoorva Lakhia\",\"119 min/Apoorva Lakhia\",\"112 min/Apurva Dhar Badgaiyann\",\"113 min/Arati Kadav\",\"106 min/Arjun Gourisaria, Moinak Biswas\",\"143 min/Arjun Jandyala\",\"91 min/Arnab Chaudhuri\",\"104 min/Arun Chidambaram\",\"124 min/Arun Vaidyanathan\",\"117 min/Aruna Raje\",\"124 min/Ashish R. Mohan\",\"107 min/Ashok Nanda\",\"120 min/Ashok Nanda\",\"130 min/Ashu Trikha\",\"168 min/Ashutosh Gowariker\",\"171 min/Ashutosh Gowariker\",\"185 min/Ashutosh Gowariker\",\"203 min/Ashutosh Gowariker\",\"214 min/Ashutosh Gowariker\",\"224 min/Ashutosh Gowariker\",\"110 min/Ashwiny Iyer Tiwari\",\"100 min/Atanu Ghosh\",\"127 min/Atanu Ghosh\",\"103 min/Atanu Mukherjee\",\"137 min/Atharv Baluja\",\"133 min/Athiyan Athirai\",\"162 min/Atlee Kumar\",\"98 min/Atul Sabharwal\",\"120 min/Avadhoot Gupte\",\"121 min/Avadhoot Gupte\",\"107 min/Avinash Arun\",\"111 min/Avinash Das\",\"75 min/Avinash Walzade\",\"132 min/Ayaan Mukherji\",\"85 min/Ayush Raina\",\"145 min/Aziz Mirza\",\"159 min/Aziz Mirza\",\"166 min/Aziz Mirza\",\"134 min/B. Subhash\",\"133 min/B. Unnikrishnan\",\"157 min/B. V. Nandini Reddy\",\"147 min/B.N. Shajeer Sha\",\"136 min/Baljit Singh Deo\",\"137 min/Balu Mahendra\",\"134 min/Basava Shankar Eeday\",\"104 min/Basu Chatterjee\",\"123 min/Basu Chatterjee\",\"72 min/Bauddhayan Mukherji\",\"126 min/Bejoy Nambiar\",\"98 min/Bejoy Nambiar\",\"137 min/Bhagyaraj\",\"103 min/Bharat Jain\",\"103 min/Bhavin Wadia\",\"113 min/Bhushan Patel\",\"110 min/Binu Ulahhannan\",\"127 min/Biswajeet Bora\",\"87 min/Buddhadev Dasgupta\",\"120 min/Buta Singh\",\"107 min/Chakri Toleti\",\"129 min/Chandan Arora\",\"131 min/Chandra Prakash Dwivedi\",\"118 min/Chandrakant Kanse\",\"126 min/Chandrakant Kulkarni\",\"133 min/Chandrakant Kulkarni\",\"162 min/Chandrakant Kulkarni\",\"89 min/Chandran Narikode\",\"108 min/Danish Aslam\",\"119 min/Dar Gai\",\"114 min/Datta Mohan Bhandare\",\"121 min/David Dhawan\",\"132 min/David Dhawan\",\"133 min/David Dhawan\",\"137 min/David Dhawan\",\"145 min/David Dhawan\",\"150 min/David Dhawan\",\"151 min/David Dhawan\",\"158 min/David Dhawan\",\"118 min/Debaloy Dey\",\"132 min/Debamitra Biswal\",\"118 min/Deep Joshi\",\"121 min/Deepti Naval\",\"160 min/Desingh Periyasamy\",\"83 min/Devaki Singh, Luke Kenny\",\"105 min/Devashish Makhija\",\"135 min/Devika Bhagat\",\"124 min/Dhanush\",\"141 min/Dharmendra Suresh Desai\",\"149 min/Dharmesh Darshan\",\"177 min/Dharmesh Darshan\",\"1 Season/Dheeraj Berry\",\"41 min/Dhilip Kumar\",\"109 min/Dibakar Banerjee\",\"112 min/Dibakar Banerjee\",\"118 min/Dibakar Banerjee\",\"124 min/Dibakar Banerjee\",\"104 min/Dileep Narayanan\",\"83 min/Dylan Mohan Gray\",\"162 min/Eeshwar Nivas\",\"120 min/Emcy Joseph\",\"125 min/Farah Khan\",\"169 min/Farah Khan\",\"171 min/Farah Khan\",\"179 min/Farah Khan\",\"109 min/Faraz Haider\",\"169 min/Farhan Akhtar\",\"185 min/Farhan Akhtar\",\"63 min/Fazila Allana\",\"125 min/Feroz\",\"127 min/Fuwad Khan\",\"109 min/Gafoor Y. Elliyaas\",\"114 min/Gagan Puri\",\"126 min/Gajendra Ahire\",\"92 min/Gajendra Ahire\",\"131 min/Gajendra Ahire, Viju Mane, Girish Mohite, Ravi Jadhav\",\"116 min/Ganesh Kadam\",\"112 min/Gangadhar Salimath\",\"141 min/Gaurav Narayanan\",\"136 min/Gauravv K Chawla\",\"149 min/Gauri Shinde\",\"104 min/Geetu Mohandas\",\"115 min/Girish Joshi\",\"132 min/Girish Malik\",\"133 min/Girish Malik\",\"115 min/Gulzar\",\"96 min/Gurmmeet Singh\",\"148 min/Gurudev Bhalla\",\"106 min/Habib Faisal\",\"133 min/Halitha Shameem\",\"105 min/Hardik Mehta\",\"132 min/Hari Nath\",\"83 min/Hari Viswanath\",\"124 min/Harjit Singh\",\"126 min/Harry Baweja\",\"140 min/Harshavardhan Kulkarni\",\"105 min/Hemant Gaba, Pratim D. Gupta, Sudhish Kamath, Nalan Kumarasamy, Anu Menon, Sandeep Mohan, Qaushiq Mukherjee, Rajshree Ojha, Raja Sen, Abhinav Shiv Tiwari, Suparn Verma\",\"150 min/Honey Trehan\",\"120 min/Hrishikesh Mukherjee\",\"125 min/Hrishikesh Mukherjee\",\"127 min/Hrishikesh Mukherjee\",\"137 min/Hrishikesh Mukherjee\",\"127 min/Imtiaz Ali\",\"133 min/Imtiaz Ali\",\"137 min/Imtiaz Ali\",\"140 min/Imtiaz Ali\",\"142 min/Imtiaz Ali\",\"143 min/Imtiaz Ali\",\"127 min/Indra Kumar\",\"128 min/Indra Kumar\",\"165 min/Indra Kumar\",\"173 min/Indra Kumar\",\"93 min/Indra Kumar\",\"117 min/Indrajit Nattoji\",\"127 min/Indrasis Acharya\",\"108 min/Ishaan Trivedi\",\"97 min/Ivan Ayr\",\"137 min/Jagdeep Sidhu\",\"103 min/Jaivi Dhanda\",\"123 min/Jasbir Bijendra Bhati\",\"93 min/Jasmine D'Souza\",\"110 min/Jatla Siddartha\",\"117 min/Jayan Vannery\",\"109 min/Jayaprakash Radhakrishnan\",\"88 min/Jayaraj Rajasekharan Nair\",\"101 min/Jeethu Joseph\",\"148 min/Jeethu Joseph\",\"134 min/Jeeva\",\"105 min/Jijo Pancode\",\"113 min/Jitender Pawar\",\"122 min/Jitendra Tiwari, Pranav Singh\",\"151 min/Johnson Esthappan\",\"107 min/Jonathan Augustin\",\"116 min/K. Gopinathan\",\"143 min/K. Ramanlal\",\"141 min/K. Subhash\",\"107 min/K.C. Bokadia\",\"134 min/KVR Mahendra\",\"129 min/Kabir Khan\",\"112 min/Kabir Sadanand\",\"128 min/Kabir Sadanand\",\"79 min/Kaizad Gustad\",\"141 min/Kamal Sahani\",\"92 min/Kanika Batra\",\"134 min/Karan Anshuman\",\"185 min/Karan Johar\",\"192 min/Karan Johar\",\"209 min/Karan Johar\",\"97 min/Karan Shivajirao Chavan, Vikram Tanajirao Patil\",\"170 min/Karthik Subbaraj\",\"137 min/Kedar Shinde\",\"151 min/Kedar Shinde\",\"124 min/Keerthi\",\"117 min/Ken Ghosh\",\"121 min/Ken Ghosh\",\"129 min/Ken Ghosh\",\"114 min/Ketan Mehta\",\"154 min/Ketan Mehta\",\"163 min/Khalid Mohamed\",\"122 min/Kiran Narayanan\",\"102 min/Kiran Rao\",\"61 min/Kireet Khurana, Padmakumar Narasimhamurthy\",\"147 min/Kranthi Madhav\",\"110 min/Kranti Kanade\",\"132 min/Kranti Redkar\",\"128 min/Krish\",\"168 min/Krishna Vamshi\",\"128 min/Ksshitij Chaudhary\",\"132 min/Ksshitij Chaudhary\",\"124 min/Kumaran\",\"131 min/Kunal Deshmukh\",\"117 min/Kunal Kohli\",\"117 min/Kundan Shah\",\"149 min/Kundan Shah\",\"151 min/Kundan Shah\",\"176 min/Kundan Shah\",\"113 min/Kushal Srivastava\",\"125 min/Laxman Utekar\",\"119 min/Leena Yadav\",\"137 min/Leena Yadav\",\"146 min/Leena Yadav\",\"116 min/Lekh Tandon\",\"152 min/Lekh Tandon\",\"163 min/Lekh Tandon\",\"115 min/Lenin Bharathi\",\"128 min/Lijo Jose Pellissery\",\"136 min/Luv Ranjan\",\"149 min/Luv Ranjan\",\"116 min/Madhumita\",\"126 min/Madhur Bhandarkar\",\"130 min/Madhur Bhandarkar\",\"132 min/Madhur Bhandarkar\",\"143 min/Madhur Bhandarkar\",\"158 min/Madhur Bhandarkar\",\"142 min/Maha Venkatesh\",\"148 min/Mahesh Bhatt\",\"149 min/Mahesh Bhatt\",\"165 min/Mahesh Bhatt\",\"112 min/Mahesh Manjrekar\",\"116 min/Mahesh Manjrekar\",\"127 min/Mahesh Manjrekar\",\"145 min/Mahesh Manjrekar\",\"165 min/Mahesh Manjrekar\",\"103 min/Makarand Mane\",\"130 min/Makarand Mane\",\"116 min/Manav Shah\",\"118 min/Manbhavan Singh\",\"127 min/Mandeep Kumar\",\"133 min/Mangesh Hadawale\",\"140 min/Mangesh Kanthale\",\"155 min/Mani Ratnam\",\"160 min/Mani Ratnam\",\"166 min/Mani Ratnam\",\"117 min/Manika Sharma\",\"117 min/Manish Gupta\",\"118 min/Manish Jha\",\"134 min/Manish Jha\",\"127 min/Manish Saini\",\"140 min/Manish Tiwary\",\"145 min/Manjeet Maan\",\"77 min/Manjeet Singh\",\"172 min/Manmohan Desai\",\"145 min/Manoj Beedha\",\"114 min/Mansore\",\"119 min/Manu Ashokan\",\"155 min/Mastan Alibhai Burmawalla, Abbas Alibhai Burmawalla\",\"92 min/Megha Ramaswamy\",\"150 min/Midhun Manuel Thomas\",\"128 min/Mikhil Musale\",\"140 min/Mikhil Musale\",\"109 min/Milan Luthria\",\"133 min/Milan Luthria\",\"135 min/Milan Luthria\",\"142 min/Milan Luthria\",\"125 min/Milind Dhaimade\",\"135 min/Milind Rau\",\"132 min/Mohammed Hussain\",\"129 min/Mohit Suri\",\"131 min/Mohit Suri\",\"111 min/Mozez Singh\",\"135 min/Mrighdeep Singh Lamba\",\"133 min/Mukesh Vohra\",\"173 min/Mukul Anand\",\"174 min/Mukul Anand\",\"109 min/Munish Bhardwaj\",\"112 min/Musthafa\",\"143 min/Mysskin\",\"150 min/Mysskin\",\"137 min/N. Chandra\",\"146 min/N. Linguswamy\",\"156 min/N. Linguswamy\",\"102 min/Nagesh Kukunoor\",\"114 min/Nagesh Kukunoor\",\"115 min/Nagesh Kukunoor\",\"127 min/Nagesh Kukunoor\",\"102 min/Nagraj Manjule\",\"173 min/Nagraj Manjule\",\"135 min/Naman Nitin Mukesh\",\"114 min/Nandita Das\",\"136 min/Narendra Nath\",\"143 min/Naresh Saigal\",\"135 min/Navaniat Singh\",\"129 min/Navdeep Singh\",\"139 min/Navinder Pal Singh\",\"101 min/Navjot Gulati\",\"111 min/Navneet Behal\",\"103 min/Neeraj Pandey\",\"137 min/Neeraj Pandey\",\"158 min/Neeraj Pandey\",\"112 min/Neeraj Udhwani\",\"150 min/Neeraj Vora\",\"72 min/Neville Shah\",\"101 min/Nicholas Kharkongor\",\"89 min/Nicholas Kharkongor\",\"122 min/Nidhi Sharma\",\"132 min/Nikhil Advani\",\"140 min/Nikhil Advani\",\"100 min/Nikhil Nagesh Bhat\",\"187 min/Nikkhil Advani\",\"111 min/Nila Madhab Panda\",\"87 min/Nila Madhab Panda\",\"94 min/Nila Madhab Panda\",\"121 min/Nishanth Ravindaran, Jathin Sanker Raj\",\"161 min/Nisheeta Keni\",\"119 min/Nishikant Kamat\",\"134 min/Nishikant Kamat\",\"135 min/Nishikant Kamat\",\"162 min/Nishikant Kamat\",\"74 min/Nishil Sheth\",\"161 min/Nitesh Tiwari\",\"1 Season/Nizar Shafi\",\"126 min/Noushad\",\"120 min/Omung Kumar\",\"110 min/Onir\",\"116 min/Onir\",\"130 min/P.K. Baaburaaj\",\"125 min/P.T. Kunju Muhammad\",\"148 min/Pa. Ranjith\",\"104 min/Padmakumar Narasimhamurthy\",\"120 min/Pankaj Batra\",\"121 min/Pankaj Batra\",\"120 min/Param Gill\",\"131 min/Parambrata Chatterjee\",\"155 min/Parambrata Chatterjee\",\"99 min/Paresh Mokashi\",\"114 min/Paritosh Painter\",\"110 min/Partha Chakraborty\",\"103 min/Parthiban\",\"161 min/Partho Ghosh\",\"135 min/Partho Mitra\",\"121 min/Parveen Kumar\",\"1 Season/Patrick Graham\",\"80 min/Pawan K Shrivastava\",\"93 min/Pawan Kripalani\",\"121 min/Pawan Kumar\",\"177 min/Phanindra Narsetti\",\"113 min/Pooja Bhatt\",\"137 min/Prabhu Deva\",\"110 min/Prabhuraj\",\"121 min/Pradeep Verma\",\"107 min/Pradip Kurbah\",\"110 min/Prakash Balwant Saini\",\"146 min/Prakash Jha\",\"148 min/Prakash Jha\",\"161 min/Prakash Jha\",\"162 min/Prakash Jha\",\"164 min/Prakash Jha\",\"96 min/Prakash Kunte\",\"156 min/Prakash Mehra\",\"171 min/Prakash Mehra\",\"172 min/Prakash Mehra\",\"128 min/Pramod Pawar\",\"111 min/Prasanth Varma\",\"96 min/Prashant Nair\",\"85 min/Prasobh Vijayan\",\"118 min/Pratim D. Gupta\",\"163 min/Praveen Nischol\",\"116 min/Prawal Raman\",\"109 min/Prem Soni\",\"101 min/Priyadarshan\",\"132 min/Priyadarshan\",\"148 min/Priyadarshan\",\"151 min/Priyadarshan\",\"158 min/Priyadarshan, Kookie V. Gulati\",\"94 min/Pulkit\",\"126 min/Puneet Khanna\",\"101 min/Puneet Sira\",\"128 min/Punit Malhotra\",\"144 min/Punit Malhotra\",\"116 min/Puri Jagannadh\",\"109 min/Qaushiq Mukherjee\",\"113 min/Qaushiq Mukherjee\",\"130 min/R. Balki\",\"123 min/R. Kannan\",\"100 min/Raaghav Dar\",\"131 min/Radhika Rao, Vinay Sapru\",\"75 min/Rahat Kazmi\",\"143 min/Rahul Dholakia\",\"152 min/Rahul Ravindran\",\"133 min/Rai Yuvraj Bains\",\"132 min/Raj B. Shetty\",\"126 min/Raj Babu\",\"149 min/Raj Kanwar\",\"168 min/Raj Kapoor\",\"178 min/Raj Kapoor\",\"228 min/Raj Kapoor\",\"122 min/Raj Kaushal\",\"161 min/Raj Khosla\",\"129 min/Raj Kumar Gupta\",\"131 min/Raj Kumar Gupta\",\"95 min/Raj Kumar Gupta\",\"153 min/Raj N. Sippy\",\"106 min/Raj Nidimoru, Krishna D.K.\",\"131 min/Raj R\",\"137 min/Raja Chanda\",\"95 min/Raja Menon\",\"134 min/Rajan Madhav\",\"104 min/Rajat Kapoor\",\"97 min/Rajat Kapoor\",\"115 min/Rajeev Chaudhari\",\"122 min/Rajeev Patil\",\"103 min/Rajesh Ganguly\",\"133 min/Rajesh Mapuskar\",\"122 min/Rajesh Touchriver\",\"87 min/Rajiv Chilaka\",\"112 min/Rajiv Chilaka, Binayak Das\",\"142 min/Rajiv Mehra\",\"148 min/Rajiv Mehra\",\"151 min/Rajiv Mehra\",\"153 min/Rajiv Mehra\",\"164 min/Rajiv Mehra\",\"131 min/Rajiv Menon\",\"146 min/Rajkumar Hirani\",\"159 min/Rajkumar Hirani\",\"164 min/Rajkumar Hirani\",\"150 min/Rajkumar Santoshi\",\"156 min/Rajkumar Santoshi\",\"160 min/Rajkumar Santoshi\",\"163 min/Rajkumar Santoshi\",\"165 min/Rajkumar Santoshi\",\"166 min/Rajkumar Santoshi\",\"109 min/Rakesh Mehta\",\"107 min/Rakesh Ranjan Kumar\",\"103 min/Rakeysh Omprakash Mehra\",\"128 min/Rakeysh Omprakash Mehra\",\"129 min/Rakeysh Omprakash Mehra\",\"159 min/Rakeysh Omprakash Mehra\",\"126 min/Rakshith Thirthahalli\",\"148 min/Ram\",\"114 min/Ram Gopal Varma\",\"116 min/Ram Gopal Varma\",\"117 min/Ram Gopal Varma\",\"137 min/Ram Gopal Varma\",\"168 min/Ram Gopal Varma\",\"97 min/Ram Gopal Varma\",\"118 min/Raman Kumar\",\"121 min/Ramesh Sippy\",\"170 min/Ramesh Talwar\",\"123 min/Rana Ranbir\",\"120 min/Ranjit Jeyakodi\",\"144 min/Ranjit Tiwari\",\"110 min/Ravi Babu\",\"139 min/Ravi Udyawar\",\"126 min/Ravikanth Perepu\",\"85 min/Ravishankar Venkateswaran\",\"119 min/Reema Kagti\",\"140 min/Reema Kagti\",\"136 min/Remo D'Souza\",\"142 min/Remo D'Souza\",\"146 min/Remo D'Souza\",\"126 min/Remy Kohli\",\"114 min/Renzil D'Silva\",\"147 min/Renzil D'Silva\",\"128 min/Ribhu Dasgupta\",\"86 min/Ribhu Dasgupta\",\"98 min/Rikhil Bahadur\",\"95 min/Rima Das\",\"141 min/Robbie Grewal\",\"129 min/Rohan Sippy\",\"142 min/Rohit Jugraj\",\"151 min/Rohit Jugraj\",\"97 min/Rohit Mittal\",\"135 min/Rohit Shetty\",\"142 min/Rohit Shetty\",\"148 min/Rohit Shetty\",\"154 min/Rohit Shetty\",\"120 min/Ruchi Narain\",\"159 min/S.S. Rajamouli\",\"165 min/S.S. Rajamouli\",\"163 min/Saandeep Patel\",\"99 min/Sabal Singh Shekawat\",\"127 min/Sabir Khan\",\"88 min/Sabu Varghese\",\"124 min/Sachin\",\"132 min/Sachin\",\"115 min/Sachin Kamlakar Khot\",\"151 min/Sachin Kundalkar\",\"101 min/Sachin Yardi\",\"127 min/Sachin Yardi\",\"92 min/Safdar Rahman\",\"121 min/Sagar Sarhadi\",\"104 min/Saheed Arafath\",\"140 min/Sai Paranjape\",\"150 min/Saji Surendran\",\"140 min/Sajid Khan\",\"140 min/Saket Behl\",\"120 min/Saket Chaudhary\",\"135 min/Samar Khan\",\"116 min/Samar Shaikh\",\"138 min/Sameer Patil\",\"129 min/Sameer Sharma\",\"125 min/Sameer Vidwans\",\"132 min/Sameer Vidwans\",\"165 min/Samir Karnik\",\"92 min/Samir Soni\",\"90 min/Samit Kakkad\",\"99 min/Sandeep Chatterjee\",\"171 min/Sandeep Reddy Vanga\",\"147 min/Sangeeth Sivan\",\"165 min/Sangeeth Sivan\",\"154 min/Sanjay Dayma\",\"139 min/Sanjay Gupta\",\"113 min/Sanjay Jadhav\",\"150 min/Sanjay Jadhav\",\"121 min/Sanjay Leela Bhansali\",\"152 min/Sanjay Soorkar\",\"95 min/Sanjeev Gupta\",\"128 min/Sanjib Dey\",\"117 min/Sanjiv Jaiswal\",\"148 min/Santosh Manjrekar\",\"168 min/Santosh Sivan\",\"95 min/Santosh Sivan\",\"124 min/Santram Varma\",\"117 min/Santwana Bardoloi\",\"132 min/Saravana Rajan\",\"126 min/Saravana Rajendran\",\"127 min/Sarjun\",\"130 min/Sartaj Singh Pannu\",\"102 min/Sarthak Dasgupta\",\"125 min/Sathyan Anthikad\",\"137 min/Satish Kaushik\",\"158 min/Satish Kaushik\",\"99 min/Satish Manwar\",\"107 min/Satish Rajwade\",\"127 min/Satish Rajwade\",\"133 min/Satish Rajwade\",\"104 min/Satyajit Bhatkal\",\"141 min/Satyajit Bhatkal\",\"128 min/Saurabh Kabra\",\"118 min/Saurabh Sinha\",\"118 min/Saurav Palodhi\",\"130 min/Sekhar Kammula\",\"94 min/Selvamani Selvaraj\",\"131 min/Shaad Ali\",\"126 min/Shadab Khan\",\"161 min/Shakti Samanta\",\"106 min/Shakun Batra\",\"138 min/Shakun Batra\",\"162 min/Shammi Kapoor\",\"110 min/Shamzu Zayba\",\"139 min/Shanavas K. Bavakutty\",\"104 min/Shanawaz Nellikunnil\",\"106 min/Shanker Raman\",\"113 min/Sharan Sharma\",\"131 min/Shashank Khaitan\",\"121 min/Shashanka Ghosh\",\"105 min/Shashanka Ghosh, Samit Basu\",\"160 min/Shashilal K. Nair\",\"96 min/Shawn Arranha\",\"138 min/Shekhar Kapur\",\"120 min/Shelly Chopra Dhar\",\"107 min/Shirish Kunder\",\"163 min/Shirish Kunder\",\"98 min/Shirish Kunder\",\"122 min/Shivam Nair\",\"141 min/Shivam Nair\",\"156 min/Shivendra Singh Dungarpur\",\"93 min/Shlok Sharma\",\"94 min/Shlok Sharma\",\"128 min/Shoojit Sircar\",\"118 min/Shravan Kumar\",\"145 min/Shree Narayan Singh\",\"128 min/Shreyas Talpade\",\"89 min/Shrihari Sathe\",\"125 min/Shubham Singh\",\"131 min/Shyam Benegal\",\"134 min/Shyam Benegal\",\"135 min/Shyam Benegal\",\"155 min/Shyam Benegal\",\"130 min/Siddique\",\"140 min/Simranjit Singh Hundal\",\"117 min/Smeep Kang\",\"90 min/Smeep Kang\",\"130 min/Sneha Taurani\",\"126 min/Sohail Khan\",\"127 min/Sohail Tatari\",\"126 min/Soham Shah\",\"117 min/Sooni Taraporevala\",\"164 min/Sooraj R. Barjatya\",\"166 min/Sooraj R. Barjatya\",\"176 min/Sooraj R. Barjatya\",\"192 min/Sooraj R. Barjatya\",\"193 min/Sooraj R. Barjatya\",\"119 min/Soukarya Ghosal\",\"1 Season/Soumendra Padhi\",\"95 min/Soumendra Padhi\",\"85 min/Soumitra Ranade\",\"102 min/Sridhar Rangayan\",\"81 min/Sridhar Rangayan\",\"134 min/Sriram Raghavan\",\"137 min/Sriram Raghavan\",\"170 min/Subhash Ghai\",\"171 min/Subhash Ghai\",\"177 min/Subhash Ghai\",\"187 min/Subhash Ghai\",\"115 min/Sudesh Manjrekar\",\"132 min/Sudesh Manjrekar, Atul Kale\",\"1 Season/Sudha Kongara, Vignesh Shivan, Gautham Vasudev Menon, Vetri Maaran\",\"89 min/Sudhanshu Saria\",\"102 min/Sudhir Mishra\",\"115 min/Sudhir Mishra\",\"125 min/Sudhir Mishra\",\"95 min/Sudip Bandyopadhyay\",\"124 min/Sudipto Roy\",\"109 min/Suhas Kadav\",\"172 min/Sujeeth\",\"117 min/Sujoy Ghosh\",\"122 min/Sujoy Ghosh\",\"131 min/Sujoy Ghosh\",\"133 min/Sukhbir Singh\",\"119 min/Suman Mukhopadhyay\",\"63 min/Sumit Das\",\"120 min/Sumitra Bhave, Sunil Sukthankar\",\"123 min/Sumitra Bhave, Sunil Sukthankar\",\"91 min/Sumitra Bhave, Sunil Sukthankar\",\"132 min/Sundar C.\",\"154 min/Sundar C.\",\"135 min/Sunil Thakur\",\"141 min/Suparn Verma\",\"117 min/Supavitra Babul\",\"157 min/Surya S.J., Sunil Kumar Agrawal\",\"96 min/Suseenthiran\",\"153 min/Sushil Majumdar\",\"119 min/Swapna Waghmare Joshi\",\"124 min/Swapnaneel Jayakar\",\"143 min/Syed Ahmad Afzal\",\"83 min/Tanuj Bhramar\",\"120 min/Tanuja Chandra\",\"137 min/Tanuja Chandra\",\"97 min/Tanveer Khan\",\"121 min/Tariq Khan\",\"119 min/Tarun Mansukhani\",\"103 min/Tathagata Banerjee\",\"129 min/Tejas Prabha Vijay Deoskar\",\"91 min/Terrie Samundra\",\"133 min/Tharun Bhascker\",\"176 min/Thiagarajan Kumararaja\",\"131 min/Thiru\",\"147 min/Thiru\",\"129 min/Tigmanshu Dhulia\",\"139 min/Tigmanshu Dhulia\",\"65 min/Tilak Shetty\",\"173 min/Tinnu Anand\",\"162 min/Trivikram Srinivas\",\"112 min/Udai Singh Pawar\",\"124 min/Umesh Ghadge\",\"148 min/Umesh Mehra\",\"154 min/Umesh Mehra\",\"161 min/Umesh Mehra\",\"162 min/Umesh Mehra\",\"163 min/Umesh Mehra\",\"124 min/Umesh Shukla\",\"129 min/Umesh Shukla\",\"133 min/Uttung Shelar\",\"122 min/V C Abhilash\",\"171 min/V Vignarajan\",\"130 min/V. K. Prakash\",\"109 min/Vandana Kataria\",\"128 min/Varun Narvekar\",\"137 min/Vasan Bala\",\"137 min/Venkatesh Maha\",\"138 min/Venky Kudumula\",\"133 min/Venugopan\",\"116 min/Vetrimaaran\",\"129 min/Vibhu Virender Puri\",\"156 min/Vijay\",\"118 min/Vijay Jayapal\",\"116 min/Vijay Kumar\",\"127 min/Vijay Kumar Arora\",\"135 min/Vijay Lalwani\",\"138 min/Vijay Maurya\",\"128 min/Vijay Milton\",\"115 min/Vijay Yelakanti\",\"138 min/Vikas Bahl\",\"143 min/Vikas Bahl\",\"127 min/Vikas Bahl, Nitesh Tiwari\",\"143 min/Vikram Bhatt\",\"127 min/Vikram Pradhan\",\"109 min/Vikramaditya Motwane\",\"137 min/Vikramaditya Motwane\",\"150 min/Vikramaditya Motwane\",\"116 min/Vineeth Anil\",\"135 min/Vinil Mathew\",\"90 min/Vinod Kapri\",\"131 min/Vipin Parashar\",\"129 min/Vipul Amrutlal Shah\",\"130 min/Vipul Amrutlal Shah\",\"50 min/Vir Das\",\"76 min/Vir Das, Ajay Bhuyan\",\"128 min/Vishal Bhardwaj\",\"148 min/Vishal Bhardwaj\",\"153 min/Vishal Bhardwaj\",\"154 min/Vishal Bhardwaj\",\"90 min/Vishal Bhardwaj\",\"110 min/Vishal Mahadkar\",\"120 min/Vishal Mishra\",\"118 min/Vishnu Govindhan\",\"105 min/Vivek Wagh\",\"115 min/Zakariya\",\"154 min/Zoya Akhtar\",\"156 min/Zoya Akhtar\",\"174 min/Zoya Akhtar\",\"121 min/Zoya Akhtar, Karan Johar, Anurag Kashyap, Dibakar Banerjee\",\"1 Season\",\"100 min\",\"101 min\",\"102 min\",\"103 min\",\"104 min\",\"105 min\",\"106 min\",\"107 min\",\"108 min\",\"109 min\",\"110 min\",\"111 min\",\"112 min\",\"113 min\",\"114 min\",\"115 min\",\"116 min\",\"117 min\",\"118 min\",\"119 min\",\"120 min\",\"121 min\",\"122 min\",\"123 min\",\"124 min\",\"125 min\",\"126 min\",\"127 min\",\"128 min\",\"129 min\",\"130 min\",\"131 min\",\"132 min\",\"133 min\",\"134 min\",\"135 min\",\"136 min\",\"137 min\",\"138 min\",\"139 min\",\"140 min\",\"141 min\",\"142 min\",\"143 min\",\"144 min\",\"145 min\",\"146 min\",\"147 min\",\"148 min\",\"149 min\",\"150 min\",\"151 min\",\"152 min\",\"153 min\",\"154 min\",\"155 min\",\"156 min\",\"157 min\",\"158 min\",\"159 min\",\"160 min\",\"161 min\",\"162 min\",\"163 min\",\"164 min\",\"165 min\",\"166 min\",\"168 min\",\"169 min\",\"170 min\",\"171 min\",\"172 min\",\"173 min\",\"174 min\",\"176 min\",\"177 min\",\"178 min\",\"179 min\",\"185 min\",\"187 min\",\"192 min\",\"193 min\",\"203 min\",\"209 min\",\"214 min\",\"224 min\",\"228 min\",\"41 min\",\"50 min\",\"61 min\",\"63 min\",\"65 min\",\"68 min\",\"72 min\",\"74 min\",\"75 min\",\"76 min\",\"77 min\",\"79 min\",\"80 min\",\"81 min\",\"83 min\",\"85 min\",\"86 min\",\"87 min\",\"88 min\",\"89 min\",\"90 min\",\"91 min\",\"92 min\",\"93 min\",\"94 min\",\"95 min\",\"96 min\",\"97 min\",\"98 min\",\"99 min\"],\"labels\":[\"A. L. Vijay\",\"A. L. Vijay\",\"A. Raajdheep\",\"A. Salaam\",\"A.R. Murugadoss\",\"Aadish Keluskar\",\"Aamir Bashir\",\"Aamir Khan\",\"Aanand Rai\",\"Aanand Rai\",\"Aatmaram Dharne\",\"Abbas Alibhai Burmawalla, Mastan Alibhai Burmawalla\",\"Abbas Alibhai Burmawalla, Mastan Alibhai Burmawalla\",\"Abbas Alibhai Burmawalla, Mastan Alibhai Burmawalla\",\"Abbas Alibhai Burmawalla, Mastan Alibhai Burmawalla\",\"Abbas Mustan\",\"Abbas Tyrewala\",\"Abhay Chopra\",\"Abhijeet Deshpande\",\"Abhijit Kokate, Srivinay Salian\",\"Abhijit Panse\",\"Abhinay Deo\",\"Abhinay Deo\",\"Abhinay Deo\",\"Abhishek Chaubey\",\"Abhishek Chaubey\",\"Abhishek Kapoor\",\"Abhishek Kapoor\",\"Abhishek Kapoor\",\"Abhishek Saxena\",\"Abhishek Sharma\",\"Abhishek Sharma\",\"Abhishek Sharma\",\"Abhishek Varman\",\"Aditya Kripalani\",\"Aditya Kripalani\",\"Aditya Sarpotdar\",\"Aditya Sarpotdar\",\"Aditya Vikram Sengupta\",\"Advait Chandan\",\"Agnidev Chatterjee\",\"Ahishor Solomon\",\"Aijaz Khan\",\"Ajay Bahl\",\"Ajay Bhuyan, Kunal Kohli\",\"Ajay Phansekar\",\"Ajithkumar\",\"Akashdeep\",\"Akhil Paul, Anas Khan\",\"Akshay Akkineni\",\"Alankrita Shrivastava\",\"Alo Sarkar\",\"Amaan Khan\",\"Amal Neerad\",\"Amar Gupte\",\"Amar Kaushik\",\"Amardeep Singh Gill\",\"Amarpreet G S Chabbra\",\"Amit Barot\",\"Amit Rai\",\"Amit Roy\",\"Amit Saxena\",\"Amitabha Singh\",\"Amitava Bhattacharya\",\"Amitoj Mann\",\"Amitoj Mann\",\"Amitoj Mann\",\"Amol Palekar\",\"Amshan Kumar\",\"Anand Ravichandran\",\"Anand Tiwari\",\"Ananda Krishnan\",\"Anant Balani\",\"Ananth Narayan Mahadevan\",\"Anees Bazmee\",\"Anees Bazmee\",\"Anees Bazmee\",\"Anees Bazmee\",\"Anees Bazmee\",\"Anees Bazmee\",\"Angshuman Ghosh\",\"Anik Datta\",\"Anil Sharma\",\"Anil Thomas\",\"Anil V. Kumar\",\"Aniruddha Roy Chowdhury\",\"Anita Udeep\",\"Anoop Sathyan\",\"Anthony D'Souza\",\"Anthony D'Souza\",\"Anu Menon\",\"Anubhav Sinha\",\"Anurag Basu\",\"Anurag Basu\",\"Anurag Basu\",\"Anurag Basu\",\"Anurag Kashyap\",\"Anurag Kashyap\",\"Anurag Kashyap\",\"Anurag Kashyap\",\"Anurag Kashyap\",\"Anurag Kashyap, Dibakar Banerjee, Karan Johar, Zoya Akhtar\",\"Anurag Kashyap, Dibakar Banerjee, Karan Johar, Zoya Akhtar\",\"Anuranjan Premji\",\"Anusha Rizvi, Mahmood Farooqui\",\"Anvita Dutt\",\"Apoorva Lakhia\",\"Apoorva Lakhia\",\"Apurva Dhar Badgaiyann\",\"Arati Kadav\",\"Arjun Gourisaria, Moinak Biswas\",\"Arjun Jandyala\",\"Arnab Chaudhuri\",\"Arun Chidambaram\",\"Arun Vaidyanathan\",\"Aruna Raje\",\"Ashish R. Mohan\",\"Ashok Nanda\",\"Ashok Nanda\",\"Ashu Trikha\",\"Ashutosh Gowariker\",\"Ashutosh Gowariker\",\"Ashutosh Gowariker\",\"Ashutosh Gowariker\",\"Ashutosh Gowariker\",\"Ashutosh Gowariker\",\"Ashwiny Iyer Tiwari\",\"Atanu Ghosh\",\"Atanu Ghosh\",\"Atanu Mukherjee\",\"Atharv Baluja\",\"Athiyan Athirai\",\"Atlee Kumar\",\"Atul Sabharwal\",\"Avadhoot Gupte\",\"Avadhoot Gupte\",\"Avinash Arun\",\"Avinash Das\",\"Avinash Walzade\",\"Ayaan Mukherji\",\"Ayush Raina\",\"Aziz Mirza\",\"Aziz Mirza\",\"Aziz Mirza\",\"B. Subhash\",\"B. Unnikrishnan\",\"B. V. Nandini Reddy\",\"B.N. Shajeer Sha\",\"Baljit Singh Deo\",\"Balu Mahendra\",\"Basava Shankar Eeday\",\"Basu Chatterjee\",\"Basu Chatterjee\",\"Bauddhayan Mukherji\",\"Bejoy Nambiar\",\"Bejoy Nambiar\",\"Bhagyaraj\",\"Bharat Jain\",\"Bhavin Wadia\",\"Bhushan Patel\",\"Binu Ulahhannan\",\"Biswajeet Bora\",\"Buddhadev Dasgupta\",\"Buta Singh\",\"Chakri Toleti\",\"Chandan Arora\",\"Chandra Prakash Dwivedi\",\"Chandrakant Kanse\",\"Chandrakant Kulkarni\",\"Chandrakant Kulkarni\",\"Chandrakant Kulkarni\",\"Chandran Narikode\",\"Danish Aslam\",\"Dar Gai\",\"Datta Mohan Bhandare\",\"David Dhawan\",\"David Dhawan\",\"David Dhawan\",\"David Dhawan\",\"David Dhawan\",\"David Dhawan\",\"David Dhawan\",\"David Dhawan\",\"Debaloy Dey\",\"Debamitra Biswal\",\"Deep Joshi\",\"Deepti Naval\",\"Desingh Periyasamy\",\"Devaki Singh, Luke Kenny\",\"Devashish Makhija\",\"Devika Bhagat\",\"Dhanush\",\"Dharmendra Suresh Desai\",\"Dharmesh Darshan\",\"Dharmesh Darshan\",\"Dheeraj Berry\",\"Dhilip Kumar\",\"Dibakar Banerjee\",\"Dibakar Banerjee\",\"Dibakar Banerjee\",\"Dibakar Banerjee\",\"Dileep Narayanan\",\"Dylan Mohan Gray\",\"Eeshwar Nivas\",\"Emcy Joseph\",\"Farah Khan\",\"Farah Khan\",\"Farah Khan\",\"Farah Khan\",\"Faraz Haider\",\"Farhan Akhtar\",\"Farhan Akhtar\",\"Fazila Allana\",\"Feroz\",\"Fuwad Khan\",\"Gafoor Y. Elliyaas\",\"Gagan Puri\",\"Gajendra Ahire\",\"Gajendra Ahire\",\"Gajendra Ahire, Viju Mane, Girish Mohite, Ravi Jadhav\",\"Ganesh Kadam\",\"Gangadhar Salimath\",\"Gaurav Narayanan\",\"Gauravv K Chawla\",\"Gauri Shinde\",\"Geetu Mohandas\",\"Girish Joshi\",\"Girish Malik\",\"Girish Malik\",\"Gulzar\",\"Gurmmeet Singh\",\"Gurudev Bhalla\",\"Habib Faisal\",\"Halitha Shameem\",\"Hardik Mehta\",\"Hari Nath\",\"Hari Viswanath\",\"Harjit Singh\",\"Harry Baweja\",\"Harshavardhan Kulkarni\",\"Hemant Gaba, Pratim D. Gupta, Sudhish Kamath, Nalan Kumarasamy, Anu Menon, Sandeep Mohan, Qaushiq Mukherjee, Rajshree Ojha, Raja Sen, Abhinav Shiv Tiwari, Suparn Verma\",\"Honey Trehan\",\"Hrishikesh Mukherjee\",\"Hrishikesh Mukherjee\",\"Hrishikesh Mukherjee\",\"Hrishikesh Mukherjee\",\"Imtiaz Ali\",\"Imtiaz Ali\",\"Imtiaz Ali\",\"Imtiaz Ali\",\"Imtiaz Ali\",\"Imtiaz Ali\",\"Indra Kumar\",\"Indra Kumar\",\"Indra Kumar\",\"Indra Kumar\",\"Indra Kumar\",\"Indrajit Nattoji\",\"Indrasis Acharya\",\"Ishaan Trivedi\",\"Ivan Ayr\",\"Jagdeep Sidhu\",\"Jaivi Dhanda\",\"Jasbir Bijendra Bhati\",\"Jasmine D'Souza\",\"Jatla Siddartha\",\"Jayan Vannery\",\"Jayaprakash Radhakrishnan\",\"Jayaraj Rajasekharan Nair\",\"Jeethu Joseph\",\"Jeethu Joseph\",\"Jeeva\",\"Jijo Pancode\",\"Jitender Pawar\",\"Jitendra Tiwari, Pranav Singh\",\"Johnson Esthappan\",\"Jonathan Augustin\",\"K. Gopinathan\",\"K. Ramanlal\",\"K. Subhash\",\"K.C. Bokadia\",\"KVR Mahendra\",\"Kabir Khan\",\"Kabir Sadanand\",\"Kabir Sadanand\",\"Kaizad Gustad\",\"Kamal Sahani\",\"Kanika Batra\",\"Karan Anshuman\",\"Karan Johar\",\"Karan Johar\",\"Karan Johar\",\"Karan Shivajirao Chavan, Vikram Tanajirao Patil\",\"Karthik Subbaraj\",\"Kedar Shinde\",\"Kedar Shinde\",\"Keerthi\",\"Ken Ghosh\",\"Ken Ghosh\",\"Ken Ghosh\",\"Ketan Mehta\",\"Ketan Mehta\",\"Khalid Mohamed\",\"Kiran Narayanan\",\"Kiran Rao\",\"Kireet Khurana, Padmakumar Narasimhamurthy\",\"Kranthi Madhav\",\"Kranti Kanade\",\"Kranti Redkar\",\"Krish\",\"Krishna Vamshi\",\"Ksshitij Chaudhary\",\"Ksshitij Chaudhary\",\"Kumaran\",\"Kunal Deshmukh\",\"Kunal Kohli\",\"Kundan Shah\",\"Kundan Shah\",\"Kundan Shah\",\"Kundan Shah\",\"Kushal Srivastava\",\"Laxman Utekar\",\"Leena Yadav\",\"Leena Yadav\",\"Leena Yadav\",\"Lekh Tandon\",\"Lekh Tandon\",\"Lekh Tandon\",\"Lenin Bharathi\",\"Lijo Jose Pellissery\",\"Luv Ranjan\",\"Luv Ranjan\",\"Madhumita\",\"Madhur Bhandarkar\",\"Madhur Bhandarkar\",\"Madhur Bhandarkar\",\"Madhur Bhandarkar\",\"Madhur Bhandarkar\",\"Maha Venkatesh\",\"Mahesh Bhatt\",\"Mahesh Bhatt\",\"Mahesh Bhatt\",\"Mahesh Manjrekar\",\"Mahesh Manjrekar\",\"Mahesh Manjrekar\",\"Mahesh Manjrekar\",\"Mahesh Manjrekar\",\"Makarand Mane\",\"Makarand Mane\",\"Manav Shah\",\"Manbhavan Singh\",\"Mandeep Kumar\",\"Mangesh Hadawale\",\"Mangesh Kanthale\",\"Mani Ratnam\",\"Mani Ratnam\",\"Mani Ratnam\",\"Manika Sharma\",\"Manish Gupta\",\"Manish Jha\",\"Manish Jha\",\"Manish Saini\",\"Manish Tiwary\",\"Manjeet Maan\",\"Manjeet Singh\",\"Manmohan Desai\",\"Manoj Beedha\",\"Mansore\",\"Manu Ashokan\",\"Mastan Alibhai Burmawalla, Abbas Alibhai Burmawalla\",\"Megha Ramaswamy\",\"Midhun Manuel Thomas\",\"Mikhil Musale\",\"Mikhil Musale\",\"Milan Luthria\",\"Milan Luthria\",\"Milan Luthria\",\"Milan Luthria\",\"Milind Dhaimade\",\"Milind Rau\",\"Mohammed Hussain\",\"Mohit Suri\",\"Mohit Suri\",\"Mozez Singh\",\"Mrighdeep Singh Lamba\",\"Mukesh Vohra\",\"Mukul Anand\",\"Mukul Anand\",\"Munish Bhardwaj\",\"Musthafa\",\"Mysskin\",\"Mysskin\",\"N. Chandra\",\"N. Linguswamy\",\"N. Linguswamy\",\"Nagesh Kukunoor\",\"Nagesh Kukunoor\",\"Nagesh Kukunoor\",\"Nagesh Kukunoor\",\"Nagraj Manjule\",\"Nagraj Manjule\",\"Naman Nitin Mukesh\",\"Nandita Das\",\"Narendra Nath\",\"Naresh Saigal\",\"Navaniat Singh\",\"Navdeep Singh\",\"Navinder Pal Singh\",\"Navjot Gulati\",\"Navneet Behal\",\"Neeraj Pandey\",\"Neeraj Pandey\",\"Neeraj Pandey\",\"Neeraj Udhwani\",\"Neeraj Vora\",\"Neville Shah\",\"Nicholas Kharkongor\",\"Nicholas Kharkongor\",\"Nidhi Sharma\",\"Nikhil Advani\",\"Nikhil Advani\",\"Nikhil Nagesh Bhat\",\"Nikkhil Advani\",\"Nila Madhab Panda\",\"Nila Madhab Panda\",\"Nila Madhab Panda\",\"Nishanth Ravindaran, Jathin Sanker Raj\",\"Nisheeta Keni\",\"Nishikant Kamat\",\"Nishikant Kamat\",\"Nishikant Kamat\",\"Nishikant Kamat\",\"Nishil Sheth\",\"Nitesh Tiwari\",\"Nizar Shafi\",\"Noushad\",\"Omung Kumar\",\"Onir\",\"Onir\",\"P.K. Baaburaaj\",\"P.T. Kunju Muhammad\",\"Pa. Ranjith\",\"Padmakumar Narasimhamurthy\",\"Pankaj Batra\",\"Pankaj Batra\",\"Param Gill\",\"Parambrata Chatterjee\",\"Parambrata Chatterjee\",\"Paresh Mokashi\",\"Paritosh Painter\",\"Partha Chakraborty\",\"Parthiban\",\"Partho Ghosh\",\"Partho Mitra\",\"Parveen Kumar\",\"Patrick Graham\",\"Pawan K Shrivastava\",\"Pawan Kripalani\",\"Pawan Kumar\",\"Phanindra Narsetti\",\"Pooja Bhatt\",\"Prabhu Deva\",\"Prabhuraj\",\"Pradeep Verma\",\"Pradip Kurbah\",\"Prakash Balwant Saini\",\"Prakash Jha\",\"Prakash Jha\",\"Prakash Jha\",\"Prakash Jha\",\"Prakash Jha\",\"Prakash Kunte\",\"Prakash Mehra\",\"Prakash Mehra\",\"Prakash Mehra\",\"Pramod Pawar\",\"Prasanth Varma\",\"Prashant Nair\",\"Prasobh Vijayan\",\"Pratim D. Gupta\",\"Praveen Nischol\",\"Prawal Raman\",\"Prem Soni\",\"Priyadarshan\",\"Priyadarshan\",\"Priyadarshan\",\"Priyadarshan\",\"Priyadarshan, Kookie V. Gulati\",\"Pulkit\",\"Puneet Khanna\",\"Puneet Sira\",\"Punit Malhotra\",\"Punit Malhotra\",\"Puri Jagannadh\",\"Qaushiq Mukherjee\",\"Qaushiq Mukherjee\",\"R. Balki\",\"R. Kannan\",\"Raaghav Dar\",\"Radhika Rao, Vinay Sapru\",\"Rahat Kazmi\",\"Rahul Dholakia\",\"Rahul Ravindran\",\"Rai Yuvraj Bains\",\"Raj B. Shetty\",\"Raj Babu\",\"Raj Kanwar\",\"Raj Kapoor\",\"Raj Kapoor\",\"Raj Kapoor\",\"Raj Kaushal\",\"Raj Khosla\",\"Raj Kumar Gupta\",\"Raj Kumar Gupta\",\"Raj Kumar Gupta\",\"Raj N. Sippy\",\"Raj Nidimoru, Krishna D.K.\",\"Raj R\",\"Raja Chanda\",\"Raja Menon\",\"Rajan Madhav\",\"Rajat Kapoor\",\"Rajat Kapoor\",\"Rajeev Chaudhari\",\"Rajeev Patil\",\"Rajesh Ganguly\",\"Rajesh Mapuskar\",\"Rajesh Touchriver\",\"Rajiv Chilaka\",\"Rajiv Chilaka, Binayak Das\",\"Rajiv Mehra\",\"Rajiv Mehra\",\"Rajiv Mehra\",\"Rajiv Mehra\",\"Rajiv Mehra\",\"Rajiv Menon\",\"Rajkumar Hirani\",\"Rajkumar Hirani\",\"Rajkumar Hirani\",\"Rajkumar Santoshi\",\"Rajkumar Santoshi\",\"Rajkumar Santoshi\",\"Rajkumar Santoshi\",\"Rajkumar Santoshi\",\"Rajkumar Santoshi\",\"Rakesh Mehta\",\"Rakesh Ranjan Kumar\",\"Rakeysh Omprakash Mehra\",\"Rakeysh Omprakash Mehra\",\"Rakeysh Omprakash Mehra\",\"Rakeysh Omprakash Mehra\",\"Rakshith Thirthahalli\",\"Ram\",\"Ram Gopal Varma\",\"Ram Gopal Varma\",\"Ram Gopal Varma\",\"Ram Gopal Varma\",\"Ram Gopal Varma\",\"Ram Gopal Varma\",\"Raman Kumar\",\"Ramesh Sippy\",\"Ramesh Talwar\",\"Rana Ranbir\",\"Ranjit Jeyakodi\",\"Ranjit Tiwari\",\"Ravi Babu\",\"Ravi Udyawar\",\"Ravikanth Perepu\",\"Ravishankar Venkateswaran\",\"Reema Kagti\",\"Reema Kagti\",\"Remo D'Souza\",\"Remo D'Souza\",\"Remo D'Souza\",\"Remy Kohli\",\"Renzil D'Silva\",\"Renzil D'Silva\",\"Ribhu Dasgupta\",\"Ribhu Dasgupta\",\"Rikhil Bahadur\",\"Rima Das\",\"Robbie Grewal\",\"Rohan Sippy\",\"Rohit Jugraj\",\"Rohit Jugraj\",\"Rohit Mittal\",\"Rohit Shetty\",\"Rohit Shetty\",\"Rohit Shetty\",\"Rohit Shetty\",\"Ruchi Narain\",\"S.S. Rajamouli\",\"S.S. Rajamouli\",\"Saandeep Patel\",\"Sabal Singh Shekawat\",\"Sabir Khan\",\"Sabu Varghese\",\"Sachin\",\"Sachin\",\"Sachin Kamlakar Khot\",\"Sachin Kundalkar\",\"Sachin Yardi\",\"Sachin Yardi\",\"Safdar Rahman\",\"Sagar Sarhadi\",\"Saheed Arafath\",\"Sai Paranjape\",\"Saji Surendran\",\"Sajid Khan\",\"Saket Behl\",\"Saket Chaudhary\",\"Samar Khan\",\"Samar Shaikh\",\"Sameer Patil\",\"Sameer Sharma\",\"Sameer Vidwans\",\"Sameer Vidwans\",\"Samir Karnik\",\"Samir Soni\",\"Samit Kakkad\",\"Sandeep Chatterjee\",\"Sandeep Reddy Vanga\",\"Sangeeth Sivan\",\"Sangeeth Sivan\",\"Sanjay Dayma\",\"Sanjay Gupta\",\"Sanjay Jadhav\",\"Sanjay Jadhav\",\"Sanjay Leela Bhansali\",\"Sanjay Soorkar\",\"Sanjeev Gupta\",\"Sanjib Dey\",\"Sanjiv Jaiswal\",\"Santosh Manjrekar\",\"Santosh Sivan\",\"Santosh Sivan\",\"Santram Varma\",\"Santwana Bardoloi\",\"Saravana Rajan\",\"Saravana Rajendran\",\"Sarjun\",\"Sartaj Singh Pannu\",\"Sarthak Dasgupta\",\"Sathyan Anthikad\",\"Satish Kaushik\",\"Satish Kaushik\",\"Satish Manwar\",\"Satish Rajwade\",\"Satish Rajwade\",\"Satish Rajwade\",\"Satyajit Bhatkal\",\"Satyajit Bhatkal\",\"Saurabh Kabra\",\"Saurabh Sinha\",\"Saurav Palodhi\",\"Sekhar Kammula\",\"Selvamani Selvaraj\",\"Shaad Ali\",\"Shadab Khan\",\"Shakti Samanta\",\"Shakun Batra\",\"Shakun Batra\",\"Shammi Kapoor\",\"Shamzu Zayba\",\"Shanavas K. Bavakutty\",\"Shanawaz Nellikunnil\",\"Shanker Raman\",\"Sharan Sharma\",\"Shashank Khaitan\",\"Shashanka Ghosh\",\"Shashanka Ghosh, Samit Basu\",\"Shashilal K. Nair\",\"Shawn Arranha\",\"Shekhar Kapur\",\"Shelly Chopra Dhar\",\"Shirish Kunder\",\"Shirish Kunder\",\"Shirish Kunder\",\"Shivam Nair\",\"Shivam Nair\",\"Shivendra Singh Dungarpur\",\"Shlok Sharma\",\"Shlok Sharma\",\"Shoojit Sircar\",\"Shravan Kumar\",\"Shree Narayan Singh\",\"Shreyas Talpade\",\"Shrihari Sathe\",\"Shubham Singh\",\"Shyam Benegal\",\"Shyam Benegal\",\"Shyam Benegal\",\"Shyam Benegal\",\"Siddique\",\"Simranjit Singh Hundal\",\"Smeep Kang\",\"Smeep Kang\",\"Sneha Taurani\",\"Sohail Khan\",\"Sohail Tatari\",\"Soham Shah\",\"Sooni Taraporevala\",\"Sooraj R. Barjatya\",\"Sooraj R. Barjatya\",\"Sooraj R. Barjatya\",\"Sooraj R. Barjatya\",\"Sooraj R. Barjatya\",\"Soukarya Ghosal\",\"Soumendra Padhi\",\"Soumendra Padhi\",\"Soumitra Ranade\",\"Sridhar Rangayan\",\"Sridhar Rangayan\",\"Sriram Raghavan\",\"Sriram Raghavan\",\"Subhash Ghai\",\"Subhash Ghai\",\"Subhash Ghai\",\"Subhash Ghai\",\"Sudesh Manjrekar\",\"Sudesh Manjrekar, Atul Kale\",\"Sudha Kongara, Vignesh Shivan, Gautham Vasudev Menon, Vetri Maaran\",\"Sudhanshu Saria\",\"Sudhir Mishra\",\"Sudhir Mishra\",\"Sudhir Mishra\",\"Sudip Bandyopadhyay\",\"Sudipto Roy\",\"Suhas Kadav\",\"Sujeeth\",\"Sujoy Ghosh\",\"Sujoy Ghosh\",\"Sujoy Ghosh\",\"Sukhbir Singh\",\"Suman Mukhopadhyay\",\"Sumit Das\",\"Sumitra Bhave, Sunil Sukthankar\",\"Sumitra Bhave, Sunil Sukthankar\",\"Sumitra Bhave, Sunil Sukthankar\",\"Sundar C.\",\"Sundar C.\",\"Sunil Thakur\",\"Suparn Verma\",\"Supavitra Babul\",\"Surya S.J., Sunil Kumar Agrawal\",\"Suseenthiran\",\"Sushil Majumdar\",\"Swapna Waghmare Joshi\",\"Swapnaneel Jayakar\",\"Syed Ahmad Afzal\",\"Tanuj Bhramar\",\"Tanuja Chandra\",\"Tanuja Chandra\",\"Tanveer Khan\",\"Tariq Khan\",\"Tarun Mansukhani\",\"Tathagata Banerjee\",\"Tejas Prabha Vijay Deoskar\",\"Terrie Samundra\",\"Tharun Bhascker\",\"Thiagarajan Kumararaja\",\"Thiru\",\"Thiru\",\"Tigmanshu Dhulia\",\"Tigmanshu Dhulia\",\"Tilak Shetty\",\"Tinnu Anand\",\"Trivikram Srinivas\",\"Udai Singh Pawar\",\"Umesh Ghadge\",\"Umesh Mehra\",\"Umesh Mehra\",\"Umesh Mehra\",\"Umesh Mehra\",\"Umesh Mehra\",\"Umesh Shukla\",\"Umesh Shukla\",\"Uttung Shelar\",\"V C Abhilash\",\"V Vignarajan\",\"V. K. Prakash\",\"Vandana Kataria\",\"Varun Narvekar\",\"Vasan Bala\",\"Venkatesh Maha\",\"Venky Kudumula\",\"Venugopan\",\"Vetrimaaran\",\"Vibhu Virender Puri\",\"Vijay\",\"Vijay Jayapal\",\"Vijay Kumar\",\"Vijay Kumar Arora\",\"Vijay Lalwani\",\"Vijay Maurya\",\"Vijay Milton\",\"Vijay Yelakanti\",\"Vikas Bahl\",\"Vikas Bahl\",\"Vikas Bahl, Nitesh Tiwari\",\"Vikram Bhatt\",\"Vikram Pradhan\",\"Vikramaditya Motwane\",\"Vikramaditya Motwane\",\"Vikramaditya Motwane\",\"Vineeth Anil\",\"Vinil Mathew\",\"Vinod Kapri\",\"Vipin Parashar\",\"Vipul Amrutlal Shah\",\"Vipul Amrutlal Shah\",\"Vir Das\",\"Vir Das, Ajay Bhuyan\",\"Vishal Bhardwaj\",\"Vishal Bhardwaj\",\"Vishal Bhardwaj\",\"Vishal Bhardwaj\",\"Vishal Bhardwaj\",\"Vishal Mahadkar\",\"Vishal Mishra\",\"Vishnu Govindhan\",\"Vivek Wagh\",\"Zakariya\",\"Zoya Akhtar\",\"Zoya Akhtar\",\"Zoya Akhtar\",\"Zoya Akhtar, Karan Johar, Anurag Kashyap, Dibakar Banerjee\",\"1 Season\",\"100 min\",\"101 min\",\"102 min\",\"103 min\",\"104 min\",\"105 min\",\"106 min\",\"107 min\",\"108 min\",\"109 min\",\"110 min\",\"111 min\",\"112 min\",\"113 min\",\"114 min\",\"115 min\",\"116 min\",\"117 min\",\"118 min\",\"119 min\",\"120 min\",\"121 min\",\"122 min\",\"123 min\",\"124 min\",\"125 min\",\"126 min\",\"127 min\",\"128 min\",\"129 min\",\"130 min\",\"131 min\",\"132 min\",\"133 min\",\"134 min\",\"135 min\",\"136 min\",\"137 min\",\"138 min\",\"139 min\",\"140 min\",\"141 min\",\"142 min\",\"143 min\",\"144 min\",\"145 min\",\"146 min\",\"147 min\",\"148 min\",\"149 min\",\"150 min\",\"151 min\",\"152 min\",\"153 min\",\"154 min\",\"155 min\",\"156 min\",\"157 min\",\"158 min\",\"159 min\",\"160 min\",\"161 min\",\"162 min\",\"163 min\",\"164 min\",\"165 min\",\"166 min\",\"168 min\",\"169 min\",\"170 min\",\"171 min\",\"172 min\",\"173 min\",\"174 min\",\"176 min\",\"177 min\",\"178 min\",\"179 min\",\"185 min\",\"187 min\",\"192 min\",\"193 min\",\"203 min\",\"209 min\",\"214 min\",\"224 min\",\"228 min\",\"41 min\",\"50 min\",\"61 min\",\"63 min\",\"65 min\",\"68 min\",\"72 min\",\"74 min\",\"75 min\",\"76 min\",\"77 min\",\"79 min\",\"80 min\",\"81 min\",\"83 min\",\"85 min\",\"86 min\",\"87 min\",\"88 min\",\"89 min\",\"90 min\",\"91 min\",\"92 min\",\"93 min\",\"94 min\",\"95 min\",\"96 min\",\"97 min\",\"98 min\",\"99 min\"],\"name\":\"\",\"parents\":[\"131 min\",\"93 min\",\"117 min\",\"134 min\",\"140 min\",\"107 min\",\"100 min\",\"162 min\",\"114 min\",\"159 min\",\"129 min\",\"132 min\",\"139 min\",\"153 min\",\"162 min\",\"155 min\",\"147 min\",\"105 min\",\"157 min\",\"116 min\",\"135 min\",\"101 min\",\"123 min\",\"135 min\",\"115 min\",\"146 min\",\"120 min\",\"124 min\",\"139 min\",\"96 min\",\"123 min\",\"124 min\",\"135 min\",\"143 min\",\"107 min\",\"151 min\",\"136 min\",\"150 min\",\"96 min\",\"150 min\",\"91 min\",\"125 min\",\"108 min\",\"99 min\",\"118 min\",\"151 min\",\"153 min\",\"111 min\",\"132 min\",\"102 min\",\"120 min\",\"141 min\",\"119 min\",\"130 min\",\"103 min\",\"127 min\",\"135 min\",\"129 min\",\"127 min\",\"136 min\",\"115 min\",\"115 min\",\"101 min\",\"112 min\",\"117 min\",\"126 min\",\"137 min\",\"134 min\",\"93 min\",\"103 min\",\"133 min\",\"116 min\",\"116 min\",\"109 min\",\"131 min\",\"144 min\",\"149 min\",\"153 min\",\"156 min\",\"161 min\",\"68 min\",\"150 min\",\"143 min\",\"128 min\",\"136 min\",\"130 min\",\"123 min\",\"144 min\",\"129 min\",\"139 min\",\"94 min\",\"125 min\",\"126 min\",\"144 min\",\"150 min\",\"155 min\",\"114 min\",\"125 min\",\"133 min\",\"137 min\",\"162 min\",\"123 min\",\"145 min\",\"113 min\",\"109 min\",\"94 min\",\"116 min\",\"119 min\",\"112 min\",\"113 min\",\"106 min\",\"143 min\",\"91 min\",\"104 min\",\"124 min\",\"117 min\",\"124 min\",\"107 min\",\"120 min\",\"130 min\",\"168 min\",\"171 min\",\"185 min\",\"203 min\",\"214 min\",\"224 min\",\"110 min\",\"100 min\",\"127 min\",\"103 min\",\"137 min\",\"133 min\",\"162 min\",\"98 min\",\"120 min\",\"121 min\",\"107 min\",\"111 min\",\"75 min\",\"132 min\",\"85 min\",\"145 min\",\"159 min\",\"166 min\",\"134 min\",\"133 min\",\"157 min\",\"147 min\",\"136 min\",\"137 min\",\"134 min\",\"104 min\",\"123 min\",\"72 min\",\"126 min\",\"98 min\",\"137 min\",\"103 min\",\"103 min\",\"113 min\",\"110 min\",\"127 min\",\"87 min\",\"120 min\",\"107 min\",\"129 min\",\"131 min\",\"118 min\",\"126 min\",\"133 min\",\"162 min\",\"89 min\",\"108 min\",\"119 min\",\"114 min\",\"121 min\",\"132 min\",\"133 min\",\"137 min\",\"145 min\",\"150 min\",\"151 min\",\"158 min\",\"118 min\",\"132 min\",\"118 min\",\"121 min\",\"160 min\",\"83 min\",\"105 min\",\"135 min\",\"124 min\",\"141 min\",\"149 min\",\"177 min\",\"1 Season\",\"41 min\",\"109 min\",\"112 min\",\"118 min\",\"124 min\",\"104 min\",\"83 min\",\"162 min\",\"120 min\",\"125 min\",\"169 min\",\"171 min\",\"179 min\",\"109 min\",\"169 min\",\"185 min\",\"63 min\",\"125 min\",\"127 min\",\"109 min\",\"114 min\",\"126 min\",\"92 min\",\"131 min\",\"116 min\",\"112 min\",\"141 min\",\"136 min\",\"149 min\",\"104 min\",\"115 min\",\"132 min\",\"133 min\",\"115 min\",\"96 min\",\"148 min\",\"106 min\",\"133 min\",\"105 min\",\"132 min\",\"83 min\",\"124 min\",\"126 min\",\"140 min\",\"105 min\",\"150 min\",\"120 min\",\"125 min\",\"127 min\",\"137 min\",\"127 min\",\"133 min\",\"137 min\",\"140 min\",\"142 min\",\"143 min\",\"127 min\",\"128 min\",\"165 min\",\"173 min\",\"93 min\",\"117 min\",\"127 min\",\"108 min\",\"97 min\",\"137 min\",\"103 min\",\"123 min\",\"93 min\",\"110 min\",\"117 min\",\"109 min\",\"88 min\",\"101 min\",\"148 min\",\"134 min\",\"105 min\",\"113 min\",\"122 min\",\"151 min\",\"107 min\",\"116 min\",\"143 min\",\"141 min\",\"107 min\",\"134 min\",\"129 min\",\"112 min\",\"128 min\",\"79 min\",\"141 min\",\"92 min\",\"134 min\",\"185 min\",\"192 min\",\"209 min\",\"97 min\",\"170 min\",\"137 min\",\"151 min\",\"124 min\",\"117 min\",\"121 min\",\"129 min\",\"114 min\",\"154 min\",\"163 min\",\"122 min\",\"102 min\",\"61 min\",\"147 min\",\"110 min\",\"132 min\",\"128 min\",\"168 min\",\"128 min\",\"132 min\",\"124 min\",\"131 min\",\"117 min\",\"117 min\",\"149 min\",\"151 min\",\"176 min\",\"113 min\",\"125 min\",\"119 min\",\"137 min\",\"146 min\",\"116 min\",\"152 min\",\"163 min\",\"115 min\",\"128 min\",\"136 min\",\"149 min\",\"116 min\",\"126 min\",\"130 min\",\"132 min\",\"143 min\",\"158 min\",\"142 min\",\"148 min\",\"149 min\",\"165 min\",\"112 min\",\"116 min\",\"127 min\",\"145 min\",\"165 min\",\"103 min\",\"130 min\",\"116 min\",\"118 min\",\"127 min\",\"133 min\",\"140 min\",\"155 min\",\"160 min\",\"166 min\",\"117 min\",\"117 min\",\"118 min\",\"134 min\",\"127 min\",\"140 min\",\"145 min\",\"77 min\",\"172 min\",\"145 min\",\"114 min\",\"119 min\",\"155 min\",\"92 min\",\"150 min\",\"128 min\",\"140 min\",\"109 min\",\"133 min\",\"135 min\",\"142 min\",\"125 min\",\"135 min\",\"132 min\",\"129 min\",\"131 min\",\"111 min\",\"135 min\",\"133 min\",\"173 min\",\"174 min\",\"109 min\",\"112 min\",\"143 min\",\"150 min\",\"137 min\",\"146 min\",\"156 min\",\"102 min\",\"114 min\",\"115 min\",\"127 min\",\"102 min\",\"173 min\",\"135 min\",\"114 min\",\"136 min\",\"143 min\",\"135 min\",\"129 min\",\"139 min\",\"101 min\",\"111 min\",\"103 min\",\"137 min\",\"158 min\",\"112 min\",\"150 min\",\"72 min\",\"101 min\",\"89 min\",\"122 min\",\"132 min\",\"140 min\",\"100 min\",\"187 min\",\"111 min\",\"87 min\",\"94 min\",\"121 min\",\"161 min\",\"119 min\",\"134 min\",\"135 min\",\"162 min\",\"74 min\",\"161 min\",\"1 Season\",\"126 min\",\"120 min\",\"110 min\",\"116 min\",\"130 min\",\"125 min\",\"148 min\",\"104 min\",\"120 min\",\"121 min\",\"120 min\",\"131 min\",\"155 min\",\"99 min\",\"114 min\",\"110 min\",\"103 min\",\"161 min\",\"135 min\",\"121 min\",\"1 Season\",\"80 min\",\"93 min\",\"121 min\",\"177 min\",\"113 min\",\"137 min\",\"110 min\",\"121 min\",\"107 min\",\"110 min\",\"146 min\",\"148 min\",\"161 min\",\"162 min\",\"164 min\",\"96 min\",\"156 min\",\"171 min\",\"172 min\",\"128 min\",\"111 min\",\"96 min\",\"85 min\",\"118 min\",\"163 min\",\"116 min\",\"109 min\",\"101 min\",\"132 min\",\"148 min\",\"151 min\",\"158 min\",\"94 min\",\"126 min\",\"101 min\",\"128 min\",\"144 min\",\"116 min\",\"109 min\",\"113 min\",\"130 min\",\"123 min\",\"100 min\",\"131 min\",\"75 min\",\"143 min\",\"152 min\",\"133 min\",\"132 min\",\"126 min\",\"149 min\",\"168 min\",\"178 min\",\"228 min\",\"122 min\",\"161 min\",\"129 min\",\"131 min\",\"95 min\",\"153 min\",\"106 min\",\"131 min\",\"137 min\",\"95 min\",\"134 min\",\"104 min\",\"97 min\",\"115 min\",\"122 min\",\"103 min\",\"133 min\",\"122 min\",\"87 min\",\"112 min\",\"142 min\",\"148 min\",\"151 min\",\"153 min\",\"164 min\",\"131 min\",\"146 min\",\"159 min\",\"164 min\",\"150 min\",\"156 min\",\"160 min\",\"163 min\",\"165 min\",\"166 min\",\"109 min\",\"107 min\",\"103 min\",\"128 min\",\"129 min\",\"159 min\",\"126 min\",\"148 min\",\"114 min\",\"116 min\",\"117 min\",\"137 min\",\"168 min\",\"97 min\",\"118 min\",\"121 min\",\"170 min\",\"123 min\",\"120 min\",\"144 min\",\"110 min\",\"139 min\",\"126 min\",\"85 min\",\"119 min\",\"140 min\",\"136 min\",\"142 min\",\"146 min\",\"126 min\",\"114 min\",\"147 min\",\"128 min\",\"86 min\",\"98 min\",\"95 min\",\"141 min\",\"129 min\",\"142 min\",\"151 min\",\"97 min\",\"135 min\",\"142 min\",\"148 min\",\"154 min\",\"120 min\",\"159 min\",\"165 min\",\"163 min\",\"99 min\",\"127 min\",\"88 min\",\"124 min\",\"132 min\",\"115 min\",\"151 min\",\"101 min\",\"127 min\",\"92 min\",\"121 min\",\"104 min\",\"140 min\",\"150 min\",\"140 min\",\"140 min\",\"120 min\",\"135 min\",\"116 min\",\"138 min\",\"129 min\",\"125 min\",\"132 min\",\"165 min\",\"92 min\",\"90 min\",\"99 min\",\"171 min\",\"147 min\",\"165 min\",\"154 min\",\"139 min\",\"113 min\",\"150 min\",\"121 min\",\"152 min\",\"95 min\",\"128 min\",\"117 min\",\"148 min\",\"168 min\",\"95 min\",\"124 min\",\"117 min\",\"132 min\",\"126 min\",\"127 min\",\"130 min\",\"102 min\",\"125 min\",\"137 min\",\"158 min\",\"99 min\",\"107 min\",\"127 min\",\"133 min\",\"104 min\",\"141 min\",\"128 min\",\"118 min\",\"118 min\",\"130 min\",\"94 min\",\"131 min\",\"126 min\",\"161 min\",\"106 min\",\"138 min\",\"162 min\",\"110 min\",\"139 min\",\"104 min\",\"106 min\",\"113 min\",\"131 min\",\"121 min\",\"105 min\",\"160 min\",\"96 min\",\"138 min\",\"120 min\",\"107 min\",\"163 min\",\"98 min\",\"122 min\",\"141 min\",\"156 min\",\"93 min\",\"94 min\",\"128 min\",\"118 min\",\"145 min\",\"128 min\",\"89 min\",\"125 min\",\"131 min\",\"134 min\",\"135 min\",\"155 min\",\"130 min\",\"140 min\",\"117 min\",\"90 min\",\"130 min\",\"126 min\",\"127 min\",\"126 min\",\"117 min\",\"164 min\",\"166 min\",\"176 min\",\"192 min\",\"193 min\",\"119 min\",\"1 Season\",\"95 min\",\"85 min\",\"102 min\",\"81 min\",\"134 min\",\"137 min\",\"170 min\",\"171 min\",\"177 min\",\"187 min\",\"115 min\",\"132 min\",\"1 Season\",\"89 min\",\"102 min\",\"115 min\",\"125 min\",\"95 min\",\"124 min\",\"109 min\",\"172 min\",\"117 min\",\"122 min\",\"131 min\",\"133 min\",\"119 min\",\"63 min\",\"120 min\",\"123 min\",\"91 min\",\"132 min\",\"154 min\",\"135 min\",\"141 min\",\"117 min\",\"157 min\",\"96 min\",\"153 min\",\"119 min\",\"124 min\",\"143 min\",\"83 min\",\"120 min\",\"137 min\",\"97 min\",\"121 min\",\"119 min\",\"103 min\",\"129 min\",\"91 min\",\"133 min\",\"176 min\",\"131 min\",\"147 min\",\"129 min\",\"139 min\",\"65 min\",\"173 min\",\"162 min\",\"112 min\",\"124 min\",\"148 min\",\"154 min\",\"161 min\",\"162 min\",\"163 min\",\"124 min\",\"129 min\",\"133 min\",\"122 min\",\"171 min\",\"130 min\",\"109 min\",\"128 min\",\"137 min\",\"137 min\",\"138 min\",\"133 min\",\"116 min\",\"129 min\",\"156 min\",\"118 min\",\"116 min\",\"127 min\",\"135 min\",\"138 min\",\"128 min\",\"115 min\",\"138 min\",\"143 min\",\"127 min\",\"143 min\",\"127 min\",\"109 min\",\"137 min\",\"150 min\",\"116 min\",\"135 min\",\"90 min\",\"131 min\",\"129 min\",\"130 min\",\"50 min\",\"76 min\",\"128 min\",\"148 min\",\"153 min\",\"154 min\",\"90 min\",\"110 min\",\"120 min\",\"118 min\",\"105 min\",\"115 min\",\"154 min\",\"156 min\",\"174 min\",\"121 min\",\"\",\"\",\"\",\"\",\"\",\"\",\"\",\"\",\"\",\"\",\"\",\"\",\"\",\"\",\"\",\"\",\"\",\"\",\"\",\"\",\"\",\"\",\"\",\"\",\"\",\"\",\"\",\"\",\"\",\"\",\"\",\"\",\"\",\"\",\"\",\"\",\"\",\"\",\"\",\"\",\"\",\"\",\"\",\"\",\"\",\"\",\"\",\"\",\"\",\"\",\"\",\"\",\"\",\"\",\"\",\"\",\"\",\"\",\"\",\"\",\"\",\"\",\"\",\"\",\"\",\"\",\"\",\"\",\"\",\"\",\"\",\"\",\"\",\"\",\"\",\"\",\"\",\"\",\"\",\"\",\"\",\"\",\"\",\"\",\"\",\"\",\"\",\"\",\"\",\"\",\"\",\"\",\"\",\"\",\"\",\"\",\"\",\"\",\"\",\"\",\"\",\"\",\"\",\"\",\"\",\"\",\"\",\"\",\"\",\"\",\"\",\"\",\"\",\"\",\"\",\"\",\"\",\"\"],\"values\":[1,1,1,1,1,1,1,1,1,1,1,1,1,1,1,1,1,1,1,1,1,1,1,1,1,2,1,1,1,1,1,1,1,1,1,1,1,1,1,1,1,1,1,1,1,1,1,1,1,1,1,1,1,1,1,1,1,1,1,1,1,1,1,1,1,1,1,1,1,1,1,1,1,1,1,1,1,1,1,1,1,1,1,1,1,1,1,1,1,1,1,1,1,1,1,1,1,1,1,1,1,1,1,1,1,1,1,1,1,1,1,1,1,1,1,1,1,1,1,1,1,1,1,1,1,1,1,1,1,1,1,1,1,1,1,1,1,1,1,1,1,1,1,1,1,1,1,1,1,1,1,1,1,1,1,1,1,1,1,1,1,1,1,1,1,1,1,1,1,1,1,1,1,1,1,2,1,1,1,1,1,1,1,1,1,1,1,1,1,1,1,1,1,1,1,1,1,1,1,1,1,1,1,1,1,1,1,1,1,1,1,2,1,1,1,1,1,1,1,1,1,1,1,1,1,1,1,1,1,1,1,1,1,1,1,1,1,1,1,1,1,1,1,1,1,1,1,1,1,1,1,1,1,1,1,1,1,1,1,1,1,1,1,1,1,1,1,1,1,1,1,1,1,1,1,1,1,1,1,1,1,1,1,1,1,1,1,1,1,1,1,1,1,1,1,1,1,1,1,1,1,1,1,1,1,1,1,1,1,1,1,1,1,1,1,1,1,1,1,1,1,1,1,1,1,1,1,1,1,1,1,1,1,1,1,1,1,1,1,1,1,1,1,1,1,1,1,1,1,1,1,1,1,1,1,1,1,1,1,1,1,1,1,1,1,1,1,1,1,1,1,1,1,1,1,1,1,1,1,1,1,1,1,1,1,1,1,1,1,1,1,1,1,1,1,1,1,1,1,1,1,1,1,1,1,1,1,1,1,1,1,1,1,1,1,1,1,1,1,1,1,1,1,1,1,1,1,1,1,1,1,1,1,1,1,1,1,1,1,1,1,1,1,1,1,1,1,1,1,1,1,1,1,1,1,1,1,1,1,1,1,1,1,1,1,1,1,1,1,1,1,1,1,1,1,1,1,1,1,1,1,1,1,1,1,1,1,1,1,1,1,1,1,1,1,1,1,1,1,1,1,1,1,1,1,1,1,1,1,1,1,1,1,1,1,1,1,1,1,1,1,1,1,1,1,1,1,1,1,1,1,1,1,1,1,1,1,1,1,1,1,1,1,1,1,1,1,1,1,1,1,1,1,1,1,1,1,1,1,1,1,1,1,1,1,1,1,1,1,1,1,1,1,1,1,1,1,1,1,1,1,1,1,1,1,1,2,1,1,1,1,1,1,1,1,1,1,1,1,1,1,1,1,1,1,1,1,1,1,1,1,1,1,1,1,1,1,1,1,1,1,1,1,1,1,1,1,1,1,1,1,1,1,1,1,1,1,1,1,1,1,1,1,1,1,1,1,1,1,1,1,1,1,1,1,1,1,1,1,1,1,1,1,1,1,1,1,1,1,1,1,1,1,1,1,1,1,1,1,1,1,1,1,1,1,1,1,1,1,1,1,1,1,1,1,1,1,1,1,1,1,1,1,1,2,1,1,1,1,1,1,1,1,1,1,1,1,1,1,1,1,1,1,1,1,1,1,1,1,1,1,1,1,1,1,1,1,1,1,1,1,1,1,1,1,1,1,1,1,1,1,1,1,1,1,1,1,1,1,1,1,1,1,1,1,1,1,1,1,1,1,1,1,1,1,1,1,1,1,1,1,1,1,1,1,1,1,1,1,1,1,1,1,1,1,1,1,1,1,1,1,1,1,1,1,1,1,1,1,1,1,1,1,1,1,1,1,1,1,1,1,1,1,1,1,1,1,5,4,8,7,12,9,7,5,11,3,14,11,6,10,9,11,13,18,17,14,11,17,16,9,9,15,13,17,21,18,17,13,17,19,19,12,19,8,22,6,8,12,9,7,12,5,7,7,6,12,7,13,10,3,7,7,6,7,3,5,5,4,8,11,7,4,7,4,5,2,3,6,3,4,2,4,3,1,1,4,2,2,1,1,1,1,1,1,1,1,1,2,1,1,2,1,2,1,1,1,1,1,4,4,1,3,2,4,4,4,5,6,6,7,7,6,4,5],\"type\":\"treemap\"}],                        {\"template\":{\"data\":{\"histogram2dcontour\":[{\"type\":\"histogram2dcontour\",\"colorbar\":{\"outlinewidth\":0,\"ticks\":\"\"},\"colorscale\":[[0.0,\"#0d0887\"],[0.1111111111111111,\"#46039f\"],[0.2222222222222222,\"#7201a8\"],[0.3333333333333333,\"#9c179e\"],[0.4444444444444444,\"#bd3786\"],[0.5555555555555556,\"#d8576b\"],[0.6666666666666666,\"#ed7953\"],[0.7777777777777778,\"#fb9f3a\"],[0.8888888888888888,\"#fdca26\"],[1.0,\"#f0f921\"]]}],\"choropleth\":[{\"type\":\"choropleth\",\"colorbar\":{\"outlinewidth\":0,\"ticks\":\"\"}}],\"histogram2d\":[{\"type\":\"histogram2d\",\"colorbar\":{\"outlinewidth\":0,\"ticks\":\"\"},\"colorscale\":[[0.0,\"#0d0887\"],[0.1111111111111111,\"#46039f\"],[0.2222222222222222,\"#7201a8\"],[0.3333333333333333,\"#9c179e\"],[0.4444444444444444,\"#bd3786\"],[0.5555555555555556,\"#d8576b\"],[0.6666666666666666,\"#ed7953\"],[0.7777777777777778,\"#fb9f3a\"],[0.8888888888888888,\"#fdca26\"],[1.0,\"#f0f921\"]]}],\"heatmap\":[{\"type\":\"heatmap\",\"colorbar\":{\"outlinewidth\":0,\"ticks\":\"\"},\"colorscale\":[[0.0,\"#0d0887\"],[0.1111111111111111,\"#46039f\"],[0.2222222222222222,\"#7201a8\"],[0.3333333333333333,\"#9c179e\"],[0.4444444444444444,\"#bd3786\"],[0.5555555555555556,\"#d8576b\"],[0.6666666666666666,\"#ed7953\"],[0.7777777777777778,\"#fb9f3a\"],[0.8888888888888888,\"#fdca26\"],[1.0,\"#f0f921\"]]}],\"heatmapgl\":[{\"type\":\"heatmapgl\",\"colorbar\":{\"outlinewidth\":0,\"ticks\":\"\"},\"colorscale\":[[0.0,\"#0d0887\"],[0.1111111111111111,\"#46039f\"],[0.2222222222222222,\"#7201a8\"],[0.3333333333333333,\"#9c179e\"],[0.4444444444444444,\"#bd3786\"],[0.5555555555555556,\"#d8576b\"],[0.6666666666666666,\"#ed7953\"],[0.7777777777777778,\"#fb9f3a\"],[0.8888888888888888,\"#fdca26\"],[1.0,\"#f0f921\"]]}],\"contourcarpet\":[{\"type\":\"contourcarpet\",\"colorbar\":{\"outlinewidth\":0,\"ticks\":\"\"}}],\"contour\":[{\"type\":\"contour\",\"colorbar\":{\"outlinewidth\":0,\"ticks\":\"\"},\"colorscale\":[[0.0,\"#0d0887\"],[0.1111111111111111,\"#46039f\"],[0.2222222222222222,\"#7201a8\"],[0.3333333333333333,\"#9c179e\"],[0.4444444444444444,\"#bd3786\"],[0.5555555555555556,\"#d8576b\"],[0.6666666666666666,\"#ed7953\"],[0.7777777777777778,\"#fb9f3a\"],[0.8888888888888888,\"#fdca26\"],[1.0,\"#f0f921\"]]}],\"surface\":[{\"type\":\"surface\",\"colorbar\":{\"outlinewidth\":0,\"ticks\":\"\"},\"colorscale\":[[0.0,\"#0d0887\"],[0.1111111111111111,\"#46039f\"],[0.2222222222222222,\"#7201a8\"],[0.3333333333333333,\"#9c179e\"],[0.4444444444444444,\"#bd3786\"],[0.5555555555555556,\"#d8576b\"],[0.6666666666666666,\"#ed7953\"],[0.7777777777777778,\"#fb9f3a\"],[0.8888888888888888,\"#fdca26\"],[1.0,\"#f0f921\"]]}],\"mesh3d\":[{\"type\":\"mesh3d\",\"colorbar\":{\"outlinewidth\":0,\"ticks\":\"\"}}],\"scatter\":[{\"fillpattern\":{\"fillmode\":\"overlay\",\"size\":10,\"solidity\":0.2},\"type\":\"scatter\"}],\"parcoords\":[{\"type\":\"parcoords\",\"line\":{\"colorbar\":{\"outlinewidth\":0,\"ticks\":\"\"}}}],\"scatterpolargl\":[{\"type\":\"scatterpolargl\",\"marker\":{\"colorbar\":{\"outlinewidth\":0,\"ticks\":\"\"}}}],\"bar\":[{\"error_x\":{\"color\":\"#2a3f5f\"},\"error_y\":{\"color\":\"#2a3f5f\"},\"marker\":{\"line\":{\"color\":\"#E5ECF6\",\"width\":0.5},\"pattern\":{\"fillmode\":\"overlay\",\"size\":10,\"solidity\":0.2}},\"type\":\"bar\"}],\"scattergeo\":[{\"type\":\"scattergeo\",\"marker\":{\"colorbar\":{\"outlinewidth\":0,\"ticks\":\"\"}}}],\"scatterpolar\":[{\"type\":\"scatterpolar\",\"marker\":{\"colorbar\":{\"outlinewidth\":0,\"ticks\":\"\"}}}],\"histogram\":[{\"marker\":{\"pattern\":{\"fillmode\":\"overlay\",\"size\":10,\"solidity\":0.2}},\"type\":\"histogram\"}],\"scattergl\":[{\"type\":\"scattergl\",\"marker\":{\"colorbar\":{\"outlinewidth\":0,\"ticks\":\"\"}}}],\"scatter3d\":[{\"type\":\"scatter3d\",\"line\":{\"colorbar\":{\"outlinewidth\":0,\"ticks\":\"\"}},\"marker\":{\"colorbar\":{\"outlinewidth\":0,\"ticks\":\"\"}}}],\"scattermapbox\":[{\"type\":\"scattermapbox\",\"marker\":{\"colorbar\":{\"outlinewidth\":0,\"ticks\":\"\"}}}],\"scatterternary\":[{\"type\":\"scatterternary\",\"marker\":{\"colorbar\":{\"outlinewidth\":0,\"ticks\":\"\"}}}],\"scattercarpet\":[{\"type\":\"scattercarpet\",\"marker\":{\"colorbar\":{\"outlinewidth\":0,\"ticks\":\"\"}}}],\"carpet\":[{\"aaxis\":{\"endlinecolor\":\"#2a3f5f\",\"gridcolor\":\"white\",\"linecolor\":\"white\",\"minorgridcolor\":\"white\",\"startlinecolor\":\"#2a3f5f\"},\"baxis\":{\"endlinecolor\":\"#2a3f5f\",\"gridcolor\":\"white\",\"linecolor\":\"white\",\"minorgridcolor\":\"white\",\"startlinecolor\":\"#2a3f5f\"},\"type\":\"carpet\"}],\"table\":[{\"cells\":{\"fill\":{\"color\":\"#EBF0F8\"},\"line\":{\"color\":\"white\"}},\"header\":{\"fill\":{\"color\":\"#C8D4E3\"},\"line\":{\"color\":\"white\"}},\"type\":\"table\"}],\"barpolar\":[{\"marker\":{\"line\":{\"color\":\"#E5ECF6\",\"width\":0.5},\"pattern\":{\"fillmode\":\"overlay\",\"size\":10,\"solidity\":0.2}},\"type\":\"barpolar\"}],\"pie\":[{\"automargin\":true,\"type\":\"pie\"}]},\"layout\":{\"autotypenumbers\":\"strict\",\"colorway\":[\"#636efa\",\"#EF553B\",\"#00cc96\",\"#ab63fa\",\"#FFA15A\",\"#19d3f3\",\"#FF6692\",\"#B6E880\",\"#FF97FF\",\"#FECB52\"],\"font\":{\"color\":\"#2a3f5f\"},\"hovermode\":\"closest\",\"hoverlabel\":{\"align\":\"left\"},\"paper_bgcolor\":\"white\",\"plot_bgcolor\":\"#E5ECF6\",\"polar\":{\"bgcolor\":\"#E5ECF6\",\"angularaxis\":{\"gridcolor\":\"white\",\"linecolor\":\"white\",\"ticks\":\"\"},\"radialaxis\":{\"gridcolor\":\"white\",\"linecolor\":\"white\",\"ticks\":\"\"}},\"ternary\":{\"bgcolor\":\"#E5ECF6\",\"aaxis\":{\"gridcolor\":\"white\",\"linecolor\":\"white\",\"ticks\":\"\"},\"baxis\":{\"gridcolor\":\"white\",\"linecolor\":\"white\",\"ticks\":\"\"},\"caxis\":{\"gridcolor\":\"white\",\"linecolor\":\"white\",\"ticks\":\"\"}},\"coloraxis\":{\"colorbar\":{\"outlinewidth\":0,\"ticks\":\"\"}},\"colorscale\":{\"sequential\":[[0.0,\"#0d0887\"],[0.1111111111111111,\"#46039f\"],[0.2222222222222222,\"#7201a8\"],[0.3333333333333333,\"#9c179e\"],[0.4444444444444444,\"#bd3786\"],[0.5555555555555556,\"#d8576b\"],[0.6666666666666666,\"#ed7953\"],[0.7777777777777778,\"#fb9f3a\"],[0.8888888888888888,\"#fdca26\"],[1.0,\"#f0f921\"]],\"sequentialminus\":[[0.0,\"#0d0887\"],[0.1111111111111111,\"#46039f\"],[0.2222222222222222,\"#7201a8\"],[0.3333333333333333,\"#9c179e\"],[0.4444444444444444,\"#bd3786\"],[0.5555555555555556,\"#d8576b\"],[0.6666666666666666,\"#ed7953\"],[0.7777777777777778,\"#fb9f3a\"],[0.8888888888888888,\"#fdca26\"],[1.0,\"#f0f921\"]],\"diverging\":[[0,\"#8e0152\"],[0.1,\"#c51b7d\"],[0.2,\"#de77ae\"],[0.3,\"#f1b6da\"],[0.4,\"#fde0ef\"],[0.5,\"#f7f7f7\"],[0.6,\"#e6f5d0\"],[0.7,\"#b8e186\"],[0.8,\"#7fbc41\"],[0.9,\"#4d9221\"],[1,\"#276419\"]]},\"xaxis\":{\"gridcolor\":\"white\",\"linecolor\":\"white\",\"ticks\":\"\",\"title\":{\"standoff\":15},\"zerolinecolor\":\"white\",\"automargin\":true,\"zerolinewidth\":2},\"yaxis\":{\"gridcolor\":\"white\",\"linecolor\":\"white\",\"ticks\":\"\",\"title\":{\"standoff\":15},\"zerolinecolor\":\"white\",\"automargin\":true,\"zerolinewidth\":2},\"scene\":{\"xaxis\":{\"backgroundcolor\":\"#E5ECF6\",\"gridcolor\":\"white\",\"linecolor\":\"white\",\"showbackground\":true,\"ticks\":\"\",\"zerolinecolor\":\"white\",\"gridwidth\":2},\"yaxis\":{\"backgroundcolor\":\"#E5ECF6\",\"gridcolor\":\"white\",\"linecolor\":\"white\",\"showbackground\":true,\"ticks\":\"\",\"zerolinecolor\":\"white\",\"gridwidth\":2},\"zaxis\":{\"backgroundcolor\":\"#E5ECF6\",\"gridcolor\":\"white\",\"linecolor\":\"white\",\"showbackground\":true,\"ticks\":\"\",\"zerolinecolor\":\"white\",\"gridwidth\":2}},\"shapedefaults\":{\"line\":{\"color\":\"#2a3f5f\"}},\"annotationdefaults\":{\"arrowcolor\":\"#2a3f5f\",\"arrowhead\":0,\"arrowwidth\":1},\"geo\":{\"bgcolor\":\"white\",\"landcolor\":\"#E5ECF6\",\"subunitcolor\":\"white\",\"showland\":true,\"showlakes\":true,\"lakecolor\":\"white\"},\"title\":{\"x\":0.05},\"mapbox\":{\"style\":\"light\"}}},\"legend\":{\"tracegroupgap\":0},\"margin\":{\"t\":60}},                        {\"responsive\": true}                    ).then(function(){\n",
       "                            \n",
       "var gd = document.getElementById('cac2de3a-da10-40e9-935c-bbe71378b008');\n",
       "var x = new MutationObserver(function (mutations, observer) {{\n",
       "        var display = window.getComputedStyle(gd).display;\n",
       "        if (!display || display === 'none') {{\n",
       "            console.log([gd, 'removed!']);\n",
       "            Plotly.purge(gd);\n",
       "            observer.disconnect();\n",
       "        }}\n",
       "}});\n",
       "\n",
       "// Listen for the removal of the full notebook cells\n",
       "var notebookContainer = gd.closest('#notebook-container');\n",
       "if (notebookContainer) {{\n",
       "    x.observe(notebookContainer, {childList: true});\n",
       "}}\n",
       "\n",
       "// Listen for the clearing of the current output cell\n",
       "var outputEl = gd.closest('.output');\n",
       "if (outputEl) {{\n",
       "    x.observe(outputEl, {childList: true});\n",
       "}}\n",
       "\n",
       "                        })                };                });            </script>        </div>"
      ]
     },
     "metadata": {},
     "output_type": "display_data"
    }
   ],
   "source": [
    "netflix_india=netflix_overall[netflix_overall['country']=='India']\n",
    "netflix_india\n",
    "netflix_india = netflix_india.dropna()\n",
    "fig = px.treemap(netflix_india, path=['duration','director'], hover_data=['director','title'],color_continuous_scale='Black')\n",
    "fig.show()"
   ]
  },
  {
   "cell_type": "code",
   "execution_count": 149,
   "id": "e3b392e5",
   "metadata": {
    "scrolled": true
   },
   "outputs": [
    {
     "data": {
      "application/vnd.plotly.v1+json": {
       "config": {
        "plotlyServerURL": "https://plot.ly"
       },
       "data": [
        {
         "branchvalues": "total",
         "customdata": [
          [
           "A. L. Vijay",
           "(?)"
          ],
          [
           "A. Raajdheep",
           "Asura Guru"
          ],
          [
           "A. Salaam",
           "Salaakhen"
          ],
          [
           "A.R. Murugadoss",
           "Spyder"
          ],
          [
           "Aadish Keluskar",
           "Jaoon Kahan Bata Ae Dil"
          ],
          [
           "Aamir Bashir",
           "Harud"
          ],
          [
           "Aamir Khan",
           "Taare Zameen Par"
          ],
          [
           "Aanand Rai",
           "(?)"
          ],
          [
           "Aatmaram Dharne",
           "Chal Dhar Pakad"
          ],
          [
           "Abbas Alibhai Burmawalla, Mastan Alibhai Burmawalla",
           "(?)"
          ],
          [
           "Abbas Mustan",
           "Soldier"
          ],
          [
           "Abbas Tyrewala",
           "Jaane Tu... Ya Jaane Na"
          ],
          [
           "Abhay Chopra",
           "Ittefaq"
          ],
          [
           "Abhijeet Deshpande",
           "Ani... Dr. Kashinath Ghanekar"
          ],
          [
           "Abhijit Kokate, Srivinay Salian",
           "Rakkhosh"
          ],
          [
           "Abhijit Panse",
           "Thackeray (Hindi)"
          ],
          [
           "Abhinay Deo",
           "(?)"
          ],
          [
           "Abhishek Chaubey",
           "(?)"
          ],
          [
           "Abhishek Kapoor",
           "(?)"
          ],
          [
           "Abhishek Saxena",
           "Phullu"
          ],
          [
           "Abhishek Sharma",
           "(?)"
          ],
          [
           "Abhishek Varman",
           "2 States"
          ],
          [
           "Aditya Kripalani",
           "(?)"
          ],
          [
           "Aditya Sarpotdar",
           "(?)"
          ],
          [
           "Aditya Vikram Sengupta",
           "Jonaki"
          ],
          [
           "Advait Chandan",
           "Secret Superstar"
          ],
          [
           "Agnidev Chatterjee",
           "Dark Chocolate (Bengali Version)"
          ],
          [
           "Ahishor Solomon",
           "John Day"
          ],
          [
           "Aijaz Khan",
           "Hamid"
          ],
          [
           "Ajay Bahl",
           "B.A. Pass"
          ],
          [
           "Ajay Bhuyan, Kunal Kohli",
           "Phir Se"
          ],
          [
           "Ajay Phansekar",
           "Encounter: The Killing"
          ],
          [
           "Ajithkumar",
           "Eeda"
          ],
          [
           "Akashdeep",
           "Santa Banta Pvt Ltd"
          ],
          [
           "Akhil Paul, Anas Khan",
           "Forensic"
          ],
          [
           "Akshay Akkineni",
           "Pizza"
          ],
          [
           "Alankrita Shrivastava",
           "Dolly Kitty Aur Woh Chamakte Sitare"
          ],
          [
           "Alo Sarkar",
           "Bandie"
          ],
          [
           "Amaan Khan",
           "Mahabharat"
          ],
          [
           "Amal Neerad",
           "CIA: Comrade in America"
          ],
          [
           "Amar Gupte",
           "Hridaynath"
          ],
          [
           "Amar Kaushik",
           "Stree"
          ],
          [
           "Amardeep Singh Gill",
           "Jora 10 Numbaria"
          ],
          [
           "Amarpreet G S Chabbra",
           "Happy Go Lucky"
          ],
          [
           "Amit Barot",
           "Shubh Aarambh"
          ],
          [
           "Amit Rai",
           "Road to Sangam"
          ],
          [
           "Amit Roy",
           "Running Shaadi"
          ],
          [
           "Amit Saxena",
           "Nasha"
          ],
          [
           "Amitabha Singh",
           "Shortcut Safari"
          ],
          [
           "Amitava Bhattacharya",
           "Red Oleanders Raktokarobi"
          ],
          [
           "Amitoj Mann",
           "(?)"
          ],
          [
           "Amol Palekar",
           "Paheli"
          ],
          [
           "Amshan Kumar",
           "Manusangada"
          ],
          [
           "Anand Ravichandran",
           "SETHUM AAYIRAM PON"
          ],
          [
           "Anand Tiwari",
           "Love Per Square Foot"
          ],
          [
           "Ananda Krishnan",
           "Metro"
          ],
          [
           "Anant Balani",
           "Mumbai Matinee"
          ],
          [
           "Ananth Narayan Mahadevan",
           "Gour Hari Dastaan: The Freedom File"
          ],
          [
           "Anees Bazmee",
           "(?)"
          ],
          [
           "Angshuman Ghosh",
           "Kenny Sebastian: The Most Interesting Person in the Room"
          ],
          [
           "Anik Datta",
           "Meghnadbodh Rohoshyo"
          ],
          [
           "Anil Sharma",
           "Singh Saab the Great"
          ],
          [
           "Anil Thomas",
           "Minnaminugu the FireFly"
          ],
          [
           "Anil V. Kumar",
           "Kucch To Hai"
          ],
          [
           "Aniruddha Roy Chowdhury",
           "Pink"
          ],
          [
           "Anita Udeep",
           "90 ML"
          ],
          [
           "Anoop Sathyan",
           "Varane Avashyamund"
          ],
          [
           "Anthony D'Souza",
           "(?)"
          ],
          [
           "Anu Menon",
           "Waiting"
          ],
          [
           "Anubhav Sinha",
           "Article 15"
          ],
          [
           "Anurag Basu",
           "(?)"
          ],
          [
           "Anurag Kashyap",
           "(?)"
          ],
          [
           "Anurag Kashyap, Dibakar Banerjee, Karan Johar, Zoya Akhtar",
           "(?)"
          ],
          [
           "Anuranjan Premji",
           "Chicken Kokkachi"
          ],
          [
           "Anusha Rizvi, Mahmood Farooqui",
           "Peepli Live"
          ],
          [
           "Anvita Dutt",
           "Bulbbul"
          ],
          [
           "Apoorva Lakhia",
           "(?)"
          ],
          [
           "Apurva Dhar Badgaiyann",
           "Chaman Bahaar"
          ],
          [
           "Arati Kadav",
           "Cargo"
          ],
          [
           "Arjun Gourisaria, Moinak Biswas",
           "Sthaniya Sambaad"
          ],
          [
           "Arjun Jandyala",
           "Guna 369"
          ],
          [
           "Arnab Chaudhuri",
           "Arjun: The Warrior Prince"
          ],
          [
           "Arun Chidambaram",
           "Kanavu Variyam"
          ],
          [
           "Arun Vaidyanathan",
           "Nibunan"
          ],
          [
           "Aruna Raje",
           "Firebrand"
          ],
          [
           "Ashish R. Mohan",
           "Welcome 2 Karachi"
          ],
          [
           "Ashok Nanda",
           "(?)"
          ],
          [
           "Ashu Trikha",
           "Veerey Ki Wedding"
          ],
          [
           "Ashutosh Gowariker",
           "(?)"
          ],
          [
           "Ashwiny Iyer Tiwari",
           "Bareilly Ki Barfi"
          ],
          [
           "Atanu Ghosh",
           "(?)"
          ],
          [
           "Atanu Mukherjee",
           "Rukh"
          ],
          [
           "Atharv Baluja",
           "Judge Singh LLB"
          ],
          [
           "Athiyan Athirai",
           "The Last Bomb of the Second World War"
          ],
          [
           "Atlee Kumar",
           "Mersal"
          ],
          [
           "Atul Sabharwal",
           "Class of '83"
          ],
          [
           "Avadhoot Gupte",
           "(?)"
          ],
          [
           "Avinash Arun",
           "Killa"
          ],
          [
           "Avinash Das",
           "Anarkali of Aarah"
          ],
          [
           "Avinash Walzade",
           "Fukrey Boyzzz: Space Mein Fukrapanti"
          ],
          [
           "Ayaan Mukherji",
           "Wake Up Sid"
          ],
          [
           "Ayush Raina",
           "Horror Story"
          ],
          [
           "Aziz Mirza",
           "(?)"
          ],
          [
           "B. Subhash",
           "Disco Dancer"
          ],
          [
           "B. Unnikrishnan",
           "Grandmaster"
          ],
          [
           "B. V. Nandini Reddy",
           "Oh! Baby"
          ],
          [
           "B.N. Shajeer Sha",
           "Lechmi"
          ],
          [
           "Baljit Singh Deo",
           "Manje Bistre"
          ],
          [
           "Balu Mahendra",
           "Sadma"
          ],
          [
           "Basava Shankar Eeday",
           "Evvarikee Cheppoddu"
          ],
          [
           "Basu Chatterjee",
           "(?)"
          ],
          [
           "Bauddhayan Mukherji",
           "The Violin Player"
          ],
          [
           "Bejoy Nambiar",
           "(?)"
          ],
          [
           "Bhagyaraj",
           "Papa the Great"
          ],
          [
           "Bharat Jain",
           "6-5=2"
          ],
          [
           "Bhavin Wadia",
           "Project Marathwada"
          ],
          [
           "Bhushan Patel",
           "Ragini MMS 2"
          ],
          [
           "Binu Ulahhannan",
           "Melle"
          ],
          [
           "Biswajeet Bora",
           "Aisa Yeh Jahaan"
          ],
          [
           "Buddhadev Dasgupta",
           "Tope: The Bait"
          ],
          [
           "Buta Singh",
           "Kacche Dhaagey"
          ],
          [
           "Chakri Toleti",
           "Kolaiyuthir Kaalam"
          ],
          [
           "Chandan Arora",
           "Main, Meri Patni Aur Woh"
          ],
          [
           "Chandra Prakash Dwivedi",
           "Zed Plus"
          ],
          [
           "Chandrakant Kanse",
           "Daagdi Chaawl"
          ],
          [
           "Chandrakant Kulkarni",
           "(?)"
          ],
          [
           "Chandran Narikode",
           "Paathi"
          ],
          [
           "Danish Aslam",
           "Break Ke Baad"
          ],
          [
           "Dar Gai",
           "Teen Aur Aadha"
          ],
          [
           "Datta Mohan Bhandare",
           "Krutant"
          ],
          [
           "David Dhawan",
           "(?)"
          ],
          [
           "Debaloy Dey",
           "Macchli Jal Ki Rani Hai"
          ],
          [
           "Debamitra Biswal",
           "Motichoor Chaknachoor"
          ],
          [
           "Deep Joshi",
           "Bathinda Express"
          ],
          [
           "Deepti Naval",
           "Do Paise Ki Dhoop Chaar Aane Ki Baarish"
          ],
          [
           "Desingh Periyasamy",
           "Kannum Kannum Kollaiyadithaal"
          ],
          [
           "Devaki Singh, Luke Kenny",
           "Rise of the Zombie"
          ],
          [
           "Devashish Makhija",
           "Ajji"
          ],
          [
           "Devika Bhagat",
           "One by Two"
          ],
          [
           "Dhanush",
           "Power Paandi"
          ],
          [
           "Dharmendra Suresh Desai",
           "Rustom"
          ],
          [
           "Dharmesh Darshan",
           "(?)"
          ],
          [
           "Dheeraj Berry",
           "Th Eena Meena Deeka Chase Comedy Show"
          ],
          [
           "Dhilip Kumar",
           "Kalki"
          ],
          [
           "Dibakar Banerjee",
           "(?)"
          ],
          [
           "Dileep Narayanan",
           "Paulettante Veedu"
          ],
          [
           "Dylan Mohan Gray",
           "Fire in the Blood"
          ],
          [
           "Eeshwar Nivas",
           "Dum"
          ],
          [
           "Emcy Joseph",
           "Mischief"
          ],
          [
           "Farah Khan",
           "(?)"
          ],
          [
           "Faraz Haider",
           "War Chhod Na Yaar"
          ],
          [
           "Farhan Akhtar",
           "(?)"
          ],
          [
           "Fazila Allana",
           "Aditi Mittal: Things They Wouldn't Let Me Say"
          ],
          [
           "Feroz",
           "Pandigai"
          ],
          [
           "Fuwad Khan",
           "Dharam Sankat Mein"
          ],
          [
           "Gafoor Y. Elliyaas",
           "Pareeth Pandaari"
          ],
          [
           "Gagan Puri",
           "Door Ke Darshan"
          ],
          [
           "Gajendra Ahire",
           "(?)"
          ],
          [
           "Gajendra Ahire, Viju Mane, Girish Mohite, Ravi Jadhav",
           "Bioscope"
          ],
          [
           "Ganesh Kadam",
           "Vitti Dandu"
          ],
          [
           "Gangadhar Salimath",
           "Ayana"
          ],
          [
           "Gaurav Narayanan",
           "Sigaram Thodu"
          ],
          [
           "Gauravv K Chawla",
           "Baazaar"
          ],
          [
           "Gauri Shinde",
           "Dear Zindagi"
          ],
          [
           "Geetu Mohandas",
           "Liar's Dice"
          ],
          [
           "Girish Joshi",
           "Ranbhool"
          ],
          [
           "Girish Malik",
           "(?)"
          ],
          [
           "Gulzar",
           "Koshish"
          ],
          [
           "Gurmmeet Singh",
           "What the Fish"
          ],
          [
           "Gurudev Bhalla",
           "Shararat"
          ],
          [
           "Habib Faisal",
           "Do Dooni Chaar"
          ],
          [
           "Halitha Shameem",
           "Sillu Karuppatti"
          ],
          [
           "Hardik Mehta",
           "Har Kisse Ke Hisse: Kaamyaab"
          ],
          [
           "Hari Nath",
           "Neevevaro"
          ],
          [
           "Hari Viswanath",
           "Radiopetti"
          ],
          [
           "Harjit Singh",
           "Eh Janam Tumhare Lekhe"
          ],
          [
           "Harry Baweja",
           "Chaar Sahibzaade"
          ],
          [
           "Harshavardhan Kulkarni",
           "Hunterrr"
          ],
          [
           "Hemant Gaba, Pratim D. Gupta, Sudhish Kamath, Nalan Kumarasamy, Anu Menon, Sandeep Mohan, Qaushiq Mukherjee, Rajshree Ojha, Raja Sen, Abhinav Shiv Tiwari, Suparn Verma",
           "X: Past Is Present"
          ],
          [
           "Honey Trehan",
           "Raat Akeli Hai"
          ],
          [
           "Hrishikesh Mukherjee",
           "(?)"
          ],
          [
           "Imtiaz Ali",
           "(?)"
          ],
          [
           "Indra Kumar",
           "(?)"
          ],
          [
           "Indrajit Nattoji",
           "Aagey Se Right"
          ],
          [
           "Indrasis Acharya",
           "Bilu Rakkhosh"
          ],
          [
           "Ishaan Trivedi",
           "A Scandall"
          ],
          [
           "Ivan Ayr",
           "Soni"
          ],
          [
           "Jagdeep Sidhu",
           "Qismat"
          ],
          [
           "Jaivi Dhanda",
           "Needhi Singh"
          ],
          [
           "Jasbir Bijendra Bhati",
           "Bhouri"
          ],
          [
           "Jasmine D'Souza",
           "One Night Stand"
          ],
          [
           "Jatla Siddartha",
           "Love and Shukla"
          ],
          [
           "Jayan Vannery",
           "Ma Chu Ka"
          ],
          [
           "Jayaprakash Radhakrishnan",
           "Lens"
          ],
          [
           "Jayaraj Rajasekharan Nair",
           "Ottaal"
          ],
          [
           "Jeethu Joseph",
           "(?)"
          ],
          [
           "Jeeva",
           "Run"
          ],
          [
           "Jijo Pancode",
           "Kaaliyan"
          ],
          [
           "Jitender Pawar",
           "Trip to Bhangarh: Asia's Most Haunted Place"
          ],
          [
           "Jitendra Tiwari, Pranav Singh",
           "Shorgul"
          ],
          [
           "Johnson Esthappan",
           "Daffedar"
          ],
          [
           "Jonathan Augustin",
           "The Lift Boy"
          ],
          [
           "K. Gopinathan",
           "Samarppanam"
          ],
          [
           "K. Ramanlal",
           "Elaan"
          ],
          [
           "K. Subhash",
           "Insan"
          ],
          [
           "K.C. Bokadia",
           "Deewana Main Deewana"
          ],
          [
           "KVR Mahendra",
           "Dorasaani"
          ],
          [
           "Kabir Khan",
           "Phantom"
          ],
          [
           "Kabir Sadanand",
           "(?)"
          ],
          [
           "Kaizad Gustad",
           "Boom"
          ],
          [
           "Kamal Sahani",
           "Sat Sri Akal"
          ],
          [
           "Kanika Batra",
           "Project Papa"
          ],
          [
           "Karan Anshuman",
           "Bangistan"
          ],
          [
           "Karan Johar",
           "(?)"
          ],
          [
           "Karan Shivajirao Chavan, Vikram Tanajirao Patil",
           "Imago"
          ],
          [
           "Karthik Subbaraj",
           "Petta"
          ],
          [
           "Kedar Shinde",
           "(?)"
          ],
          [
           "Keerthi",
           "The Plan"
          ],
          [
           "Ken Ghosh",
           "(?)"
          ],
          [
           "Ketan Mehta",
           "(?)"
          ],
          [
           "Khalid Mohamed",
           "Fiza"
          ],
          [
           "Kiran Narayanan",
           "Oru Vishsheshapetta Biryani Kissa"
          ],
          [
           "Kiran Rao",
           "Dhobi Ghat (Mumbai Diaries)"
          ],
          [
           "Kireet Khurana, Padmakumar Narasimhamurthy",
           "Saeed Mirza: The Leftist Sufi"
          ],
          [
           "Kranthi Madhav",
           "World Famous Lover"
          ],
          [
           "Kranti Kanade",
           "CRD"
          ],
          [
           "Kranti Redkar",
           "Kaakan"
          ],
          [
           "Krish",
           "Gabbar Is Back"
          ],
          [
           "Krishna Vamshi",
           "Shakti: The Power"
          ],
          [
           "Ksshitij Chaudhary",
           "(?)"
          ],
          [
           "Kumaran",
           "Jada"
          ],
          [
           "Kunal Deshmukh",
           "Raja Natwarlal"
          ],
          [
           "Kunal Kohli",
           "Next Enti?"
          ],
          [
           "Kundan Shah",
           "(?)"
          ],
          [
           "Kushal Srivastava",
           "Vodka Diaries"
          ],
          [
           "Laxman Utekar",
           "Luka Chuppi"
          ],
          [
           "Leena Yadav",
           "(?)"
          ],
          [
           "Lekh Tandon",
           "(?)"
          ],
          [
           "Lenin Bharathi",
           "Merku Thodarchi Malai"
          ],
          [
           "Lijo Jose Pellissery",
           "Angamaly Diaries"
          ],
          [
           "Luv Ranjan",
           "(?)"
          ],
          [
           "Madhumita",
           "KD (A) Karuppudurai"
          ],
          [
           "Madhur Bhandarkar",
           "(?)"
          ],
          [
           "Maha Venkatesh",
           "Care of Kancharapalem"
          ],
          [
           "Mahesh Bhatt",
           "(?)"
          ],
          [
           "Mahesh Manjrekar",
           "(?)"
          ],
          [
           "Makarand Mane",
           "(?)"
          ],
          [
           "Manav Shah",
           "Laatu"
          ],
          [
           "Manbhavan Singh",
           "Gelo"
          ],
          [
           "Mandeep Kumar",
           "Tere Naal Love Ho Gaya"
          ],
          [
           "Mangesh Hadawale",
           "Malaal"
          ],
          [
           "Mangesh Kanthale",
           "Sur Sapata"
          ],
          [
           "Mani Ratnam",
           "(?)"
          ],
          [
           "Manika Sharma",
           "The Wishing Tree"
          ],
          [
           "Manish Gupta",
           "Rahasya"
          ],
          [
           "Manish Jha",
           "(?)"
          ],
          [
           "Manish Saini",
           "Dhh"
          ],
          [
           "Manish Tiwary",
           "Issaq"
          ],
          [
           "Manjeet Maan",
           "Dil Vil Pyaar Vyaar"
          ],
          [
           "Manjeet Singh",
           "Mumbai Cha Raja"
          ],
          [
           "Manmohan Desai",
           "Amar Akbar Anthony"
          ],
          [
           "Manoj Beedha",
           "Vanjagar Ulagam"
          ],
          [
           "Mansore",
           "Nathicharami"
          ],
          [
           "Manu Ashokan",
           "Uyare"
          ],
          [
           "Mastan Alibhai Burmawalla, Abbas Alibhai Burmawalla",
           "Race"
          ],
          [
           "Megha Ramaswamy",
           "What Are the Odds?"
          ],
          [
           "Midhun Manuel Thomas",
           "Aadu 2"
          ],
          [
           "Mikhil Musale",
           "(?)"
          ],
          [
           "Milan Luthria",
           "(?)"
          ],
          [
           "Milind Dhaimade",
           "Tu Hai Mera Sunday"
          ],
          [
           "Milind Rau",
           "The House Next Door"
          ],
          [
           "Mohammed Hussain",
           "Khoon Khoon"
          ],
          [
           "Mohit Suri",
           "(?)"
          ],
          [
           "Mozez Singh",
           "Zubaan"
          ],
          [
           "Mrighdeep Singh Lamba",
           "Fukrey"
          ],
          [
           "Mukesh Vohra",
           "Thug Life"
          ],
          [
           "Mukul Anand",
           "(?)"
          ],
          [
           "Munish Bhardwaj",
           "Moh Maya Money"
          ],
          [
           "Musthafa",
           "Kappela"
          ],
          [
           "Mysskin",
           "(?)"
          ],
          [
           "N. Chandra",
           "Y.M.I.: Yeh Mera India"
          ],
          [
           "N. Linguswamy",
           "(?)"
          ],
          [
           "Nagesh Kukunoor",
           "(?)"
          ],
          [
           "Nagraj Manjule",
           "(?)"
          ],
          [
           "Naman Nitin Mukesh",
           "Bypass Road"
          ],
          [
           "Nandita Das",
           "Manto"
          ],
          [
           "Narendra Nath",
           "Miss India"
          ],
          [
           "Naresh Saigal",
           "Ujala"
          ],
          [
           "Navaniat Singh",
           "Jindua"
          ],
          [
           "Navdeep Singh",
           "Manorama Six Feet Under"
          ],
          [
           "Navinder Pal Singh",
           "Mundeyan Ton Bachke Rahin"
          ],
          [
           "Navjot Gulati",
           "Jai Mummy Di"
          ],
          [
           "Navneet Behal",
           "Tamanchey"
          ],
          [
           "Neeraj Pandey",
           "(?)"
          ],
          [
           "Neeraj Udhwani",
           "Maska"
          ],
          [
           "Neeraj Vora",
           "Phir Hera Pheri"
          ],
          [
           "Neville Shah",
           "Yours Sincerely, Kanan Gill"
          ],
          [
           "Nicholas Kharkongor",
           "(?)"
          ],
          [
           "Nidhi Sharma",
           "Pooja Kiven Aa"
          ],
          [
           "Nikhil Advani",
           "(?)"
          ],
          [
           "Nikhil Nagesh Bhat",
           "Brij Mohan Amar Rahe"
          ],
          [
           "Nikkhil Advani",
           "Kal Ho Naa Ho"
          ],
          [
           "Nila Madhab Panda",
           "(?)"
          ],
          [
           "Nishanth Ravindaran, Jathin Sanker Raj",
           "Odu Raja Odu"
          ],
          [
           "Nisheeta Keni",
           "Bogda"
          ],
          [
           "Nishikant Kamat",
           "(?)"
          ],
          [
           "Nishil Sheth",
           "Bhasmasur"
          ],
          [
           "Nitesh Tiwari",
           "Dangal"
          ],
          [
           "Nizar Shafi",
           "7 (Seven)"
          ],
          [
           "Noushad",
           "Cappuccino"
          ],
          [
           "Omung Kumar",
           "Mary Kom"
          ],
          [
           "Onir",
           "(?)"
          ],
          [
           "P.K. Baaburaaj",
           "Gemini"
          ],
          [
           "P.T. Kunju Muhammad",
           "Viswasapoorvam Mansoor"
          ],
          [
           "Pa. Ranjith",
           "Kabali (Hindi Version)"
          ],
          [
           "Padmakumar Narasimhamurthy",
           "A Billion Colour Story"
          ],
          [
           "Pankaj Batra",
           "(?)"
          ],
          [
           "Param Gill",
           "Waarrior Savitri"
          ],
          [
           "Parambrata Chatterjee",
           "(?)"
          ],
          [
           "Paresh Mokashi",
           "Harishchandrachi Factory"
          ],
          [
           "Paritosh Painter",
           "Paying Guests"
          ],
          [
           "Partha Chakraborty",
           "Samantaral"
          ],
          [
           "Parthiban",
           "Oththa Seruppu Size 7"
          ],
          [
           "Partho Ghosh",
           "Ghulam-E-Musthafa"
          ],
          [
           "Partho Mitra",
           "Koi Aap Sa"
          ],
          [
           "Parveen Kumar",
           "Darra"
          ],
          [
           "Patrick Graham",
           "GHOUL"
          ],
          [
           "Pawan K Shrivastava",
           "Life of An Outcast"
          ],
          [
           "Pawan Kripalani",
           "Ragini MMS"
          ],
          [
           "Pawan Kumar",
           "U Turn"
          ],
          [
           "Phanindra Narsetti",
           "Manu"
          ],
          [
           "Pooja Bhatt",
           "Kajraare"
          ],
          [
           "Prabhu Deva",
           "Rowdy Rathore"
          ],
          [
           "Prabhuraj",
           "Lupt"
          ],
          [
           "Pradeep Verma",
           "Urvi"
          ],
          [
           "Pradip Kurbah",
           "Onaatah"
          ],
          [
           "Prakash Balwant Saini",
           "Chal Bhaag"
          ],
          [
           "Prakash Jha",
           "(?)"
          ],
          [
           "Prakash Kunte",
           "Cycle"
          ],
          [
           "Prakash Mehra",
           "(?)"
          ],
          [
           "Pramod Pawar",
           "Truckbhar Swapna"
          ],
          [
           "Prasanth Varma",
           "Awe"
          ],
          [
           "Prashant Nair",
           "Umrika"
          ],
          [
           "Prasobh Vijayan",
           "Lilli"
          ],
          [
           "Pratim D. Gupta",
           "Saheb Bibi Golaam"
          ],
          [
           "Praveen Nischol",
           "English Babu Desi Mem"
          ],
          [
           "Prawal Raman",
           "Darna Mana Hai"
          ],
          [
           "Prem Soni",
           "Main aurr Mrs. Khanna"
          ],
          [
           "Priyadarshan",
           "(?)"
          ],
          [
           "Priyadarshan, Kookie V. Gulati",
           "Chup Chup Ke"
          ],
          [
           "Pulkit",
           "Maroon"
          ],
          [
           "Puneet Khanna",
           "Ginny Weds Sunny"
          ],
          [
           "Puneet Sira",
           "Kisaan"
          ],
          [
           "Punit Malhotra",
           "(?)"
          ],
          [
           "Puri Jagannadh",
           "Bbuddah Hoga Terra Baap"
          ],
          [
           "Qaushiq Mukherjee",
           "(?)"
          ],
          [
           "R. Balki",
           "Pad Man"
          ],
          [
           "R. Kannan",
           "Settai"
          ],
          [
           "Raaghav Dar",
           "My Friend Pinto"
          ],
          [
           "Radhika Rao, Vinay Sapru",
           "Lucky: No Time for Love"
          ],
          [
           "Rahat Kazmi",
           "Mantostaan"
          ],
          [
           "Rahul Dholakia",
           "Raees"
          ],
          [
           "Rahul Ravindran",
           "Manmadhudu 2"
          ],
          [
           "Rai Yuvraj Bains",
           "Kaake Da Viyah"
          ],
          [
           "Raj B. Shetty",
           "Story of an Egg"
          ],
          [
           "Raj Babu",
           "Sei"
          ],
          [
           "Raj Kanwar",
           "Humko Deewana Kar Gaye"
          ],
          [
           "Raj Kapoor",
           "(?)"
          ],
          [
           "Raj Kaushal",
           "Anthony Kaun Hai?"
          ],
          [
           "Raj Khosla",
           "Friendship"
          ],
          [
           "Raj Kumar Gupta",
           "(?)"
          ],
          [
           "Raj N. Sippy",
           "Satte Pe Satta"
          ],
          [
           "Raj Nidimoru, Krishna D.K.",
           "Shor In the City"
          ],
          [
           "Raj R",
           "Mallesham"
          ],
          [
           "Raja Chanda",
           "Black"
          ],
          [
           "Raja Menon",
           "Barah Aana"
          ],
          [
           "Rajan Madhav",
           "Muran"
          ],
          [
           "Rajat Kapoor",
           "(?)"
          ],
          [
           "Rajeev Chaudhari",
           "Beiimaan Love"
          ],
          [
           "Rajeev Patil",
           "Sanai Choughade"
          ],
          [
           "Rajesh Ganguly",
           "The Royal Bengal Tiger"
          ],
          [
           "Rajesh Mapuskar",
           "Ferrari Ki Sawaari"
          ],
          [
           "Rajesh Touchriver",
           "Naa Bangaaru Talli"
          ],
          [
           "Rajiv Chilaka",
           "Chhota Bheem and the Curse of Damyaan"
          ],
          [
           "Rajiv Chilaka, Binayak Das",
           "Chhota Bheem Kungfu Dhamaka"
          ],
          [
           "Rajiv Mehra",
           "(?)"
          ],
          [
           "Rajiv Menon",
           "Sarvam Thaala Mayam (Telugu Version)"
          ],
          [
           "Rajkumar Hirani",
           "(?)"
          ],
          [
           "Rajkumar Santoshi",
           "(?)"
          ],
          [
           "Rakesh Mehta",
           "Life Ki Toh Lag Gayi"
          ],
          [
           "Rakesh Ranjan Kumar",
           "Paharganj"
          ],
          [
           "Rakeysh Omprakash Mehra",
           "(?)"
          ],
          [
           "Rakshith Thirthahalli",
           "Hombanna"
          ],
          [
           "Ram",
           "Taramani"
          ],
          [
           "Ram Gopal Varma",
           "(?)"
          ],
          [
           "Raman Kumar",
           "Saath Saath"
          ],
          [
           "Ramesh Sippy",
           "Shimla Mirchi"
          ],
          [
           "Ramesh Talwar",
           "Duniya"
          ],
          [
           "Rana Ranbir",
           "Asees"
          ],
          [
           "Ranjit Jeyakodi",
           "Puriyatha Puthir"
          ],
          [
           "Ranjit Tiwari",
           "Lucknow Central"
          ],
          [
           "Ravi Babu",
           "Aaviri"
          ],
          [
           "Ravi Udyawar",
           "Mom"
          ],
          [
           "Ravikanth Perepu",
           "Krishna and His Leela"
          ],
          [
           "Ravishankar Venkateswaran",
           "A truthful Mother"
          ],
          [
           "Reema Kagti",
           "(?)"
          ],
          [
           "Remo D'Souza",
           "(?)"
          ],
          [
           "Remy Kohli",
           "Kuldip Patwal: I Didn't Do It!"
          ],
          [
           "Renzil D'Silva",
           "(?)"
          ],
          [
           "Ribhu Dasgupta",
           "(?)"
          ],
          [
           "Rikhil Bahadur",
           "Time Out"
          ],
          [
           "Rima Das",
           "Bulbul Can Sing"
          ],
          [
           "Robbie Grewal",
           "Romeo Akbar Walter"
          ],
          [
           "Rohan Sippy",
           "BluffMaster!"
          ],
          [
           "Rohit Jugraj",
           "(?)"
          ],
          [
           "Rohit Mittal",
           "Autohead"
          ],
          [
           "Rohit Shetty",
           "(?)"
          ],
          [
           "Ruchi Narain",
           "Guilty"
          ],
          [
           "S.S. Rajamouli",
           "(?)"
          ],
          [
           "Saandeep Patel",
           "Love Ni Bhavai"
          ],
          [
           "Sabal Singh Shekawat",
           "Fireflies"
          ],
          [
           "Sabir Khan",
           "Baaghi"
          ],
          [
           "Sabu Varghese",
           "Mythily Veendum Varunnu"
          ],
          [
           "Sachin",
           "(?)"
          ],
          [
           "Sachin Kamlakar Khot",
           "Ugly Aur Pagli"
          ],
          [
           "Sachin Kundalkar",
           "Aiyyaa"
          ],
          [
           "Sachin Yardi",
           "(?)"
          ],
          [
           "Safdar Rahman",
           "Chippa"
          ],
          [
           "Sagar Sarhadi",
           "Bazaar"
          ],
          [
           "Saheed Arafath",
           "Theeram"
          ],
          [
           "Sai Paranjape",
           "Katha"
          ],
          [
           "Saji Surendran",
           "Husbands in Goa"
          ],
          [
           "Sajid Khan",
           "Himmatwala"
          ],
          [
           "Saket Behl",
           "What the Jatt!!"
          ],
          [
           "Saket Chaudhary",
           "Pyaar Ke Side Effects"
          ],
          [
           "Samar Khan",
           "Shaurya: It Takes Courage to Make Right... Right"
          ],
          [
           "Samar Shaikh",
           "Bobby Jasoos"
          ],
          [
           "Sameer Patil",
           "Poshter Girl"
          ],
          [
           "Sameer Sharma",
           "Luv Shuv Tey Chicken Khurana"
          ],
          [
           "Sameer Vidwans",
           "(?)"
          ],
          [
           "Samir Karnik",
           "Kyun! Ho Gaya Na"
          ],
          [
           "Samir Soni",
           "My Birthday Song"
          ],
          [
           "Samit Kakkad",
           "Ascharyachakit!"
          ],
          [
           "Sandeep Chatterjee",
           "Adrishya"
          ],
          [
           "Sandeep Reddy Vanga",
           "Kabir Singh"
          ],
          [
           "Sangeeth Sivan",
           "(?)"
          ],
          [
           "Sanjay Dayma",
           "Ramji Londonwaley"
          ],
          [
           "Sanjay Gupta",
           "Kaabil"
          ],
          [
           "Sanjay Jadhav",
           "(?)"
          ],
          [
           "Sanjay Leela Bhansali",
           "Guzaarish"
          ],
          [
           "Sanjay Soorkar",
           "Sakhi"
          ],
          [
           "Sanjeev Gupta",
           "INDIA"
          ],
          [
           "Sanjib Dey",
           "III Smoking Barrels"
          ],
          [
           "Sanjiv Jaiswal",
           "Pranaam"
          ],
          [
           "Santosh Manjrekar",
           "Mi Shivajiraje Bhosale Boltoy"
          ],
          [
           "Santosh Sivan",
           "(?)"
          ],
          [
           "Santram Varma",
           "Krishna Cottage"
          ],
          [
           "Santwana Bardoloi",
           "​Maj Rati ​​Keteki"
          ],
          [
           "Saravana Rajan",
           "R.K.Nagar"
          ],
          [
           "Saravana Rajendran",
           "Mehandi Circus"
          ],
          [
           "Sarjun",
           "Echcharikkai"
          ],
          [
           "Sartaj Singh Pannu",
           "Tiger"
          ],
          [
           "Sarthak Dasgupta",
           "Music Teacher"
          ],
          [
           "Sathyan Anthikad",
           "Njan Prakashan"
          ],
          [
           "Satish Kaushik",
           "(?)"
          ],
          [
           "Satish Manwar",
           "The Damned Rain"
          ],
          [
           "Satish Rajwade",
           "(?)"
          ],
          [
           "Satyajit Bhatkal",
           "(?)"
          ],
          [
           "Saurabh Kabra",
           "EMI: Liya Hai To Chukana Padega"
          ],
          [
           "Saurabh Sinha",
           "Saavat"
          ],
          [
           "Saurav Palodhi",
           "Colkatay Columbus"
          ],
          [
           "Sekhar Kammula",
           "Anaamika"
          ],
          [
           "Selvamani Selvaraj",
           "Nila"
          ],
          [
           "Shaad Ali",
           "Soorma"
          ],
          [
           "Shadab Khan",
           "B.A. Pass 2"
          ],
          [
           "Shakti Samanta",
           "The Great Gambler"
          ],
          [
           "Shakun Batra",
           "(?)"
          ],
          [
           "Shammi Kapoor",
           "Manoranjan"
          ],
          [
           "Shamzu Zayba",
           "Maniyarayile Ashokan"
          ],
          [
           "Shanavas K. Bavakutty",
           "Thottappan"
          ],
          [
           "Shanawaz Nellikunnil",
           "Candyflip"
          ],
          [
           "Shanker Raman",
           "Gurgaon"
          ],
          [
           "Sharan Sharma",
           "Gunjan Saxena: The Kargil Girl"
          ],
          [
           "Shashank Khaitan",
           "Humpty Sharma Ki Dulhania"
          ],
          [
           "Shashanka Ghosh",
           "Khoobsurat"
          ],
          [
           "Shashanka Ghosh, Samit Basu",
           "House Arrest"
          ],
          [
           "Shashilal K. Nair",
           "One 2 Ka 4"
          ],
          [
           "Shawn Arranha",
           "Hide & Seek"
          ],
          [
           "Shekhar Kapur",
           "Masoom"
          ],
          [
           "Shelly Chopra Dhar",
           "Ek Ladki Ko Dekha Toh Aisa Laga"
          ],
          [
           "Shirish Kunder",
           "(?)"
          ],
          [
           "Shivam Nair",
           "(?)"
          ],
          [
           "Shivendra Singh Dungarpur",
           "Celluloid Man"
          ],
          [
           "Shlok Sharma",
           "(?)"
          ],
          [
           "Shoojit Sircar",
           "Madras Café"
          ],
          [
           "Shravan Kumar",
           "706"
          ],
          [
           "Shree Narayan Singh",
           "Toilet: Ek Prem Katha"
          ],
          [
           "Shreyas Talpade",
           "Poster Boys"
          ],
          [
           "Shrihari Sathe",
           "1000 Rupee Note"
          ],
          [
           "Shubham Singh",
           "Penalty"
          ],
          [
           "Shyam Benegal",
           "(?)"
          ],
          [
           "Siddique",
           "Bodyguard"
          ],
          [
           "Simranjit Singh Hundal",
           "25 Kille"
          ],
          [
           "Smeep Kang",
           "(?)"
          ],
          [
           "Sneha Taurani",
           "Bhangra Paa Le"
          ],
          [
           "Sohail Khan",
           "Hello Brother"
          ],
          [
           "Sohail Tatari",
           "Ankur Arora Murder Case"
          ],
          [
           "Soham Shah",
           "Kaal"
          ],
          [
           "Sooni Taraporevala",
           "Yeh Ballet"
          ],
          [
           "Sooraj R. Barjatya",
           "(?)"
          ],
          [
           "Soukarya Ghosal",
           "Rainbow Jelly"
          ],
          [
           "Soumendra Padhi",
           "(?)"
          ],
          [
           "Soumitra Ranade",
           "Albert Pinto Ko Gussa Kyun Aata Hai?"
          ],
          [
           "Sridhar Rangayan",
           "(?)"
          ],
          [
           "Sriram Raghavan",
           "(?)"
          ],
          [
           "Subhash Ghai",
           "(?)"
          ],
          [
           "Sudesh Manjrekar",
           "Shahanpan Dega Deva"
          ],
          [
           "Sudesh Manjrekar, Atul Kale",
           "Matichya Chuli"
          ],
          [
           "Sudha Kongara, Vignesh Shivan, Gautham Vasudev Menon, Vetri Maaran",
           "Paava Kadhaigal"
          ],
          [
           "Sudhanshu Saria",
           "Loev"
          ],
          [
           "Sudhir Mishra",
           "(?)"
          ],
          [
           "Sudip Bandyopadhyay",
           "Hope Aur Hum"
          ],
          [
           "Sudipto Roy",
           "Kia and Cosmos"
          ],
          [
           "Suhas Kadav",
           "Motu Patlu: King of Kings"
          ],
          [
           "Sujeeth",
           "Saaho"
          ],
          [
           "Sujoy Ghosh",
           "(?)"
          ],
          [
           "Sukhbir Singh",
           "Teshan"
          ],
          [
           "Suman Mukhopadhyay",
           "Incomplete"
          ],
          [
           "Sumit Das",
           "Super Bheem Bana Vajraveer"
          ],
          [
           "Sumitra Bhave, Sunil Sukthankar",
           "(?)"
          ],
          [
           "Sundar C.",
           "(?)"
          ],
          [
           "Sunil Thakur",
           "Marriage Palace"
          ],
          [
           "Suparn Verma",
           "Ek Khiladi Ek Haseena"
          ],
          [
           "Supavitra Babul",
           "Bittoo Boss"
          ],
          [
           "Surya S.J., Sunil Kumar Agrawal",
           "Khushi"
          ],
          [
           "Suseenthiran",
           "Genius"
          ],
          [
           "Sushil Majumdar",
           "Lal Patthar"
          ],
          [
           "Swapna Waghmare Joshi",
           "Savita Damodar Paranjpe"
          ],
          [
           "Swapnaneel Jayakar",
           "15-Aug"
          ],
          [
           "Syed Ahmad Afzal",
           "Laal Rang"
          ],
          [
           "Tanuj Bhramar",
           "Dear Dad"
          ],
          [
           "Tanuja Chandra",
           "(?)"
          ],
          [
           "Tanveer Khan",
           "Deadline: Sirf 24 Ghante"
          ],
          [
           "Tariq Khan",
           "The Dark Side of Life: Mumbai City"
          ],
          [
           "Tarun Mansukhani",
           "Drive"
          ],
          [
           "Tathagata Banerjee",
           "Mandobasar Galpo"
          ],
          [
           "Tejas Prabha Vijay Deoskar",
           "Bucket List"
          ],
          [
           "Terrie Samundra",
           "Kaali Khuhi"
          ],
          [
           "Tharun Bhascker",
           "Ee Nagaraniki Emaindi"
          ],
          [
           "Thiagarajan Kumararaja",
           "Super Deluxe"
          ],
          [
           "Thiru",
           "(?)"
          ],
          [
           "Tigmanshu Dhulia",
           "(?)"
          ],
          [
           "Tilak Shetty",
           "Krish Trish and Baltiboy: Face Your Fears"
          ],
          [
           "Tinnu Anand",
           "Kaalia"
          ],
          [
           "Trivikram Srinivas",
           "Ala Vaikunthapurramuloo"
          ],
          [
           "Udai Singh Pawar",
           "Upstarts"
          ],
          [
           "Umesh Ghadge",
           "Kyaa Kool Hain Hum 3"
          ],
          [
           "Umesh Mehra",
           "(?)"
          ],
          [
           "Umesh Shukla",
           "(?)"
          ],
          [
           "Uttung Shelar",
           "Aata Pita"
          ],
          [
           "V C Abhilash",
           "Aalorukkam"
          ],
          [
           "V Vignarajan",
           "Andhakaaram"
          ],
          [
           "V. K. Prakash",
           "Ishqedarriyaan"
          ],
          [
           "Vandana Kataria",
           "Noblemen"
          ],
          [
           "Varun Narvekar",
           "Muramba"
          ],
          [
           "Vasan Bala",
           "The Man Who Feels No Pain"
          ],
          [
           "Venkatesh Maha",
           "Uma Maheswara Ugra Roopasya"
          ],
          [
           "Venky Kudumula",
           "Bheeshma"
          ],
          [
           "Venugopan",
           "Sarvopari Palakkaran"
          ],
          [
           "Vetrimaaran",
           "Interrogation"
          ],
          [
           "Vibhu Virender Puri",
           "Hawaizaada"
          ],
          [
           "Vijay",
           "Thaandavam"
          ],
          [
           "Vijay Jayapal",
           "Revelations"
          ],
          [
           "Vijay Kumar",
           "Uriyadi 2"
          ],
          [
           "Vijay Kumar Arora",
           "Baby Dolls"
          ],
          [
           "Vijay Lalwani",
           "Karthik Calling Karthik"
          ],
          [
           "Vijay Maurya",
           "PhotoCopy"
          ],
          [
           "Vijay Milton",
           "​Goli Soda 2"
          ],
          [
           "Vijay Yelakanti",
           "W/O Ram"
          ],
          [
           "Vikas Bahl",
           "(?)"
          ],
          [
           "Vikas Bahl, Nitesh Tiwari",
           "Chillar Party"
          ],
          [
           "Vikram Bhatt",
           "1920"
          ],
          [
           "Vikram Pradhan",
           "Sat Shri Akaal England"
          ],
          [
           "Vikramaditya Motwane",
           "(?)"
          ],
          [
           "Vineeth Anil",
           "Kaviyude Osyath"
          ],
          [
           "Vinil Mathew",
           "Hasee Toh Phasee"
          ],
          [
           "Vinod Kapri",
           "Pihu"
          ],
          [
           "Vipin Parashar",
           "Saadey CM Saab"
          ],
          [
           "Vipul Amrutlal Shah",
           "(?)"
          ],
          [
           "Vir Das",
           "Vir Das: Outside In - The Lockdown Special"
          ],
          [
           "Vir Das, Ajay Bhuyan",
           "Vir Das: For India"
          ],
          [
           "Vishal Bhardwaj",
           "(?)"
          ],
          [
           "Vishal Mahadkar",
           "Blood Money"
          ],
          [
           "Vishal Mishra",
           "Coffee with D"
          ],
          [
           "Vishnu Govindhan",
           "History of Joy"
          ],
          [
           "Vivek Wagh",
           "Siddhant"
          ],
          [
           "Zakariya",
           "Sudani from Nigeria"
          ],
          [
           "Zoya Akhtar",
           "(?)"
          ],
          [
           "Zoya Akhtar, Karan Johar, Anurag Kashyap, Dibakar Banerjee",
           "Lust Stories"
          ],
          [
           "(?)",
           "(?)"
          ]
         ],
         "domain": {
          "x": [
           0,
           1
          ],
          "y": [
           0,
           1
          ]
         },
         "hovertemplate": "labels=%{label}<br>count=%{value}<br>parent=%{parent}<br>id=%{id}<br>director=%{customdata[0]}<br>title=%{customdata[1]}<extra></extra>",
         "ids": [
          "India/A. L. Vijay",
          "India/A. Raajdheep",
          "India/A. Salaam",
          "India/A.R. Murugadoss",
          "India/Aadish Keluskar",
          "India/Aamir Bashir",
          "India/Aamir Khan",
          "India/Aanand Rai",
          "India/Aatmaram Dharne",
          "India/Abbas Alibhai Burmawalla, Mastan Alibhai Burmawalla",
          "India/Abbas Mustan",
          "India/Abbas Tyrewala",
          "India/Abhay Chopra",
          "India/Abhijeet Deshpande",
          "India/Abhijit Kokate, Srivinay Salian",
          "India/Abhijit Panse",
          "India/Abhinay Deo",
          "India/Abhishek Chaubey",
          "India/Abhishek Kapoor",
          "India/Abhishek Saxena",
          "India/Abhishek Sharma",
          "India/Abhishek Varman",
          "India/Aditya Kripalani",
          "India/Aditya Sarpotdar",
          "India/Aditya Vikram Sengupta",
          "India/Advait Chandan",
          "India/Agnidev Chatterjee",
          "India/Ahishor Solomon",
          "India/Aijaz Khan",
          "India/Ajay Bahl",
          "India/Ajay Bhuyan, Kunal Kohli",
          "India/Ajay Phansekar",
          "India/Ajithkumar",
          "India/Akashdeep",
          "India/Akhil Paul, Anas Khan",
          "India/Akshay Akkineni",
          "India/Alankrita Shrivastava",
          "India/Alo Sarkar",
          "India/Amaan Khan",
          "India/Amal Neerad",
          "India/Amar Gupte",
          "India/Amar Kaushik",
          "India/Amardeep Singh Gill",
          "India/Amarpreet G S Chabbra",
          "India/Amit Barot",
          "India/Amit Rai",
          "India/Amit Roy",
          "India/Amit Saxena",
          "India/Amitabha Singh",
          "India/Amitava Bhattacharya",
          "India/Amitoj Mann",
          "India/Amol Palekar",
          "India/Amshan Kumar",
          "India/Anand Ravichandran",
          "India/Anand Tiwari",
          "India/Ananda Krishnan",
          "India/Anant Balani",
          "India/Ananth Narayan Mahadevan",
          "India/Anees Bazmee",
          "India/Angshuman Ghosh",
          "India/Anik Datta",
          "India/Anil Sharma",
          "India/Anil Thomas",
          "India/Anil V. Kumar",
          "India/Aniruddha Roy Chowdhury",
          "India/Anita Udeep",
          "India/Anoop Sathyan",
          "India/Anthony D'Souza",
          "India/Anu Menon",
          "India/Anubhav Sinha",
          "India/Anurag Basu",
          "India/Anurag Kashyap",
          "India/Anurag Kashyap, Dibakar Banerjee, Karan Johar, Zoya Akhtar",
          "India/Anuranjan Premji",
          "India/Anusha Rizvi, Mahmood Farooqui",
          "India/Anvita Dutt",
          "India/Apoorva Lakhia",
          "India/Apurva Dhar Badgaiyann",
          "India/Arati Kadav",
          "India/Arjun Gourisaria, Moinak Biswas",
          "India/Arjun Jandyala",
          "India/Arnab Chaudhuri",
          "India/Arun Chidambaram",
          "India/Arun Vaidyanathan",
          "India/Aruna Raje",
          "India/Ashish R. Mohan",
          "India/Ashok Nanda",
          "India/Ashu Trikha",
          "India/Ashutosh Gowariker",
          "India/Ashwiny Iyer Tiwari",
          "India/Atanu Ghosh",
          "India/Atanu Mukherjee",
          "India/Atharv Baluja",
          "India/Athiyan Athirai",
          "India/Atlee Kumar",
          "India/Atul Sabharwal",
          "India/Avadhoot Gupte",
          "India/Avinash Arun",
          "India/Avinash Das",
          "India/Avinash Walzade",
          "India/Ayaan Mukherji",
          "India/Ayush Raina",
          "India/Aziz Mirza",
          "India/B. Subhash",
          "India/B. Unnikrishnan",
          "India/B. V. Nandini Reddy",
          "India/B.N. Shajeer Sha",
          "India/Baljit Singh Deo",
          "India/Balu Mahendra",
          "India/Basava Shankar Eeday",
          "India/Basu Chatterjee",
          "India/Bauddhayan Mukherji",
          "India/Bejoy Nambiar",
          "India/Bhagyaraj",
          "India/Bharat Jain",
          "India/Bhavin Wadia",
          "India/Bhushan Patel",
          "India/Binu Ulahhannan",
          "India/Biswajeet Bora",
          "India/Buddhadev Dasgupta",
          "India/Buta Singh",
          "India/Chakri Toleti",
          "India/Chandan Arora",
          "India/Chandra Prakash Dwivedi",
          "India/Chandrakant Kanse",
          "India/Chandrakant Kulkarni",
          "India/Chandran Narikode",
          "India/Danish Aslam",
          "India/Dar Gai",
          "India/Datta Mohan Bhandare",
          "India/David Dhawan",
          "India/Debaloy Dey",
          "India/Debamitra Biswal",
          "India/Deep Joshi",
          "India/Deepti Naval",
          "India/Desingh Periyasamy",
          "India/Devaki Singh, Luke Kenny",
          "India/Devashish Makhija",
          "India/Devika Bhagat",
          "India/Dhanush",
          "India/Dharmendra Suresh Desai",
          "India/Dharmesh Darshan",
          "India/Dheeraj Berry",
          "India/Dhilip Kumar",
          "India/Dibakar Banerjee",
          "India/Dileep Narayanan",
          "India/Dylan Mohan Gray",
          "India/Eeshwar Nivas",
          "India/Emcy Joseph",
          "India/Farah Khan",
          "India/Faraz Haider",
          "India/Farhan Akhtar",
          "India/Fazila Allana",
          "India/Feroz",
          "India/Fuwad Khan",
          "India/Gafoor Y. Elliyaas",
          "India/Gagan Puri",
          "India/Gajendra Ahire",
          "India/Gajendra Ahire, Viju Mane, Girish Mohite, Ravi Jadhav",
          "India/Ganesh Kadam",
          "India/Gangadhar Salimath",
          "India/Gaurav Narayanan",
          "India/Gauravv K Chawla",
          "India/Gauri Shinde",
          "India/Geetu Mohandas",
          "India/Girish Joshi",
          "India/Girish Malik",
          "India/Gulzar",
          "India/Gurmmeet Singh",
          "India/Gurudev Bhalla",
          "India/Habib Faisal",
          "India/Halitha Shameem",
          "India/Hardik Mehta",
          "India/Hari Nath",
          "India/Hari Viswanath",
          "India/Harjit Singh",
          "India/Harry Baweja",
          "India/Harshavardhan Kulkarni",
          "India/Hemant Gaba, Pratim D. Gupta, Sudhish Kamath, Nalan Kumarasamy, Anu Menon, Sandeep Mohan, Qaushiq Mukherjee, Rajshree Ojha, Raja Sen, Abhinav Shiv Tiwari, Suparn Verma",
          "India/Honey Trehan",
          "India/Hrishikesh Mukherjee",
          "India/Imtiaz Ali",
          "India/Indra Kumar",
          "India/Indrajit Nattoji",
          "India/Indrasis Acharya",
          "India/Ishaan Trivedi",
          "India/Ivan Ayr",
          "India/Jagdeep Sidhu",
          "India/Jaivi Dhanda",
          "India/Jasbir Bijendra Bhati",
          "India/Jasmine D'Souza",
          "India/Jatla Siddartha",
          "India/Jayan Vannery",
          "India/Jayaprakash Radhakrishnan",
          "India/Jayaraj Rajasekharan Nair",
          "India/Jeethu Joseph",
          "India/Jeeva",
          "India/Jijo Pancode",
          "India/Jitender Pawar",
          "India/Jitendra Tiwari, Pranav Singh",
          "India/Johnson Esthappan",
          "India/Jonathan Augustin",
          "India/K. Gopinathan",
          "India/K. Ramanlal",
          "India/K. Subhash",
          "India/K.C. Bokadia",
          "India/KVR Mahendra",
          "India/Kabir Khan",
          "India/Kabir Sadanand",
          "India/Kaizad Gustad",
          "India/Kamal Sahani",
          "India/Kanika Batra",
          "India/Karan Anshuman",
          "India/Karan Johar",
          "India/Karan Shivajirao Chavan, Vikram Tanajirao Patil",
          "India/Karthik Subbaraj",
          "India/Kedar Shinde",
          "India/Keerthi",
          "India/Ken Ghosh",
          "India/Ketan Mehta",
          "India/Khalid Mohamed",
          "India/Kiran Narayanan",
          "India/Kiran Rao",
          "India/Kireet Khurana, Padmakumar Narasimhamurthy",
          "India/Kranthi Madhav",
          "India/Kranti Kanade",
          "India/Kranti Redkar",
          "India/Krish",
          "India/Krishna Vamshi",
          "India/Ksshitij Chaudhary",
          "India/Kumaran",
          "India/Kunal Deshmukh",
          "India/Kunal Kohli",
          "India/Kundan Shah",
          "India/Kushal Srivastava",
          "India/Laxman Utekar",
          "India/Leena Yadav",
          "India/Lekh Tandon",
          "India/Lenin Bharathi",
          "India/Lijo Jose Pellissery",
          "India/Luv Ranjan",
          "India/Madhumita",
          "India/Madhur Bhandarkar",
          "India/Maha Venkatesh",
          "India/Mahesh Bhatt",
          "India/Mahesh Manjrekar",
          "India/Makarand Mane",
          "India/Manav Shah",
          "India/Manbhavan Singh",
          "India/Mandeep Kumar",
          "India/Mangesh Hadawale",
          "India/Mangesh Kanthale",
          "India/Mani Ratnam",
          "India/Manika Sharma",
          "India/Manish Gupta",
          "India/Manish Jha",
          "India/Manish Saini",
          "India/Manish Tiwary",
          "India/Manjeet Maan",
          "India/Manjeet Singh",
          "India/Manmohan Desai",
          "India/Manoj Beedha",
          "India/Mansore",
          "India/Manu Ashokan",
          "India/Mastan Alibhai Burmawalla, Abbas Alibhai Burmawalla",
          "India/Megha Ramaswamy",
          "India/Midhun Manuel Thomas",
          "India/Mikhil Musale",
          "India/Milan Luthria",
          "India/Milind Dhaimade",
          "India/Milind Rau",
          "India/Mohammed Hussain",
          "India/Mohit Suri",
          "India/Mozez Singh",
          "India/Mrighdeep Singh Lamba",
          "India/Mukesh Vohra",
          "India/Mukul Anand",
          "India/Munish Bhardwaj",
          "India/Musthafa",
          "India/Mysskin",
          "India/N. Chandra",
          "India/N. Linguswamy",
          "India/Nagesh Kukunoor",
          "India/Nagraj Manjule",
          "India/Naman Nitin Mukesh",
          "India/Nandita Das",
          "India/Narendra Nath",
          "India/Naresh Saigal",
          "India/Navaniat Singh",
          "India/Navdeep Singh",
          "India/Navinder Pal Singh",
          "India/Navjot Gulati",
          "India/Navneet Behal",
          "India/Neeraj Pandey",
          "India/Neeraj Udhwani",
          "India/Neeraj Vora",
          "India/Neville Shah",
          "India/Nicholas Kharkongor",
          "India/Nidhi Sharma",
          "India/Nikhil Advani",
          "India/Nikhil Nagesh Bhat",
          "India/Nikkhil Advani",
          "India/Nila Madhab Panda",
          "India/Nishanth Ravindaran, Jathin Sanker Raj",
          "India/Nisheeta Keni",
          "India/Nishikant Kamat",
          "India/Nishil Sheth",
          "India/Nitesh Tiwari",
          "India/Nizar Shafi",
          "India/Noushad",
          "India/Omung Kumar",
          "India/Onir",
          "India/P.K. Baaburaaj",
          "India/P.T. Kunju Muhammad",
          "India/Pa. Ranjith",
          "India/Padmakumar Narasimhamurthy",
          "India/Pankaj Batra",
          "India/Param Gill",
          "India/Parambrata Chatterjee",
          "India/Paresh Mokashi",
          "India/Paritosh Painter",
          "India/Partha Chakraborty",
          "India/Parthiban",
          "India/Partho Ghosh",
          "India/Partho Mitra",
          "India/Parveen Kumar",
          "India/Patrick Graham",
          "India/Pawan K Shrivastava",
          "India/Pawan Kripalani",
          "India/Pawan Kumar",
          "India/Phanindra Narsetti",
          "India/Pooja Bhatt",
          "India/Prabhu Deva",
          "India/Prabhuraj",
          "India/Pradeep Verma",
          "India/Pradip Kurbah",
          "India/Prakash Balwant Saini",
          "India/Prakash Jha",
          "India/Prakash Kunte",
          "India/Prakash Mehra",
          "India/Pramod Pawar",
          "India/Prasanth Varma",
          "India/Prashant Nair",
          "India/Prasobh Vijayan",
          "India/Pratim D. Gupta",
          "India/Praveen Nischol",
          "India/Prawal Raman",
          "India/Prem Soni",
          "India/Priyadarshan",
          "India/Priyadarshan, Kookie V. Gulati",
          "India/Pulkit",
          "India/Puneet Khanna",
          "India/Puneet Sira",
          "India/Punit Malhotra",
          "India/Puri Jagannadh",
          "India/Qaushiq Mukherjee",
          "India/R. Balki",
          "India/R. Kannan",
          "India/Raaghav Dar",
          "India/Radhika Rao, Vinay Sapru",
          "India/Rahat Kazmi",
          "India/Rahul Dholakia",
          "India/Rahul Ravindran",
          "India/Rai Yuvraj Bains",
          "India/Raj B. Shetty",
          "India/Raj Babu",
          "India/Raj Kanwar",
          "India/Raj Kapoor",
          "India/Raj Kaushal",
          "India/Raj Khosla",
          "India/Raj Kumar Gupta",
          "India/Raj N. Sippy",
          "India/Raj Nidimoru, Krishna D.K.",
          "India/Raj R",
          "India/Raja Chanda",
          "India/Raja Menon",
          "India/Rajan Madhav",
          "India/Rajat Kapoor",
          "India/Rajeev Chaudhari",
          "India/Rajeev Patil",
          "India/Rajesh Ganguly",
          "India/Rajesh Mapuskar",
          "India/Rajesh Touchriver",
          "India/Rajiv Chilaka",
          "India/Rajiv Chilaka, Binayak Das",
          "India/Rajiv Mehra",
          "India/Rajiv Menon",
          "India/Rajkumar Hirani",
          "India/Rajkumar Santoshi",
          "India/Rakesh Mehta",
          "India/Rakesh Ranjan Kumar",
          "India/Rakeysh Omprakash Mehra",
          "India/Rakshith Thirthahalli",
          "India/Ram",
          "India/Ram Gopal Varma",
          "India/Raman Kumar",
          "India/Ramesh Sippy",
          "India/Ramesh Talwar",
          "India/Rana Ranbir",
          "India/Ranjit Jeyakodi",
          "India/Ranjit Tiwari",
          "India/Ravi Babu",
          "India/Ravi Udyawar",
          "India/Ravikanth Perepu",
          "India/Ravishankar Venkateswaran",
          "India/Reema Kagti",
          "India/Remo D'Souza",
          "India/Remy Kohli",
          "India/Renzil D'Silva",
          "India/Ribhu Dasgupta",
          "India/Rikhil Bahadur",
          "India/Rima Das",
          "India/Robbie Grewal",
          "India/Rohan Sippy",
          "India/Rohit Jugraj",
          "India/Rohit Mittal",
          "India/Rohit Shetty",
          "India/Ruchi Narain",
          "India/S.S. Rajamouli",
          "India/Saandeep Patel",
          "India/Sabal Singh Shekawat",
          "India/Sabir Khan",
          "India/Sabu Varghese",
          "India/Sachin",
          "India/Sachin Kamlakar Khot",
          "India/Sachin Kundalkar",
          "India/Sachin Yardi",
          "India/Safdar Rahman",
          "India/Sagar Sarhadi",
          "India/Saheed Arafath",
          "India/Sai Paranjape",
          "India/Saji Surendran",
          "India/Sajid Khan",
          "India/Saket Behl",
          "India/Saket Chaudhary",
          "India/Samar Khan",
          "India/Samar Shaikh",
          "India/Sameer Patil",
          "India/Sameer Sharma",
          "India/Sameer Vidwans",
          "India/Samir Karnik",
          "India/Samir Soni",
          "India/Samit Kakkad",
          "India/Sandeep Chatterjee",
          "India/Sandeep Reddy Vanga",
          "India/Sangeeth Sivan",
          "India/Sanjay Dayma",
          "India/Sanjay Gupta",
          "India/Sanjay Jadhav",
          "India/Sanjay Leela Bhansali",
          "India/Sanjay Soorkar",
          "India/Sanjeev Gupta",
          "India/Sanjib Dey",
          "India/Sanjiv Jaiswal",
          "India/Santosh Manjrekar",
          "India/Santosh Sivan",
          "India/Santram Varma",
          "India/Santwana Bardoloi",
          "India/Saravana Rajan",
          "India/Saravana Rajendran",
          "India/Sarjun",
          "India/Sartaj Singh Pannu",
          "India/Sarthak Dasgupta",
          "India/Sathyan Anthikad",
          "India/Satish Kaushik",
          "India/Satish Manwar",
          "India/Satish Rajwade",
          "India/Satyajit Bhatkal",
          "India/Saurabh Kabra",
          "India/Saurabh Sinha",
          "India/Saurav Palodhi",
          "India/Sekhar Kammula",
          "India/Selvamani Selvaraj",
          "India/Shaad Ali",
          "India/Shadab Khan",
          "India/Shakti Samanta",
          "India/Shakun Batra",
          "India/Shammi Kapoor",
          "India/Shamzu Zayba",
          "India/Shanavas K. Bavakutty",
          "India/Shanawaz Nellikunnil",
          "India/Shanker Raman",
          "India/Sharan Sharma",
          "India/Shashank Khaitan",
          "India/Shashanka Ghosh",
          "India/Shashanka Ghosh, Samit Basu",
          "India/Shashilal K. Nair",
          "India/Shawn Arranha",
          "India/Shekhar Kapur",
          "India/Shelly Chopra Dhar",
          "India/Shirish Kunder",
          "India/Shivam Nair",
          "India/Shivendra Singh Dungarpur",
          "India/Shlok Sharma",
          "India/Shoojit Sircar",
          "India/Shravan Kumar",
          "India/Shree Narayan Singh",
          "India/Shreyas Talpade",
          "India/Shrihari Sathe",
          "India/Shubham Singh",
          "India/Shyam Benegal",
          "India/Siddique",
          "India/Simranjit Singh Hundal",
          "India/Smeep Kang",
          "India/Sneha Taurani",
          "India/Sohail Khan",
          "India/Sohail Tatari",
          "India/Soham Shah",
          "India/Sooni Taraporevala",
          "India/Sooraj R. Barjatya",
          "India/Soukarya Ghosal",
          "India/Soumendra Padhi",
          "India/Soumitra Ranade",
          "India/Sridhar Rangayan",
          "India/Sriram Raghavan",
          "India/Subhash Ghai",
          "India/Sudesh Manjrekar",
          "India/Sudesh Manjrekar, Atul Kale",
          "India/Sudha Kongara, Vignesh Shivan, Gautham Vasudev Menon, Vetri Maaran",
          "India/Sudhanshu Saria",
          "India/Sudhir Mishra",
          "India/Sudip Bandyopadhyay",
          "India/Sudipto Roy",
          "India/Suhas Kadav",
          "India/Sujeeth",
          "India/Sujoy Ghosh",
          "India/Sukhbir Singh",
          "India/Suman Mukhopadhyay",
          "India/Sumit Das",
          "India/Sumitra Bhave, Sunil Sukthankar",
          "India/Sundar C.",
          "India/Sunil Thakur",
          "India/Suparn Verma",
          "India/Supavitra Babul",
          "India/Surya S.J., Sunil Kumar Agrawal",
          "India/Suseenthiran",
          "India/Sushil Majumdar",
          "India/Swapna Waghmare Joshi",
          "India/Swapnaneel Jayakar",
          "India/Syed Ahmad Afzal",
          "India/Tanuj Bhramar",
          "India/Tanuja Chandra",
          "India/Tanveer Khan",
          "India/Tariq Khan",
          "India/Tarun Mansukhani",
          "India/Tathagata Banerjee",
          "India/Tejas Prabha Vijay Deoskar",
          "India/Terrie Samundra",
          "India/Tharun Bhascker",
          "India/Thiagarajan Kumararaja",
          "India/Thiru",
          "India/Tigmanshu Dhulia",
          "India/Tilak Shetty",
          "India/Tinnu Anand",
          "India/Trivikram Srinivas",
          "India/Udai Singh Pawar",
          "India/Umesh Ghadge",
          "India/Umesh Mehra",
          "India/Umesh Shukla",
          "India/Uttung Shelar",
          "India/V C Abhilash",
          "India/V Vignarajan",
          "India/V. K. Prakash",
          "India/Vandana Kataria",
          "India/Varun Narvekar",
          "India/Vasan Bala",
          "India/Venkatesh Maha",
          "India/Venky Kudumula",
          "India/Venugopan",
          "India/Vetrimaaran",
          "India/Vibhu Virender Puri",
          "India/Vijay",
          "India/Vijay Jayapal",
          "India/Vijay Kumar",
          "India/Vijay Kumar Arora",
          "India/Vijay Lalwani",
          "India/Vijay Maurya",
          "India/Vijay Milton",
          "India/Vijay Yelakanti",
          "India/Vikas Bahl",
          "India/Vikas Bahl, Nitesh Tiwari",
          "India/Vikram Bhatt",
          "India/Vikram Pradhan",
          "India/Vikramaditya Motwane",
          "India/Vineeth Anil",
          "India/Vinil Mathew",
          "India/Vinod Kapri",
          "India/Vipin Parashar",
          "India/Vipul Amrutlal Shah",
          "India/Vir Das",
          "India/Vir Das, Ajay Bhuyan",
          "India/Vishal Bhardwaj",
          "India/Vishal Mahadkar",
          "India/Vishal Mishra",
          "India/Vishnu Govindhan",
          "India/Vivek Wagh",
          "India/Zakariya",
          "India/Zoya Akhtar",
          "India/Zoya Akhtar, Karan Johar, Anurag Kashyap, Dibakar Banerjee",
          "India"
         ],
         "labels": [
          "A. L. Vijay",
          "A. Raajdheep",
          "A. Salaam",
          "A.R. Murugadoss",
          "Aadish Keluskar",
          "Aamir Bashir",
          "Aamir Khan",
          "Aanand Rai",
          "Aatmaram Dharne",
          "Abbas Alibhai Burmawalla, Mastan Alibhai Burmawalla",
          "Abbas Mustan",
          "Abbas Tyrewala",
          "Abhay Chopra",
          "Abhijeet Deshpande",
          "Abhijit Kokate, Srivinay Salian",
          "Abhijit Panse",
          "Abhinay Deo",
          "Abhishek Chaubey",
          "Abhishek Kapoor",
          "Abhishek Saxena",
          "Abhishek Sharma",
          "Abhishek Varman",
          "Aditya Kripalani",
          "Aditya Sarpotdar",
          "Aditya Vikram Sengupta",
          "Advait Chandan",
          "Agnidev Chatterjee",
          "Ahishor Solomon",
          "Aijaz Khan",
          "Ajay Bahl",
          "Ajay Bhuyan, Kunal Kohli",
          "Ajay Phansekar",
          "Ajithkumar",
          "Akashdeep",
          "Akhil Paul, Anas Khan",
          "Akshay Akkineni",
          "Alankrita Shrivastava",
          "Alo Sarkar",
          "Amaan Khan",
          "Amal Neerad",
          "Amar Gupte",
          "Amar Kaushik",
          "Amardeep Singh Gill",
          "Amarpreet G S Chabbra",
          "Amit Barot",
          "Amit Rai",
          "Amit Roy",
          "Amit Saxena",
          "Amitabha Singh",
          "Amitava Bhattacharya",
          "Amitoj Mann",
          "Amol Palekar",
          "Amshan Kumar",
          "Anand Ravichandran",
          "Anand Tiwari",
          "Ananda Krishnan",
          "Anant Balani",
          "Ananth Narayan Mahadevan",
          "Anees Bazmee",
          "Angshuman Ghosh",
          "Anik Datta",
          "Anil Sharma",
          "Anil Thomas",
          "Anil V. Kumar",
          "Aniruddha Roy Chowdhury",
          "Anita Udeep",
          "Anoop Sathyan",
          "Anthony D'Souza",
          "Anu Menon",
          "Anubhav Sinha",
          "Anurag Basu",
          "Anurag Kashyap",
          "Anurag Kashyap, Dibakar Banerjee, Karan Johar, Zoya Akhtar",
          "Anuranjan Premji",
          "Anusha Rizvi, Mahmood Farooqui",
          "Anvita Dutt",
          "Apoorva Lakhia",
          "Apurva Dhar Badgaiyann",
          "Arati Kadav",
          "Arjun Gourisaria, Moinak Biswas",
          "Arjun Jandyala",
          "Arnab Chaudhuri",
          "Arun Chidambaram",
          "Arun Vaidyanathan",
          "Aruna Raje",
          "Ashish R. Mohan",
          "Ashok Nanda",
          "Ashu Trikha",
          "Ashutosh Gowariker",
          "Ashwiny Iyer Tiwari",
          "Atanu Ghosh",
          "Atanu Mukherjee",
          "Atharv Baluja",
          "Athiyan Athirai",
          "Atlee Kumar",
          "Atul Sabharwal",
          "Avadhoot Gupte",
          "Avinash Arun",
          "Avinash Das",
          "Avinash Walzade",
          "Ayaan Mukherji",
          "Ayush Raina",
          "Aziz Mirza",
          "B. Subhash",
          "B. Unnikrishnan",
          "B. V. Nandini Reddy",
          "B.N. Shajeer Sha",
          "Baljit Singh Deo",
          "Balu Mahendra",
          "Basava Shankar Eeday",
          "Basu Chatterjee",
          "Bauddhayan Mukherji",
          "Bejoy Nambiar",
          "Bhagyaraj",
          "Bharat Jain",
          "Bhavin Wadia",
          "Bhushan Patel",
          "Binu Ulahhannan",
          "Biswajeet Bora",
          "Buddhadev Dasgupta",
          "Buta Singh",
          "Chakri Toleti",
          "Chandan Arora",
          "Chandra Prakash Dwivedi",
          "Chandrakant Kanse",
          "Chandrakant Kulkarni",
          "Chandran Narikode",
          "Danish Aslam",
          "Dar Gai",
          "Datta Mohan Bhandare",
          "David Dhawan",
          "Debaloy Dey",
          "Debamitra Biswal",
          "Deep Joshi",
          "Deepti Naval",
          "Desingh Periyasamy",
          "Devaki Singh, Luke Kenny",
          "Devashish Makhija",
          "Devika Bhagat",
          "Dhanush",
          "Dharmendra Suresh Desai",
          "Dharmesh Darshan",
          "Dheeraj Berry",
          "Dhilip Kumar",
          "Dibakar Banerjee",
          "Dileep Narayanan",
          "Dylan Mohan Gray",
          "Eeshwar Nivas",
          "Emcy Joseph",
          "Farah Khan",
          "Faraz Haider",
          "Farhan Akhtar",
          "Fazila Allana",
          "Feroz",
          "Fuwad Khan",
          "Gafoor Y. Elliyaas",
          "Gagan Puri",
          "Gajendra Ahire",
          "Gajendra Ahire, Viju Mane, Girish Mohite, Ravi Jadhav",
          "Ganesh Kadam",
          "Gangadhar Salimath",
          "Gaurav Narayanan",
          "Gauravv K Chawla",
          "Gauri Shinde",
          "Geetu Mohandas",
          "Girish Joshi",
          "Girish Malik",
          "Gulzar",
          "Gurmmeet Singh",
          "Gurudev Bhalla",
          "Habib Faisal",
          "Halitha Shameem",
          "Hardik Mehta",
          "Hari Nath",
          "Hari Viswanath",
          "Harjit Singh",
          "Harry Baweja",
          "Harshavardhan Kulkarni",
          "Hemant Gaba, Pratim D. Gupta, Sudhish Kamath, Nalan Kumarasamy, Anu Menon, Sandeep Mohan, Qaushiq Mukherjee, Rajshree Ojha, Raja Sen, Abhinav Shiv Tiwari, Suparn Verma",
          "Honey Trehan",
          "Hrishikesh Mukherjee",
          "Imtiaz Ali",
          "Indra Kumar",
          "Indrajit Nattoji",
          "Indrasis Acharya",
          "Ishaan Trivedi",
          "Ivan Ayr",
          "Jagdeep Sidhu",
          "Jaivi Dhanda",
          "Jasbir Bijendra Bhati",
          "Jasmine D'Souza",
          "Jatla Siddartha",
          "Jayan Vannery",
          "Jayaprakash Radhakrishnan",
          "Jayaraj Rajasekharan Nair",
          "Jeethu Joseph",
          "Jeeva",
          "Jijo Pancode",
          "Jitender Pawar",
          "Jitendra Tiwari, Pranav Singh",
          "Johnson Esthappan",
          "Jonathan Augustin",
          "K. Gopinathan",
          "K. Ramanlal",
          "K. Subhash",
          "K.C. Bokadia",
          "KVR Mahendra",
          "Kabir Khan",
          "Kabir Sadanand",
          "Kaizad Gustad",
          "Kamal Sahani",
          "Kanika Batra",
          "Karan Anshuman",
          "Karan Johar",
          "Karan Shivajirao Chavan, Vikram Tanajirao Patil",
          "Karthik Subbaraj",
          "Kedar Shinde",
          "Keerthi",
          "Ken Ghosh",
          "Ketan Mehta",
          "Khalid Mohamed",
          "Kiran Narayanan",
          "Kiran Rao",
          "Kireet Khurana, Padmakumar Narasimhamurthy",
          "Kranthi Madhav",
          "Kranti Kanade",
          "Kranti Redkar",
          "Krish",
          "Krishna Vamshi",
          "Ksshitij Chaudhary",
          "Kumaran",
          "Kunal Deshmukh",
          "Kunal Kohli",
          "Kundan Shah",
          "Kushal Srivastava",
          "Laxman Utekar",
          "Leena Yadav",
          "Lekh Tandon",
          "Lenin Bharathi",
          "Lijo Jose Pellissery",
          "Luv Ranjan",
          "Madhumita",
          "Madhur Bhandarkar",
          "Maha Venkatesh",
          "Mahesh Bhatt",
          "Mahesh Manjrekar",
          "Makarand Mane",
          "Manav Shah",
          "Manbhavan Singh",
          "Mandeep Kumar",
          "Mangesh Hadawale",
          "Mangesh Kanthale",
          "Mani Ratnam",
          "Manika Sharma",
          "Manish Gupta",
          "Manish Jha",
          "Manish Saini",
          "Manish Tiwary",
          "Manjeet Maan",
          "Manjeet Singh",
          "Manmohan Desai",
          "Manoj Beedha",
          "Mansore",
          "Manu Ashokan",
          "Mastan Alibhai Burmawalla, Abbas Alibhai Burmawalla",
          "Megha Ramaswamy",
          "Midhun Manuel Thomas",
          "Mikhil Musale",
          "Milan Luthria",
          "Milind Dhaimade",
          "Milind Rau",
          "Mohammed Hussain",
          "Mohit Suri",
          "Mozez Singh",
          "Mrighdeep Singh Lamba",
          "Mukesh Vohra",
          "Mukul Anand",
          "Munish Bhardwaj",
          "Musthafa",
          "Mysskin",
          "N. Chandra",
          "N. Linguswamy",
          "Nagesh Kukunoor",
          "Nagraj Manjule",
          "Naman Nitin Mukesh",
          "Nandita Das",
          "Narendra Nath",
          "Naresh Saigal",
          "Navaniat Singh",
          "Navdeep Singh",
          "Navinder Pal Singh",
          "Navjot Gulati",
          "Navneet Behal",
          "Neeraj Pandey",
          "Neeraj Udhwani",
          "Neeraj Vora",
          "Neville Shah",
          "Nicholas Kharkongor",
          "Nidhi Sharma",
          "Nikhil Advani",
          "Nikhil Nagesh Bhat",
          "Nikkhil Advani",
          "Nila Madhab Panda",
          "Nishanth Ravindaran, Jathin Sanker Raj",
          "Nisheeta Keni",
          "Nishikant Kamat",
          "Nishil Sheth",
          "Nitesh Tiwari",
          "Nizar Shafi",
          "Noushad",
          "Omung Kumar",
          "Onir",
          "P.K. Baaburaaj",
          "P.T. Kunju Muhammad",
          "Pa. Ranjith",
          "Padmakumar Narasimhamurthy",
          "Pankaj Batra",
          "Param Gill",
          "Parambrata Chatterjee",
          "Paresh Mokashi",
          "Paritosh Painter",
          "Partha Chakraborty",
          "Parthiban",
          "Partho Ghosh",
          "Partho Mitra",
          "Parveen Kumar",
          "Patrick Graham",
          "Pawan K Shrivastava",
          "Pawan Kripalani",
          "Pawan Kumar",
          "Phanindra Narsetti",
          "Pooja Bhatt",
          "Prabhu Deva",
          "Prabhuraj",
          "Pradeep Verma",
          "Pradip Kurbah",
          "Prakash Balwant Saini",
          "Prakash Jha",
          "Prakash Kunte",
          "Prakash Mehra",
          "Pramod Pawar",
          "Prasanth Varma",
          "Prashant Nair",
          "Prasobh Vijayan",
          "Pratim D. Gupta",
          "Praveen Nischol",
          "Prawal Raman",
          "Prem Soni",
          "Priyadarshan",
          "Priyadarshan, Kookie V. Gulati",
          "Pulkit",
          "Puneet Khanna",
          "Puneet Sira",
          "Punit Malhotra",
          "Puri Jagannadh",
          "Qaushiq Mukherjee",
          "R. Balki",
          "R. Kannan",
          "Raaghav Dar",
          "Radhika Rao, Vinay Sapru",
          "Rahat Kazmi",
          "Rahul Dholakia",
          "Rahul Ravindran",
          "Rai Yuvraj Bains",
          "Raj B. Shetty",
          "Raj Babu",
          "Raj Kanwar",
          "Raj Kapoor",
          "Raj Kaushal",
          "Raj Khosla",
          "Raj Kumar Gupta",
          "Raj N. Sippy",
          "Raj Nidimoru, Krishna D.K.",
          "Raj R",
          "Raja Chanda",
          "Raja Menon",
          "Rajan Madhav",
          "Rajat Kapoor",
          "Rajeev Chaudhari",
          "Rajeev Patil",
          "Rajesh Ganguly",
          "Rajesh Mapuskar",
          "Rajesh Touchriver",
          "Rajiv Chilaka",
          "Rajiv Chilaka, Binayak Das",
          "Rajiv Mehra",
          "Rajiv Menon",
          "Rajkumar Hirani",
          "Rajkumar Santoshi",
          "Rakesh Mehta",
          "Rakesh Ranjan Kumar",
          "Rakeysh Omprakash Mehra",
          "Rakshith Thirthahalli",
          "Ram",
          "Ram Gopal Varma",
          "Raman Kumar",
          "Ramesh Sippy",
          "Ramesh Talwar",
          "Rana Ranbir",
          "Ranjit Jeyakodi",
          "Ranjit Tiwari",
          "Ravi Babu",
          "Ravi Udyawar",
          "Ravikanth Perepu",
          "Ravishankar Venkateswaran",
          "Reema Kagti",
          "Remo D'Souza",
          "Remy Kohli",
          "Renzil D'Silva",
          "Ribhu Dasgupta",
          "Rikhil Bahadur",
          "Rima Das",
          "Robbie Grewal",
          "Rohan Sippy",
          "Rohit Jugraj",
          "Rohit Mittal",
          "Rohit Shetty",
          "Ruchi Narain",
          "S.S. Rajamouli",
          "Saandeep Patel",
          "Sabal Singh Shekawat",
          "Sabir Khan",
          "Sabu Varghese",
          "Sachin",
          "Sachin Kamlakar Khot",
          "Sachin Kundalkar",
          "Sachin Yardi",
          "Safdar Rahman",
          "Sagar Sarhadi",
          "Saheed Arafath",
          "Sai Paranjape",
          "Saji Surendran",
          "Sajid Khan",
          "Saket Behl",
          "Saket Chaudhary",
          "Samar Khan",
          "Samar Shaikh",
          "Sameer Patil",
          "Sameer Sharma",
          "Sameer Vidwans",
          "Samir Karnik",
          "Samir Soni",
          "Samit Kakkad",
          "Sandeep Chatterjee",
          "Sandeep Reddy Vanga",
          "Sangeeth Sivan",
          "Sanjay Dayma",
          "Sanjay Gupta",
          "Sanjay Jadhav",
          "Sanjay Leela Bhansali",
          "Sanjay Soorkar",
          "Sanjeev Gupta",
          "Sanjib Dey",
          "Sanjiv Jaiswal",
          "Santosh Manjrekar",
          "Santosh Sivan",
          "Santram Varma",
          "Santwana Bardoloi",
          "Saravana Rajan",
          "Saravana Rajendran",
          "Sarjun",
          "Sartaj Singh Pannu",
          "Sarthak Dasgupta",
          "Sathyan Anthikad",
          "Satish Kaushik",
          "Satish Manwar",
          "Satish Rajwade",
          "Satyajit Bhatkal",
          "Saurabh Kabra",
          "Saurabh Sinha",
          "Saurav Palodhi",
          "Sekhar Kammula",
          "Selvamani Selvaraj",
          "Shaad Ali",
          "Shadab Khan",
          "Shakti Samanta",
          "Shakun Batra",
          "Shammi Kapoor",
          "Shamzu Zayba",
          "Shanavas K. Bavakutty",
          "Shanawaz Nellikunnil",
          "Shanker Raman",
          "Sharan Sharma",
          "Shashank Khaitan",
          "Shashanka Ghosh",
          "Shashanka Ghosh, Samit Basu",
          "Shashilal K. Nair",
          "Shawn Arranha",
          "Shekhar Kapur",
          "Shelly Chopra Dhar",
          "Shirish Kunder",
          "Shivam Nair",
          "Shivendra Singh Dungarpur",
          "Shlok Sharma",
          "Shoojit Sircar",
          "Shravan Kumar",
          "Shree Narayan Singh",
          "Shreyas Talpade",
          "Shrihari Sathe",
          "Shubham Singh",
          "Shyam Benegal",
          "Siddique",
          "Simranjit Singh Hundal",
          "Smeep Kang",
          "Sneha Taurani",
          "Sohail Khan",
          "Sohail Tatari",
          "Soham Shah",
          "Sooni Taraporevala",
          "Sooraj R. Barjatya",
          "Soukarya Ghosal",
          "Soumendra Padhi",
          "Soumitra Ranade",
          "Sridhar Rangayan",
          "Sriram Raghavan",
          "Subhash Ghai",
          "Sudesh Manjrekar",
          "Sudesh Manjrekar, Atul Kale",
          "Sudha Kongara, Vignesh Shivan, Gautham Vasudev Menon, Vetri Maaran",
          "Sudhanshu Saria",
          "Sudhir Mishra",
          "Sudip Bandyopadhyay",
          "Sudipto Roy",
          "Suhas Kadav",
          "Sujeeth",
          "Sujoy Ghosh",
          "Sukhbir Singh",
          "Suman Mukhopadhyay",
          "Sumit Das",
          "Sumitra Bhave, Sunil Sukthankar",
          "Sundar C.",
          "Sunil Thakur",
          "Suparn Verma",
          "Supavitra Babul",
          "Surya S.J., Sunil Kumar Agrawal",
          "Suseenthiran",
          "Sushil Majumdar",
          "Swapna Waghmare Joshi",
          "Swapnaneel Jayakar",
          "Syed Ahmad Afzal",
          "Tanuj Bhramar",
          "Tanuja Chandra",
          "Tanveer Khan",
          "Tariq Khan",
          "Tarun Mansukhani",
          "Tathagata Banerjee",
          "Tejas Prabha Vijay Deoskar",
          "Terrie Samundra",
          "Tharun Bhascker",
          "Thiagarajan Kumararaja",
          "Thiru",
          "Tigmanshu Dhulia",
          "Tilak Shetty",
          "Tinnu Anand",
          "Trivikram Srinivas",
          "Udai Singh Pawar",
          "Umesh Ghadge",
          "Umesh Mehra",
          "Umesh Shukla",
          "Uttung Shelar",
          "V C Abhilash",
          "V Vignarajan",
          "V. K. Prakash",
          "Vandana Kataria",
          "Varun Narvekar",
          "Vasan Bala",
          "Venkatesh Maha",
          "Venky Kudumula",
          "Venugopan",
          "Vetrimaaran",
          "Vibhu Virender Puri",
          "Vijay",
          "Vijay Jayapal",
          "Vijay Kumar",
          "Vijay Kumar Arora",
          "Vijay Lalwani",
          "Vijay Maurya",
          "Vijay Milton",
          "Vijay Yelakanti",
          "Vikas Bahl",
          "Vikas Bahl, Nitesh Tiwari",
          "Vikram Bhatt",
          "Vikram Pradhan",
          "Vikramaditya Motwane",
          "Vineeth Anil",
          "Vinil Mathew",
          "Vinod Kapri",
          "Vipin Parashar",
          "Vipul Amrutlal Shah",
          "Vir Das",
          "Vir Das, Ajay Bhuyan",
          "Vishal Bhardwaj",
          "Vishal Mahadkar",
          "Vishal Mishra",
          "Vishnu Govindhan",
          "Vivek Wagh",
          "Zakariya",
          "Zoya Akhtar",
          "Zoya Akhtar, Karan Johar, Anurag Kashyap, Dibakar Banerjee",
          "India"
         ],
         "name": "",
         "parents": [
          "India",
          "India",
          "India",
          "India",
          "India",
          "India",
          "India",
          "India",
          "India",
          "India",
          "India",
          "India",
          "India",
          "India",
          "India",
          "India",
          "India",
          "India",
          "India",
          "India",
          "India",
          "India",
          "India",
          "India",
          "India",
          "India",
          "India",
          "India",
          "India",
          "India",
          "India",
          "India",
          "India",
          "India",
          "India",
          "India",
          "India",
          "India",
          "India",
          "India",
          "India",
          "India",
          "India",
          "India",
          "India",
          "India",
          "India",
          "India",
          "India",
          "India",
          "India",
          "India",
          "India",
          "India",
          "India",
          "India",
          "India",
          "India",
          "India",
          "India",
          "India",
          "India",
          "India",
          "India",
          "India",
          "India",
          "India",
          "India",
          "India",
          "India",
          "India",
          "India",
          "India",
          "India",
          "India",
          "India",
          "India",
          "India",
          "India",
          "India",
          "India",
          "India",
          "India",
          "India",
          "India",
          "India",
          "India",
          "India",
          "India",
          "India",
          "India",
          "India",
          "India",
          "India",
          "India",
          "India",
          "India",
          "India",
          "India",
          "India",
          "India",
          "India",
          "India",
          "India",
          "India",
          "India",
          "India",
          "India",
          "India",
          "India",
          "India",
          "India",
          "India",
          "India",
          "India",
          "India",
          "India",
          "India",
          "India",
          "India",
          "India",
          "India",
          "India",
          "India",
          "India",
          "India",
          "India",
          "India",
          "India",
          "India",
          "India",
          "India",
          "India",
          "India",
          "India",
          "India",
          "India",
          "India",
          "India",
          "India",
          "India",
          "India",
          "India",
          "India",
          "India",
          "India",
          "India",
          "India",
          "India",
          "India",
          "India",
          "India",
          "India",
          "India",
          "India",
          "India",
          "India",
          "India",
          "India",
          "India",
          "India",
          "India",
          "India",
          "India",
          "India",
          "India",
          "India",
          "India",
          "India",
          "India",
          "India",
          "India",
          "India",
          "India",
          "India",
          "India",
          "India",
          "India",
          "India",
          "India",
          "India",
          "India",
          "India",
          "India",
          "India",
          "India",
          "India",
          "India",
          "India",
          "India",
          "India",
          "India",
          "India",
          "India",
          "India",
          "India",
          "India",
          "India",
          "India",
          "India",
          "India",
          "India",
          "India",
          "India",
          "India",
          "India",
          "India",
          "India",
          "India",
          "India",
          "India",
          "India",
          "India",
          "India",
          "India",
          "India",
          "India",
          "India",
          "India",
          "India",
          "India",
          "India",
          "India",
          "India",
          "India",
          "India",
          "India",
          "India",
          "India",
          "India",
          "India",
          "India",
          "India",
          "India",
          "India",
          "India",
          "India",
          "India",
          "India",
          "India",
          "India",
          "India",
          "India",
          "India",
          "India",
          "India",
          "India",
          "India",
          "India",
          "India",
          "India",
          "India",
          "India",
          "India",
          "India",
          "India",
          "India",
          "India",
          "India",
          "India",
          "India",
          "India",
          "India",
          "India",
          "India",
          "India",
          "India",
          "India",
          "India",
          "India",
          "India",
          "India",
          "India",
          "India",
          "India",
          "India",
          "India",
          "India",
          "India",
          "India",
          "India",
          "India",
          "India",
          "India",
          "India",
          "India",
          "India",
          "India",
          "India",
          "India",
          "India",
          "India",
          "India",
          "India",
          "India",
          "India",
          "India",
          "India",
          "India",
          "India",
          "India",
          "India",
          "India",
          "India",
          "India",
          "India",
          "India",
          "India",
          "India",
          "India",
          "India",
          "India",
          "India",
          "India",
          "India",
          "India",
          "India",
          "India",
          "India",
          "India",
          "India",
          "India",
          "India",
          "India",
          "India",
          "India",
          "India",
          "India",
          "India",
          "India",
          "India",
          "India",
          "India",
          "India",
          "India",
          "India",
          "India",
          "India",
          "India",
          "India",
          "India",
          "India",
          "India",
          "India",
          "India",
          "India",
          "India",
          "India",
          "India",
          "India",
          "India",
          "India",
          "India",
          "India",
          "India",
          "India",
          "India",
          "India",
          "India",
          "India",
          "India",
          "India",
          "India",
          "India",
          "India",
          "India",
          "India",
          "India",
          "India",
          "India",
          "India",
          "India",
          "India",
          "India",
          "India",
          "India",
          "India",
          "India",
          "India",
          "India",
          "India",
          "India",
          "India",
          "India",
          "India",
          "India",
          "India",
          "India",
          "India",
          "India",
          "India",
          "India",
          "India",
          "India",
          "India",
          "India",
          "India",
          "India",
          "India",
          "India",
          "India",
          "India",
          "India",
          "India",
          "India",
          "India",
          "India",
          "India",
          "India",
          "India",
          "India",
          "India",
          "India",
          "India",
          "India",
          "India",
          "India",
          "India",
          "India",
          "India",
          "India",
          "India",
          "India",
          "India",
          "India",
          "India",
          "India",
          "India",
          "India",
          "India",
          "India",
          "India",
          "India",
          "India",
          "India",
          "India",
          "India",
          "India",
          "India",
          "India",
          "India",
          "India",
          "India",
          "India",
          "India",
          "India",
          "India",
          "India",
          "India",
          "India",
          "India",
          "India",
          "India",
          "India",
          "India",
          "India",
          "India",
          "India",
          "India",
          "India",
          "India",
          "India",
          "India",
          "India",
          "India",
          "India",
          "India",
          "India",
          "India",
          "India",
          "India",
          "India",
          "India",
          "India",
          "India",
          "India",
          "India",
          "India",
          "India",
          "India",
          "India",
          "India",
          "India",
          "India",
          "India",
          "India",
          "India",
          "India",
          "India",
          "India",
          "India",
          "India",
          "India",
          "India",
          "India",
          "India",
          "India",
          "India",
          "India",
          "India",
          "India",
          "India",
          "India",
          "India",
          "India",
          "India",
          "India",
          "India",
          "India",
          "India",
          "India",
          "India",
          "India",
          "India",
          "India",
          "India",
          "India",
          "India",
          "India",
          "India",
          "India",
          "India",
          "India",
          "India",
          "India",
          "India",
          "India",
          "India",
          "India",
          "India",
          "India",
          "India",
          "India",
          "India",
          "India",
          "India",
          "India",
          "India",
          "India",
          "India",
          "India",
          "India",
          "India",
          "India",
          "India",
          "India",
          "India",
          "India",
          "India",
          "India",
          "India",
          "India",
          "India",
          "India",
          "India",
          "India",
          "India",
          "India",
          "India",
          "India",
          "India",
          "India",
          "India",
          "India",
          "India",
          "India",
          "India",
          "India",
          "India",
          "India",
          "India",
          "India",
          "India",
          "India",
          "India",
          "India",
          "India",
          "India",
          "India",
          "India",
          "India",
          "India",
          "India",
          "India",
          "India",
          "India",
          "India",
          "India",
          "India",
          "India",
          "India",
          "India",
          "India",
          "India",
          "India",
          "India",
          "India",
          "India",
          "India",
          ""
         ],
         "type": "treemap",
         "values": [
          2,
          1,
          1,
          1,
          1,
          1,
          1,
          2,
          1,
          4,
          1,
          1,
          1,
          1,
          1,
          1,
          3,
          3,
          3,
          1,
          3,
          1,
          2,
          2,
          1,
          1,
          1,
          1,
          1,
          1,
          1,
          1,
          1,
          1,
          1,
          1,
          1,
          1,
          1,
          1,
          1,
          1,
          1,
          1,
          1,
          1,
          1,
          1,
          1,
          1,
          3,
          1,
          1,
          1,
          1,
          1,
          1,
          1,
          6,
          1,
          1,
          1,
          1,
          1,
          1,
          1,
          1,
          2,
          1,
          1,
          4,
          5,
          2,
          1,
          1,
          1,
          2,
          1,
          1,
          1,
          1,
          1,
          1,
          1,
          1,
          1,
          2,
          1,
          6,
          1,
          2,
          1,
          1,
          1,
          1,
          1,
          2,
          1,
          1,
          1,
          1,
          1,
          3,
          1,
          1,
          1,
          1,
          1,
          1,
          1,
          2,
          1,
          2,
          1,
          1,
          1,
          1,
          1,
          1,
          1,
          1,
          1,
          1,
          1,
          1,
          3,
          1,
          1,
          1,
          1,
          9,
          1,
          1,
          1,
          1,
          1,
          1,
          1,
          1,
          1,
          1,
          2,
          1,
          1,
          4,
          1,
          1,
          1,
          1,
          4,
          1,
          3,
          1,
          1,
          1,
          1,
          1,
          2,
          1,
          1,
          1,
          1,
          1,
          1,
          1,
          1,
          2,
          1,
          1,
          1,
          1,
          1,
          1,
          1,
          1,
          1,
          1,
          1,
          1,
          1,
          4,
          6,
          5,
          1,
          1,
          1,
          1,
          1,
          1,
          1,
          1,
          1,
          1,
          1,
          1,
          2,
          1,
          1,
          1,
          1,
          1,
          1,
          1,
          1,
          1,
          1,
          1,
          1,
          2,
          1,
          1,
          1,
          1,
          3,
          1,
          1,
          2,
          1,
          3,
          2,
          1,
          1,
          1,
          1,
          1,
          1,
          1,
          1,
          1,
          2,
          1,
          1,
          1,
          4,
          1,
          1,
          3,
          3,
          1,
          1,
          2,
          1,
          5,
          1,
          3,
          5,
          2,
          1,
          1,
          1,
          1,
          1,
          3,
          1,
          1,
          2,
          1,
          1,
          1,
          1,
          1,
          1,
          1,
          1,
          1,
          1,
          1,
          2,
          4,
          1,
          1,
          1,
          2,
          1,
          1,
          1,
          2,
          1,
          1,
          2,
          1,
          2,
          4,
          2,
          1,
          1,
          1,
          1,
          1,
          1,
          1,
          1,
          1,
          3,
          1,
          1,
          1,
          2,
          1,
          2,
          1,
          1,
          3,
          1,
          1,
          4,
          1,
          1,
          1,
          1,
          1,
          2,
          1,
          1,
          1,
          1,
          2,
          1,
          2,
          1,
          1,
          1,
          1,
          1,
          1,
          1,
          1,
          1,
          1,
          1,
          1,
          1,
          1,
          1,
          1,
          1,
          1,
          5,
          1,
          3,
          1,
          1,
          1,
          1,
          1,
          1,
          1,
          1,
          4,
          1,
          1,
          1,
          1,
          2,
          1,
          2,
          1,
          1,
          1,
          1,
          1,
          1,
          1,
          1,
          1,
          1,
          1,
          3,
          1,
          1,
          3,
          1,
          1,
          1,
          1,
          1,
          1,
          2,
          1,
          1,
          1,
          1,
          1,
          1,
          1,
          5,
          1,
          3,
          6,
          1,
          1,
          4,
          1,
          1,
          6,
          1,
          1,
          1,
          1,
          1,
          1,
          1,
          1,
          1,
          1,
          2,
          3,
          1,
          2,
          2,
          1,
          1,
          1,
          1,
          2,
          1,
          5,
          1,
          2,
          1,
          1,
          1,
          1,
          2,
          1,
          1,
          2,
          1,
          1,
          1,
          1,
          1,
          1,
          1,
          1,
          1,
          1,
          1,
          1,
          2,
          1,
          1,
          1,
          1,
          1,
          2,
          1,
          1,
          2,
          1,
          1,
          1,
          1,
          1,
          1,
          2,
          1,
          1,
          1,
          1,
          1,
          1,
          1,
          1,
          2,
          1,
          3,
          2,
          1,
          1,
          1,
          1,
          1,
          1,
          1,
          1,
          2,
          1,
          1,
          1,
          1,
          1,
          1,
          1,
          1,
          1,
          1,
          1,
          1,
          1,
          3,
          2,
          1,
          2,
          1,
          1,
          1,
          1,
          1,
          1,
          4,
          1,
          1,
          2,
          1,
          1,
          1,
          1,
          1,
          6,
          1,
          2,
          1,
          2,
          2,
          4,
          1,
          1,
          1,
          1,
          3,
          1,
          1,
          1,
          1,
          3,
          1,
          1,
          1,
          3,
          2,
          1,
          1,
          1,
          1,
          1,
          1,
          1,
          1,
          1,
          1,
          2,
          1,
          1,
          1,
          1,
          1,
          1,
          1,
          1,
          2,
          2,
          1,
          1,
          1,
          1,
          1,
          5,
          2,
          1,
          1,
          1,
          1,
          1,
          1,
          1,
          1,
          1,
          1,
          1,
          1,
          1,
          1,
          1,
          1,
          1,
          1,
          1,
          1,
          2,
          1,
          1,
          1,
          3,
          1,
          1,
          1,
          1,
          2,
          1,
          1,
          5,
          1,
          1,
          1,
          1,
          1,
          3,
          1,
          832
         ]
        }
       ],
       "layout": {
        "legend": {
         "tracegroupgap": 0
        },
        "margin": {
         "t": 60
        },
        "template": {
         "data": {
          "bar": [
           {
            "error_x": {
             "color": "#2a3f5f"
            },
            "error_y": {
             "color": "#2a3f5f"
            },
            "marker": {
             "line": {
              "color": "#E5ECF6",
              "width": 0.5
             },
             "pattern": {
              "fillmode": "overlay",
              "size": 10,
              "solidity": 0.2
             }
            },
            "type": "bar"
           }
          ],
          "barpolar": [
           {
            "marker": {
             "line": {
              "color": "#E5ECF6",
              "width": 0.5
             },
             "pattern": {
              "fillmode": "overlay",
              "size": 10,
              "solidity": 0.2
             }
            },
            "type": "barpolar"
           }
          ],
          "carpet": [
           {
            "aaxis": {
             "endlinecolor": "#2a3f5f",
             "gridcolor": "white",
             "linecolor": "white",
             "minorgridcolor": "white",
             "startlinecolor": "#2a3f5f"
            },
            "baxis": {
             "endlinecolor": "#2a3f5f",
             "gridcolor": "white",
             "linecolor": "white",
             "minorgridcolor": "white",
             "startlinecolor": "#2a3f5f"
            },
            "type": "carpet"
           }
          ],
          "choropleth": [
           {
            "colorbar": {
             "outlinewidth": 0,
             "ticks": ""
            },
            "type": "choropleth"
           }
          ],
          "contour": [
           {
            "colorbar": {
             "outlinewidth": 0,
             "ticks": ""
            },
            "colorscale": [
             [
              0,
              "#0d0887"
             ],
             [
              0.1111111111111111,
              "#46039f"
             ],
             [
              0.2222222222222222,
              "#7201a8"
             ],
             [
              0.3333333333333333,
              "#9c179e"
             ],
             [
              0.4444444444444444,
              "#bd3786"
             ],
             [
              0.5555555555555556,
              "#d8576b"
             ],
             [
              0.6666666666666666,
              "#ed7953"
             ],
             [
              0.7777777777777778,
              "#fb9f3a"
             ],
             [
              0.8888888888888888,
              "#fdca26"
             ],
             [
              1,
              "#f0f921"
             ]
            ],
            "type": "contour"
           }
          ],
          "contourcarpet": [
           {
            "colorbar": {
             "outlinewidth": 0,
             "ticks": ""
            },
            "type": "contourcarpet"
           }
          ],
          "heatmap": [
           {
            "colorbar": {
             "outlinewidth": 0,
             "ticks": ""
            },
            "colorscale": [
             [
              0,
              "#0d0887"
             ],
             [
              0.1111111111111111,
              "#46039f"
             ],
             [
              0.2222222222222222,
              "#7201a8"
             ],
             [
              0.3333333333333333,
              "#9c179e"
             ],
             [
              0.4444444444444444,
              "#bd3786"
             ],
             [
              0.5555555555555556,
              "#d8576b"
             ],
             [
              0.6666666666666666,
              "#ed7953"
             ],
             [
              0.7777777777777778,
              "#fb9f3a"
             ],
             [
              0.8888888888888888,
              "#fdca26"
             ],
             [
              1,
              "#f0f921"
             ]
            ],
            "type": "heatmap"
           }
          ],
          "heatmapgl": [
           {
            "colorbar": {
             "outlinewidth": 0,
             "ticks": ""
            },
            "colorscale": [
             [
              0,
              "#0d0887"
             ],
             [
              0.1111111111111111,
              "#46039f"
             ],
             [
              0.2222222222222222,
              "#7201a8"
             ],
             [
              0.3333333333333333,
              "#9c179e"
             ],
             [
              0.4444444444444444,
              "#bd3786"
             ],
             [
              0.5555555555555556,
              "#d8576b"
             ],
             [
              0.6666666666666666,
              "#ed7953"
             ],
             [
              0.7777777777777778,
              "#fb9f3a"
             ],
             [
              0.8888888888888888,
              "#fdca26"
             ],
             [
              1,
              "#f0f921"
             ]
            ],
            "type": "heatmapgl"
           }
          ],
          "histogram": [
           {
            "marker": {
             "pattern": {
              "fillmode": "overlay",
              "size": 10,
              "solidity": 0.2
             }
            },
            "type": "histogram"
           }
          ],
          "histogram2d": [
           {
            "colorbar": {
             "outlinewidth": 0,
             "ticks": ""
            },
            "colorscale": [
             [
              0,
              "#0d0887"
             ],
             [
              0.1111111111111111,
              "#46039f"
             ],
             [
              0.2222222222222222,
              "#7201a8"
             ],
             [
              0.3333333333333333,
              "#9c179e"
             ],
             [
              0.4444444444444444,
              "#bd3786"
             ],
             [
              0.5555555555555556,
              "#d8576b"
             ],
             [
              0.6666666666666666,
              "#ed7953"
             ],
             [
              0.7777777777777778,
              "#fb9f3a"
             ],
             [
              0.8888888888888888,
              "#fdca26"
             ],
             [
              1,
              "#f0f921"
             ]
            ],
            "type": "histogram2d"
           }
          ],
          "histogram2dcontour": [
           {
            "colorbar": {
             "outlinewidth": 0,
             "ticks": ""
            },
            "colorscale": [
             [
              0,
              "#0d0887"
             ],
             [
              0.1111111111111111,
              "#46039f"
             ],
             [
              0.2222222222222222,
              "#7201a8"
             ],
             [
              0.3333333333333333,
              "#9c179e"
             ],
             [
              0.4444444444444444,
              "#bd3786"
             ],
             [
              0.5555555555555556,
              "#d8576b"
             ],
             [
              0.6666666666666666,
              "#ed7953"
             ],
             [
              0.7777777777777778,
              "#fb9f3a"
             ],
             [
              0.8888888888888888,
              "#fdca26"
             ],
             [
              1,
              "#f0f921"
             ]
            ],
            "type": "histogram2dcontour"
           }
          ],
          "mesh3d": [
           {
            "colorbar": {
             "outlinewidth": 0,
             "ticks": ""
            },
            "type": "mesh3d"
           }
          ],
          "parcoords": [
           {
            "line": {
             "colorbar": {
              "outlinewidth": 0,
              "ticks": ""
             }
            },
            "type": "parcoords"
           }
          ],
          "pie": [
           {
            "automargin": true,
            "type": "pie"
           }
          ],
          "scatter": [
           {
            "fillpattern": {
             "fillmode": "overlay",
             "size": 10,
             "solidity": 0.2
            },
            "type": "scatter"
           }
          ],
          "scatter3d": [
           {
            "line": {
             "colorbar": {
              "outlinewidth": 0,
              "ticks": ""
             }
            },
            "marker": {
             "colorbar": {
              "outlinewidth": 0,
              "ticks": ""
             }
            },
            "type": "scatter3d"
           }
          ],
          "scattercarpet": [
           {
            "marker": {
             "colorbar": {
              "outlinewidth": 0,
              "ticks": ""
             }
            },
            "type": "scattercarpet"
           }
          ],
          "scattergeo": [
           {
            "marker": {
             "colorbar": {
              "outlinewidth": 0,
              "ticks": ""
             }
            },
            "type": "scattergeo"
           }
          ],
          "scattergl": [
           {
            "marker": {
             "colorbar": {
              "outlinewidth": 0,
              "ticks": ""
             }
            },
            "type": "scattergl"
           }
          ],
          "scattermapbox": [
           {
            "marker": {
             "colorbar": {
              "outlinewidth": 0,
              "ticks": ""
             }
            },
            "type": "scattermapbox"
           }
          ],
          "scatterpolar": [
           {
            "marker": {
             "colorbar": {
              "outlinewidth": 0,
              "ticks": ""
             }
            },
            "type": "scatterpolar"
           }
          ],
          "scatterpolargl": [
           {
            "marker": {
             "colorbar": {
              "outlinewidth": 0,
              "ticks": ""
             }
            },
            "type": "scatterpolargl"
           }
          ],
          "scatterternary": [
           {
            "marker": {
             "colorbar": {
              "outlinewidth": 0,
              "ticks": ""
             }
            },
            "type": "scatterternary"
           }
          ],
          "surface": [
           {
            "colorbar": {
             "outlinewidth": 0,
             "ticks": ""
            },
            "colorscale": [
             [
              0,
              "#0d0887"
             ],
             [
              0.1111111111111111,
              "#46039f"
             ],
             [
              0.2222222222222222,
              "#7201a8"
             ],
             [
              0.3333333333333333,
              "#9c179e"
             ],
             [
              0.4444444444444444,
              "#bd3786"
             ],
             [
              0.5555555555555556,
              "#d8576b"
             ],
             [
              0.6666666666666666,
              "#ed7953"
             ],
             [
              0.7777777777777778,
              "#fb9f3a"
             ],
             [
              0.8888888888888888,
              "#fdca26"
             ],
             [
              1,
              "#f0f921"
             ]
            ],
            "type": "surface"
           }
          ],
          "table": [
           {
            "cells": {
             "fill": {
              "color": "#EBF0F8"
             },
             "line": {
              "color": "white"
             }
            },
            "header": {
             "fill": {
              "color": "#C8D4E3"
             },
             "line": {
              "color": "white"
             }
            },
            "type": "table"
           }
          ]
         },
         "layout": {
          "annotationdefaults": {
           "arrowcolor": "#2a3f5f",
           "arrowhead": 0,
           "arrowwidth": 1
          },
          "autotypenumbers": "strict",
          "coloraxis": {
           "colorbar": {
            "outlinewidth": 0,
            "ticks": ""
           }
          },
          "colorscale": {
           "diverging": [
            [
             0,
             "#8e0152"
            ],
            [
             0.1,
             "#c51b7d"
            ],
            [
             0.2,
             "#de77ae"
            ],
            [
             0.3,
             "#f1b6da"
            ],
            [
             0.4,
             "#fde0ef"
            ],
            [
             0.5,
             "#f7f7f7"
            ],
            [
             0.6,
             "#e6f5d0"
            ],
            [
             0.7,
             "#b8e186"
            ],
            [
             0.8,
             "#7fbc41"
            ],
            [
             0.9,
             "#4d9221"
            ],
            [
             1,
             "#276419"
            ]
           ],
           "sequential": [
            [
             0,
             "#0d0887"
            ],
            [
             0.1111111111111111,
             "#46039f"
            ],
            [
             0.2222222222222222,
             "#7201a8"
            ],
            [
             0.3333333333333333,
             "#9c179e"
            ],
            [
             0.4444444444444444,
             "#bd3786"
            ],
            [
             0.5555555555555556,
             "#d8576b"
            ],
            [
             0.6666666666666666,
             "#ed7953"
            ],
            [
             0.7777777777777778,
             "#fb9f3a"
            ],
            [
             0.8888888888888888,
             "#fdca26"
            ],
            [
             1,
             "#f0f921"
            ]
           ],
           "sequentialminus": [
            [
             0,
             "#0d0887"
            ],
            [
             0.1111111111111111,
             "#46039f"
            ],
            [
             0.2222222222222222,
             "#7201a8"
            ],
            [
             0.3333333333333333,
             "#9c179e"
            ],
            [
             0.4444444444444444,
             "#bd3786"
            ],
            [
             0.5555555555555556,
             "#d8576b"
            ],
            [
             0.6666666666666666,
             "#ed7953"
            ],
            [
             0.7777777777777778,
             "#fb9f3a"
            ],
            [
             0.8888888888888888,
             "#fdca26"
            ],
            [
             1,
             "#f0f921"
            ]
           ]
          },
          "colorway": [
           "#636efa",
           "#EF553B",
           "#00cc96",
           "#ab63fa",
           "#FFA15A",
           "#19d3f3",
           "#FF6692",
           "#B6E880",
           "#FF97FF",
           "#FECB52"
          ],
          "font": {
           "color": "#2a3f5f"
          },
          "geo": {
           "bgcolor": "white",
           "lakecolor": "white",
           "landcolor": "#E5ECF6",
           "showlakes": true,
           "showland": true,
           "subunitcolor": "white"
          },
          "hoverlabel": {
           "align": "left"
          },
          "hovermode": "closest",
          "mapbox": {
           "style": "light"
          },
          "paper_bgcolor": "white",
          "plot_bgcolor": "#E5ECF6",
          "polar": {
           "angularaxis": {
            "gridcolor": "white",
            "linecolor": "white",
            "ticks": ""
           },
           "bgcolor": "#E5ECF6",
           "radialaxis": {
            "gridcolor": "white",
            "linecolor": "white",
            "ticks": ""
           }
          },
          "scene": {
           "xaxis": {
            "backgroundcolor": "#E5ECF6",
            "gridcolor": "white",
            "gridwidth": 2,
            "linecolor": "white",
            "showbackground": true,
            "ticks": "",
            "zerolinecolor": "white"
           },
           "yaxis": {
            "backgroundcolor": "#E5ECF6",
            "gridcolor": "white",
            "gridwidth": 2,
            "linecolor": "white",
            "showbackground": true,
            "ticks": "",
            "zerolinecolor": "white"
           },
           "zaxis": {
            "backgroundcolor": "#E5ECF6",
            "gridcolor": "white",
            "gridwidth": 2,
            "linecolor": "white",
            "showbackground": true,
            "ticks": "",
            "zerolinecolor": "white"
           }
          },
          "shapedefaults": {
           "line": {
            "color": "#2a3f5f"
           }
          },
          "ternary": {
           "aaxis": {
            "gridcolor": "white",
            "linecolor": "white",
            "ticks": ""
           },
           "baxis": {
            "gridcolor": "white",
            "linecolor": "white",
            "ticks": ""
           },
           "bgcolor": "#E5ECF6",
           "caxis": {
            "gridcolor": "white",
            "linecolor": "white",
            "ticks": ""
           }
          },
          "title": {
           "x": 0.05
          },
          "xaxis": {
           "automargin": true,
           "gridcolor": "white",
           "linecolor": "white",
           "ticks": "",
           "title": {
            "standoff": 15
           },
           "zerolinecolor": "white",
           "zerolinewidth": 2
          },
          "yaxis": {
           "automargin": true,
           "gridcolor": "white",
           "linecolor": "white",
           "ticks": "",
           "title": {
            "standoff": 15
           },
           "zerolinecolor": "white",
           "zerolinewidth": 2
          }
         }
        }
       }
      },
      "text/html": [
       "<div>                            <div id=\"e04cafe0-601e-4587-8816-aacf116b7110\" class=\"plotly-graph-div\" style=\"height:525px; width:100%;\"></div>            <script type=\"text/javascript\">                require([\"plotly\"], function(Plotly) {                    window.PLOTLYENV=window.PLOTLYENV || {};                                    if (document.getElementById(\"e04cafe0-601e-4587-8816-aacf116b7110\")) {                    Plotly.newPlot(                        \"e04cafe0-601e-4587-8816-aacf116b7110\",                        [{\"branchvalues\":\"total\",\"customdata\":[[\"A. L. Vijay\",\"(?)\"],[\"A. Raajdheep\",\"Asura Guru\"],[\"A. Salaam\",\"Salaakhen\"],[\"A.R. Murugadoss\",\"Spyder\"],[\"Aadish Keluskar\",\"Jaoon Kahan Bata Ae Dil\"],[\"Aamir Bashir\",\"Harud\"],[\"Aamir Khan\",\"Taare Zameen Par\"],[\"Aanand Rai\",\"(?)\"],[\"Aatmaram Dharne\",\"Chal Dhar Pakad\"],[\"Abbas Alibhai Burmawalla, Mastan Alibhai Burmawalla\",\"(?)\"],[\"Abbas Mustan\",\"Soldier\"],[\"Abbas Tyrewala\",\"Jaane Tu... Ya Jaane Na\"],[\"Abhay Chopra\",\"Ittefaq\"],[\"Abhijeet Deshpande\",\"Ani... Dr. Kashinath Ghanekar\"],[\"Abhijit Kokate, Srivinay Salian\",\"Rakkhosh\"],[\"Abhijit Panse\",\"Thackeray (Hindi)\"],[\"Abhinay Deo\",\"(?)\"],[\"Abhishek Chaubey\",\"(?)\"],[\"Abhishek Kapoor\",\"(?)\"],[\"Abhishek Saxena\",\"Phullu\"],[\"Abhishek Sharma\",\"(?)\"],[\"Abhishek Varman\",\"2 States\"],[\"Aditya Kripalani\",\"(?)\"],[\"Aditya Sarpotdar\",\"(?)\"],[\"Aditya Vikram Sengupta\",\"Jonaki\"],[\"Advait Chandan\",\"Secret Superstar\"],[\"Agnidev Chatterjee\",\"Dark Chocolate (Bengali Version)\"],[\"Ahishor Solomon\",\"John Day\"],[\"Aijaz Khan\",\"Hamid\"],[\"Ajay Bahl\",\"B.A. Pass\"],[\"Ajay Bhuyan, Kunal Kohli\",\"Phir Se\"],[\"Ajay Phansekar\",\"Encounter: The Killing\"],[\"Ajithkumar\",\"Eeda\"],[\"Akashdeep\",\"Santa Banta Pvt Ltd\"],[\"Akhil Paul, Anas Khan\",\"Forensic\"],[\"Akshay Akkineni\",\"Pizza\"],[\"Alankrita Shrivastava\",\"Dolly Kitty Aur Woh Chamakte Sitare\"],[\"Alo Sarkar\",\"Bandie\"],[\"Amaan Khan\",\"Mahabharat\"],[\"Amal Neerad\",\"CIA: Comrade in America\"],[\"Amar Gupte\",\"Hridaynath\"],[\"Amar Kaushik\",\"Stree\"],[\"Amardeep Singh Gill\",\"Jora 10 Numbaria\"],[\"Amarpreet G S Chabbra\",\"Happy Go Lucky\"],[\"Amit Barot\",\"Shubh Aarambh\"],[\"Amit Rai\",\"Road to Sangam\"],[\"Amit Roy\",\"Running Shaadi\"],[\"Amit Saxena\",\"Nasha\"],[\"Amitabha Singh\",\"Shortcut Safari\"],[\"Amitava Bhattacharya\",\"Red Oleanders Raktokarobi\"],[\"Amitoj Mann\",\"(?)\"],[\"Amol Palekar\",\"Paheli\"],[\"Amshan Kumar\",\"Manusangada\"],[\"Anand Ravichandran\",\"SETHUM AAYIRAM PON\"],[\"Anand Tiwari\",\"Love Per Square Foot\"],[\"Ananda Krishnan\",\"Metro\"],[\"Anant Balani\",\"Mumbai Matinee\"],[\"Ananth Narayan Mahadevan\",\"Gour Hari Dastaan: The Freedom File\"],[\"Anees Bazmee\",\"(?)\"],[\"Angshuman Ghosh\",\"Kenny Sebastian: The Most Interesting Person in the Room\"],[\"Anik Datta\",\"Meghnadbodh Rohoshyo\"],[\"Anil Sharma\",\"Singh Saab the Great\"],[\"Anil Thomas\",\"Minnaminugu the FireFly\"],[\"Anil V. Kumar\",\"Kucch To Hai\"],[\"Aniruddha Roy Chowdhury\",\"Pink\"],[\"Anita Udeep\",\"90 ML\"],[\"Anoop Sathyan\",\"Varane Avashyamund\"],[\"Anthony D'Souza\",\"(?)\"],[\"Anu Menon\",\"Waiting\"],[\"Anubhav Sinha\",\"Article 15\"],[\"Anurag Basu\",\"(?)\"],[\"Anurag Kashyap\",\"(?)\"],[\"Anurag Kashyap, Dibakar Banerjee, Karan Johar, Zoya Akhtar\",\"(?)\"],[\"Anuranjan Premji\",\"Chicken Kokkachi\"],[\"Anusha Rizvi, Mahmood Farooqui\",\"Peepli Live\"],[\"Anvita Dutt\",\"Bulbbul\"],[\"Apoorva Lakhia\",\"(?)\"],[\"Apurva Dhar Badgaiyann\",\"Chaman Bahaar\"],[\"Arati Kadav\",\"Cargo\"],[\"Arjun Gourisaria, Moinak Biswas\",\"Sthaniya Sambaad\"],[\"Arjun Jandyala\",\"Guna 369\"],[\"Arnab Chaudhuri\",\"Arjun: The Warrior Prince\"],[\"Arun Chidambaram\",\"Kanavu Variyam\"],[\"Arun Vaidyanathan\",\"Nibunan\"],[\"Aruna Raje\",\"Firebrand\"],[\"Ashish R. Mohan\",\"Welcome 2 Karachi\"],[\"Ashok Nanda\",\"(?)\"],[\"Ashu Trikha\",\"Veerey Ki Wedding\"],[\"Ashutosh Gowariker\",\"(?)\"],[\"Ashwiny Iyer Tiwari\",\"Bareilly Ki Barfi\"],[\"Atanu Ghosh\",\"(?)\"],[\"Atanu Mukherjee\",\"Rukh\"],[\"Atharv Baluja\",\"Judge Singh LLB\"],[\"Athiyan Athirai\",\"The Last Bomb of the Second World War\"],[\"Atlee Kumar\",\"Mersal\"],[\"Atul Sabharwal\",\"Class of '83\"],[\"Avadhoot Gupte\",\"(?)\"],[\"Avinash Arun\",\"Killa\"],[\"Avinash Das\",\"Anarkali of Aarah\"],[\"Avinash Walzade\",\"Fukrey Boyzzz: Space Mein Fukrapanti\"],[\"Ayaan Mukherji\",\"Wake Up Sid\"],[\"Ayush Raina\",\"Horror Story\"],[\"Aziz Mirza\",\"(?)\"],[\"B. Subhash\",\"Disco Dancer\"],[\"B. Unnikrishnan\",\"Grandmaster\"],[\"B. V. Nandini Reddy\",\"Oh! Baby\"],[\"B.N. Shajeer Sha\",\"Lechmi\"],[\"Baljit Singh Deo\",\"Manje Bistre\"],[\"Balu Mahendra\",\"Sadma\"],[\"Basava Shankar Eeday\",\"Evvarikee Cheppoddu\"],[\"Basu Chatterjee\",\"(?)\"],[\"Bauddhayan Mukherji\",\"The Violin Player\"],[\"Bejoy Nambiar\",\"(?)\"],[\"Bhagyaraj\",\"Papa the Great\"],[\"Bharat Jain\",\"6-5=2\"],[\"Bhavin Wadia\",\"Project Marathwada\"],[\"Bhushan Patel\",\"Ragini MMS 2\"],[\"Binu Ulahhannan\",\"Melle\"],[\"Biswajeet Bora\",\"Aisa Yeh Jahaan\"],[\"Buddhadev Dasgupta\",\"Tope: The Bait\"],[\"Buta Singh\",\"Kacche Dhaagey\"],[\"Chakri Toleti\",\"Kolaiyuthir Kaalam\"],[\"Chandan Arora\",\"Main, Meri Patni Aur Woh\"],[\"Chandra Prakash Dwivedi\",\"Zed Plus\"],[\"Chandrakant Kanse\",\"Daagdi Chaawl\"],[\"Chandrakant Kulkarni\",\"(?)\"],[\"Chandran Narikode\",\"Paathi\"],[\"Danish Aslam\",\"Break Ke Baad\"],[\"Dar Gai\",\"Teen Aur Aadha\"],[\"Datta Mohan Bhandare\",\"Krutant\"],[\"David Dhawan\",\"(?)\"],[\"Debaloy Dey\",\"Macchli Jal Ki Rani Hai\"],[\"Debamitra Biswal\",\"Motichoor Chaknachoor\"],[\"Deep Joshi\",\"Bathinda Express\"],[\"Deepti Naval\",\"Do Paise Ki Dhoop Chaar Aane Ki Baarish\"],[\"Desingh Periyasamy\",\"Kannum Kannum Kollaiyadithaal\"],[\"Devaki Singh, Luke Kenny\",\"Rise of the Zombie\"],[\"Devashish Makhija\",\"Ajji\"],[\"Devika Bhagat\",\"One by Two\"],[\"Dhanush\",\"Power Paandi\"],[\"Dharmendra Suresh Desai\",\"Rustom\"],[\"Dharmesh Darshan\",\"(?)\"],[\"Dheeraj Berry\",\"Th Eena Meena Deeka Chase Comedy Show\"],[\"Dhilip Kumar\",\"Kalki\"],[\"Dibakar Banerjee\",\"(?)\"],[\"Dileep Narayanan\",\"Paulettante Veedu\"],[\"Dylan Mohan Gray\",\"Fire in the Blood\"],[\"Eeshwar Nivas\",\"Dum\"],[\"Emcy Joseph\",\"Mischief\"],[\"Farah Khan\",\"(?)\"],[\"Faraz Haider\",\"War Chhod Na Yaar\"],[\"Farhan Akhtar\",\"(?)\"],[\"Fazila Allana\",\"Aditi Mittal: Things They Wouldn't Let Me Say\"],[\"Feroz\",\"Pandigai\"],[\"Fuwad Khan\",\"Dharam Sankat Mein\"],[\"Gafoor Y. Elliyaas\",\"Pareeth Pandaari\"],[\"Gagan Puri\",\"Door Ke Darshan\"],[\"Gajendra Ahire\",\"(?)\"],[\"Gajendra Ahire, Viju Mane, Girish Mohite, Ravi Jadhav\",\"Bioscope\"],[\"Ganesh Kadam\",\"Vitti Dandu\"],[\"Gangadhar Salimath\",\"Ayana\"],[\"Gaurav Narayanan\",\"Sigaram Thodu\"],[\"Gauravv K Chawla\",\"Baazaar\"],[\"Gauri Shinde\",\"Dear Zindagi\"],[\"Geetu Mohandas\",\"Liar's Dice\"],[\"Girish Joshi\",\"Ranbhool\"],[\"Girish Malik\",\"(?)\"],[\"Gulzar\",\"Koshish\"],[\"Gurmmeet Singh\",\"What the Fish\"],[\"Gurudev Bhalla\",\"Shararat\"],[\"Habib Faisal\",\"Do Dooni Chaar\"],[\"Halitha Shameem\",\"Sillu Karuppatti\"],[\"Hardik Mehta\",\"Har Kisse Ke Hisse: Kaamyaab\"],[\"Hari Nath\",\"Neevevaro\"],[\"Hari Viswanath\",\"Radiopetti\"],[\"Harjit Singh\",\"Eh Janam Tumhare Lekhe\"],[\"Harry Baweja\",\"Chaar\\u00a0Sahibzaade\"],[\"Harshavardhan Kulkarni\",\"Hunterrr\"],[\"Hemant Gaba, Pratim D. Gupta, Sudhish Kamath, Nalan Kumarasamy, Anu Menon, Sandeep Mohan, Qaushiq Mukherjee, Rajshree Ojha, Raja Sen, Abhinav Shiv Tiwari, Suparn Verma\",\"X: Past Is Present\"],[\"Honey Trehan\",\"Raat Akeli Hai\"],[\"Hrishikesh Mukherjee\",\"(?)\"],[\"Imtiaz Ali\",\"(?)\"],[\"Indra Kumar\",\"(?)\"],[\"Indrajit Nattoji\",\"Aagey Se Right\"],[\"Indrasis Acharya\",\"Bilu Rakkhosh\"],[\"Ishaan Trivedi\",\"A Scandall\"],[\"Ivan Ayr\",\"Soni\"],[\"Jagdeep Sidhu\",\"Qismat\"],[\"Jaivi Dhanda\",\"Needhi Singh\"],[\"Jasbir Bijendra Bhati\",\"Bhouri\"],[\"Jasmine D'Souza\",\"One Night Stand\"],[\"Jatla Siddartha\",\"Love and Shukla\"],[\"Jayan Vannery\",\"Ma Chu Ka\"],[\"Jayaprakash Radhakrishnan\",\"Lens\"],[\"Jayaraj Rajasekharan Nair\",\"Ottaal\"],[\"Jeethu Joseph\",\"(?)\"],[\"Jeeva\",\"Run\"],[\"Jijo Pancode\",\"Kaaliyan\"],[\"Jitender Pawar\",\"Trip to Bhangarh: Asia's Most Haunted Place\"],[\"Jitendra Tiwari, Pranav Singh\",\"Shorgul\"],[\"Johnson Esthappan\",\"Daffedar\"],[\"Jonathan Augustin\",\"The Lift Boy\"],[\"K. Gopinathan\",\"Samarppanam\"],[\"K. Ramanlal\",\"Elaan\"],[\"K. Subhash\",\"Insan\"],[\"K.C. Bokadia\",\"Deewana Main Deewana\"],[\"KVR Mahendra\",\"Dorasaani\"],[\"Kabir Khan\",\"Phantom\"],[\"Kabir Sadanand\",\"(?)\"],[\"Kaizad Gustad\",\"Boom\"],[\"Kamal Sahani\",\"Sat Sri Akal\"],[\"Kanika Batra\",\"Project Papa\"],[\"Karan Anshuman\",\"Bangistan\"],[\"Karan Johar\",\"(?)\"],[\"Karan Shivajirao Chavan, Vikram Tanajirao Patil\",\"Imago\"],[\"Karthik Subbaraj\",\"Petta\"],[\"Kedar Shinde\",\"(?)\"],[\"Keerthi\",\"The Plan\"],[\"Ken Ghosh\",\"(?)\"],[\"Ketan Mehta\",\"(?)\"],[\"Khalid Mohamed\",\"Fiza\"],[\"Kiran Narayanan\",\"Oru Vishsheshapetta Biryani Kissa\"],[\"Kiran Rao\",\"Dhobi Ghat (Mumbai Diaries)\"],[\"Kireet Khurana, Padmakumar Narasimhamurthy\",\"Saeed Mirza: The Leftist Sufi\"],[\"Kranthi Madhav\",\"World Famous Lover\"],[\"Kranti Kanade\",\"CRD\"],[\"Kranti Redkar\",\"Kaakan\"],[\"Krish\",\"Gabbar Is Back\"],[\"Krishna Vamshi\",\"Shakti: The Power\"],[\"Ksshitij Chaudhary\",\"(?)\"],[\"Kumaran\",\"Jada\"],[\"Kunal Deshmukh\",\"Raja Natwarlal\"],[\"Kunal Kohli\",\"Next Enti?\"],[\"Kundan Shah\",\"(?)\"],[\"Kushal Srivastava\",\"Vodka Diaries\"],[\"Laxman Utekar\",\"Luka Chuppi\"],[\"Leena Yadav\",\"(?)\"],[\"Lekh Tandon\",\"(?)\"],[\"Lenin Bharathi\",\"Merku Thodarchi Malai\"],[\"Lijo Jose Pellissery\",\"Angamaly Diaries\"],[\"Luv Ranjan\",\"(?)\"],[\"Madhumita\",\"KD (A) Karuppudurai\"],[\"Madhur Bhandarkar\",\"(?)\"],[\"Maha Venkatesh\",\"Care of Kancharapalem\"],[\"Mahesh Bhatt\",\"(?)\"],[\"Mahesh Manjrekar\",\"(?)\"],[\"Makarand Mane\",\"(?)\"],[\"Manav Shah\",\"Laatu\"],[\"Manbhavan Singh\",\"Gelo\"],[\"Mandeep Kumar\",\"Tere Naal Love Ho Gaya\"],[\"Mangesh Hadawale\",\"Malaal\"],[\"Mangesh Kanthale\",\"Sur Sapata\"],[\"Mani Ratnam\",\"(?)\"],[\"Manika Sharma\",\"The Wishing Tree\"],[\"Manish Gupta\",\"Rahasya\"],[\"Manish Jha\",\"(?)\"],[\"Manish Saini\",\"Dhh\"],[\"Manish Tiwary\",\"Issaq\"],[\"Manjeet Maan\",\"Dil Vil Pyaar Vyaar\"],[\"Manjeet Singh\",\"Mumbai Cha Raja\"],[\"Manmohan Desai\",\"Amar Akbar Anthony\"],[\"Manoj Beedha\",\"Vanjagar Ulagam\"],[\"Mansore\",\"Nathicharami\"],[\"Manu Ashokan\",\"Uyare\"],[\"Mastan Alibhai Burmawalla, Abbas Alibhai Burmawalla\",\"Race\"],[\"Megha Ramaswamy\",\"What Are the Odds?\"],[\"Midhun Manuel Thomas\",\"Aadu 2\"],[\"Mikhil Musale\",\"(?)\"],[\"Milan Luthria\",\"(?)\"],[\"Milind Dhaimade\",\"Tu Hai Mera Sunday\"],[\"Milind Rau\",\"The House Next Door\"],[\"Mohammed Hussain\",\"Khoon Khoon\"],[\"Mohit Suri\",\"(?)\"],[\"Mozez Singh\",\"Zubaan\"],[\"Mrighdeep Singh Lamba\",\"Fukrey\"],[\"Mukesh Vohra\",\"Thug Life\"],[\"Mukul Anand\",\"(?)\"],[\"Munish Bhardwaj\",\"Moh Maya Money\"],[\"Musthafa\",\"Kappela\"],[\"Mysskin\",\"(?)\"],[\"N. Chandra\",\"Y.M.I.: Yeh Mera India\"],[\"N. Linguswamy\",\"(?)\"],[\"Nagesh Kukunoor\",\"(?)\"],[\"Nagraj Manjule\",\"(?)\"],[\"Naman Nitin Mukesh\",\"Bypass Road\"],[\"Nandita Das\",\"Manto\"],[\"Narendra Nath\",\"Miss India\"],[\"Naresh Saigal\",\"Ujala\"],[\"Navaniat Singh\",\"Jindua\"],[\"Navdeep Singh\",\"Manorama Six Feet Under\"],[\"Navinder Pal Singh\",\"Mundeyan Ton Bachke Rahin\"],[\"Navjot Gulati\",\"Jai Mummy Di\"],[\"Navneet Behal\",\"Tamanchey\"],[\"Neeraj Pandey\",\"(?)\"],[\"Neeraj Udhwani\",\"Maska\"],[\"Neeraj Vora\",\"Phir Hera Pheri\"],[\"Neville Shah\",\"Yours Sincerely, Kanan Gill\"],[\"Nicholas Kharkongor\",\"(?)\"],[\"Nidhi Sharma\",\"Pooja Kiven Aa\"],[\"Nikhil Advani\",\"(?)\"],[\"Nikhil Nagesh Bhat\",\"Brij Mohan Amar Rahe\"],[\"Nikkhil Advani\",\"Kal Ho Naa Ho\"],[\"Nila Madhab Panda\",\"(?)\"],[\"Nishanth Ravindaran, Jathin Sanker Raj\",\"Odu Raja Odu\"],[\"Nisheeta Keni\",\"Bogda\"],[\"Nishikant Kamat\",\"(?)\"],[\"Nishil Sheth\",\"Bhasmasur\"],[\"Nitesh Tiwari\",\"Dangal\"],[\"Nizar Shafi\",\"7 (Seven)\"],[\"Noushad\",\"Cappuccino\"],[\"Omung Kumar\",\"Mary Kom\"],[\"Onir\",\"(?)\"],[\"P.K. Baaburaaj\",\"Gemini\"],[\"P.T. Kunju Muhammad\",\"Viswasapoorvam Mansoor\"],[\"Pa. Ranjith\",\"Kabali (Hindi Version)\"],[\"Padmakumar Narasimhamurthy\",\"A Billion Colour Story\"],[\"Pankaj Batra\",\"(?)\"],[\"Param Gill\",\"Waarrior Savitri\"],[\"Parambrata Chatterjee\",\"(?)\"],[\"Paresh Mokashi\",\"Harishchandrachi Factory\"],[\"Paritosh Painter\",\"Paying Guests\"],[\"Partha Chakraborty\",\"Samantaral\"],[\"Parthiban\",\"Oththa Seruppu Size 7\"],[\"Partho Ghosh\",\"Ghulam-E-Musthafa\"],[\"Partho Mitra\",\"Koi Aap Sa\"],[\"Parveen Kumar\",\"Darra\"],[\"Patrick Graham\",\"GHOUL\"],[\"Pawan K Shrivastava\",\"Life of An Outcast\"],[\"Pawan Kripalani\",\"Ragini MMS\"],[\"Pawan Kumar\",\"U Turn\"],[\"Phanindra Narsetti\",\"Manu\"],[\"Pooja Bhatt\",\"Kajraare\"],[\"Prabhu Deva\",\"Rowdy Rathore\"],[\"Prabhuraj\",\"Lupt\"],[\"Pradeep Verma\",\"Urvi\"],[\"Pradip Kurbah\",\"Onaatah\"],[\"Prakash Balwant Saini\",\"Chal Bhaag\"],[\"Prakash Jha\",\"(?)\"],[\"Prakash Kunte\",\"Cycle\"],[\"Prakash Mehra\",\"(?)\"],[\"Pramod Pawar\",\"Truckbhar Swapna\"],[\"Prasanth Varma\",\"Awe\"],[\"Prashant Nair\",\"Umrika\"],[\"Prasobh Vijayan\",\"Lilli\"],[\"Pratim D. Gupta\",\"Saheb Bibi Golaam\"],[\"Praveen Nischol\",\"English Babu Desi Mem\"],[\"Prawal Raman\",\"Darna Mana Hai\"],[\"Prem Soni\",\"Main aurr Mrs. Khanna\"],[\"Priyadarshan\",\"(?)\"],[\"Priyadarshan, Kookie V. Gulati\",\"Chup Chup Ke\"],[\"Pulkit\",\"Maroon\"],[\"Puneet Khanna\",\"Ginny Weds Sunny\"],[\"Puneet Sira\",\"Kisaan\"],[\"Punit Malhotra\",\"(?)\"],[\"Puri Jagannadh\",\"Bbuddah Hoga Terra Baap\"],[\"Qaushiq Mukherjee\",\"(?)\"],[\"R. Balki\",\"Pad Man\"],[\"R. Kannan\",\"Settai\"],[\"Raaghav Dar\",\"My Friend Pinto\"],[\"Radhika Rao, Vinay Sapru\",\"Lucky: No Time for Love\"],[\"Rahat Kazmi\",\"Mantostaan\"],[\"Rahul Dholakia\",\"Raees\"],[\"Rahul Ravindran\",\"Manmadhudu 2\"],[\"Rai Yuvraj Bains\",\"Kaake Da Viyah\"],[\"Raj B. Shetty\",\"Story of an Egg\"],[\"Raj Babu\",\"Sei\"],[\"Raj Kanwar\",\"Humko Deewana Kar Gaye\"],[\"Raj Kapoor\",\"(?)\"],[\"Raj Kaushal\",\"Anthony Kaun Hai?\"],[\"Raj Khosla\",\"Friendship\"],[\"Raj Kumar Gupta\",\"(?)\"],[\"Raj N. Sippy\",\"Satte Pe Satta\"],[\"Raj Nidimoru, Krishna D.K.\",\"Shor In the City\"],[\"Raj R\",\"Mallesham\"],[\"Raja Chanda\",\"Black\"],[\"Raja Menon\",\"Barah Aana\"],[\"Rajan Madhav\",\"Muran\"],[\"Rajat Kapoor\",\"(?)\"],[\"Rajeev Chaudhari\",\"Beiimaan Love\"],[\"Rajeev Patil\",\"Sanai Choughade\"],[\"Rajesh Ganguly\",\"The Royal Bengal Tiger\"],[\"Rajesh Mapuskar\",\"Ferrari Ki Sawaari\"],[\"Rajesh Touchriver\",\"Naa Bangaaru Talli\"],[\"Rajiv Chilaka\",\"Chhota Bheem and the Curse of Damyaan\"],[\"Rajiv Chilaka, Binayak Das\",\"Chhota Bheem Kungfu Dhamaka\"],[\"Rajiv Mehra\",\"(?)\"],[\"Rajiv Menon\",\"Sarvam Thaala Mayam (Telugu Version)\"],[\"Rajkumar Hirani\",\"(?)\"],[\"Rajkumar Santoshi\",\"(?)\"],[\"Rakesh Mehta\",\"Life Ki Toh Lag Gayi\"],[\"Rakesh Ranjan Kumar\",\"Paharganj\"],[\"Rakeysh Omprakash Mehra\",\"(?)\"],[\"Rakshith Thirthahalli\",\"Hombanna\"],[\"Ram\",\"Taramani\"],[\"Ram Gopal Varma\",\"(?)\"],[\"Raman Kumar\",\"Saath Saath\"],[\"Ramesh Sippy\",\"Shimla Mirchi\"],[\"Ramesh Talwar\",\"Duniya\"],[\"Rana Ranbir\",\"Asees\"],[\"Ranjit Jeyakodi\",\"Puriyatha Puthir\"],[\"Ranjit Tiwari\",\"Lucknow Central\"],[\"Ravi Babu\",\"Aaviri\"],[\"Ravi Udyawar\",\"Mom\"],[\"Ravikanth Perepu\",\"Krishna and His Leela\"],[\"Ravishankar Venkateswaran\",\"A truthful Mother\"],[\"Reema Kagti\",\"(?)\"],[\"Remo D'Souza\",\"(?)\"],[\"Remy Kohli\",\"Kuldip Patwal: I Didn't Do It!\"],[\"Renzil D'Silva\",\"(?)\"],[\"Ribhu Dasgupta\",\"(?)\"],[\"Rikhil Bahadur\",\"Time Out\"],[\"Rima Das\",\"Bulbul Can Sing\"],[\"Robbie Grewal\",\"Romeo Akbar Walter\"],[\"Rohan Sippy\",\"BluffMaster!\"],[\"Rohit Jugraj\",\"(?)\"],[\"Rohit Mittal\",\"Autohead\"],[\"Rohit Shetty\",\"(?)\"],[\"Ruchi Narain\",\"Guilty\"],[\"S.S. Rajamouli\",\"(?)\"],[\"Saandeep Patel\",\"Love Ni Bhavai\"],[\"Sabal Singh Shekawat\",\"Fireflies\"],[\"Sabir Khan\",\"Baaghi\"],[\"Sabu Varghese\",\"Mythily Veendum Varunnu\"],[\"Sachin\",\"(?)\"],[\"Sachin Kamlakar Khot\",\"Ugly Aur Pagli\"],[\"Sachin Kundalkar\",\"Aiyyaa\"],[\"Sachin Yardi\",\"(?)\"],[\"Safdar Rahman\",\"Chippa\"],[\"Sagar Sarhadi\",\"Bazaar\"],[\"Saheed Arafath\",\"Theeram\"],[\"Sai Paranjape\",\"Katha\"],[\"Saji Surendran\",\"Husbands in Goa\"],[\"Sajid Khan\",\"Himmatwala\"],[\"Saket Behl\",\"What the Jatt!!\"],[\"Saket Chaudhary\",\"Pyaar Ke Side Effects\"],[\"Samar Khan\",\"Shaurya: It Takes Courage to Make Right... Right\"],[\"Samar Shaikh\",\"Bobby Jasoos\"],[\"Sameer Patil\",\"Poshter Girl\"],[\"Sameer Sharma\",\"Luv Shuv Tey Chicken Khurana\"],[\"Sameer Vidwans\",\"(?)\"],[\"Samir Karnik\",\"Kyun! Ho Gaya Na\"],[\"Samir Soni\",\"My Birthday Song\"],[\"Samit Kakkad\",\"Ascharyachakit!\"],[\"Sandeep Chatterjee\",\"Adrishya\"],[\"Sandeep Reddy Vanga\",\"Kabir Singh\"],[\"Sangeeth Sivan\",\"(?)\"],[\"Sanjay Dayma\",\"Ramji Londonwaley\"],[\"Sanjay Gupta\",\"Kaabil\"],[\"Sanjay Jadhav\",\"(?)\"],[\"Sanjay Leela Bhansali\",\"Guzaarish\"],[\"Sanjay Soorkar\",\"Sakhi\"],[\"Sanjeev Gupta\",\"INDIA\"],[\"Sanjib Dey\",\"III Smoking Barrels\"],[\"Sanjiv Jaiswal\",\"Pranaam\"],[\"Santosh Manjrekar\",\"Mi Shivajiraje Bhosale Boltoy\"],[\"Santosh Sivan\",\"(?)\"],[\"Santram Varma\",\"Krishna Cottage\"],[\"Santwana Bardoloi\",\"\\u200bMaj Rati \\u200b\\u200bKeteki\"],[\"Saravana Rajan\",\"R.K.Nagar\"],[\"Saravana Rajendran\",\"Mehandi Circus\"],[\"Sarjun\",\"Echcharikkai\"],[\"Sartaj Singh Pannu\",\"Tiger\"],[\"Sarthak Dasgupta\",\"Music Teacher\"],[\"Sathyan Anthikad\",\"Njan Prakashan\"],[\"Satish Kaushik\",\"(?)\"],[\"Satish Manwar\",\"The Damned Rain\"],[\"Satish Rajwade\",\"(?)\"],[\"Satyajit Bhatkal\",\"(?)\"],[\"Saurabh Kabra\",\"EMI: Liya Hai To Chukana Padega\"],[\"Saurabh Sinha\",\"Saavat\"],[\"Saurav Palodhi\",\"Colkatay Columbus\"],[\"Sekhar Kammula\",\"Anaamika\"],[\"Selvamani Selvaraj\",\"Nila\"],[\"Shaad Ali\",\"Soorma\"],[\"Shadab Khan\",\"B.A. Pass 2\"],[\"Shakti Samanta\",\"The Great Gambler\"],[\"Shakun Batra\",\"(?)\"],[\"Shammi Kapoor\",\"Manoranjan\"],[\"Shamzu Zayba\",\"Maniyarayile Ashokan\"],[\"Shanavas K. Bavakutty\",\"Thottappan\"],[\"Shanawaz Nellikunnil\",\"Candyflip\"],[\"Shanker Raman\",\"Gurgaon\"],[\"Sharan Sharma\",\"Gunjan Saxena: The Kargil Girl\"],[\"Shashank Khaitan\",\"Humpty Sharma Ki Dulhania\"],[\"Shashanka Ghosh\",\"Khoobsurat\"],[\"Shashanka Ghosh, Samit Basu\",\"House Arrest\"],[\"Shashilal K. Nair\",\"One 2 Ka 4\"],[\"Shawn Arranha\",\"Hide & Seek\"],[\"Shekhar Kapur\",\"Masoom\"],[\"Shelly Chopra Dhar\",\"Ek Ladki Ko Dekha Toh Aisa Laga\"],[\"Shirish Kunder\",\"(?)\"],[\"Shivam Nair\",\"(?)\"],[\"Shivendra Singh Dungarpur\",\"Celluloid Man\"],[\"Shlok Sharma\",\"(?)\"],[\"Shoojit Sircar\",\"Madras Caf\\u00e9\"],[\"Shravan Kumar\",\"706\"],[\"Shree Narayan Singh\",\"Toilet: Ek Prem Katha\"],[\"Shreyas Talpade\",\"Poster Boys\"],[\"Shrihari Sathe\",\"1000 Rupee Note\"],[\"Shubham Singh\",\"Penalty\"],[\"Shyam Benegal\",\"(?)\"],[\"Siddique\",\"Bodyguard\"],[\"Simranjit Singh Hundal\",\"25 Kille\"],[\"Smeep Kang\",\"(?)\"],[\"Sneha Taurani\",\"Bhangra Paa Le\"],[\"Sohail Khan\",\"Hello Brother\"],[\"Sohail Tatari\",\"Ankur Arora Murder Case\"],[\"Soham Shah\",\"Kaal\"],[\"Sooni Taraporevala\",\"Yeh Ballet\"],[\"Sooraj R. Barjatya\",\"(?)\"],[\"Soukarya Ghosal\",\"Rainbow Jelly\"],[\"Soumendra Padhi\",\"(?)\"],[\"Soumitra Ranade\",\"Albert Pinto Ko Gussa Kyun Aata Hai?\"],[\"Sridhar Rangayan\",\"(?)\"],[\"Sriram Raghavan\",\"(?)\"],[\"Subhash Ghai\",\"(?)\"],[\"Sudesh Manjrekar\",\"Shahanpan Dega Deva\"],[\"Sudesh Manjrekar, Atul Kale\",\"Matichya Chuli\"],[\"Sudha Kongara, Vignesh Shivan, Gautham Vasudev Menon, Vetri Maaran\",\"Paava Kadhaigal\"],[\"Sudhanshu Saria\",\"Loev\"],[\"Sudhir Mishra\",\"(?)\"],[\"Sudip Bandyopadhyay\",\"Hope Aur Hum\"],[\"Sudipto Roy\",\"Kia and Cosmos\"],[\"Suhas Kadav\",\"Motu Patlu: King of Kings\"],[\"Sujeeth\",\"Saaho\"],[\"Sujoy Ghosh\",\"(?)\"],[\"Sukhbir Singh\",\"Teshan\"],[\"Suman Mukhopadhyay\",\"Incomplete\"],[\"Sumit Das\",\"Super Bheem Bana Vajraveer\"],[\"Sumitra Bhave, Sunil Sukthankar\",\"(?)\"],[\"Sundar C.\",\"(?)\"],[\"Sunil Thakur\",\"Marriage Palace\"],[\"Suparn Verma\",\"Ek Khiladi Ek Haseena\"],[\"Supavitra Babul\",\"Bittoo Boss\"],[\"Surya S.J., Sunil Kumar Agrawal\",\"Khushi\"],[\"Suseenthiran\",\"Genius\"],[\"Sushil Majumdar\",\"Lal Patthar\"],[\"Swapna Waghmare Joshi\",\"Savita Damodar Paranjpe\"],[\"Swapnaneel Jayakar\",\"15-Aug\"],[\"Syed Ahmad Afzal\",\"Laal Rang\"],[\"Tanuj Bhramar\",\"Dear Dad\"],[\"Tanuja Chandra\",\"(?)\"],[\"Tanveer Khan\",\"Deadline: Sirf 24 Ghante\"],[\"Tariq Khan\",\"The Dark Side of Life: Mumbai City\"],[\"Tarun Mansukhani\",\"Drive\"],[\"Tathagata Banerjee\",\"Mandobasar Galpo\"],[\"Tejas Prabha Vijay Deoskar\",\"Bucket List\"],[\"Terrie Samundra\",\"Kaali Khuhi\"],[\"Tharun Bhascker\",\"Ee Nagaraniki Emaindi\"],[\"Thiagarajan Kumararaja\",\"Super Deluxe\"],[\"Thiru\",\"(?)\"],[\"Tigmanshu Dhulia\",\"(?)\"],[\"Tilak Shetty\",\"Krish Trish and Baltiboy: Face Your Fears\"],[\"Tinnu Anand\",\"Kaalia\"],[\"Trivikram Srinivas\",\"Ala Vaikunthapurramuloo\"],[\"Udai Singh Pawar\",\"Upstarts\"],[\"Umesh Ghadge\",\"Kyaa Kool Hain Hum 3\"],[\"Umesh Mehra\",\"(?)\"],[\"Umesh Shukla\",\"(?)\"],[\"Uttung Shelar\",\"Aata Pita\"],[\"V C Abhilash\",\"Aalorukkam\"],[\"V Vignarajan\",\"Andhakaaram\"],[\"V. K. Prakash\",\"Ishqedarriyaan\"],[\"Vandana Kataria\",\"Noblemen\"],[\"Varun Narvekar\",\"Muramba\"],[\"Vasan Bala\",\"The Man Who Feels No Pain\"],[\"Venkatesh Maha\",\"Uma Maheswara Ugra Roopasya\"],[\"Venky Kudumula\",\"Bheeshma\"],[\"Venugopan\",\"Sarvopari Palakkaran\"],[\"Vetrimaaran\",\"Interrogation\"],[\"Vibhu Virender Puri\",\"Hawaizaada\"],[\"Vijay\",\"Thaandavam\"],[\"Vijay Jayapal\",\"Revelations\"],[\"Vijay Kumar\",\"Uriyadi 2\"],[\"Vijay Kumar Arora\",\"Baby Dolls\"],[\"Vijay Lalwani\",\"Karthik Calling Karthik\"],[\"Vijay Maurya\",\"PhotoCopy\"],[\"Vijay Milton\",\"\\u200bGoli Soda 2\"],[\"Vijay Yelakanti\",\"W/O Ram\"],[\"Vikas Bahl\",\"(?)\"],[\"Vikas Bahl, Nitesh Tiwari\",\"Chillar Party\"],[\"Vikram Bhatt\",\"1920\"],[\"Vikram Pradhan\",\"Sat Shri Akaal England\"],[\"Vikramaditya Motwane\",\"(?)\"],[\"Vineeth Anil\",\"Kaviyude Osyath\"],[\"Vinil Mathew\",\"Hasee Toh Phasee\"],[\"Vinod Kapri\",\"Pihu\"],[\"Vipin Parashar\",\"Saadey CM Saab\"],[\"Vipul Amrutlal Shah\",\"(?)\"],[\"Vir Das\",\"Vir Das: Outside In - The Lockdown Special\"],[\"Vir Das, Ajay Bhuyan\",\"Vir Das: For India\"],[\"Vishal Bhardwaj\",\"(?)\"],[\"Vishal Mahadkar\",\"Blood Money\"],[\"Vishal Mishra\",\"Coffee with D\"],[\"Vishnu Govindhan\",\"History of Joy\"],[\"Vivek Wagh\",\"Siddhant\"],[\"Zakariya\",\"Sudani from Nigeria\"],[\"Zoya Akhtar\",\"(?)\"],[\"Zoya Akhtar, Karan Johar, Anurag Kashyap, Dibakar Banerjee\",\"Lust Stories\"],[\"(?)\",\"(?)\"]],\"domain\":{\"x\":[0.0,1.0],\"y\":[0.0,1.0]},\"hovertemplate\":\"labels=%{label}<br>count=%{value}<br>parent=%{parent}<br>id=%{id}<br>director=%{customdata[0]}<br>title=%{customdata[1]}<extra></extra>\",\"ids\":[\"India/A. L. Vijay\",\"India/A. Raajdheep\",\"India/A. Salaam\",\"India/A.R. Murugadoss\",\"India/Aadish Keluskar\",\"India/Aamir Bashir\",\"India/Aamir Khan\",\"India/Aanand Rai\",\"India/Aatmaram Dharne\",\"India/Abbas Alibhai Burmawalla, Mastan Alibhai Burmawalla\",\"India/Abbas Mustan\",\"India/Abbas Tyrewala\",\"India/Abhay Chopra\",\"India/Abhijeet Deshpande\",\"India/Abhijit Kokate, Srivinay Salian\",\"India/Abhijit Panse\",\"India/Abhinay Deo\",\"India/Abhishek Chaubey\",\"India/Abhishek Kapoor\",\"India/Abhishek Saxena\",\"India/Abhishek Sharma\",\"India/Abhishek Varman\",\"India/Aditya Kripalani\",\"India/Aditya Sarpotdar\",\"India/Aditya Vikram Sengupta\",\"India/Advait Chandan\",\"India/Agnidev Chatterjee\",\"India/Ahishor Solomon\",\"India/Aijaz Khan\",\"India/Ajay Bahl\",\"India/Ajay Bhuyan, Kunal Kohli\",\"India/Ajay Phansekar\",\"India/Ajithkumar\",\"India/Akashdeep\",\"India/Akhil Paul, Anas Khan\",\"India/Akshay Akkineni\",\"India/Alankrita Shrivastava\",\"India/Alo Sarkar\",\"India/Amaan Khan\",\"India/Amal Neerad\",\"India/Amar Gupte\",\"India/Amar Kaushik\",\"India/Amardeep Singh Gill\",\"India/Amarpreet G S Chabbra\",\"India/Amit Barot\",\"India/Amit Rai\",\"India/Amit Roy\",\"India/Amit Saxena\",\"India/Amitabha Singh\",\"India/Amitava Bhattacharya\",\"India/Amitoj Mann\",\"India/Amol Palekar\",\"India/Amshan Kumar\",\"India/Anand Ravichandran\",\"India/Anand Tiwari\",\"India/Ananda Krishnan\",\"India/Anant Balani\",\"India/Ananth Narayan Mahadevan\",\"India/Anees Bazmee\",\"India/Angshuman Ghosh\",\"India/Anik Datta\",\"India/Anil Sharma\",\"India/Anil Thomas\",\"India/Anil V. Kumar\",\"India/Aniruddha Roy Chowdhury\",\"India/Anita Udeep\",\"India/Anoop Sathyan\",\"India/Anthony D'Souza\",\"India/Anu Menon\",\"India/Anubhav Sinha\",\"India/Anurag Basu\",\"India/Anurag Kashyap\",\"India/Anurag Kashyap, Dibakar Banerjee, Karan Johar, Zoya Akhtar\",\"India/Anuranjan Premji\",\"India/Anusha Rizvi, Mahmood Farooqui\",\"India/Anvita Dutt\",\"India/Apoorva Lakhia\",\"India/Apurva Dhar Badgaiyann\",\"India/Arati Kadav\",\"India/Arjun Gourisaria, Moinak Biswas\",\"India/Arjun Jandyala\",\"India/Arnab Chaudhuri\",\"India/Arun Chidambaram\",\"India/Arun Vaidyanathan\",\"India/Aruna Raje\",\"India/Ashish R. Mohan\",\"India/Ashok Nanda\",\"India/Ashu Trikha\",\"India/Ashutosh Gowariker\",\"India/Ashwiny Iyer Tiwari\",\"India/Atanu Ghosh\",\"India/Atanu Mukherjee\",\"India/Atharv Baluja\",\"India/Athiyan Athirai\",\"India/Atlee Kumar\",\"India/Atul Sabharwal\",\"India/Avadhoot Gupte\",\"India/Avinash Arun\",\"India/Avinash Das\",\"India/Avinash Walzade\",\"India/Ayaan Mukherji\",\"India/Ayush Raina\",\"India/Aziz Mirza\",\"India/B. Subhash\",\"India/B. Unnikrishnan\",\"India/B. V. Nandini Reddy\",\"India/B.N. Shajeer Sha\",\"India/Baljit Singh Deo\",\"India/Balu Mahendra\",\"India/Basava Shankar Eeday\",\"India/Basu Chatterjee\",\"India/Bauddhayan Mukherji\",\"India/Bejoy Nambiar\",\"India/Bhagyaraj\",\"India/Bharat Jain\",\"India/Bhavin Wadia\",\"India/Bhushan Patel\",\"India/Binu Ulahhannan\",\"India/Biswajeet Bora\",\"India/Buddhadev Dasgupta\",\"India/Buta Singh\",\"India/Chakri Toleti\",\"India/Chandan Arora\",\"India/Chandra Prakash Dwivedi\",\"India/Chandrakant Kanse\",\"India/Chandrakant Kulkarni\",\"India/Chandran Narikode\",\"India/Danish Aslam\",\"India/Dar Gai\",\"India/Datta Mohan Bhandare\",\"India/David Dhawan\",\"India/Debaloy Dey\",\"India/Debamitra Biswal\",\"India/Deep Joshi\",\"India/Deepti Naval\",\"India/Desingh Periyasamy\",\"India/Devaki Singh, Luke Kenny\",\"India/Devashish Makhija\",\"India/Devika Bhagat\",\"India/Dhanush\",\"India/Dharmendra Suresh Desai\",\"India/Dharmesh Darshan\",\"India/Dheeraj Berry\",\"India/Dhilip Kumar\",\"India/Dibakar Banerjee\",\"India/Dileep Narayanan\",\"India/Dylan Mohan Gray\",\"India/Eeshwar Nivas\",\"India/Emcy Joseph\",\"India/Farah Khan\",\"India/Faraz Haider\",\"India/Farhan Akhtar\",\"India/Fazila Allana\",\"India/Feroz\",\"India/Fuwad Khan\",\"India/Gafoor Y. Elliyaas\",\"India/Gagan Puri\",\"India/Gajendra Ahire\",\"India/Gajendra Ahire, Viju Mane, Girish Mohite, Ravi Jadhav\",\"India/Ganesh Kadam\",\"India/Gangadhar Salimath\",\"India/Gaurav Narayanan\",\"India/Gauravv K Chawla\",\"India/Gauri Shinde\",\"India/Geetu Mohandas\",\"India/Girish Joshi\",\"India/Girish Malik\",\"India/Gulzar\",\"India/Gurmmeet Singh\",\"India/Gurudev Bhalla\",\"India/Habib Faisal\",\"India/Halitha Shameem\",\"India/Hardik Mehta\",\"India/Hari Nath\",\"India/Hari Viswanath\",\"India/Harjit Singh\",\"India/Harry Baweja\",\"India/Harshavardhan Kulkarni\",\"India/Hemant Gaba, Pratim D. Gupta, Sudhish Kamath, Nalan Kumarasamy, Anu Menon, Sandeep Mohan, Qaushiq Mukherjee, Rajshree Ojha, Raja Sen, Abhinav Shiv Tiwari, Suparn Verma\",\"India/Honey Trehan\",\"India/Hrishikesh Mukherjee\",\"India/Imtiaz Ali\",\"India/Indra Kumar\",\"India/Indrajit Nattoji\",\"India/Indrasis Acharya\",\"India/Ishaan Trivedi\",\"India/Ivan Ayr\",\"India/Jagdeep Sidhu\",\"India/Jaivi Dhanda\",\"India/Jasbir Bijendra Bhati\",\"India/Jasmine D'Souza\",\"India/Jatla Siddartha\",\"India/Jayan Vannery\",\"India/Jayaprakash Radhakrishnan\",\"India/Jayaraj Rajasekharan Nair\",\"India/Jeethu Joseph\",\"India/Jeeva\",\"India/Jijo Pancode\",\"India/Jitender Pawar\",\"India/Jitendra Tiwari, Pranav Singh\",\"India/Johnson Esthappan\",\"India/Jonathan Augustin\",\"India/K. Gopinathan\",\"India/K. Ramanlal\",\"India/K. Subhash\",\"India/K.C. Bokadia\",\"India/KVR Mahendra\",\"India/Kabir Khan\",\"India/Kabir Sadanand\",\"India/Kaizad Gustad\",\"India/Kamal Sahani\",\"India/Kanika Batra\",\"India/Karan Anshuman\",\"India/Karan Johar\",\"India/Karan Shivajirao Chavan, Vikram Tanajirao Patil\",\"India/Karthik Subbaraj\",\"India/Kedar Shinde\",\"India/Keerthi\",\"India/Ken Ghosh\",\"India/Ketan Mehta\",\"India/Khalid Mohamed\",\"India/Kiran Narayanan\",\"India/Kiran Rao\",\"India/Kireet Khurana, Padmakumar Narasimhamurthy\",\"India/Kranthi Madhav\",\"India/Kranti Kanade\",\"India/Kranti Redkar\",\"India/Krish\",\"India/Krishna Vamshi\",\"India/Ksshitij Chaudhary\",\"India/Kumaran\",\"India/Kunal Deshmukh\",\"India/Kunal Kohli\",\"India/Kundan Shah\",\"India/Kushal Srivastava\",\"India/Laxman Utekar\",\"India/Leena Yadav\",\"India/Lekh Tandon\",\"India/Lenin Bharathi\",\"India/Lijo Jose Pellissery\",\"India/Luv Ranjan\",\"India/Madhumita\",\"India/Madhur Bhandarkar\",\"India/Maha Venkatesh\",\"India/Mahesh Bhatt\",\"India/Mahesh Manjrekar\",\"India/Makarand Mane\",\"India/Manav Shah\",\"India/Manbhavan Singh\",\"India/Mandeep Kumar\",\"India/Mangesh Hadawale\",\"India/Mangesh Kanthale\",\"India/Mani Ratnam\",\"India/Manika Sharma\",\"India/Manish Gupta\",\"India/Manish Jha\",\"India/Manish Saini\",\"India/Manish Tiwary\",\"India/Manjeet Maan\",\"India/Manjeet Singh\",\"India/Manmohan Desai\",\"India/Manoj Beedha\",\"India/Mansore\",\"India/Manu Ashokan\",\"India/Mastan Alibhai Burmawalla, Abbas Alibhai Burmawalla\",\"India/Megha Ramaswamy\",\"India/Midhun Manuel Thomas\",\"India/Mikhil Musale\",\"India/Milan Luthria\",\"India/Milind Dhaimade\",\"India/Milind Rau\",\"India/Mohammed Hussain\",\"India/Mohit Suri\",\"India/Mozez Singh\",\"India/Mrighdeep Singh Lamba\",\"India/Mukesh Vohra\",\"India/Mukul Anand\",\"India/Munish Bhardwaj\",\"India/Musthafa\",\"India/Mysskin\",\"India/N. Chandra\",\"India/N. Linguswamy\",\"India/Nagesh Kukunoor\",\"India/Nagraj Manjule\",\"India/Naman Nitin Mukesh\",\"India/Nandita Das\",\"India/Narendra Nath\",\"India/Naresh Saigal\",\"India/Navaniat Singh\",\"India/Navdeep Singh\",\"India/Navinder Pal Singh\",\"India/Navjot Gulati\",\"India/Navneet Behal\",\"India/Neeraj Pandey\",\"India/Neeraj Udhwani\",\"India/Neeraj Vora\",\"India/Neville Shah\",\"India/Nicholas Kharkongor\",\"India/Nidhi Sharma\",\"India/Nikhil Advani\",\"India/Nikhil Nagesh Bhat\",\"India/Nikkhil Advani\",\"India/Nila Madhab Panda\",\"India/Nishanth Ravindaran, Jathin Sanker Raj\",\"India/Nisheeta Keni\",\"India/Nishikant Kamat\",\"India/Nishil Sheth\",\"India/Nitesh Tiwari\",\"India/Nizar Shafi\",\"India/Noushad\",\"India/Omung Kumar\",\"India/Onir\",\"India/P.K. Baaburaaj\",\"India/P.T. Kunju Muhammad\",\"India/Pa. Ranjith\",\"India/Padmakumar Narasimhamurthy\",\"India/Pankaj Batra\",\"India/Param Gill\",\"India/Parambrata Chatterjee\",\"India/Paresh Mokashi\",\"India/Paritosh Painter\",\"India/Partha Chakraborty\",\"India/Parthiban\",\"India/Partho Ghosh\",\"India/Partho Mitra\",\"India/Parveen Kumar\",\"India/Patrick Graham\",\"India/Pawan K Shrivastava\",\"India/Pawan Kripalani\",\"India/Pawan Kumar\",\"India/Phanindra Narsetti\",\"India/Pooja Bhatt\",\"India/Prabhu Deva\",\"India/Prabhuraj\",\"India/Pradeep Verma\",\"India/Pradip Kurbah\",\"India/Prakash Balwant Saini\",\"India/Prakash Jha\",\"India/Prakash Kunte\",\"India/Prakash Mehra\",\"India/Pramod Pawar\",\"India/Prasanth Varma\",\"India/Prashant Nair\",\"India/Prasobh Vijayan\",\"India/Pratim D. Gupta\",\"India/Praveen Nischol\",\"India/Prawal Raman\",\"India/Prem Soni\",\"India/Priyadarshan\",\"India/Priyadarshan, Kookie V. Gulati\",\"India/Pulkit\",\"India/Puneet Khanna\",\"India/Puneet Sira\",\"India/Punit Malhotra\",\"India/Puri Jagannadh\",\"India/Qaushiq Mukherjee\",\"India/R. Balki\",\"India/R. Kannan\",\"India/Raaghav Dar\",\"India/Radhika Rao, Vinay Sapru\",\"India/Rahat Kazmi\",\"India/Rahul Dholakia\",\"India/Rahul Ravindran\",\"India/Rai Yuvraj Bains\",\"India/Raj B. Shetty\",\"India/Raj Babu\",\"India/Raj Kanwar\",\"India/Raj Kapoor\",\"India/Raj Kaushal\",\"India/Raj Khosla\",\"India/Raj Kumar Gupta\",\"India/Raj N. Sippy\",\"India/Raj Nidimoru, Krishna D.K.\",\"India/Raj R\",\"India/Raja Chanda\",\"India/Raja Menon\",\"India/Rajan Madhav\",\"India/Rajat Kapoor\",\"India/Rajeev Chaudhari\",\"India/Rajeev Patil\",\"India/Rajesh Ganguly\",\"India/Rajesh Mapuskar\",\"India/Rajesh Touchriver\",\"India/Rajiv Chilaka\",\"India/Rajiv Chilaka, Binayak Das\",\"India/Rajiv Mehra\",\"India/Rajiv Menon\",\"India/Rajkumar Hirani\",\"India/Rajkumar Santoshi\",\"India/Rakesh Mehta\",\"India/Rakesh Ranjan Kumar\",\"India/Rakeysh Omprakash Mehra\",\"India/Rakshith Thirthahalli\",\"India/Ram\",\"India/Ram Gopal Varma\",\"India/Raman Kumar\",\"India/Ramesh Sippy\",\"India/Ramesh Talwar\",\"India/Rana Ranbir\",\"India/Ranjit Jeyakodi\",\"India/Ranjit Tiwari\",\"India/Ravi Babu\",\"India/Ravi Udyawar\",\"India/Ravikanth Perepu\",\"India/Ravishankar Venkateswaran\",\"India/Reema Kagti\",\"India/Remo D'Souza\",\"India/Remy Kohli\",\"India/Renzil D'Silva\",\"India/Ribhu Dasgupta\",\"India/Rikhil Bahadur\",\"India/Rima Das\",\"India/Robbie Grewal\",\"India/Rohan Sippy\",\"India/Rohit Jugraj\",\"India/Rohit Mittal\",\"India/Rohit Shetty\",\"India/Ruchi Narain\",\"India/S.S. Rajamouli\",\"India/Saandeep Patel\",\"India/Sabal Singh Shekawat\",\"India/Sabir Khan\",\"India/Sabu Varghese\",\"India/Sachin\",\"India/Sachin Kamlakar Khot\",\"India/Sachin Kundalkar\",\"India/Sachin Yardi\",\"India/Safdar Rahman\",\"India/Sagar Sarhadi\",\"India/Saheed Arafath\",\"India/Sai Paranjape\",\"India/Saji Surendran\",\"India/Sajid Khan\",\"India/Saket Behl\",\"India/Saket Chaudhary\",\"India/Samar Khan\",\"India/Samar Shaikh\",\"India/Sameer Patil\",\"India/Sameer Sharma\",\"India/Sameer Vidwans\",\"India/Samir Karnik\",\"India/Samir Soni\",\"India/Samit Kakkad\",\"India/Sandeep Chatterjee\",\"India/Sandeep Reddy Vanga\",\"India/Sangeeth Sivan\",\"India/Sanjay Dayma\",\"India/Sanjay Gupta\",\"India/Sanjay Jadhav\",\"India/Sanjay Leela Bhansali\",\"India/Sanjay Soorkar\",\"India/Sanjeev Gupta\",\"India/Sanjib Dey\",\"India/Sanjiv Jaiswal\",\"India/Santosh Manjrekar\",\"India/Santosh Sivan\",\"India/Santram Varma\",\"India/Santwana Bardoloi\",\"India/Saravana Rajan\",\"India/Saravana Rajendran\",\"India/Sarjun\",\"India/Sartaj Singh Pannu\",\"India/Sarthak Dasgupta\",\"India/Sathyan Anthikad\",\"India/Satish Kaushik\",\"India/Satish Manwar\",\"India/Satish Rajwade\",\"India/Satyajit Bhatkal\",\"India/Saurabh Kabra\",\"India/Saurabh Sinha\",\"India/Saurav Palodhi\",\"India/Sekhar Kammula\",\"India/Selvamani Selvaraj\",\"India/Shaad Ali\",\"India/Shadab Khan\",\"India/Shakti Samanta\",\"India/Shakun Batra\",\"India/Shammi Kapoor\",\"India/Shamzu Zayba\",\"India/Shanavas K. Bavakutty\",\"India/Shanawaz Nellikunnil\",\"India/Shanker Raman\",\"India/Sharan Sharma\",\"India/Shashank Khaitan\",\"India/Shashanka Ghosh\",\"India/Shashanka Ghosh, Samit Basu\",\"India/Shashilal K. Nair\",\"India/Shawn Arranha\",\"India/Shekhar Kapur\",\"India/Shelly Chopra Dhar\",\"India/Shirish Kunder\",\"India/Shivam Nair\",\"India/Shivendra Singh Dungarpur\",\"India/Shlok Sharma\",\"India/Shoojit Sircar\",\"India/Shravan Kumar\",\"India/Shree Narayan Singh\",\"India/Shreyas Talpade\",\"India/Shrihari Sathe\",\"India/Shubham Singh\",\"India/Shyam Benegal\",\"India/Siddique\",\"India/Simranjit Singh Hundal\",\"India/Smeep Kang\",\"India/Sneha Taurani\",\"India/Sohail Khan\",\"India/Sohail Tatari\",\"India/Soham Shah\",\"India/Sooni Taraporevala\",\"India/Sooraj R. Barjatya\",\"India/Soukarya Ghosal\",\"India/Soumendra Padhi\",\"India/Soumitra Ranade\",\"India/Sridhar Rangayan\",\"India/Sriram Raghavan\",\"India/Subhash Ghai\",\"India/Sudesh Manjrekar\",\"India/Sudesh Manjrekar, Atul Kale\",\"India/Sudha Kongara, Vignesh Shivan, Gautham Vasudev Menon, Vetri Maaran\",\"India/Sudhanshu Saria\",\"India/Sudhir Mishra\",\"India/Sudip Bandyopadhyay\",\"India/Sudipto Roy\",\"India/Suhas Kadav\",\"India/Sujeeth\",\"India/Sujoy Ghosh\",\"India/Sukhbir Singh\",\"India/Suman Mukhopadhyay\",\"India/Sumit Das\",\"India/Sumitra Bhave, Sunil Sukthankar\",\"India/Sundar C.\",\"India/Sunil Thakur\",\"India/Suparn Verma\",\"India/Supavitra Babul\",\"India/Surya S.J., Sunil Kumar Agrawal\",\"India/Suseenthiran\",\"India/Sushil Majumdar\",\"India/Swapna Waghmare Joshi\",\"India/Swapnaneel Jayakar\",\"India/Syed Ahmad Afzal\",\"India/Tanuj Bhramar\",\"India/Tanuja Chandra\",\"India/Tanveer Khan\",\"India/Tariq Khan\",\"India/Tarun Mansukhani\",\"India/Tathagata Banerjee\",\"India/Tejas Prabha Vijay Deoskar\",\"India/Terrie Samundra\",\"India/Tharun Bhascker\",\"India/Thiagarajan Kumararaja\",\"India/Thiru\",\"India/Tigmanshu Dhulia\",\"India/Tilak Shetty\",\"India/Tinnu Anand\",\"India/Trivikram Srinivas\",\"India/Udai Singh Pawar\",\"India/Umesh Ghadge\",\"India/Umesh Mehra\",\"India/Umesh Shukla\",\"India/Uttung Shelar\",\"India/V C Abhilash\",\"India/V Vignarajan\",\"India/V. K. Prakash\",\"India/Vandana Kataria\",\"India/Varun Narvekar\",\"India/Vasan Bala\",\"India/Venkatesh Maha\",\"India/Venky Kudumula\",\"India/Venugopan\",\"India/Vetrimaaran\",\"India/Vibhu Virender Puri\",\"India/Vijay\",\"India/Vijay Jayapal\",\"India/Vijay Kumar\",\"India/Vijay Kumar Arora\",\"India/Vijay Lalwani\",\"India/Vijay Maurya\",\"India/Vijay Milton\",\"India/Vijay Yelakanti\",\"India/Vikas Bahl\",\"India/Vikas Bahl, Nitesh Tiwari\",\"India/Vikram Bhatt\",\"India/Vikram Pradhan\",\"India/Vikramaditya Motwane\",\"India/Vineeth Anil\",\"India/Vinil Mathew\",\"India/Vinod Kapri\",\"India/Vipin Parashar\",\"India/Vipul Amrutlal Shah\",\"India/Vir Das\",\"India/Vir Das, Ajay Bhuyan\",\"India/Vishal Bhardwaj\",\"India/Vishal Mahadkar\",\"India/Vishal Mishra\",\"India/Vishnu Govindhan\",\"India/Vivek Wagh\",\"India/Zakariya\",\"India/Zoya Akhtar\",\"India/Zoya Akhtar, Karan Johar, Anurag Kashyap, Dibakar Banerjee\",\"India\"],\"labels\":[\"A. L. Vijay\",\"A. Raajdheep\",\"A. Salaam\",\"A.R. Murugadoss\",\"Aadish Keluskar\",\"Aamir Bashir\",\"Aamir Khan\",\"Aanand Rai\",\"Aatmaram Dharne\",\"Abbas Alibhai Burmawalla, Mastan Alibhai Burmawalla\",\"Abbas Mustan\",\"Abbas Tyrewala\",\"Abhay Chopra\",\"Abhijeet Deshpande\",\"Abhijit Kokate, Srivinay Salian\",\"Abhijit Panse\",\"Abhinay Deo\",\"Abhishek Chaubey\",\"Abhishek Kapoor\",\"Abhishek Saxena\",\"Abhishek Sharma\",\"Abhishek Varman\",\"Aditya Kripalani\",\"Aditya Sarpotdar\",\"Aditya Vikram Sengupta\",\"Advait Chandan\",\"Agnidev Chatterjee\",\"Ahishor Solomon\",\"Aijaz Khan\",\"Ajay Bahl\",\"Ajay Bhuyan, Kunal Kohli\",\"Ajay Phansekar\",\"Ajithkumar\",\"Akashdeep\",\"Akhil Paul, Anas Khan\",\"Akshay Akkineni\",\"Alankrita Shrivastava\",\"Alo Sarkar\",\"Amaan Khan\",\"Amal Neerad\",\"Amar Gupte\",\"Amar Kaushik\",\"Amardeep Singh Gill\",\"Amarpreet G S Chabbra\",\"Amit Barot\",\"Amit Rai\",\"Amit Roy\",\"Amit Saxena\",\"Amitabha Singh\",\"Amitava Bhattacharya\",\"Amitoj Mann\",\"Amol Palekar\",\"Amshan Kumar\",\"Anand Ravichandran\",\"Anand Tiwari\",\"Ananda Krishnan\",\"Anant Balani\",\"Ananth Narayan Mahadevan\",\"Anees Bazmee\",\"Angshuman Ghosh\",\"Anik Datta\",\"Anil Sharma\",\"Anil Thomas\",\"Anil V. Kumar\",\"Aniruddha Roy Chowdhury\",\"Anita Udeep\",\"Anoop Sathyan\",\"Anthony D'Souza\",\"Anu Menon\",\"Anubhav Sinha\",\"Anurag Basu\",\"Anurag Kashyap\",\"Anurag Kashyap, Dibakar Banerjee, Karan Johar, Zoya Akhtar\",\"Anuranjan Premji\",\"Anusha Rizvi, Mahmood Farooqui\",\"Anvita Dutt\",\"Apoorva Lakhia\",\"Apurva Dhar Badgaiyann\",\"Arati Kadav\",\"Arjun Gourisaria, Moinak Biswas\",\"Arjun Jandyala\",\"Arnab Chaudhuri\",\"Arun Chidambaram\",\"Arun Vaidyanathan\",\"Aruna Raje\",\"Ashish R. Mohan\",\"Ashok Nanda\",\"Ashu Trikha\",\"Ashutosh Gowariker\",\"Ashwiny Iyer Tiwari\",\"Atanu Ghosh\",\"Atanu Mukherjee\",\"Atharv Baluja\",\"Athiyan Athirai\",\"Atlee Kumar\",\"Atul Sabharwal\",\"Avadhoot Gupte\",\"Avinash Arun\",\"Avinash Das\",\"Avinash Walzade\",\"Ayaan Mukherji\",\"Ayush Raina\",\"Aziz Mirza\",\"B. Subhash\",\"B. Unnikrishnan\",\"B. V. Nandini Reddy\",\"B.N. Shajeer Sha\",\"Baljit Singh Deo\",\"Balu Mahendra\",\"Basava Shankar Eeday\",\"Basu Chatterjee\",\"Bauddhayan Mukherji\",\"Bejoy Nambiar\",\"Bhagyaraj\",\"Bharat Jain\",\"Bhavin Wadia\",\"Bhushan Patel\",\"Binu Ulahhannan\",\"Biswajeet Bora\",\"Buddhadev Dasgupta\",\"Buta Singh\",\"Chakri Toleti\",\"Chandan Arora\",\"Chandra Prakash Dwivedi\",\"Chandrakant Kanse\",\"Chandrakant Kulkarni\",\"Chandran Narikode\",\"Danish Aslam\",\"Dar Gai\",\"Datta Mohan Bhandare\",\"David Dhawan\",\"Debaloy Dey\",\"Debamitra Biswal\",\"Deep Joshi\",\"Deepti Naval\",\"Desingh Periyasamy\",\"Devaki Singh, Luke Kenny\",\"Devashish Makhija\",\"Devika Bhagat\",\"Dhanush\",\"Dharmendra Suresh Desai\",\"Dharmesh Darshan\",\"Dheeraj Berry\",\"Dhilip Kumar\",\"Dibakar Banerjee\",\"Dileep Narayanan\",\"Dylan Mohan Gray\",\"Eeshwar Nivas\",\"Emcy Joseph\",\"Farah Khan\",\"Faraz Haider\",\"Farhan Akhtar\",\"Fazila Allana\",\"Feroz\",\"Fuwad Khan\",\"Gafoor Y. Elliyaas\",\"Gagan Puri\",\"Gajendra Ahire\",\"Gajendra Ahire, Viju Mane, Girish Mohite, Ravi Jadhav\",\"Ganesh Kadam\",\"Gangadhar Salimath\",\"Gaurav Narayanan\",\"Gauravv K Chawla\",\"Gauri Shinde\",\"Geetu Mohandas\",\"Girish Joshi\",\"Girish Malik\",\"Gulzar\",\"Gurmmeet Singh\",\"Gurudev Bhalla\",\"Habib Faisal\",\"Halitha Shameem\",\"Hardik Mehta\",\"Hari Nath\",\"Hari Viswanath\",\"Harjit Singh\",\"Harry Baweja\",\"Harshavardhan Kulkarni\",\"Hemant Gaba, Pratim D. Gupta, Sudhish Kamath, Nalan Kumarasamy, Anu Menon, Sandeep Mohan, Qaushiq Mukherjee, Rajshree Ojha, Raja Sen, Abhinav Shiv Tiwari, Suparn Verma\",\"Honey Trehan\",\"Hrishikesh Mukherjee\",\"Imtiaz Ali\",\"Indra Kumar\",\"Indrajit Nattoji\",\"Indrasis Acharya\",\"Ishaan Trivedi\",\"Ivan Ayr\",\"Jagdeep Sidhu\",\"Jaivi Dhanda\",\"Jasbir Bijendra Bhati\",\"Jasmine D'Souza\",\"Jatla Siddartha\",\"Jayan Vannery\",\"Jayaprakash Radhakrishnan\",\"Jayaraj Rajasekharan Nair\",\"Jeethu Joseph\",\"Jeeva\",\"Jijo Pancode\",\"Jitender Pawar\",\"Jitendra Tiwari, Pranav Singh\",\"Johnson Esthappan\",\"Jonathan Augustin\",\"K. Gopinathan\",\"K. Ramanlal\",\"K. Subhash\",\"K.C. Bokadia\",\"KVR Mahendra\",\"Kabir Khan\",\"Kabir Sadanand\",\"Kaizad Gustad\",\"Kamal Sahani\",\"Kanika Batra\",\"Karan Anshuman\",\"Karan Johar\",\"Karan Shivajirao Chavan, Vikram Tanajirao Patil\",\"Karthik Subbaraj\",\"Kedar Shinde\",\"Keerthi\",\"Ken Ghosh\",\"Ketan Mehta\",\"Khalid Mohamed\",\"Kiran Narayanan\",\"Kiran Rao\",\"Kireet Khurana, Padmakumar Narasimhamurthy\",\"Kranthi Madhav\",\"Kranti Kanade\",\"Kranti Redkar\",\"Krish\",\"Krishna Vamshi\",\"Ksshitij Chaudhary\",\"Kumaran\",\"Kunal Deshmukh\",\"Kunal Kohli\",\"Kundan Shah\",\"Kushal Srivastava\",\"Laxman Utekar\",\"Leena Yadav\",\"Lekh Tandon\",\"Lenin Bharathi\",\"Lijo Jose Pellissery\",\"Luv Ranjan\",\"Madhumita\",\"Madhur Bhandarkar\",\"Maha Venkatesh\",\"Mahesh Bhatt\",\"Mahesh Manjrekar\",\"Makarand Mane\",\"Manav Shah\",\"Manbhavan Singh\",\"Mandeep Kumar\",\"Mangesh Hadawale\",\"Mangesh Kanthale\",\"Mani Ratnam\",\"Manika Sharma\",\"Manish Gupta\",\"Manish Jha\",\"Manish Saini\",\"Manish Tiwary\",\"Manjeet Maan\",\"Manjeet Singh\",\"Manmohan Desai\",\"Manoj Beedha\",\"Mansore\",\"Manu Ashokan\",\"Mastan Alibhai Burmawalla, Abbas Alibhai Burmawalla\",\"Megha Ramaswamy\",\"Midhun Manuel Thomas\",\"Mikhil Musale\",\"Milan Luthria\",\"Milind Dhaimade\",\"Milind Rau\",\"Mohammed Hussain\",\"Mohit Suri\",\"Mozez Singh\",\"Mrighdeep Singh Lamba\",\"Mukesh Vohra\",\"Mukul Anand\",\"Munish Bhardwaj\",\"Musthafa\",\"Mysskin\",\"N. Chandra\",\"N. Linguswamy\",\"Nagesh Kukunoor\",\"Nagraj Manjule\",\"Naman Nitin Mukesh\",\"Nandita Das\",\"Narendra Nath\",\"Naresh Saigal\",\"Navaniat Singh\",\"Navdeep Singh\",\"Navinder Pal Singh\",\"Navjot Gulati\",\"Navneet Behal\",\"Neeraj Pandey\",\"Neeraj Udhwani\",\"Neeraj Vora\",\"Neville Shah\",\"Nicholas Kharkongor\",\"Nidhi Sharma\",\"Nikhil Advani\",\"Nikhil Nagesh Bhat\",\"Nikkhil Advani\",\"Nila Madhab Panda\",\"Nishanth Ravindaran, Jathin Sanker Raj\",\"Nisheeta Keni\",\"Nishikant Kamat\",\"Nishil Sheth\",\"Nitesh Tiwari\",\"Nizar Shafi\",\"Noushad\",\"Omung Kumar\",\"Onir\",\"P.K. Baaburaaj\",\"P.T. Kunju Muhammad\",\"Pa. Ranjith\",\"Padmakumar Narasimhamurthy\",\"Pankaj Batra\",\"Param Gill\",\"Parambrata Chatterjee\",\"Paresh Mokashi\",\"Paritosh Painter\",\"Partha Chakraborty\",\"Parthiban\",\"Partho Ghosh\",\"Partho Mitra\",\"Parveen Kumar\",\"Patrick Graham\",\"Pawan K Shrivastava\",\"Pawan Kripalani\",\"Pawan Kumar\",\"Phanindra Narsetti\",\"Pooja Bhatt\",\"Prabhu Deva\",\"Prabhuraj\",\"Pradeep Verma\",\"Pradip Kurbah\",\"Prakash Balwant Saini\",\"Prakash Jha\",\"Prakash Kunte\",\"Prakash Mehra\",\"Pramod Pawar\",\"Prasanth Varma\",\"Prashant Nair\",\"Prasobh Vijayan\",\"Pratim D. Gupta\",\"Praveen Nischol\",\"Prawal Raman\",\"Prem Soni\",\"Priyadarshan\",\"Priyadarshan, Kookie V. Gulati\",\"Pulkit\",\"Puneet Khanna\",\"Puneet Sira\",\"Punit Malhotra\",\"Puri Jagannadh\",\"Qaushiq Mukherjee\",\"R. Balki\",\"R. Kannan\",\"Raaghav Dar\",\"Radhika Rao, Vinay Sapru\",\"Rahat Kazmi\",\"Rahul Dholakia\",\"Rahul Ravindran\",\"Rai Yuvraj Bains\",\"Raj B. Shetty\",\"Raj Babu\",\"Raj Kanwar\",\"Raj Kapoor\",\"Raj Kaushal\",\"Raj Khosla\",\"Raj Kumar Gupta\",\"Raj N. Sippy\",\"Raj Nidimoru, Krishna D.K.\",\"Raj R\",\"Raja Chanda\",\"Raja Menon\",\"Rajan Madhav\",\"Rajat Kapoor\",\"Rajeev Chaudhari\",\"Rajeev Patil\",\"Rajesh Ganguly\",\"Rajesh Mapuskar\",\"Rajesh Touchriver\",\"Rajiv Chilaka\",\"Rajiv Chilaka, Binayak Das\",\"Rajiv Mehra\",\"Rajiv Menon\",\"Rajkumar Hirani\",\"Rajkumar Santoshi\",\"Rakesh Mehta\",\"Rakesh Ranjan Kumar\",\"Rakeysh Omprakash Mehra\",\"Rakshith Thirthahalli\",\"Ram\",\"Ram Gopal Varma\",\"Raman Kumar\",\"Ramesh Sippy\",\"Ramesh Talwar\",\"Rana Ranbir\",\"Ranjit Jeyakodi\",\"Ranjit Tiwari\",\"Ravi Babu\",\"Ravi Udyawar\",\"Ravikanth Perepu\",\"Ravishankar Venkateswaran\",\"Reema Kagti\",\"Remo D'Souza\",\"Remy Kohli\",\"Renzil D'Silva\",\"Ribhu Dasgupta\",\"Rikhil Bahadur\",\"Rima Das\",\"Robbie Grewal\",\"Rohan Sippy\",\"Rohit Jugraj\",\"Rohit Mittal\",\"Rohit Shetty\",\"Ruchi Narain\",\"S.S. Rajamouli\",\"Saandeep Patel\",\"Sabal Singh Shekawat\",\"Sabir Khan\",\"Sabu Varghese\",\"Sachin\",\"Sachin Kamlakar Khot\",\"Sachin Kundalkar\",\"Sachin Yardi\",\"Safdar Rahman\",\"Sagar Sarhadi\",\"Saheed Arafath\",\"Sai Paranjape\",\"Saji Surendran\",\"Sajid Khan\",\"Saket Behl\",\"Saket Chaudhary\",\"Samar Khan\",\"Samar Shaikh\",\"Sameer Patil\",\"Sameer Sharma\",\"Sameer Vidwans\",\"Samir Karnik\",\"Samir Soni\",\"Samit Kakkad\",\"Sandeep Chatterjee\",\"Sandeep Reddy Vanga\",\"Sangeeth Sivan\",\"Sanjay Dayma\",\"Sanjay Gupta\",\"Sanjay Jadhav\",\"Sanjay Leela Bhansali\",\"Sanjay Soorkar\",\"Sanjeev Gupta\",\"Sanjib Dey\",\"Sanjiv Jaiswal\",\"Santosh Manjrekar\",\"Santosh Sivan\",\"Santram Varma\",\"Santwana Bardoloi\",\"Saravana Rajan\",\"Saravana Rajendran\",\"Sarjun\",\"Sartaj Singh Pannu\",\"Sarthak Dasgupta\",\"Sathyan Anthikad\",\"Satish Kaushik\",\"Satish Manwar\",\"Satish Rajwade\",\"Satyajit Bhatkal\",\"Saurabh Kabra\",\"Saurabh Sinha\",\"Saurav Palodhi\",\"Sekhar Kammula\",\"Selvamani Selvaraj\",\"Shaad Ali\",\"Shadab Khan\",\"Shakti Samanta\",\"Shakun Batra\",\"Shammi Kapoor\",\"Shamzu Zayba\",\"Shanavas K. Bavakutty\",\"Shanawaz Nellikunnil\",\"Shanker Raman\",\"Sharan Sharma\",\"Shashank Khaitan\",\"Shashanka Ghosh\",\"Shashanka Ghosh, Samit Basu\",\"Shashilal K. Nair\",\"Shawn Arranha\",\"Shekhar Kapur\",\"Shelly Chopra Dhar\",\"Shirish Kunder\",\"Shivam Nair\",\"Shivendra Singh Dungarpur\",\"Shlok Sharma\",\"Shoojit Sircar\",\"Shravan Kumar\",\"Shree Narayan Singh\",\"Shreyas Talpade\",\"Shrihari Sathe\",\"Shubham Singh\",\"Shyam Benegal\",\"Siddique\",\"Simranjit Singh Hundal\",\"Smeep Kang\",\"Sneha Taurani\",\"Sohail Khan\",\"Sohail Tatari\",\"Soham Shah\",\"Sooni Taraporevala\",\"Sooraj R. Barjatya\",\"Soukarya Ghosal\",\"Soumendra Padhi\",\"Soumitra Ranade\",\"Sridhar Rangayan\",\"Sriram Raghavan\",\"Subhash Ghai\",\"Sudesh Manjrekar\",\"Sudesh Manjrekar, Atul Kale\",\"Sudha Kongara, Vignesh Shivan, Gautham Vasudev Menon, Vetri Maaran\",\"Sudhanshu Saria\",\"Sudhir Mishra\",\"Sudip Bandyopadhyay\",\"Sudipto Roy\",\"Suhas Kadav\",\"Sujeeth\",\"Sujoy Ghosh\",\"Sukhbir Singh\",\"Suman Mukhopadhyay\",\"Sumit Das\",\"Sumitra Bhave, Sunil Sukthankar\",\"Sundar C.\",\"Sunil Thakur\",\"Suparn Verma\",\"Supavitra Babul\",\"Surya S.J., Sunil Kumar Agrawal\",\"Suseenthiran\",\"Sushil Majumdar\",\"Swapna Waghmare Joshi\",\"Swapnaneel Jayakar\",\"Syed Ahmad Afzal\",\"Tanuj Bhramar\",\"Tanuja Chandra\",\"Tanveer Khan\",\"Tariq Khan\",\"Tarun Mansukhani\",\"Tathagata Banerjee\",\"Tejas Prabha Vijay Deoskar\",\"Terrie Samundra\",\"Tharun Bhascker\",\"Thiagarajan Kumararaja\",\"Thiru\",\"Tigmanshu Dhulia\",\"Tilak Shetty\",\"Tinnu Anand\",\"Trivikram Srinivas\",\"Udai Singh Pawar\",\"Umesh Ghadge\",\"Umesh Mehra\",\"Umesh Shukla\",\"Uttung Shelar\",\"V C Abhilash\",\"V Vignarajan\",\"V. K. Prakash\",\"Vandana Kataria\",\"Varun Narvekar\",\"Vasan Bala\",\"Venkatesh Maha\",\"Venky Kudumula\",\"Venugopan\",\"Vetrimaaran\",\"Vibhu Virender Puri\",\"Vijay\",\"Vijay Jayapal\",\"Vijay Kumar\",\"Vijay Kumar Arora\",\"Vijay Lalwani\",\"Vijay Maurya\",\"Vijay Milton\",\"Vijay Yelakanti\",\"Vikas Bahl\",\"Vikas Bahl, Nitesh Tiwari\",\"Vikram Bhatt\",\"Vikram Pradhan\",\"Vikramaditya Motwane\",\"Vineeth Anil\",\"Vinil Mathew\",\"Vinod Kapri\",\"Vipin Parashar\",\"Vipul Amrutlal Shah\",\"Vir Das\",\"Vir Das, Ajay Bhuyan\",\"Vishal Bhardwaj\",\"Vishal Mahadkar\",\"Vishal Mishra\",\"Vishnu Govindhan\",\"Vivek Wagh\",\"Zakariya\",\"Zoya Akhtar\",\"Zoya Akhtar, Karan Johar, Anurag Kashyap, Dibakar Banerjee\",\"India\"],\"name\":\"\",\"parents\":[\"India\",\"India\",\"India\",\"India\",\"India\",\"India\",\"India\",\"India\",\"India\",\"India\",\"India\",\"India\",\"India\",\"India\",\"India\",\"India\",\"India\",\"India\",\"India\",\"India\",\"India\",\"India\",\"India\",\"India\",\"India\",\"India\",\"India\",\"India\",\"India\",\"India\",\"India\",\"India\",\"India\",\"India\",\"India\",\"India\",\"India\",\"India\",\"India\",\"India\",\"India\",\"India\",\"India\",\"India\",\"India\",\"India\",\"India\",\"India\",\"India\",\"India\",\"India\",\"India\",\"India\",\"India\",\"India\",\"India\",\"India\",\"India\",\"India\",\"India\",\"India\",\"India\",\"India\",\"India\",\"India\",\"India\",\"India\",\"India\",\"India\",\"India\",\"India\",\"India\",\"India\",\"India\",\"India\",\"India\",\"India\",\"India\",\"India\",\"India\",\"India\",\"India\",\"India\",\"India\",\"India\",\"India\",\"India\",\"India\",\"India\",\"India\",\"India\",\"India\",\"India\",\"India\",\"India\",\"India\",\"India\",\"India\",\"India\",\"India\",\"India\",\"India\",\"India\",\"India\",\"India\",\"India\",\"India\",\"India\",\"India\",\"India\",\"India\",\"India\",\"India\",\"India\",\"India\",\"India\",\"India\",\"India\",\"India\",\"India\",\"India\",\"India\",\"India\",\"India\",\"India\",\"India\",\"India\",\"India\",\"India\",\"India\",\"India\",\"India\",\"India\",\"India\",\"India\",\"India\",\"India\",\"India\",\"India\",\"India\",\"India\",\"India\",\"India\",\"India\",\"India\",\"India\",\"India\",\"India\",\"India\",\"India\",\"India\",\"India\",\"India\",\"India\",\"India\",\"India\",\"India\",\"India\",\"India\",\"India\",\"India\",\"India\",\"India\",\"India\",\"India\",\"India\",\"India\",\"India\",\"India\",\"India\",\"India\",\"India\",\"India\",\"India\",\"India\",\"India\",\"India\",\"India\",\"India\",\"India\",\"India\",\"India\",\"India\",\"India\",\"India\",\"India\",\"India\",\"India\",\"India\",\"India\",\"India\",\"India\",\"India\",\"India\",\"India\",\"India\",\"India\",\"India\",\"India\",\"India\",\"India\",\"India\",\"India\",\"India\",\"India\",\"India\",\"India\",\"India\",\"India\",\"India\",\"India\",\"India\",\"India\",\"India\",\"India\",\"India\",\"India\",\"India\",\"India\",\"India\",\"India\",\"India\",\"India\",\"India\",\"India\",\"India\",\"India\",\"India\",\"India\",\"India\",\"India\",\"India\",\"India\",\"India\",\"India\",\"India\",\"India\",\"India\",\"India\",\"India\",\"India\",\"India\",\"India\",\"India\",\"India\",\"India\",\"India\",\"India\",\"India\",\"India\",\"India\",\"India\",\"India\",\"India\",\"India\",\"India\",\"India\",\"India\",\"India\",\"India\",\"India\",\"India\",\"India\",\"India\",\"India\",\"India\",\"India\",\"India\",\"India\",\"India\",\"India\",\"India\",\"India\",\"India\",\"India\",\"India\",\"India\",\"India\",\"India\",\"India\",\"India\",\"India\",\"India\",\"India\",\"India\",\"India\",\"India\",\"India\",\"India\",\"India\",\"India\",\"India\",\"India\",\"India\",\"India\",\"India\",\"India\",\"India\",\"India\",\"India\",\"India\",\"India\",\"India\",\"India\",\"India\",\"India\",\"India\",\"India\",\"India\",\"India\",\"India\",\"India\",\"India\",\"India\",\"India\",\"India\",\"India\",\"India\",\"India\",\"India\",\"India\",\"India\",\"India\",\"India\",\"India\",\"India\",\"India\",\"India\",\"India\",\"India\",\"India\",\"India\",\"India\",\"India\",\"India\",\"India\",\"India\",\"India\",\"India\",\"India\",\"India\",\"India\",\"India\",\"India\",\"India\",\"India\",\"India\",\"India\",\"India\",\"India\",\"India\",\"India\",\"India\",\"India\",\"India\",\"India\",\"India\",\"India\",\"India\",\"India\",\"India\",\"India\",\"India\",\"India\",\"India\",\"India\",\"India\",\"India\",\"India\",\"India\",\"India\",\"India\",\"India\",\"India\",\"India\",\"India\",\"India\",\"India\",\"India\",\"India\",\"India\",\"India\",\"India\",\"India\",\"India\",\"India\",\"India\",\"India\",\"India\",\"India\",\"India\",\"India\",\"India\",\"India\",\"India\",\"India\",\"India\",\"India\",\"India\",\"India\",\"India\",\"India\",\"India\",\"India\",\"India\",\"India\",\"India\",\"India\",\"India\",\"India\",\"India\",\"India\",\"India\",\"India\",\"India\",\"India\",\"India\",\"India\",\"India\",\"India\",\"India\",\"India\",\"India\",\"India\",\"India\",\"India\",\"India\",\"India\",\"India\",\"India\",\"India\",\"India\",\"India\",\"India\",\"India\",\"India\",\"India\",\"India\",\"India\",\"India\",\"India\",\"India\",\"India\",\"India\",\"India\",\"India\",\"India\",\"India\",\"India\",\"India\",\"India\",\"India\",\"India\",\"India\",\"India\",\"India\",\"India\",\"India\",\"India\",\"India\",\"India\",\"India\",\"India\",\"India\",\"India\",\"India\",\"India\",\"India\",\"India\",\"India\",\"India\",\"India\",\"India\",\"India\",\"India\",\"India\",\"India\",\"India\",\"India\",\"India\",\"India\",\"India\",\"India\",\"India\",\"India\",\"India\",\"India\",\"India\",\"India\",\"India\",\"India\",\"India\",\"India\",\"India\",\"India\",\"India\",\"India\",\"India\",\"India\",\"India\",\"India\",\"India\",\"India\",\"India\",\"India\",\"India\",\"India\",\"India\",\"India\",\"India\",\"India\",\"India\",\"India\",\"India\",\"India\",\"India\",\"India\",\"India\",\"India\",\"India\",\"India\",\"India\",\"India\",\"India\",\"India\",\"India\",\"India\",\"India\",\"India\",\"India\",\"India\",\"India\",\"India\",\"India\",\"India\",\"India\",\"India\",\"India\",\"India\",\"India\",\"India\",\"India\",\"India\",\"India\",\"India\",\"India\",\"India\",\"India\",\"India\",\"India\",\"India\",\"India\",\"India\",\"India\",\"India\",\"India\",\"India\",\"India\",\"India\",\"India\",\"India\",\"India\",\"India\",\"India\",\"India\",\"India\",\"India\",\"India\",\"India\",\"India\",\"India\",\"India\",\"India\",\"India\",\"India\",\"India\",\"India\",\"India\",\"India\",\"India\",\"India\",\"India\",\"India\",\"India\",\"India\",\"India\",\"India\",\"India\",\"India\",\"India\",\"India\",\"India\",\"India\",\"India\",\"India\",\"India\",\"India\",\"India\",\"India\",\"\"],\"values\":[2,1,1,1,1,1,1,2,1,4,1,1,1,1,1,1,3,3,3,1,3,1,2,2,1,1,1,1,1,1,1,1,1,1,1,1,1,1,1,1,1,1,1,1,1,1,1,1,1,1,3,1,1,1,1,1,1,1,6,1,1,1,1,1,1,1,1,2,1,1,4,5,2,1,1,1,2,1,1,1,1,1,1,1,1,1,2,1,6,1,2,1,1,1,1,1,2,1,1,1,1,1,3,1,1,1,1,1,1,1,2,1,2,1,1,1,1,1,1,1,1,1,1,1,1,3,1,1,1,1,9,1,1,1,1,1,1,1,1,1,1,2,1,1,4,1,1,1,1,4,1,3,1,1,1,1,1,2,1,1,1,1,1,1,1,1,2,1,1,1,1,1,1,1,1,1,1,1,1,1,4,6,5,1,1,1,1,1,1,1,1,1,1,1,1,2,1,1,1,1,1,1,1,1,1,1,1,1,2,1,1,1,1,3,1,1,2,1,3,2,1,1,1,1,1,1,1,1,1,2,1,1,1,4,1,1,3,3,1,1,2,1,5,1,3,5,2,1,1,1,1,1,3,1,1,2,1,1,1,1,1,1,1,1,1,1,1,2,4,1,1,1,2,1,1,1,2,1,1,2,1,2,4,2,1,1,1,1,1,1,1,1,1,3,1,1,1,2,1,2,1,1,3,1,1,4,1,1,1,1,1,2,1,1,1,1,2,1,2,1,1,1,1,1,1,1,1,1,1,1,1,1,1,1,1,1,1,5,1,3,1,1,1,1,1,1,1,1,4,1,1,1,1,2,1,2,1,1,1,1,1,1,1,1,1,1,1,3,1,1,3,1,1,1,1,1,1,2,1,1,1,1,1,1,1,5,1,3,6,1,1,4,1,1,6,1,1,1,1,1,1,1,1,1,1,2,3,1,2,2,1,1,1,1,2,1,5,1,2,1,1,1,1,2,1,1,2,1,1,1,1,1,1,1,1,1,1,1,1,2,1,1,1,1,1,2,1,1,2,1,1,1,1,1,1,2,1,1,1,1,1,1,1,1,2,1,3,2,1,1,1,1,1,1,1,1,2,1,1,1,1,1,1,1,1,1,1,1,1,1,3,2,1,2,1,1,1,1,1,1,4,1,1,2,1,1,1,1,1,6,1,2,1,2,2,4,1,1,1,1,3,1,1,1,1,3,1,1,1,3,2,1,1,1,1,1,1,1,1,1,1,2,1,1,1,1,1,1,1,1,2,2,1,1,1,1,1,5,2,1,1,1,1,1,1,1,1,1,1,1,1,1,1,1,1,1,1,1,1,2,1,1,1,3,1,1,1,1,2,1,1,5,1,1,1,1,1,3,1,832],\"type\":\"treemap\"}],                        {\"template\":{\"data\":{\"histogram2dcontour\":[{\"type\":\"histogram2dcontour\",\"colorbar\":{\"outlinewidth\":0,\"ticks\":\"\"},\"colorscale\":[[0.0,\"#0d0887\"],[0.1111111111111111,\"#46039f\"],[0.2222222222222222,\"#7201a8\"],[0.3333333333333333,\"#9c179e\"],[0.4444444444444444,\"#bd3786\"],[0.5555555555555556,\"#d8576b\"],[0.6666666666666666,\"#ed7953\"],[0.7777777777777778,\"#fb9f3a\"],[0.8888888888888888,\"#fdca26\"],[1.0,\"#f0f921\"]]}],\"choropleth\":[{\"type\":\"choropleth\",\"colorbar\":{\"outlinewidth\":0,\"ticks\":\"\"}}],\"histogram2d\":[{\"type\":\"histogram2d\",\"colorbar\":{\"outlinewidth\":0,\"ticks\":\"\"},\"colorscale\":[[0.0,\"#0d0887\"],[0.1111111111111111,\"#46039f\"],[0.2222222222222222,\"#7201a8\"],[0.3333333333333333,\"#9c179e\"],[0.4444444444444444,\"#bd3786\"],[0.5555555555555556,\"#d8576b\"],[0.6666666666666666,\"#ed7953\"],[0.7777777777777778,\"#fb9f3a\"],[0.8888888888888888,\"#fdca26\"],[1.0,\"#f0f921\"]]}],\"heatmap\":[{\"type\":\"heatmap\",\"colorbar\":{\"outlinewidth\":0,\"ticks\":\"\"},\"colorscale\":[[0.0,\"#0d0887\"],[0.1111111111111111,\"#46039f\"],[0.2222222222222222,\"#7201a8\"],[0.3333333333333333,\"#9c179e\"],[0.4444444444444444,\"#bd3786\"],[0.5555555555555556,\"#d8576b\"],[0.6666666666666666,\"#ed7953\"],[0.7777777777777778,\"#fb9f3a\"],[0.8888888888888888,\"#fdca26\"],[1.0,\"#f0f921\"]]}],\"heatmapgl\":[{\"type\":\"heatmapgl\",\"colorbar\":{\"outlinewidth\":0,\"ticks\":\"\"},\"colorscale\":[[0.0,\"#0d0887\"],[0.1111111111111111,\"#46039f\"],[0.2222222222222222,\"#7201a8\"],[0.3333333333333333,\"#9c179e\"],[0.4444444444444444,\"#bd3786\"],[0.5555555555555556,\"#d8576b\"],[0.6666666666666666,\"#ed7953\"],[0.7777777777777778,\"#fb9f3a\"],[0.8888888888888888,\"#fdca26\"],[1.0,\"#f0f921\"]]}],\"contourcarpet\":[{\"type\":\"contourcarpet\",\"colorbar\":{\"outlinewidth\":0,\"ticks\":\"\"}}],\"contour\":[{\"type\":\"contour\",\"colorbar\":{\"outlinewidth\":0,\"ticks\":\"\"},\"colorscale\":[[0.0,\"#0d0887\"],[0.1111111111111111,\"#46039f\"],[0.2222222222222222,\"#7201a8\"],[0.3333333333333333,\"#9c179e\"],[0.4444444444444444,\"#bd3786\"],[0.5555555555555556,\"#d8576b\"],[0.6666666666666666,\"#ed7953\"],[0.7777777777777778,\"#fb9f3a\"],[0.8888888888888888,\"#fdca26\"],[1.0,\"#f0f921\"]]}],\"surface\":[{\"type\":\"surface\",\"colorbar\":{\"outlinewidth\":0,\"ticks\":\"\"},\"colorscale\":[[0.0,\"#0d0887\"],[0.1111111111111111,\"#46039f\"],[0.2222222222222222,\"#7201a8\"],[0.3333333333333333,\"#9c179e\"],[0.4444444444444444,\"#bd3786\"],[0.5555555555555556,\"#d8576b\"],[0.6666666666666666,\"#ed7953\"],[0.7777777777777778,\"#fb9f3a\"],[0.8888888888888888,\"#fdca26\"],[1.0,\"#f0f921\"]]}],\"mesh3d\":[{\"type\":\"mesh3d\",\"colorbar\":{\"outlinewidth\":0,\"ticks\":\"\"}}],\"scatter\":[{\"fillpattern\":{\"fillmode\":\"overlay\",\"size\":10,\"solidity\":0.2},\"type\":\"scatter\"}],\"parcoords\":[{\"type\":\"parcoords\",\"line\":{\"colorbar\":{\"outlinewidth\":0,\"ticks\":\"\"}}}],\"scatterpolargl\":[{\"type\":\"scatterpolargl\",\"marker\":{\"colorbar\":{\"outlinewidth\":0,\"ticks\":\"\"}}}],\"bar\":[{\"error_x\":{\"color\":\"#2a3f5f\"},\"error_y\":{\"color\":\"#2a3f5f\"},\"marker\":{\"line\":{\"color\":\"#E5ECF6\",\"width\":0.5},\"pattern\":{\"fillmode\":\"overlay\",\"size\":10,\"solidity\":0.2}},\"type\":\"bar\"}],\"scattergeo\":[{\"type\":\"scattergeo\",\"marker\":{\"colorbar\":{\"outlinewidth\":0,\"ticks\":\"\"}}}],\"scatterpolar\":[{\"type\":\"scatterpolar\",\"marker\":{\"colorbar\":{\"outlinewidth\":0,\"ticks\":\"\"}}}],\"histogram\":[{\"marker\":{\"pattern\":{\"fillmode\":\"overlay\",\"size\":10,\"solidity\":0.2}},\"type\":\"histogram\"}],\"scattergl\":[{\"type\":\"scattergl\",\"marker\":{\"colorbar\":{\"outlinewidth\":0,\"ticks\":\"\"}}}],\"scatter3d\":[{\"type\":\"scatter3d\",\"line\":{\"colorbar\":{\"outlinewidth\":0,\"ticks\":\"\"}},\"marker\":{\"colorbar\":{\"outlinewidth\":0,\"ticks\":\"\"}}}],\"scattermapbox\":[{\"type\":\"scattermapbox\",\"marker\":{\"colorbar\":{\"outlinewidth\":0,\"ticks\":\"\"}}}],\"scatterternary\":[{\"type\":\"scatterternary\",\"marker\":{\"colorbar\":{\"outlinewidth\":0,\"ticks\":\"\"}}}],\"scattercarpet\":[{\"type\":\"scattercarpet\",\"marker\":{\"colorbar\":{\"outlinewidth\":0,\"ticks\":\"\"}}}],\"carpet\":[{\"aaxis\":{\"endlinecolor\":\"#2a3f5f\",\"gridcolor\":\"white\",\"linecolor\":\"white\",\"minorgridcolor\":\"white\",\"startlinecolor\":\"#2a3f5f\"},\"baxis\":{\"endlinecolor\":\"#2a3f5f\",\"gridcolor\":\"white\",\"linecolor\":\"white\",\"minorgridcolor\":\"white\",\"startlinecolor\":\"#2a3f5f\"},\"type\":\"carpet\"}],\"table\":[{\"cells\":{\"fill\":{\"color\":\"#EBF0F8\"},\"line\":{\"color\":\"white\"}},\"header\":{\"fill\":{\"color\":\"#C8D4E3\"},\"line\":{\"color\":\"white\"}},\"type\":\"table\"}],\"barpolar\":[{\"marker\":{\"line\":{\"color\":\"#E5ECF6\",\"width\":0.5},\"pattern\":{\"fillmode\":\"overlay\",\"size\":10,\"solidity\":0.2}},\"type\":\"barpolar\"}],\"pie\":[{\"automargin\":true,\"type\":\"pie\"}]},\"layout\":{\"autotypenumbers\":\"strict\",\"colorway\":[\"#636efa\",\"#EF553B\",\"#00cc96\",\"#ab63fa\",\"#FFA15A\",\"#19d3f3\",\"#FF6692\",\"#B6E880\",\"#FF97FF\",\"#FECB52\"],\"font\":{\"color\":\"#2a3f5f\"},\"hovermode\":\"closest\",\"hoverlabel\":{\"align\":\"left\"},\"paper_bgcolor\":\"white\",\"plot_bgcolor\":\"#E5ECF6\",\"polar\":{\"bgcolor\":\"#E5ECF6\",\"angularaxis\":{\"gridcolor\":\"white\",\"linecolor\":\"white\",\"ticks\":\"\"},\"radialaxis\":{\"gridcolor\":\"white\",\"linecolor\":\"white\",\"ticks\":\"\"}},\"ternary\":{\"bgcolor\":\"#E5ECF6\",\"aaxis\":{\"gridcolor\":\"white\",\"linecolor\":\"white\",\"ticks\":\"\"},\"baxis\":{\"gridcolor\":\"white\",\"linecolor\":\"white\",\"ticks\":\"\"},\"caxis\":{\"gridcolor\":\"white\",\"linecolor\":\"white\",\"ticks\":\"\"}},\"coloraxis\":{\"colorbar\":{\"outlinewidth\":0,\"ticks\":\"\"}},\"colorscale\":{\"sequential\":[[0.0,\"#0d0887\"],[0.1111111111111111,\"#46039f\"],[0.2222222222222222,\"#7201a8\"],[0.3333333333333333,\"#9c179e\"],[0.4444444444444444,\"#bd3786\"],[0.5555555555555556,\"#d8576b\"],[0.6666666666666666,\"#ed7953\"],[0.7777777777777778,\"#fb9f3a\"],[0.8888888888888888,\"#fdca26\"],[1.0,\"#f0f921\"]],\"sequentialminus\":[[0.0,\"#0d0887\"],[0.1111111111111111,\"#46039f\"],[0.2222222222222222,\"#7201a8\"],[0.3333333333333333,\"#9c179e\"],[0.4444444444444444,\"#bd3786\"],[0.5555555555555556,\"#d8576b\"],[0.6666666666666666,\"#ed7953\"],[0.7777777777777778,\"#fb9f3a\"],[0.8888888888888888,\"#fdca26\"],[1.0,\"#f0f921\"]],\"diverging\":[[0,\"#8e0152\"],[0.1,\"#c51b7d\"],[0.2,\"#de77ae\"],[0.3,\"#f1b6da\"],[0.4,\"#fde0ef\"],[0.5,\"#f7f7f7\"],[0.6,\"#e6f5d0\"],[0.7,\"#b8e186\"],[0.8,\"#7fbc41\"],[0.9,\"#4d9221\"],[1,\"#276419\"]]},\"xaxis\":{\"gridcolor\":\"white\",\"linecolor\":\"white\",\"ticks\":\"\",\"title\":{\"standoff\":15},\"zerolinecolor\":\"white\",\"automargin\":true,\"zerolinewidth\":2},\"yaxis\":{\"gridcolor\":\"white\",\"linecolor\":\"white\",\"ticks\":\"\",\"title\":{\"standoff\":15},\"zerolinecolor\":\"white\",\"automargin\":true,\"zerolinewidth\":2},\"scene\":{\"xaxis\":{\"backgroundcolor\":\"#E5ECF6\",\"gridcolor\":\"white\",\"linecolor\":\"white\",\"showbackground\":true,\"ticks\":\"\",\"zerolinecolor\":\"white\",\"gridwidth\":2},\"yaxis\":{\"backgroundcolor\":\"#E5ECF6\",\"gridcolor\":\"white\",\"linecolor\":\"white\",\"showbackground\":true,\"ticks\":\"\",\"zerolinecolor\":\"white\",\"gridwidth\":2},\"zaxis\":{\"backgroundcolor\":\"#E5ECF6\",\"gridcolor\":\"white\",\"linecolor\":\"white\",\"showbackground\":true,\"ticks\":\"\",\"zerolinecolor\":\"white\",\"gridwidth\":2}},\"shapedefaults\":{\"line\":{\"color\":\"#2a3f5f\"}},\"annotationdefaults\":{\"arrowcolor\":\"#2a3f5f\",\"arrowhead\":0,\"arrowwidth\":1},\"geo\":{\"bgcolor\":\"white\",\"landcolor\":\"#E5ECF6\",\"subunitcolor\":\"white\",\"showland\":true,\"showlakes\":true,\"lakecolor\":\"white\"},\"title\":{\"x\":0.05},\"mapbox\":{\"style\":\"light\"}}},\"legend\":{\"tracegroupgap\":0},\"margin\":{\"t\":60}},                        {\"responsive\": true}                    ).then(function(){\n",
       "                            \n",
       "var gd = document.getElementById('e04cafe0-601e-4587-8816-aacf116b7110');\n",
       "var x = new MutationObserver(function (mutations, observer) {{\n",
       "        var display = window.getComputedStyle(gd).display;\n",
       "        if (!display || display === 'none') {{\n",
       "            console.log([gd, 'removed!']);\n",
       "            Plotly.purge(gd);\n",
       "            observer.disconnect();\n",
       "        }}\n",
       "}});\n",
       "\n",
       "// Listen for the removal of the full notebook cells\n",
       "var notebookContainer = gd.closest('#notebook-container');\n",
       "if (notebookContainer) {{\n",
       "    x.observe(notebookContainer, {childList: true});\n",
       "}}\n",
       "\n",
       "// Listen for the clearing of the current output cell\n",
       "var outputEl = gd.closest('.output');\n",
       "if (outputEl) {{\n",
       "    x.observe(outputEl, {childList: true});\n",
       "}}\n",
       "\n",
       "                        })                };                });            </script>        </div>"
      ]
     },
     "metadata": {},
     "output_type": "display_data"
    }
   ],
   "source": [
    "fig = px.treemap(netflix_india, path=['country','director'], hover_data=['director','title'],color_continuous_scale='Black')\n",
    "fig.show()"
   ]
  },
  {
   "cell_type": "markdown",
   "id": "4ff5c4cd",
   "metadata": {},
   "source": [
    "Newest India Releases "
   ]
  },
  {
   "cell_type": "code",
   "execution_count": 156,
   "id": "ba593ceb",
   "metadata": {},
   "outputs": [
    {
     "data": {
      "text/html": [
       "<div>\n",
       "<style scoped>\n",
       "    .dataframe tbody tr th:only-of-type {\n",
       "        vertical-align: middle;\n",
       "    }\n",
       "\n",
       "    .dataframe tbody tr th {\n",
       "        vertical-align: top;\n",
       "    }\n",
       "\n",
       "    .dataframe thead th {\n",
       "        text-align: right;\n",
       "    }\n",
       "</style>\n",
       "<table border=\"1\" class=\"dataframe\">\n",
       "  <thead>\n",
       "    <tr style=\"text-align: right;\">\n",
       "      <th></th>\n",
       "      <th>show_id</th>\n",
       "      <th>type</th>\n",
       "      <th>title</th>\n",
       "      <th>director</th>\n",
       "      <th>cast</th>\n",
       "      <th>country</th>\n",
       "      <th>date_added</th>\n",
       "      <th>release_year</th>\n",
       "      <th>rating</th>\n",
       "      <th>duration</th>\n",
       "      <th>listed_in</th>\n",
       "      <th>description</th>\n",
       "    </tr>\n",
       "  </thead>\n",
       "  <tbody>\n",
       "    <tr>\n",
       "      <th>1410</th>\n",
       "      <td>s1411</td>\n",
       "      <td>Movie</td>\n",
       "      <td>Class of '83</td>\n",
       "      <td>Atul Sabharwal</td>\n",
       "      <td>Bobby Deol, Bhupendra Jadawat, Hitesh Bhojraj,...</td>\n",
       "      <td>India</td>\n",
       "      <td>August 21, 2020</td>\n",
       "      <td>2020</td>\n",
       "      <td>TV-14</td>\n",
       "      <td>98 min</td>\n",
       "      <td>Dramas, International Movies, Thrillers</td>\n",
       "      <td>Demoted to an academy job, a cop trains five f...</td>\n",
       "    </tr>\n",
       "    <tr>\n",
       "      <th>1827</th>\n",
       "      <td>s1828</td>\n",
       "      <td>Movie</td>\n",
       "      <td>Door Ke Darshan</td>\n",
       "      <td>Gagan Puri</td>\n",
       "      <td>Dolly Ahluwalia, Manu Rishi Chadha, Mahie Gill...</td>\n",
       "      <td>India</td>\n",
       "      <td>July 25, 2020</td>\n",
       "      <td>2020</td>\n",
       "      <td>TV-14</td>\n",
       "      <td>114 min</td>\n",
       "      <td>Comedies, International Movies</td>\n",
       "      <td>When a matriarch wakes from a 30-year coma, he...</td>\n",
       "    </tr>\n",
       "    <tr>\n",
       "      <th>3119</th>\n",
       "      <td>s3120</td>\n",
       "      <td>TV Show</td>\n",
       "      <td>Jamtara - Sabka Number Ayega</td>\n",
       "      <td>Soumendra Padhi</td>\n",
       "      <td>Amit Sial, Dibyendu Bhattacharya, Aksha Pardha...</td>\n",
       "      <td>India</td>\n",
       "      <td>January 10, 2020</td>\n",
       "      <td>2020</td>\n",
       "      <td>TV-MA</td>\n",
       "      <td>1 Season</td>\n",
       "      <td>Crime TV Shows, International TV Shows, TV Dramas</td>\n",
       "      <td>A group of small-town young men run a lucrativ...</td>\n",
       "    </tr>\n",
       "  </tbody>\n",
       "</table>\n",
       "</div>"
      ],
      "text/plain": [
       "     show_id     type                         title         director  \\\n",
       "1410   s1411    Movie                  Class of '83   Atul Sabharwal   \n",
       "1827   s1828    Movie               Door Ke Darshan       Gagan Puri   \n",
       "3119   s3120  TV Show  Jamtara - Sabka Number Ayega  Soumendra Padhi   \n",
       "\n",
       "                                                   cast country  \\\n",
       "1410  Bobby Deol, Bhupendra Jadawat, Hitesh Bhojraj,...   India   \n",
       "1827  Dolly Ahluwalia, Manu Rishi Chadha, Mahie Gill...   India   \n",
       "3119  Amit Sial, Dibyendu Bhattacharya, Aksha Pardha...   India   \n",
       "\n",
       "            date_added  release_year rating  duration  \\\n",
       "1410   August 21, 2020          2020  TV-14    98 min   \n",
       "1827     July 25, 2020          2020  TV-14   114 min   \n",
       "3119  January 10, 2020          2020  TV-MA  1 Season   \n",
       "\n",
       "                                              listed_in  \\\n",
       "1410            Dramas, International Movies, Thrillers   \n",
       "1827                     Comedies, International Movies   \n",
       "3119  Crime TV Shows, International TV Shows, TV Dramas   \n",
       "\n",
       "                                            description  \n",
       "1410  Demoted to an academy job, a cop trains five f...  \n",
       "1827  When a matriarch wakes from a 30-year coma, he...  \n",
       "3119  A group of small-town young men run a lucrativ...  "
      ]
     },
     "execution_count": 156,
     "metadata": {},
     "output_type": "execute_result"
    }
   ],
   "source": [
    "newest_india_releases=netflix_india.sort_values(by='release_year', ascending=False)[0:20]\n",
    "newest_india_releases.head(3)"
   ]
  },
  {
   "cell_type": "markdown",
   "id": "846bed3d",
   "metadata": {},
   "source": [
    "Top Movie Releases in India"
   ]
  },
  {
   "cell_type": "code",
   "execution_count": 157,
   "id": "bcca3ff4",
   "metadata": {
    "scrolled": true
   },
   "outputs": [
    {
     "data": {
      "text/html": [
       "<div>\n",
       "<style scoped>\n",
       "    .dataframe tbody tr th:only-of-type {\n",
       "        vertical-align: middle;\n",
       "    }\n",
       "\n",
       "    .dataframe tbody tr th {\n",
       "        vertical-align: top;\n",
       "    }\n",
       "\n",
       "    .dataframe thead th {\n",
       "        text-align: right;\n",
       "    }\n",
       "</style>\n",
       "<table border=\"1\" class=\"dataframe\">\n",
       "  <thead>\n",
       "    <tr style=\"text-align: right;\">\n",
       "      <th></th>\n",
       "      <th>show_id</th>\n",
       "      <th>type</th>\n",
       "      <th>title</th>\n",
       "      <th>director</th>\n",
       "      <th>cast</th>\n",
       "      <th>country</th>\n",
       "      <th>date_added</th>\n",
       "      <th>release_year</th>\n",
       "      <th>rating</th>\n",
       "      <th>duration</th>\n",
       "      <th>listed_in</th>\n",
       "      <th>description</th>\n",
       "    </tr>\n",
       "  </thead>\n",
       "  <tbody>\n",
       "    <tr>\n",
       "      <th>3339</th>\n",
       "      <td>s3340</td>\n",
       "      <td>Movie</td>\n",
       "      <td>Kenny Sebastian: The Most Interesting Person i...</td>\n",
       "      <td>Angshuman Ghosh</td>\n",
       "      <td>Kenny Sebastian</td>\n",
       "      <td>India</td>\n",
       "      <td>May 29, 2020</td>\n",
       "      <td>2020</td>\n",
       "      <td>TV-MA</td>\n",
       "      <td>68 min</td>\n",
       "      <td>Stand-Up Comedy</td>\n",
       "      <td>Fusing his musical and stand-up chops, Kenny S...</td>\n",
       "    </tr>\n",
       "    <tr>\n",
       "      <th>3982</th>\n",
       "      <td>s3983</td>\n",
       "      <td>Movie</td>\n",
       "      <td>Maska</td>\n",
       "      <td>Neeraj Udhwani</td>\n",
       "      <td>Manisha Koirala, Prit Kamani, Shirley Setia, N...</td>\n",
       "      <td>India</td>\n",
       "      <td>March 27, 2020</td>\n",
       "      <td>2020</td>\n",
       "      <td>TV-MA</td>\n",
       "      <td>112 min</td>\n",
       "      <td>Comedies, Dramas, International Movies</td>\n",
       "      <td>Determined to make it in showbiz, an aspiring ...</td>\n",
       "    </tr>\n",
       "    <tr>\n",
       "      <th>5500</th>\n",
       "      <td>s5501</td>\n",
       "      <td>Movie</td>\n",
       "      <td>Serious Men</td>\n",
       "      <td>Sudhir Mishra</td>\n",
       "      <td>Nawazuddin Siddiqui, Nasser, Aakshath Das, Ind...</td>\n",
       "      <td>India</td>\n",
       "      <td>October 2, 2020</td>\n",
       "      <td>2020</td>\n",
       "      <td>TV-MA</td>\n",
       "      <td>115 min</td>\n",
       "      <td>Comedies, Dramas, International Movies</td>\n",
       "      <td>When a slum dweller spins a web of lies in pur...</td>\n",
       "    </tr>\n",
       "  </tbody>\n",
       "</table>\n",
       "</div>"
      ],
      "text/plain": [
       "     show_id   type                                              title  \\\n",
       "3339   s3340  Movie  Kenny Sebastian: The Most Interesting Person i...   \n",
       "3982   s3983  Movie                                              Maska   \n",
       "5500   s5501  Movie                                        Serious Men   \n",
       "\n",
       "             director                                               cast  \\\n",
       "3339  Angshuman Ghosh                                    Kenny Sebastian   \n",
       "3982   Neeraj Udhwani  Manisha Koirala, Prit Kamani, Shirley Setia, N...   \n",
       "5500    Sudhir Mishra  Nawazuddin Siddiqui, Nasser, Aakshath Das, Ind...   \n",
       "\n",
       "     country       date_added  release_year rating duration  \\\n",
       "3339   India     May 29, 2020          2020  TV-MA   68 min   \n",
       "3982   India   March 27, 2020          2020  TV-MA  112 min   \n",
       "5500   India  October 2, 2020          2020  TV-MA  115 min   \n",
       "\n",
       "                                   listed_in  \\\n",
       "3339                         Stand-Up Comedy   \n",
       "3982  Comedies, Dramas, International Movies   \n",
       "5500  Comedies, Dramas, International Movies   \n",
       "\n",
       "                                            description  \n",
       "3339  Fusing his musical and stand-up chops, Kenny S...  \n",
       "3982  Determined to make it in showbiz, an aspiring ...  \n",
       "5500  When a slum dweller spins a web of lies in pur...  "
      ]
     },
     "execution_count": 157,
     "metadata": {},
     "output_type": "execute_result"
    }
   ],
   "source": [
    "netflix_india_movies=netflix_movies[netflix_movies['country']=='India']\n",
    "newest_india_movie_releases=netflix_india_movies.sort_values(by='release_year', ascending=False)[0:20]\n",
    "newest_india_movie_releases.head(3)"
   ]
  },
  {
   "cell_type": "markdown",
   "id": "be34ae3b",
   "metadata": {},
   "source": [
    "Top Show Releases in India"
   ]
  },
  {
   "cell_type": "code",
   "execution_count": 159,
   "id": "950bf9a1",
   "metadata": {
    "scrolled": true
   },
   "outputs": [
    {
     "data": {
      "text/html": [
       "<div>\n",
       "<style scoped>\n",
       "    .dataframe tbody tr th:only-of-type {\n",
       "        vertical-align: middle;\n",
       "    }\n",
       "\n",
       "    .dataframe tbody tr th {\n",
       "        vertical-align: top;\n",
       "    }\n",
       "\n",
       "    .dataframe thead th {\n",
       "        text-align: right;\n",
       "    }\n",
       "</style>\n",
       "<table border=\"1\" class=\"dataframe\">\n",
       "  <thead>\n",
       "    <tr style=\"text-align: right;\">\n",
       "      <th></th>\n",
       "      <th>show_id</th>\n",
       "      <th>type</th>\n",
       "      <th>title</th>\n",
       "      <th>director</th>\n",
       "      <th>cast</th>\n",
       "      <th>country</th>\n",
       "      <th>date_added</th>\n",
       "      <th>release_year</th>\n",
       "      <th>rating</th>\n",
       "      <th>duration</th>\n",
       "      <th>listed_in</th>\n",
       "      <th>description</th>\n",
       "    </tr>\n",
       "  </thead>\n",
       "  <tbody>\n",
       "    <tr>\n",
       "      <th>3119</th>\n",
       "      <td>s3120</td>\n",
       "      <td>TV Show</td>\n",
       "      <td>Jamtara - Sabka Number Ayega</td>\n",
       "      <td>Soumendra Padhi</td>\n",
       "      <td>Amit Sial, Dibyendu Bhattacharya, Aksha Pardha...</td>\n",
       "      <td>India</td>\n",
       "      <td>January 10, 2020</td>\n",
       "      <td>2020</td>\n",
       "      <td>TV-MA</td>\n",
       "      <td>1 Season</td>\n",
       "      <td>Crime TV Shows, International TV Shows, TV Dramas</td>\n",
       "      <td>A group of small-town young men run a lucrativ...</td>\n",
       "    </tr>\n",
       "    <tr>\n",
       "      <th>4724</th>\n",
       "      <td>s4725</td>\n",
       "      <td>TV Show</td>\n",
       "      <td>Paava Kadhaigal</td>\n",
       "      <td>Sudha Kongara, Vignesh Shivan, Gautham Vasudev...</td>\n",
       "      <td>Kalidas Jayaram, Shanthnu Bhagyaraj, Bhavani S...</td>\n",
       "      <td>India</td>\n",
       "      <td>December 18, 2020</td>\n",
       "      <td>2020</td>\n",
       "      <td>TV-MA</td>\n",
       "      <td>1 Season</td>\n",
       "      <td>International TV Shows, TV Dramas</td>\n",
       "      <td>At times dark, at times disturbing, four short...</td>\n",
       "    </tr>\n",
       "    <tr>\n",
       "      <th>132</th>\n",
       "      <td>s133</td>\n",
       "      <td>TV Show</td>\n",
       "      <td>7 (Seven)</td>\n",
       "      <td>Nizar Shafi</td>\n",
       "      <td>Rahman, Havish, Regina Cassandra, Nandita Swet...</td>\n",
       "      <td>India</td>\n",
       "      <td>July 30, 2019</td>\n",
       "      <td>2019</td>\n",
       "      <td>TV-14</td>\n",
       "      <td>1 Season</td>\n",
       "      <td>TV Shows</td>\n",
       "      <td>Multiple women report their husbands as missin...</td>\n",
       "    </tr>\n",
       "  </tbody>\n",
       "</table>\n",
       "</div>"
      ],
      "text/plain": [
       "     show_id     type                         title  \\\n",
       "3119   s3120  TV Show  Jamtara - Sabka Number Ayega   \n",
       "4724   s4725  TV Show               Paava Kadhaigal   \n",
       "132     s133  TV Show                     7 (Seven)   \n",
       "\n",
       "                                               director  \\\n",
       "3119                                    Soumendra Padhi   \n",
       "4724  Sudha Kongara, Vignesh Shivan, Gautham Vasudev...   \n",
       "132                                         Nizar Shafi   \n",
       "\n",
       "                                                   cast country  \\\n",
       "3119  Amit Sial, Dibyendu Bhattacharya, Aksha Pardha...   India   \n",
       "4724  Kalidas Jayaram, Shanthnu Bhagyaraj, Bhavani S...   India   \n",
       "132   Rahman, Havish, Regina Cassandra, Nandita Swet...   India   \n",
       "\n",
       "             date_added  release_year rating  duration  \\\n",
       "3119   January 10, 2020          2020  TV-MA  1 Season   \n",
       "4724  December 18, 2020          2020  TV-MA  1 Season   \n",
       "132       July 30, 2019          2019  TV-14  1 Season   \n",
       "\n",
       "                                              listed_in  \\\n",
       "3119  Crime TV Shows, International TV Shows, TV Dramas   \n",
       "4724                  International TV Shows, TV Dramas   \n",
       "132                                            TV Shows   \n",
       "\n",
       "                                            description  \n",
       "3119  A group of small-town young men run a lucrativ...  \n",
       "4724  At times dark, at times disturbing, four short...  \n",
       "132   Multiple women report their husbands as missin...  "
      ]
     },
     "execution_count": 159,
     "metadata": {},
     "output_type": "execute_result"
    }
   ],
   "source": [
    "netflix_india_shows=netflix_shows[netflix_shows['country']=='India']\n",
    "\n",
    "newest_india_show_releases=netflix_india_shows.sort_values(by='release_year', ascending=False)[0:20]\n",
    "newest_india_show_releases.head(3)"
   ]
  },
  {
   "cell_type": "markdown",
   "id": "a77a87cf",
   "metadata": {},
   "source": [
    "Content Based Filtering"
   ]
  },
  {
   "cell_type": "code",
   "execution_count": 1,
   "id": "0c6000d9",
   "metadata": {},
   "outputs": [],
   "source": [
    "from sklearn.feature_extraction.text import TfidfVectorizer"
   ]
  },
  {
   "cell_type": "code",
   "execution_count": 6,
   "id": "c83b1d2d",
   "metadata": {},
   "outputs": [
    {
     "data": {
      "text/plain": [
       "(7787, 17905)"
      ]
     },
     "execution_count": 6,
     "metadata": {},
     "output_type": "execute_result"
    }
   ],
   "source": [
    "tfidf = TfidfVectorizer(stop_words='english')\n",
    "netflix_overall['description'] = netflix_overall['description'].fillna('')\n",
    "tfidf_matrix = tfidf.fit_transform(netflix_overall['description'])\n",
    "tfidf_matrix.shape"
   ]
  },
  {
   "cell_type": "code",
   "execution_count": 7,
   "id": "b3ee573c",
   "metadata": {},
   "outputs": [],
   "source": [
    "from sklearn.metrics.pairwise import linear_kernel\n",
    "cosine_sim = linear_kernel(tfidf_matrix, tfidf_matrix)"
   ]
  },
  {
   "cell_type": "code",
   "execution_count": 9,
   "id": "d9476c16",
   "metadata": {},
   "outputs": [],
   "source": [
    "indices = pd.Series(netflix_overall.index, index=netflix_overall['title']).drop_duplicates()"
   ]
  },
  {
   "cell_type": "code",
   "execution_count": 10,
   "id": "c225d777",
   "metadata": {},
   "outputs": [],
   "source": [
    "def get_recommendations(title, cosine_sim=cosine_sim):\n",
    "    idx = indices[title]\n",
    "    sim_scores = list(enumerate(cosine_sim[idx]))\n",
    "    sim_scores = sorted(sim_scores, key=lambda x: x[1], reverse=True)\n",
    "    sim_scores = sim_scores[1:11]\n",
    "    movie_indices = [i[0] for i in sim_scores]\n",
    "    return netflix_overall['title'].iloc[movie_indices]"
   ]
  },
  {
   "cell_type": "code",
   "execution_count": 11,
   "id": "620ae10c",
   "metadata": {},
   "outputs": [
    {
     "data": {
      "text/plain": [
       "7321                    Unbroken\n",
       "4045       Merku Thodarchi Malai\n",
       "3164              Jhansi Ki Rani\n",
       "165           A Clockwork Orange\n",
       "5261                        ROMA\n",
       "2627    Harishchandrachi Factory\n",
       "1940          Ek Main Aur Ekk Tu\n",
       "888      Bhavesh Joshi Superhero\n",
       "6412                The Governor\n",
       "6377           The Frozen Ground\n",
       "Name: title, dtype: object"
      ]
     },
     "execution_count": 11,
     "metadata": {},
     "output_type": "execute_result"
    }
   ],
   "source": [
    "get_recommendations('PK')"
   ]
  }
 ],
 "metadata": {
  "kernelspec": {
   "display_name": "Python 3 (ipykernel)",
   "language": "python",
   "name": "python3"
  },
  "language_info": {
   "codemirror_mode": {
    "name": "ipython",
    "version": 3
   },
   "file_extension": ".py",
   "mimetype": "text/x-python",
   "name": "python",
   "nbconvert_exporter": "python",
   "pygments_lexer": "ipython3",
   "version": "3.8.10"
  }
 },
 "nbformat": 4,
 "nbformat_minor": 5
}
